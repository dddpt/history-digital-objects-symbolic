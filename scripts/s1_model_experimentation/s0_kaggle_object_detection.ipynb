{
 "cells": [
  {
   "cell_type": "markdown",
   "metadata": {},
   "source": [
    "# Loading images and matching them to metadata"
   ]
  },
  {
   "cell_type": "code",
   "execution_count": 1,
   "metadata": {},
   "outputs": [
    {
     "name": "stderr",
     "output_type": "stream",
     "text": [
      "2022-04-12 14:53:26.593143: I tensorflow/stream_executor/platform/default/dso_loader.cc:49] Successfully opened dynamic library libcudart.so.10.1\n"
     ]
    },
    {
     "name": "stdout",
     "output_type": "stream",
     "text": [
      "2.4.1\n",
      "The following GPU devices are available: /device:GPU:0\n"
     ]
    },
    {
     "name": "stderr",
     "output_type": "stream",
     "text": [
      "2022-04-12 14:53:29.448081: I tensorflow/core/platform/cpu_feature_guard.cc:142] This TensorFlow binary is optimized with oneAPI Deep Neural Network Library (oneDNN) to use the following CPU instructions in performance-critical operations:  SSE4.1 SSE4.2 AVX AVX2 FMA\n",
      "To enable them in other operations, rebuild TensorFlow with the appropriate compiler flags.\n",
      "2022-04-12 14:53:29.452183: I tensorflow/stream_executor/platform/default/dso_loader.cc:49] Successfully opened dynamic library libcuda.so.1\n",
      "2022-04-12 14:53:29.750825: I tensorflow/core/common_runtime/gpu/gpu_device.cc:1720] Found device 0 with properties: \n",
      "pciBusID: 0000:04:00.0 name: NVIDIA GeForce GTX TITAN X computeCapability: 5.2\n",
      "coreClock: 1.076GHz coreCount: 24 deviceMemorySize: 11.93GiB deviceMemoryBandwidth: 313.37GiB/s\n",
      "2022-04-12 14:53:29.751668: I tensorflow/core/common_runtime/gpu/gpu_device.cc:1720] Found device 1 with properties: \n",
      "pciBusID: 0000:83:00.0 name: NVIDIA GeForce GTX TITAN X computeCapability: 5.2\n",
      "coreClock: 1.076GHz coreCount: 24 deviceMemorySize: 11.93GiB deviceMemoryBandwidth: 313.37GiB/s\n",
      "2022-04-12 14:53:29.751715: I tensorflow/stream_executor/platform/default/dso_loader.cc:49] Successfully opened dynamic library libcudart.so.10.1\n",
      "2022-04-12 14:53:29.754031: I tensorflow/stream_executor/platform/default/dso_loader.cc:49] Successfully opened dynamic library libcublas.so.10\n",
      "2022-04-12 14:53:29.754152: I tensorflow/stream_executor/platform/default/dso_loader.cc:49] Successfully opened dynamic library libcublasLt.so.10\n",
      "2022-04-12 14:53:29.756446: I tensorflow/stream_executor/platform/default/dso_loader.cc:49] Successfully opened dynamic library libcufft.so.10\n",
      "2022-04-12 14:53:29.757176: I tensorflow/stream_executor/platform/default/dso_loader.cc:49] Successfully opened dynamic library libcurand.so.10\n",
      "2022-04-12 14:53:29.759907: I tensorflow/stream_executor/platform/default/dso_loader.cc:49] Successfully opened dynamic library libcusolver.so.10\n",
      "2022-04-12 14:53:29.761276: I tensorflow/stream_executor/platform/default/dso_loader.cc:49] Successfully opened dynamic library libcusparse.so.10\n",
      "2022-04-12 14:53:29.766724: I tensorflow/stream_executor/platform/default/dso_loader.cc:49] Successfully opened dynamic library libcudnn.so.7\n",
      "2022-04-12 14:53:29.769368: I tensorflow/core/common_runtime/gpu/gpu_device.cc:1862] Adding visible gpu devices: 0, 1\n",
      "2022-04-12 14:53:29.769488: I tensorflow/stream_executor/platform/default/dso_loader.cc:49] Successfully opened dynamic library libcudart.so.10.1\n",
      "2022-04-12 14:53:31.268291: I tensorflow/core/common_runtime/gpu/gpu_device.cc:1261] Device interconnect StreamExecutor with strength 1 edge matrix:\n",
      "2022-04-12 14:53:31.268345: I tensorflow/core/common_runtime/gpu/gpu_device.cc:1267]      0 1 \n",
      "2022-04-12 14:53:31.268354: I tensorflow/core/common_runtime/gpu/gpu_device.cc:1280] 0:   N N \n",
      "2022-04-12 14:53:31.268359: I tensorflow/core/common_runtime/gpu/gpu_device.cc:1280] 1:   N N \n",
      "2022-04-12 14:53:31.270740: I tensorflow/core/common_runtime/gpu/gpu_device.cc:1406] Created TensorFlow device (/device:GPU:0 with 865 MB memory) -> physical GPU (device: 0, name: NVIDIA GeForce GTX TITAN X, pci bus id: 0000:04:00.0, compute capability: 5.2)\n",
      "2022-04-12 14:53:31.272997: I tensorflow/core/common_runtime/gpu/gpu_device.cc:1406] Created TensorFlow device (/device:GPU:1 with 11279 MB memory) -> physical GPU (device: 1, name: NVIDIA GeForce GTX TITAN X, pci bus id: 0000:83:00.0, compute capability: 5.2)\n",
      "2022-04-12 14:53:31.273412: I tensorflow/compiler/jit/xla_gpu_device.cc:99] Not creating XLA devices, tf_xla_enable_xla_devices not set\n"
     ]
    }
   ],
   "source": [
    "#@title Imports and function definitions\n",
    "\n",
    "\n",
    "# For running inference on the TF-Hub module.\n",
    "import tensorflow as tf\n",
    "\n",
    "import tensorflow_hub as hub\n",
    "\n",
    "# For downloading the image.\n",
    "import matplotlib.pyplot as plt\n",
    "import tempfile\n",
    "from six.moves.urllib.request import urlopen\n",
    "from six import BytesIO\n",
    "\n",
    "# For drawing onto the image.\n",
    "import numpy as np\n",
    "from PIL import Image\n",
    "from PIL import ImageColor\n",
    "from PIL import ImageDraw\n",
    "from PIL import ImageFont\n",
    "from PIL import ImageOps\n",
    "\n",
    "# For measuring the inference time.\n",
    "import time\n",
    "\n",
    "# Print Tensorflow version\n",
    "print(tf.__version__)\n",
    "\n",
    "# Check available GPU devices.\n",
    "print(\"The following GPU devices are available: %s\" % tf.test.gpu_device_name())"
   ]
  },
  {
   "cell_type": "code",
   "execution_count": 2,
   "metadata": {},
   "outputs": [],
   "source": [
    "# adds scripts/ and src/ folder: so you can import scripts/functions across project steps\n",
    "import sys \n",
    "sys.path.append(\"../../src\")\n",
    "sys.path.append(\"../../scripts\")\n",
    "\n",
    "from os import listdir\n",
    "from os import path\n",
    "\n",
    "import pandas as pd\n",
    "from tqdm.notebook import tqdm\n",
    "\n",
    "from data_filepaths import image_folders, portraits_csv, images_with_boxes_folder, object_detection_results_patha"
   ]
  },
  {
   "cell_type": "markdown",
   "metadata": {},
   "source": [
    "## Linking portraits' metadata with their path"
   ]
  },
  {
   "cell_type": "markdown",
   "metadata": {},
   "source": [
    "#### Loading portraits' metadata"
   ]
  },
  {
   "cell_type": "code",
   "execution_count": 3,
   "metadata": {},
   "outputs": [
    {
     "data": {
      "text/html": [
       "<div>\n",
       "<style scoped>\n",
       "    .dataframe tbody tr th:only-of-type {\n",
       "        vertical-align: middle;\n",
       "    }\n",
       "\n",
       "    .dataframe tbody tr th {\n",
       "        vertical-align: top;\n",
       "    }\n",
       "\n",
       "    .dataframe thead th {\n",
       "        text-align: right;\n",
       "    }\n",
       "</style>\n",
       "<table border=\"1\" class=\"dataframe\">\n",
       "  <thead>\n",
       "    <tr style=\"text-align: right;\">\n",
       "      <th></th>\n",
       "      <th>Unnamed: 0</th>\n",
       "      <th>artist</th>\n",
       "      <th>date</th>\n",
       "      <th>genre</th>\n",
       "      <th>pixelsx</th>\n",
       "      <th>pixelsy</th>\n",
       "      <th>size_bytes</th>\n",
       "      <th>source</th>\n",
       "      <th>style</th>\n",
       "      <th>title</th>\n",
       "      <th>artist_group</th>\n",
       "      <th>in_train</th>\n",
       "      <th>new_filename</th>\n",
       "      <th>correcteddate</th>\n",
       "    </tr>\n",
       "  </thead>\n",
       "  <tbody>\n",
       "    <tr>\n",
       "      <th>0</th>\n",
       "      <td>70345</td>\n",
       "      <td>Masaccio</td>\n",
       "      <td>1425</td>\n",
       "      <td>portrait</td>\n",
       "      <td>548.0</td>\n",
       "      <td>800.0</td>\n",
       "      <td>116190.0</td>\n",
       "      <td>wikiart</td>\n",
       "      <td>Early Renaissance</td>\n",
       "      <td>Portrait of a Young Man</td>\n",
       "      <td>train_only</td>\n",
       "      <td>True</td>\n",
       "      <td>34161.jpg</td>\n",
       "      <td>1425.0</td>\n",
       "    </tr>\n",
       "    <tr>\n",
       "      <th>1</th>\n",
       "      <td>20989</td>\n",
       "      <td>Masaccio</td>\n",
       "      <td>1425</td>\n",
       "      <td>portrait</td>\n",
       "      <td>999.0</td>\n",
       "      <td>1300.0</td>\n",
       "      <td>899549.0</td>\n",
       "      <td>wikiart</td>\n",
       "      <td>Early Renaissance</td>\n",
       "      <td>Portrait of a Young Woman</td>\n",
       "      <td>train_only</td>\n",
       "      <td>True</td>\n",
       "      <td>80100.jpg</td>\n",
       "      <td>1425.0</td>\n",
       "    </tr>\n",
       "    <tr>\n",
       "      <th>2</th>\n",
       "      <td>12749</td>\n",
       "      <td>Robert Campin</td>\n",
       "      <td>c.1430</td>\n",
       "      <td>portrait</td>\n",
       "      <td>1256.0</td>\n",
       "      <td>1857.0</td>\n",
       "      <td>219654.0</td>\n",
       "      <td>wikiart</td>\n",
       "      <td>Northern Renaissance</td>\n",
       "      <td>Portrait of a Woman</td>\n",
       "      <td>test_only</td>\n",
       "      <td>False</td>\n",
       "      <td>85550.jpg</td>\n",
       "      <td>1430.0</td>\n",
       "    </tr>\n",
       "    <tr>\n",
       "      <th>3</th>\n",
       "      <td>2904</td>\n",
       "      <td>Robert Campin</td>\n",
       "      <td>c.1430</td>\n",
       "      <td>portrait</td>\n",
       "      <td>2024.0</td>\n",
       "      <td>3019.0</td>\n",
       "      <td>416418.0</td>\n",
       "      <td>wikiart</td>\n",
       "      <td>Northern Renaissance</td>\n",
       "      <td>Portrait of a Man</td>\n",
       "      <td>test_only</td>\n",
       "      <td>False</td>\n",
       "      <td>2662.jpg</td>\n",
       "      <td>1430.0</td>\n",
       "    </tr>\n",
       "    <tr>\n",
       "      <th>4</th>\n",
       "      <td>47846</td>\n",
       "      <td>Jan van Eyck</td>\n",
       "      <td>1432</td>\n",
       "      <td>portrait</td>\n",
       "      <td>502.0</td>\n",
       "      <td>1451.0</td>\n",
       "      <td>137626.0</td>\n",
       "      <td>wikiart</td>\n",
       "      <td>Northern Renaissance</td>\n",
       "      <td>Isabella Borluut, panel from the Ghent Altarpiece</td>\n",
       "      <td>train_and_test</td>\n",
       "      <td>True</td>\n",
       "      <td>66905.jpg</td>\n",
       "      <td>1432.0</td>\n",
       "    </tr>\n",
       "  </tbody>\n",
       "</table>\n",
       "</div>"
      ],
      "text/plain": [
       "   Unnamed: 0         artist    date     genre  pixelsx  pixelsy  size_bytes  \\\n",
       "0       70345       Masaccio    1425  portrait    548.0    800.0    116190.0   \n",
       "1       20989       Masaccio    1425  portrait    999.0   1300.0    899549.0   \n",
       "2       12749  Robert Campin  c.1430  portrait   1256.0   1857.0    219654.0   \n",
       "3        2904  Robert Campin  c.1430  portrait   2024.0   3019.0    416418.0   \n",
       "4       47846   Jan van Eyck    1432  portrait    502.0   1451.0    137626.0   \n",
       "\n",
       "    source                 style  \\\n",
       "0  wikiart     Early Renaissance   \n",
       "1  wikiart     Early Renaissance   \n",
       "2  wikiart  Northern Renaissance   \n",
       "3  wikiart  Northern Renaissance   \n",
       "4  wikiart  Northern Renaissance   \n",
       "\n",
       "                                               title    artist_group  \\\n",
       "0                            Portrait of a Young Man      train_only   \n",
       "1                          Portrait of a Young Woman      train_only   \n",
       "2                                Portrait of a Woman       test_only   \n",
       "3                                  Portrait of a Man       test_only   \n",
       "4  Isabella Borluut, panel from the Ghent Altarpiece  train_and_test   \n",
       "\n",
       "   in_train new_filename  correcteddate  \n",
       "0      True    34161.jpg         1425.0  \n",
       "1      True    80100.jpg         1425.0  \n",
       "2     False    85550.jpg         1430.0  \n",
       "3     False     2662.jpg         1430.0  \n",
       "4      True    66905.jpg         1432.0  "
      ]
     },
     "execution_count": 3,
     "metadata": {},
     "output_type": "execute_result"
    }
   ],
   "source": [
    "portraits = pd.read_csv(portraits_csv)\n",
    "portraits.head()"
   ]
  },
  {
   "cell_type": "markdown",
   "metadata": {},
   "source": [
    "#### Getting images paths"
   ]
  },
  {
   "cell_type": "code",
   "execution_count": 4,
   "metadata": {},
   "outputs": [
    {
     "data": {
      "text/html": [
       "<div>\n",
       "<style scoped>\n",
       "    .dataframe tbody tr th:only-of-type {\n",
       "        vertical-align: middle;\n",
       "    }\n",
       "\n",
       "    .dataframe tbody tr th {\n",
       "        vertical-align: top;\n",
       "    }\n",
       "\n",
       "    .dataframe thead th {\n",
       "        text-align: right;\n",
       "    }\n",
       "</style>\n",
       "<table border=\"1\" class=\"dataframe\">\n",
       "  <thead>\n",
       "    <tr style=\"text-align: right;\">\n",
       "      <th></th>\n",
       "      <th>new_filename</th>\n",
       "      <th>path</th>\n",
       "    </tr>\n",
       "  </thead>\n",
       "  <tbody>\n",
       "    <tr>\n",
       "      <th>0</th>\n",
       "      <td>93571.jpg</td>\n",
       "      <td>../../data/kaggle_painters_by_numbers/train/93...</td>\n",
       "    </tr>\n",
       "    <tr>\n",
       "      <th>1</th>\n",
       "      <td>90123.jpg</td>\n",
       "      <td>../../data/kaggle_painters_by_numbers/train/90...</td>\n",
       "    </tr>\n",
       "    <tr>\n",
       "      <th>2</th>\n",
       "      <td>71660.jpg</td>\n",
       "      <td>../../data/kaggle_painters_by_numbers/train/71...</td>\n",
       "    </tr>\n",
       "    <tr>\n",
       "      <th>3</th>\n",
       "      <td>11898.jpg</td>\n",
       "      <td>../../data/kaggle_painters_by_numbers/train/11...</td>\n",
       "    </tr>\n",
       "    <tr>\n",
       "      <th>4</th>\n",
       "      <td>73354.jpg</td>\n",
       "      <td>../../data/kaggle_painters_by_numbers/train/73...</td>\n",
       "    </tr>\n",
       "    <tr>\n",
       "      <th>...</th>\n",
       "      <td>...</td>\n",
       "      <td>...</td>\n",
       "    </tr>\n",
       "    <tr>\n",
       "      <th>79428</th>\n",
       "      <td>46349.jpg</td>\n",
       "      <td>../../data/kaggle_painters_by_numbers/train/46...</td>\n",
       "    </tr>\n",
       "    <tr>\n",
       "      <th>79429</th>\n",
       "      <td>10051.jpg</td>\n",
       "      <td>../../data/kaggle_painters_by_numbers/train/10...</td>\n",
       "    </tr>\n",
       "    <tr>\n",
       "      <th>79430</th>\n",
       "      <td>12831.jpg</td>\n",
       "      <td>../../data/kaggle_painters_by_numbers/train/12...</td>\n",
       "    </tr>\n",
       "    <tr>\n",
       "      <th>79431</th>\n",
       "      <td>12678.jpg</td>\n",
       "      <td>../../data/kaggle_painters_by_numbers/train/12...</td>\n",
       "    </tr>\n",
       "    <tr>\n",
       "      <th>79432</th>\n",
       "      <td>93370.jpg</td>\n",
       "      <td>../../data/kaggle_painters_by_numbers/train/93...</td>\n",
       "    </tr>\n",
       "  </tbody>\n",
       "</table>\n",
       "<p>79433 rows × 2 columns</p>\n",
       "</div>"
      ],
      "text/plain": [
       "      new_filename                                               path\n",
       "0        93571.jpg  ../../data/kaggle_painters_by_numbers/train/93...\n",
       "1        90123.jpg  ../../data/kaggle_painters_by_numbers/train/90...\n",
       "2        71660.jpg  ../../data/kaggle_painters_by_numbers/train/71...\n",
       "3        11898.jpg  ../../data/kaggle_painters_by_numbers/train/11...\n",
       "4        73354.jpg  ../../data/kaggle_painters_by_numbers/train/73...\n",
       "...            ...                                                ...\n",
       "79428    46349.jpg  ../../data/kaggle_painters_by_numbers/train/46...\n",
       "79429    10051.jpg  ../../data/kaggle_painters_by_numbers/train/10...\n",
       "79430    12831.jpg  ../../data/kaggle_painters_by_numbers/train/12...\n",
       "79431    12678.jpg  ../../data/kaggle_painters_by_numbers/train/12...\n",
       "79432    93370.jpg  ../../data/kaggle_painters_by_numbers/train/93...\n",
       "\n",
       "[79433 rows x 2 columns]"
      ]
     },
     "execution_count": 4,
     "metadata": {},
     "output_type": "execute_result"
    }
   ],
   "source": [
    "image_folder = image_folders[0]\n",
    "train0 = listdir(image_folder)\n",
    "train0 = train0#[0:10] # SMALL SELECTION\n",
    "\n",
    "image_paths = pd.DataFrame({\n",
    "    \"new_filename\":train0,\n",
    "    \"path\": [path.join(image_folder, n) for n in train0]\n",
    "})\n",
    "\n",
    "image_paths"
   ]
  },
  {
   "cell_type": "code",
   "execution_count": 5,
   "metadata": {},
   "outputs": [
    {
     "data": {
      "text/plain": [
       "(12926, 15)"
      ]
     },
     "execution_count": 5,
     "metadata": {},
     "output_type": "execute_result"
    }
   ],
   "source": [
    "portraits_path = image_paths.merge(portraits, on = 'new_filename', how = 'inner')\n",
    "portraits_path.shape"
   ]
  },
  {
   "cell_type": "code",
   "execution_count": null,
   "metadata": {},
   "outputs": [],
   "source": []
  },
  {
   "cell_type": "markdown",
   "metadata": {},
   "source": [
    "# Object detection:\n"
   ]
  },
  {
   "cell_type": "code",
   "execution_count": 6,
   "metadata": {},
   "outputs": [
    {
     "name": "stdout",
     "output_type": "stream",
     "text": [
      "INFO:tensorflow:Saver not created because there are no variables in the graph to restore\n"
     ]
    },
    {
     "name": "stderr",
     "output_type": "stream",
     "text": [
      "INFO:tensorflow:Saver not created because there are no variables in the graph to restore\n",
      "2022-04-12 14:53:37.422615: I tensorflow/compiler/jit/xla_cpu_device.cc:41] Not creating XLA devices, tf_xla_enable_xla_devices not set\n",
      "2022-04-12 14:53:37.423412: I tensorflow/core/common_runtime/gpu/gpu_device.cc:1720] Found device 0 with properties: \n",
      "pciBusID: 0000:04:00.0 name: NVIDIA GeForce GTX TITAN X computeCapability: 5.2\n",
      "coreClock: 1.076GHz coreCount: 24 deviceMemorySize: 11.93GiB deviceMemoryBandwidth: 313.37GiB/s\n",
      "2022-04-12 14:53:37.424224: I tensorflow/core/common_runtime/gpu/gpu_device.cc:1720] Found device 1 with properties: \n",
      "pciBusID: 0000:83:00.0 name: NVIDIA GeForce GTX TITAN X computeCapability: 5.2\n",
      "coreClock: 1.076GHz coreCount: 24 deviceMemorySize: 11.93GiB deviceMemoryBandwidth: 313.37GiB/s\n",
      "2022-04-12 14:53:37.424273: I tensorflow/stream_executor/platform/default/dso_loader.cc:49] Successfully opened dynamic library libcudart.so.10.1\n",
      "2022-04-12 14:53:37.424321: I tensorflow/stream_executor/platform/default/dso_loader.cc:49] Successfully opened dynamic library libcublas.so.10\n",
      "2022-04-12 14:53:37.424340: I tensorflow/stream_executor/platform/default/dso_loader.cc:49] Successfully opened dynamic library libcublasLt.so.10\n",
      "2022-04-12 14:53:37.424361: I tensorflow/stream_executor/platform/default/dso_loader.cc:49] Successfully opened dynamic library libcufft.so.10\n",
      "2022-04-12 14:53:37.424383: I tensorflow/stream_executor/platform/default/dso_loader.cc:49] Successfully opened dynamic library libcurand.so.10\n",
      "2022-04-12 14:53:37.424403: I tensorflow/stream_executor/platform/default/dso_loader.cc:49] Successfully opened dynamic library libcusolver.so.10\n",
      "2022-04-12 14:53:37.424424: I tensorflow/stream_executor/platform/default/dso_loader.cc:49] Successfully opened dynamic library libcusparse.so.10\n",
      "2022-04-12 14:53:37.424445: I tensorflow/stream_executor/platform/default/dso_loader.cc:49] Successfully opened dynamic library libcudnn.so.7\n",
      "2022-04-12 14:53:37.426656: I tensorflow/core/common_runtime/gpu/gpu_device.cc:1862] Adding visible gpu devices: 0, 1\n",
      "2022-04-12 14:53:37.427592: I tensorflow/core/common_runtime/gpu/gpu_device.cc:1720] Found device 0 with properties: \n",
      "pciBusID: 0000:04:00.0 name: NVIDIA GeForce GTX TITAN X computeCapability: 5.2\n",
      "coreClock: 1.076GHz coreCount: 24 deviceMemorySize: 11.93GiB deviceMemoryBandwidth: 313.37GiB/s\n",
      "2022-04-12 14:53:37.428385: I tensorflow/core/common_runtime/gpu/gpu_device.cc:1720] Found device 1 with properties: \n",
      "pciBusID: 0000:83:00.0 name: NVIDIA GeForce GTX TITAN X computeCapability: 5.2\n",
      "coreClock: 1.076GHz coreCount: 24 deviceMemorySize: 11.93GiB deviceMemoryBandwidth: 313.37GiB/s\n",
      "2022-04-12 14:53:37.428433: I tensorflow/stream_executor/platform/default/dso_loader.cc:49] Successfully opened dynamic library libcudart.so.10.1\n",
      "2022-04-12 14:53:37.428478: I tensorflow/stream_executor/platform/default/dso_loader.cc:49] Successfully opened dynamic library libcublas.so.10\n",
      "2022-04-12 14:53:37.428496: I tensorflow/stream_executor/platform/default/dso_loader.cc:49] Successfully opened dynamic library libcublasLt.so.10\n",
      "2022-04-12 14:53:37.428512: I tensorflow/stream_executor/platform/default/dso_loader.cc:49] Successfully opened dynamic library libcufft.so.10\n",
      "2022-04-12 14:53:37.428529: I tensorflow/stream_executor/platform/default/dso_loader.cc:49] Successfully opened dynamic library libcurand.so.10\n",
      "2022-04-12 14:53:37.428546: I tensorflow/stream_executor/platform/default/dso_loader.cc:49] Successfully opened dynamic library libcusolver.so.10\n",
      "2022-04-12 14:53:37.428564: I tensorflow/stream_executor/platform/default/dso_loader.cc:49] Successfully opened dynamic library libcusparse.so.10\n",
      "2022-04-12 14:53:37.428582: I tensorflow/stream_executor/platform/default/dso_loader.cc:49] Successfully opened dynamic library libcudnn.so.7\n",
      "2022-04-12 14:53:37.430697: I tensorflow/core/common_runtime/gpu/gpu_device.cc:1862] Adding visible gpu devices: 0, 1\n",
      "2022-04-12 14:53:37.430807: I tensorflow/core/common_runtime/gpu/gpu_device.cc:1261] Device interconnect StreamExecutor with strength 1 edge matrix:\n",
      "2022-04-12 14:53:37.430818: I tensorflow/core/common_runtime/gpu/gpu_device.cc:1267]      0 1 \n",
      "2022-04-12 14:53:37.430824: I tensorflow/core/common_runtime/gpu/gpu_device.cc:1280] 0:   N N \n",
      "2022-04-12 14:53:37.430829: I tensorflow/core/common_runtime/gpu/gpu_device.cc:1280] 1:   N N \n",
      "2022-04-12 14:53:37.432447: I tensorflow/core/common_runtime/gpu/gpu_device.cc:1406] Created TensorFlow device (/job:localhost/replica:0/task:0/device:GPU:0 with 865 MB memory) -> physical GPU (device: 0, name: NVIDIA GeForce GTX TITAN X, pci bus id: 0000:04:00.0, compute capability: 5.2)\n",
      "2022-04-12 14:53:37.433264: I tensorflow/core/common_runtime/gpu/gpu_device.cc:1406] Created TensorFlow device (/job:localhost/replica:0/task:0/device:GPU:1 with 11279 MB memory) -> physical GPU (device: 1, name: NVIDIA GeForce GTX TITAN X, pci bus id: 0000:83:00.0, compute capability: 5.2)\n",
      "2022-04-12 14:53:37.433295: I tensorflow/compiler/jit/xla_gpu_device.cc:99] Not creating XLA devices, tf_xla_enable_xla_devices not set\n",
      "2022-04-12 14:53:37.566005: I tensorflow/compiler/mlir/mlir_graph_optimization_pass.cc:116] None of the MLIR optimization passes are enabled (registered 2)\n",
      "2022-04-12 14:53:37.584439: I tensorflow/core/platform/profile_utils/cpu_utils.cc:112] CPU Frequency: 2494185000 Hz\n"
     ]
    }
   ],
   "source": [
    "module_handle = \"https://tfhub.dev/google/openimages_v4/ssd/mobilenet_v2/1\" # model ssd+mobilenet V2: small and fast.\n",
    "#module_handle = \"https://tfhub.dev/google/faster_rcnn/openimages_v4/inception_resnet_v2/1\" # model FasterRCNN+InceptionResNet V2: higher accuracy,\n",
    "detector = hub.load(module_handle).signatures['default']\n",
    "\n"
   ]
  },
  {
   "cell_type": "code",
   "execution_count": 7,
   "metadata": {},
   "outputs": [],
   "source": [
    "IMAGE_RESIZE_SHAPE = 2* [256]\n",
    "\n",
    "def display_image(image):\n",
    "  fig = plt.figure(figsize=(20, 15))\n",
    "  plt.grid(False)\n",
    "  plt.imshow(image)\n",
    "\n",
    "\n",
    "def load_and_resize_image(path, new_width=IMAGE_RESIZE_SHAPE[0], new_height=IMAGE_RESIZE_SHAPE[1],\n",
    "                              display=False):\n",
    "  _, filename = tempfile.mkstemp(suffix=\".jpg\")\n",
    "  pil_image = Image.open(path)\n",
    "  pil_image = ImageOps.fit(pil_image, (new_width, new_height), Image.ANTIALIAS)\n",
    "  pil_image_rgb = pil_image.convert(\"RGB\")\n",
    "  pil_image_rgb.save(filename, format=\"JPEG\", quality=90)\n",
    "  print(\"Image downloaded to %s.\" % filename)\n",
    "  if display:\n",
    "    display_image(pil_image)\n",
    "  return filename\n",
    "\n",
    "\n",
    "def draw_bounding_box_on_image(image,\n",
    "                               ymin,\n",
    "                               xmin,\n",
    "                               ymax,\n",
    "                               xmax,\n",
    "                               color,\n",
    "                               font,\n",
    "                               thickness=4,\n",
    "                               display_str_list=()):\n",
    "  \"\"\"Adds a bounding box to an image.\"\"\"\n",
    "  draw = ImageDraw.Draw(image)\n",
    "  im_width, im_height = image.size\n",
    "  (left, right, top, bottom) = (xmin * im_width, xmax * im_width,\n",
    "                                ymin * im_height, ymax * im_height)\n",
    "  draw.line([(left, top), (left, bottom), (right, bottom), (right, top),\n",
    "             (left, top)],\n",
    "            width=thickness,\n",
    "            fill=color)\n",
    "\n",
    "  # If the total height of the display strings added to the top of the bounding\n",
    "  # box exceeds the top of the image, stack the strings below the bounding box\n",
    "  # instead of above.\n",
    "  display_str_heights = [font.getsize(ds)[1] for ds in display_str_list]\n",
    "  # Each display_str has a top and bottom margin of 0.05x.\n",
    "  total_display_str_height = (1 + 2 * 0.05) * sum(display_str_heights)\n",
    "\n",
    "  if top > total_display_str_height:\n",
    "    text_bottom = top\n",
    "  else:\n",
    "    text_bottom = top + total_display_str_height\n",
    "  # Reverse list and print from bottom to top.\n",
    "  for display_str in display_str_list[::-1]:\n",
    "    text_width, text_height = font.getsize(display_str)\n",
    "    margin = np.ceil(0.05 * text_height)\n",
    "    draw.rectangle([(left, text_bottom - text_height - 2 * margin),\n",
    "                    (left + text_width, text_bottom)],\n",
    "                   fill=color)\n",
    "    draw.text((left + margin, text_bottom - text_height - margin),\n",
    "              display_str,\n",
    "              fill=\"black\",\n",
    "              font=font)\n",
    "    text_bottom -= text_height - 2 * margin\n",
    "\n",
    "\n",
    "def draw_boxes(image, boxes, class_names, scores, max_boxes=10, min_score=0.1):\n",
    "  \"\"\"Overlay labeled boxes on an image with formatted scores and label names.\"\"\"\n",
    "  colors = list(ImageColor.colormap.values())\n",
    "\n",
    "  try:\n",
    "    font = ImageFont.truetype(\"/usr/share/fonts/truetype/liberation/LiberationSansNarrow-Regular.ttf\",\n",
    "                              25)\n",
    "  except IOError:\n",
    "    #print(\"Font not found, using default font.\")\n",
    "    font = ImageFont.load_default()\n",
    "\n",
    "  image_pil = Image.fromarray(np.uint8(image)).convert(\"RGB\")\n",
    "  for i in range(min(boxes.shape[0], max_boxes)):\n",
    "    if scores[i] >= min_score:\n",
    "      ymin, xmin, ymax, xmax = tuple(boxes[i])\n",
    "      display_str = \"{}: {}%\".format(class_names[i].decode(\"ascii\"),\n",
    "                                     int(100 * scores[i]))\n",
    "      color = colors[hash(class_names[i]) % len(colors)]\n",
    "      image_pil = Image.fromarray(np.uint8(image)).convert(\"RGB\")\n",
    "      draw_bounding_box_on_image(\n",
    "          image_pil,\n",
    "          ymin,\n",
    "          xmin,\n",
    "          ymax,\n",
    "          xmax,\n",
    "          color,\n",
    "          font,\n",
    "          display_str_list=[display_str])\n",
    "      np.copyto(image, np.array(image_pil))\n",
    "  return image, image_pil"
   ]
  },
  {
   "cell_type": "code",
   "execution_count": 8,
   "metadata": {},
   "outputs": [],
   "source": [
    "def load_img(path):\n",
    "  img = tf.io.read_file(path)\n",
    "  img = tf.image.decode_jpeg(img, channels=3)\n",
    "  return img"
   ]
  },
  {
   "cell_type": "code",
   "execution_count": 9,
   "metadata": {},
   "outputs": [],
   "source": [
    "def format_detection_results(result, name):\n",
    "    formatted_result =  result.copy()\n",
    "    for k,v in result.items():\n",
    "        formatted_result\n",
    "    # dict_keys(['detection_class_entities', 'detection_scores', 'detection_boxes', 'detection_class_names', 'detection_class_labels'])\n",
    "    for i, col in enumerate([\"x0\", \"y0\", \"x1\", \"y1\"]):\n",
    "        formatted_result[col] = [box[i] for box in formatted_result[\"detection_boxes\"]]\n",
    "    del formatted_result[\"detection_boxes\"]\n",
    "    del formatted_result[\"detection_class_names\"]\n",
    "    dtf = pd.DataFrame(formatted_result)\n",
    "    dtf[\"new_filename\"] = name\n",
    "    return dtf\n",
    "\n"
   ]
  },
  {
   "cell_type": "code",
   "execution_count": 10,
   "metadata": {},
   "outputs": [],
   "source": [
    "def run_detector(detector, path, name, display=True, verbose=False):\n",
    "  img = load_img(path)\n",
    "\n",
    "  converted_img  = tf.image.convert_image_dtype(img, tf.float32)[tf.newaxis, ...]\n",
    "  start_time = time.time()\n",
    "  result = detector(converted_img)\n",
    "  end_time = time.time()\n",
    "\n",
    "  result = {key:value.numpy() for key,value in result.items()}\n",
    "\n",
    "  if verbose: \n",
    "    print(\"Found %d objects.\" % len(result[\"detection_scores\"]))\n",
    "    print(\"Inference time: \", end_time-start_time)\n",
    "\n",
    "  image_with_boxes, image_with_boxes_pil = draw_boxes(\n",
    "      img.numpy(), result[\"detection_boxes\"],\n",
    "      result[\"detection_class_entities\"], result[\"detection_scores\"])\n",
    "\n",
    "  if display:\n",
    "    display_image(image_with_boxes)\n",
    "  return image_with_boxes_pil, format_detection_results(result, name)"
   ]
  },
  {
   "cell_type": "code",
   "execution_count": 11,
   "metadata": {},
   "outputs": [],
   "source": [
    "def detect_save_objects_and_image_with_box(detector, image_path):\n",
    "    name = image_path.split(\"/\")[-1]\n",
    "    image_with_boxes_pil, results = run_detector(detector, image_path, name, display=False)\n",
    "    image_with_boxes_pil.save(path.join(images_with_boxes_folder, name), format=\"JPEG\", quality=90)\n",
    "    results.to_csv(object_detection_results_path.replace(\"XXX\", name))\n",
    "    return results"
   ]
  },
  {
   "cell_type": "code",
   "execution_count": 12,
   "metadata": {},
   "outputs": [],
   "source": [
    "#for image_path in image_paths.path:\n",
    "#    run_detector(detector, image_path)"
   ]
  },
  {
   "cell_type": "code",
   "execution_count": 13,
   "metadata": {},
   "outputs": [
    {
     "data": {
      "text/plain": [
       "'50598.jpg'"
      ]
     },
     "execution_count": 13,
     "metadata": {},
     "output_type": "execute_result"
    }
   ],
   "source": [
    "portraits_path.path[0].split(\"/\")[-1]"
   ]
  },
  {
   "cell_type": "code",
   "execution_count": 14,
   "metadata": {},
   "outputs": [],
   "source": [
    "# resize image: might be useful with bigger model if it is too slow.\n",
    "\n",
    "#resized_image_path = load_and_resize_image(portraits_path.path[0])\n",
    "#resized_image = load_img(resized_image_path)\n",
    "#display_image(resized_image)"
   ]
  },
  {
   "cell_type": "code",
   "execution_count": 15,
   "metadata": {},
   "outputs": [],
   "source": [
    "# run model on single image and save it as test.jpg\n",
    "#image_with_boxes, result = run_detector(detector, portraits_path.path[0], portraits_path.path[0].split(\"/\")[-1])\n",
    "#image_with_boxes.save(\"test.jpg\", format=\"JPEG\", quality=90)"
   ]
  },
  {
   "cell_type": "code",
   "execution_count": null,
   "metadata": {},
   "outputs": [],
   "source": []
  },
  {
   "cell_type": "code",
   "execution_count": 17,
   "metadata": {},
   "outputs": [
    {
     "data": {
      "application/vnd.jupyter.widget-view+json": {
       "model_id": "2bba307e4d7948389e543eace9dad139",
       "version_major": 2,
       "version_minor": 0
      },
      "text/plain": [
       "  0%|          | 0/1720 [00:00<?, ?it/s]"
      ]
     },
     "metadata": {},
     "output_type": "display_data"
    },
    {
     "ename": "UnboundLocalError",
     "evalue": "local variable 'image_pil' referenced before assignment",
     "output_type": "error",
     "traceback": [
      "\u001b[0;31m---------------------------------------------------------------------------\u001b[0m",
      "\u001b[0;31mUnboundLocalError\u001b[0m                         Traceback (most recent call last)",
      "\u001b[1;32m/scratch/ddupertu/history-digital-objects-symbolic/scripts/s1_model_experimentation/s0_kaggle_object_detection.ipynb Cell 23'\u001b[0m in \u001b[0;36m<cell line: 5>\u001b[0;34m()\u001b[0m\n\u001b[1;32m      <a href='vscode-notebook-cell://ssh-remote%2Biccluster040.iccluster.epfl.ch/scratch/ddupertu/history-digital-objects-symbolic/scripts/s1_model_experimentation/s0_kaggle_object_detection.ipynb#ch0000022vscode-remote?line=0'>1</a>\u001b[0m \u001b[39m#for i, img_path in enumerate(portraits_path.path[0:15]):\u001b[39;00m\n\u001b[1;32m      <a href='vscode-notebook-cell://ssh-remote%2Biccluster040.iccluster.epfl.ch/scratch/ddupertu/history-digital-objects-symbolic/scripts/s1_model_experimentation/s0_kaggle_object_detection.ipynb#ch0000022vscode-remote?line=1'>2</a>\u001b[0m \u001b[39m#    print(f\"\\n\\niteration {i}\\n-----------------\")\u001b[39;00m\n\u001b[1;32m      <a href='vscode-notebook-cell://ssh-remote%2Biccluster040.iccluster.epfl.ch/scratch/ddupertu/history-digital-objects-symbolic/scripts/s1_model_experimentation/s0_kaggle_object_detection.ipynb#ch0000022vscode-remote?line=2'>3</a>\u001b[0m \u001b[39m#    detect_save_objects_and_image_with_box(detector, img_path)\u001b[39;00m\n\u001b[0;32m----> <a href='vscode-notebook-cell://ssh-remote%2Biccluster040.iccluster.epfl.ch/scratch/ddupertu/history-digital-objects-symbolic/scripts/s1_model_experimentation/s0_kaggle_object_detection.ipynb#ch0000022vscode-remote?line=4'>5</a>\u001b[0m results_per_image \u001b[39m=\u001b[39m [\n\u001b[1;32m      <a href='vscode-notebook-cell://ssh-remote%2Biccluster040.iccluster.epfl.ch/scratch/ddupertu/history-digital-objects-symbolic/scripts/s1_model_experimentation/s0_kaggle_object_detection.ipynb#ch0000022vscode-remote?line=5'>6</a>\u001b[0m     detect_save_objects_and_image_with_box(detector, img_path)\n\u001b[1;32m      <a href='vscode-notebook-cell://ssh-remote%2Biccluster040.iccluster.epfl.ch/scratch/ddupertu/history-digital-objects-symbolic/scripts/s1_model_experimentation/s0_kaggle_object_detection.ipynb#ch0000022vscode-remote?line=6'>7</a>\u001b[0m     \u001b[39mfor\u001b[39;00m img_path \u001b[39min\u001b[39;00m tqdm(portraits_path\u001b[39m.\u001b[39mpath[\u001b[39m280\u001b[39m:\u001b[39m2000\u001b[39m])\n\u001b[1;32m      <a href='vscode-notebook-cell://ssh-remote%2Biccluster040.iccluster.epfl.ch/scratch/ddupertu/history-digital-objects-symbolic/scripts/s1_model_experimentation/s0_kaggle_object_detection.ipynb#ch0000022vscode-remote?line=7'>8</a>\u001b[0m ]\n",
      "\u001b[1;32m/scratch/ddupertu/history-digital-objects-symbolic/scripts/s1_model_experimentation/s0_kaggle_object_detection.ipynb Cell 23'\u001b[0m in \u001b[0;36m<listcomp>\u001b[0;34m(.0)\u001b[0m\n\u001b[1;32m      <a href='vscode-notebook-cell://ssh-remote%2Biccluster040.iccluster.epfl.ch/scratch/ddupertu/history-digital-objects-symbolic/scripts/s1_model_experimentation/s0_kaggle_object_detection.ipynb#ch0000022vscode-remote?line=0'>1</a>\u001b[0m \u001b[39m#for i, img_path in enumerate(portraits_path.path[0:15]):\u001b[39;00m\n\u001b[1;32m      <a href='vscode-notebook-cell://ssh-remote%2Biccluster040.iccluster.epfl.ch/scratch/ddupertu/history-digital-objects-symbolic/scripts/s1_model_experimentation/s0_kaggle_object_detection.ipynb#ch0000022vscode-remote?line=1'>2</a>\u001b[0m \u001b[39m#    print(f\"\\n\\niteration {i}\\n-----------------\")\u001b[39;00m\n\u001b[1;32m      <a href='vscode-notebook-cell://ssh-remote%2Biccluster040.iccluster.epfl.ch/scratch/ddupertu/history-digital-objects-symbolic/scripts/s1_model_experimentation/s0_kaggle_object_detection.ipynb#ch0000022vscode-remote?line=2'>3</a>\u001b[0m \u001b[39m#    detect_save_objects_and_image_with_box(detector, img_path)\u001b[39;00m\n\u001b[1;32m      <a href='vscode-notebook-cell://ssh-remote%2Biccluster040.iccluster.epfl.ch/scratch/ddupertu/history-digital-objects-symbolic/scripts/s1_model_experimentation/s0_kaggle_object_detection.ipynb#ch0000022vscode-remote?line=4'>5</a>\u001b[0m results_per_image \u001b[39m=\u001b[39m [\n\u001b[0;32m----> <a href='vscode-notebook-cell://ssh-remote%2Biccluster040.iccluster.epfl.ch/scratch/ddupertu/history-digital-objects-symbolic/scripts/s1_model_experimentation/s0_kaggle_object_detection.ipynb#ch0000022vscode-remote?line=5'>6</a>\u001b[0m     detect_save_objects_and_image_with_box(detector, img_path)\n\u001b[1;32m      <a href='vscode-notebook-cell://ssh-remote%2Biccluster040.iccluster.epfl.ch/scratch/ddupertu/history-digital-objects-symbolic/scripts/s1_model_experimentation/s0_kaggle_object_detection.ipynb#ch0000022vscode-remote?line=6'>7</a>\u001b[0m     \u001b[39mfor\u001b[39;00m img_path \u001b[39min\u001b[39;00m tqdm(portraits_path\u001b[39m.\u001b[39mpath[\u001b[39m280\u001b[39m:\u001b[39m2000\u001b[39m])\n\u001b[1;32m      <a href='vscode-notebook-cell://ssh-remote%2Biccluster040.iccluster.epfl.ch/scratch/ddupertu/history-digital-objects-symbolic/scripts/s1_model_experimentation/s0_kaggle_object_detection.ipynb#ch0000022vscode-remote?line=7'>8</a>\u001b[0m ]\n",
      "\u001b[1;32m/scratch/ddupertu/history-digital-objects-symbolic/scripts/s1_model_experimentation/s0_kaggle_object_detection.ipynb Cell 17'\u001b[0m in \u001b[0;36mdetect_save_objects_and_image_with_box\u001b[0;34m(detector, image_path)\u001b[0m\n\u001b[1;32m      <a href='vscode-notebook-cell://ssh-remote%2Biccluster040.iccluster.epfl.ch/scratch/ddupertu/history-digital-objects-symbolic/scripts/s1_model_experimentation/s0_kaggle_object_detection.ipynb#ch0000016vscode-remote?line=0'>1</a>\u001b[0m \u001b[39mdef\u001b[39;00m \u001b[39mdetect_save_objects_and_image_with_box\u001b[39m(detector, image_path):\n\u001b[1;32m      <a href='vscode-notebook-cell://ssh-remote%2Biccluster040.iccluster.epfl.ch/scratch/ddupertu/history-digital-objects-symbolic/scripts/s1_model_experimentation/s0_kaggle_object_detection.ipynb#ch0000016vscode-remote?line=1'>2</a>\u001b[0m     name \u001b[39m=\u001b[39m image_path\u001b[39m.\u001b[39msplit(\u001b[39m\"\u001b[39m\u001b[39m/\u001b[39m\u001b[39m\"\u001b[39m)[\u001b[39m-\u001b[39m\u001b[39m1\u001b[39m]\n\u001b[0;32m----> <a href='vscode-notebook-cell://ssh-remote%2Biccluster040.iccluster.epfl.ch/scratch/ddupertu/history-digital-objects-symbolic/scripts/s1_model_experimentation/s0_kaggle_object_detection.ipynb#ch0000016vscode-remote?line=2'>3</a>\u001b[0m     image_with_boxes_pil, results \u001b[39m=\u001b[39m run_detector(detector, image_path, name, display\u001b[39m=\u001b[39;49m\u001b[39mFalse\u001b[39;49;00m)\n\u001b[1;32m      <a href='vscode-notebook-cell://ssh-remote%2Biccluster040.iccluster.epfl.ch/scratch/ddupertu/history-digital-objects-symbolic/scripts/s1_model_experimentation/s0_kaggle_object_detection.ipynb#ch0000016vscode-remote?line=3'>4</a>\u001b[0m     image_with_boxes_pil\u001b[39m.\u001b[39msave(path\u001b[39m.\u001b[39mjoin(images_with_boxes_folder, name), \u001b[39mformat\u001b[39m\u001b[39m=\u001b[39m\u001b[39m\"\u001b[39m\u001b[39mJPEG\u001b[39m\u001b[39m\"\u001b[39m, quality\u001b[39m=\u001b[39m\u001b[39m90\u001b[39m)\n\u001b[1;32m      <a href='vscode-notebook-cell://ssh-remote%2Biccluster040.iccluster.epfl.ch/scratch/ddupertu/history-digital-objects-symbolic/scripts/s1_model_experimentation/s0_kaggle_object_detection.ipynb#ch0000016vscode-remote?line=4'>5</a>\u001b[0m     results\u001b[39m.\u001b[39mto_csv(object_detection_results_path\u001b[39m.\u001b[39mreplace(\u001b[39m\"\u001b[39m\u001b[39mXXX\u001b[39m\u001b[39m\"\u001b[39m, name))\n",
      "\u001b[1;32m/scratch/ddupertu/history-digital-objects-symbolic/scripts/s1_model_experimentation/s0_kaggle_object_detection.ipynb Cell 16'\u001b[0m in \u001b[0;36mrun_detector\u001b[0;34m(detector, path, name, display, verbose)\u001b[0m\n\u001b[1;32m     <a href='vscode-notebook-cell://ssh-remote%2Biccluster040.iccluster.epfl.ch/scratch/ddupertu/history-digital-objects-symbolic/scripts/s1_model_experimentation/s0_kaggle_object_detection.ipynb#ch0000015vscode-remote?line=11'>12</a>\u001b[0m   \u001b[39mprint\u001b[39m(\u001b[39m\"\u001b[39m\u001b[39mFound \u001b[39m\u001b[39m%d\u001b[39;00m\u001b[39m objects.\u001b[39m\u001b[39m\"\u001b[39m \u001b[39m%\u001b[39m \u001b[39mlen\u001b[39m(result[\u001b[39m\"\u001b[39m\u001b[39mdetection_scores\u001b[39m\u001b[39m\"\u001b[39m]))\n\u001b[1;32m     <a href='vscode-notebook-cell://ssh-remote%2Biccluster040.iccluster.epfl.ch/scratch/ddupertu/history-digital-objects-symbolic/scripts/s1_model_experimentation/s0_kaggle_object_detection.ipynb#ch0000015vscode-remote?line=12'>13</a>\u001b[0m   \u001b[39mprint\u001b[39m(\u001b[39m\"\u001b[39m\u001b[39mInference time: \u001b[39m\u001b[39m\"\u001b[39m, end_time\u001b[39m-\u001b[39mstart_time)\n\u001b[0;32m---> <a href='vscode-notebook-cell://ssh-remote%2Biccluster040.iccluster.epfl.ch/scratch/ddupertu/history-digital-objects-symbolic/scripts/s1_model_experimentation/s0_kaggle_object_detection.ipynb#ch0000015vscode-remote?line=14'>15</a>\u001b[0m image_with_boxes, image_with_boxes_pil \u001b[39m=\u001b[39m draw_boxes(\n\u001b[1;32m     <a href='vscode-notebook-cell://ssh-remote%2Biccluster040.iccluster.epfl.ch/scratch/ddupertu/history-digital-objects-symbolic/scripts/s1_model_experimentation/s0_kaggle_object_detection.ipynb#ch0000015vscode-remote?line=15'>16</a>\u001b[0m     img\u001b[39m.\u001b[39;49mnumpy(), result[\u001b[39m\"\u001b[39;49m\u001b[39mdetection_boxes\u001b[39;49m\u001b[39m\"\u001b[39;49m],\n\u001b[1;32m     <a href='vscode-notebook-cell://ssh-remote%2Biccluster040.iccluster.epfl.ch/scratch/ddupertu/history-digital-objects-symbolic/scripts/s1_model_experimentation/s0_kaggle_object_detection.ipynb#ch0000015vscode-remote?line=16'>17</a>\u001b[0m     result[\u001b[39m\"\u001b[39;49m\u001b[39mdetection_class_entities\u001b[39;49m\u001b[39m\"\u001b[39;49m], result[\u001b[39m\"\u001b[39;49m\u001b[39mdetection_scores\u001b[39;49m\u001b[39m\"\u001b[39;49m])\n\u001b[1;32m     <a href='vscode-notebook-cell://ssh-remote%2Biccluster040.iccluster.epfl.ch/scratch/ddupertu/history-digital-objects-symbolic/scripts/s1_model_experimentation/s0_kaggle_object_detection.ipynb#ch0000015vscode-remote?line=18'>19</a>\u001b[0m \u001b[39mif\u001b[39;00m display:\n\u001b[1;32m     <a href='vscode-notebook-cell://ssh-remote%2Biccluster040.iccluster.epfl.ch/scratch/ddupertu/history-digital-objects-symbolic/scripts/s1_model_experimentation/s0_kaggle_object_detection.ipynb#ch0000015vscode-remote?line=19'>20</a>\u001b[0m   display_image(image_with_boxes)\n",
      "\u001b[1;32m/scratch/ddupertu/history-digital-objects-symbolic/scripts/s1_model_experimentation/s0_kaggle_object_detection.ipynb Cell 13'\u001b[0m in \u001b[0;36mdraw_boxes\u001b[0;34m(image, boxes, class_names, scores, max_boxes, min_score)\u001b[0m\n\u001b[1;32m     <a href='vscode-notebook-cell://ssh-remote%2Biccluster040.iccluster.epfl.ch/scratch/ddupertu/history-digital-objects-symbolic/scripts/s1_model_experimentation/s0_kaggle_object_detection.ipynb#ch0000012vscode-remote?line=83'>84</a>\u001b[0m     draw_bounding_box_on_image(\n\u001b[1;32m     <a href='vscode-notebook-cell://ssh-remote%2Biccluster040.iccluster.epfl.ch/scratch/ddupertu/history-digital-objects-symbolic/scripts/s1_model_experimentation/s0_kaggle_object_detection.ipynb#ch0000012vscode-remote?line=84'>85</a>\u001b[0m         image_pil,\n\u001b[1;32m     <a href='vscode-notebook-cell://ssh-remote%2Biccluster040.iccluster.epfl.ch/scratch/ddupertu/history-digital-objects-symbolic/scripts/s1_model_experimentation/s0_kaggle_object_detection.ipynb#ch0000012vscode-remote?line=85'>86</a>\u001b[0m         ymin,\n\u001b[0;32m   (...)\u001b[0m\n\u001b[1;32m     <a href='vscode-notebook-cell://ssh-remote%2Biccluster040.iccluster.epfl.ch/scratch/ddupertu/history-digital-objects-symbolic/scripts/s1_model_experimentation/s0_kaggle_object_detection.ipynb#ch0000012vscode-remote?line=90'>91</a>\u001b[0m         font,\n\u001b[1;32m     <a href='vscode-notebook-cell://ssh-remote%2Biccluster040.iccluster.epfl.ch/scratch/ddupertu/history-digital-objects-symbolic/scripts/s1_model_experimentation/s0_kaggle_object_detection.ipynb#ch0000012vscode-remote?line=91'>92</a>\u001b[0m         display_str_list\u001b[39m=\u001b[39m[display_str])\n\u001b[1;32m     <a href='vscode-notebook-cell://ssh-remote%2Biccluster040.iccluster.epfl.ch/scratch/ddupertu/history-digital-objects-symbolic/scripts/s1_model_experimentation/s0_kaggle_object_detection.ipynb#ch0000012vscode-remote?line=92'>93</a>\u001b[0m     np\u001b[39m.\u001b[39mcopyto(image, np\u001b[39m.\u001b[39marray(image_pil))\n\u001b[0;32m---> <a href='vscode-notebook-cell://ssh-remote%2Biccluster040.iccluster.epfl.ch/scratch/ddupertu/history-digital-objects-symbolic/scripts/s1_model_experimentation/s0_kaggle_object_detection.ipynb#ch0000012vscode-remote?line=93'>94</a>\u001b[0m \u001b[39mreturn\u001b[39;00m image, image_pil\n",
      "\u001b[0;31mUnboundLocalError\u001b[0m: local variable 'image_pil' referenced before assignment"
     ]
    }
   ],
   "source": [
    "#for i, img_path in enumerate(portraits_path.path[0:15]):\n",
    "#    print(f\"\\n\\niteration {i}\\n-----------------\")\n",
    "#    detect_save_objects_and_image_with_box(detector, img_path)\n",
    "\n",
    "results_per_image = [\n",
    "    detect_save_objects_and_image_with_box(detector, img_path)\n",
    "    for img_path in tqdm(portraits_path.path[280:2000])\n",
    "]\n",
    "\n"
   ]
  },
  {
   "cell_type": "code",
   "execution_count": null,
   "metadata": {},
   "outputs": [],
   "source": []
  },
  {
   "cell_type": "code",
   "execution_count": null,
   "metadata": {},
   "outputs": [],
   "source": []
  }
 ],
 "metadata": {
  "interpreter": {
   "hash": "3e15d7c3b13e39e244b74effea739f7137dab374d8c5a96372d5c2dc774a77b5"
  },
  "kernelspec": {
   "display_name": "Python 3.8.13 ('history-digital')",
   "language": "python",
   "name": "python3"
  },
  "language_info": {
   "codemirror_mode": {
    "name": "ipython",
    "version": 3
   },
   "file_extension": ".py",
   "mimetype": "text/x-python",
   "name": "python",
   "nbconvert_exporter": "python",
   "pygments_lexer": "ipython3",
   "version": "3.8.13"
  },
  "orig_nbformat": 4
 },
 "nbformat": 4,
 "nbformat_minor": 2
}
