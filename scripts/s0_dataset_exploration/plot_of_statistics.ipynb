{
 "cells": [
  {
   "cell_type": "markdown",
   "metadata": {},
   "source": [
    "## Import the libraries"
   ]
  },
  {
   "cell_type": "code",
   "execution_count": 1,
   "metadata": {},
   "outputs": [],
   "source": [
    "import pandas as pd\n",
    "import numpy as np\n",
    "\n",
    "import plotly.express as px\n",
    "\n",
    "import matplotlib.pyplot as plt\n",
    "import seaborn as sns\n",
    "\n",
    "plt.rcParams['figure.figsize'] = (15, 15)"
   ]
  },
  {
   "cell_type": "markdown",
   "metadata": {},
   "source": [
    "## Read the metadata"
   ]
  },
  {
   "cell_type": "code",
   "execution_count": 5,
   "metadata": {},
   "outputs": [],
   "source": [
    "all_data_info = pd.read_csv(\"../data/all_data_info.csv\")\n",
    "all_data_info = all_data_info[[\"artist\",\"date\",\"genre\",\"source\",\"style\",\"title\",\"new_filename\"]]\n",
    "all_data_info[\"date\"] = all_data_info[\"date\"].str.extract('(\\d+)')\n",
    "all_data_info = all_data_info.dropna(subset=['date'])\n",
    "all_data_info[\"date\"] = all_data_info[\"date\"].astype(int)"
   ]
  },
  {
   "cell_type": "markdown",
   "metadata": {},
   "source": [
    "## Plots"
   ]
  },
  {
   "cell_type": "markdown",
   "metadata": {},
   "source": [
    "### All data"
   ]
  },
  {
   "cell_type": "markdown",
   "metadata": {},
   "source": [
    "#### Styles Distribution"
   ]
  },
  {
   "cell_type": "code",
   "execution_count": 3,
   "metadata": {},
   "outputs": [
    {
     "data": {
      "application/vnd.plotly.v1+json": {
       "config": {
        "plotlyServerURL": "https://plot.ly"
       },
       "data": [
        {
         "branchvalues": "total",
         "domain": {
          "x": [
           0,
           1
          ],
          "y": [
           0,
           1
          ]
         },
         "hovertemplate": "labels=%{label}<br>artist=%{value}<br>parent=%{parent}<br>id=%{id}<extra></extra>",
         "ids": [
          "Abstract Art",
          "Abstract Expressionism",
          "Academicism",
          "Action painting",
          "American Realism",
          "Analytical Cubism",
          "Analytical Realism",
          "Art Brut",
          "Art Deco",
          "Art Informel",
          "Art Nouveau (Modern)",
          "Automatic Painting",
          "Baroque",
          "Biedermeier",
          "Byzantine",
          "Cartographic Art",
          "Classicism",
          "Cloisonnism",
          "Color Field Painting",
          "Conceptual Art",
          "Concretism",
          "Constructivism",
          "Contemporary Realism",
          "Costumbrismo",
          "Cubism",
          "Cubo-Expressionism",
          "Cubo-Futurism",
          "Dada",
          "Divisionism",
          "Early Renaissance",
          "Existential Art",
          "Expressionism",
          "Fantastic Realism",
          "Fauvism",
          "Feminist Art",
          "Figurative Expressionism",
          "Futurism",
          "Gongbi",
          "Gothic",
          "Hard Edge Painting",
          "High Renaissance",
          "Hyper-Realism",
          "Ilkhanid",
          "Impressionism",
          "Indian Space painting",
          "Ink and wash painting",
          "International Gothic",
          "Intimism",
          "Japonism",
          "Kinetic Art",
          "Kitsch",
          "Lettrism",
          "Light and Space",
          "Luminism",
          "Lyrical Abstraction",
          "Magic Realism",
          "Mail Art",
          "Mannerism (Late Renaissance)",
          "Mechanistic Cubism",
          "Metaphysical art",
          "Minimalism",
          "Miserablism",
          "Modernismo",
          "Mosan art",
          "Muralism",
          "Nanga (Bunjinga)",
          "Native Art",
          "Naturalism",
          "Naïve Art (Primitivism)",
          "Neo-Byzantine",
          "Neo-Concretism",
          "Neo-Dada",
          "Neo-Expressionism",
          "Neo-Figurative Art",
          "Neo-Rococo",
          "Neo-Romanticism",
          "Neo-baroque",
          "Neoclassicism",
          "Neoplasticism",
          "New Casualism",
          "New European Painting",
          "New Realism",
          "Nihonga",
          "Northern Renaissance",
          "Nouveau Réalisme",
          "Op Art",
          "Orientalism",
          "Orphism",
          "Ottoman Period",
          "Outsider art",
          "Perceptism ",
          "Photorealism",
          "Pointillism",
          "Pop Art",
          "Post-Impressionism",
          "Post-Minimalism",
          "Post-Painterly Abstraction",
          "Poster Art Realism",
          "Precisionism",
          "Primitivism",
          "Proto Renaissance",
          "Purism",
          "Rayonism",
          "Realism",
          "Regionalism",
          "Renaissance",
          "Rococo",
          "Romanesque",
          "Romanticism",
          "Safavid Period",
          "Shin-hanga",
          "Social Realism",
          "Socialist Realism",
          "Spatialism",
          "Spectralism",
          "Street art",
          "Suprematism",
          "Surrealism",
          "Symbolism",
          "Synchromism",
          "Synthetic Cubism",
          "Synthetism",
          "Sōsaku hanga",
          "Tachisme",
          "Tenebrism",
          "Timurid Period",
          "Tonalism",
          "Transautomatism",
          "Tubism",
          "Ukiyo-e",
          "Verism",
          "Zen"
         ],
         "labels": [
          "Abstract Art",
          "Abstract Expressionism",
          "Academicism",
          "Action painting",
          "American Realism",
          "Analytical Cubism",
          "Analytical Realism",
          "Art Brut",
          "Art Deco",
          "Art Informel",
          "Art Nouveau (Modern)",
          "Automatic Painting",
          "Baroque",
          "Biedermeier",
          "Byzantine",
          "Cartographic Art",
          "Classicism",
          "Cloisonnism",
          "Color Field Painting",
          "Conceptual Art",
          "Concretism",
          "Constructivism",
          "Contemporary Realism",
          "Costumbrismo",
          "Cubism",
          "Cubo-Expressionism",
          "Cubo-Futurism",
          "Dada",
          "Divisionism",
          "Early Renaissance",
          "Existential Art",
          "Expressionism",
          "Fantastic Realism",
          "Fauvism",
          "Feminist Art",
          "Figurative Expressionism",
          "Futurism",
          "Gongbi",
          "Gothic",
          "Hard Edge Painting",
          "High Renaissance",
          "Hyper-Realism",
          "Ilkhanid",
          "Impressionism",
          "Indian Space painting",
          "Ink and wash painting",
          "International Gothic",
          "Intimism",
          "Japonism",
          "Kinetic Art",
          "Kitsch",
          "Lettrism",
          "Light and Space",
          "Luminism",
          "Lyrical Abstraction",
          "Magic Realism",
          "Mail Art",
          "Mannerism (Late Renaissance)",
          "Mechanistic Cubism",
          "Metaphysical art",
          "Minimalism",
          "Miserablism",
          "Modernismo",
          "Mosan art",
          "Muralism",
          "Nanga (Bunjinga)",
          "Native Art",
          "Naturalism",
          "Naïve Art (Primitivism)",
          "Neo-Byzantine",
          "Neo-Concretism",
          "Neo-Dada",
          "Neo-Expressionism",
          "Neo-Figurative Art",
          "Neo-Rococo",
          "Neo-Romanticism",
          "Neo-baroque",
          "Neoclassicism",
          "Neoplasticism",
          "New Casualism",
          "New European Painting",
          "New Realism",
          "Nihonga",
          "Northern Renaissance",
          "Nouveau Réalisme",
          "Op Art",
          "Orientalism",
          "Orphism",
          "Ottoman Period",
          "Outsider art",
          "Perceptism ",
          "Photorealism",
          "Pointillism",
          "Pop Art",
          "Post-Impressionism",
          "Post-Minimalism",
          "Post-Painterly Abstraction",
          "Poster Art Realism",
          "Precisionism",
          "Primitivism",
          "Proto Renaissance",
          "Purism",
          "Rayonism",
          "Realism",
          "Regionalism",
          "Renaissance",
          "Rococo",
          "Romanesque",
          "Romanticism",
          "Safavid Period",
          "Shin-hanga",
          "Social Realism",
          "Socialist Realism",
          "Spatialism",
          "Spectralism",
          "Street art",
          "Suprematism",
          "Surrealism",
          "Symbolism",
          "Synchromism",
          "Synthetic Cubism",
          "Synthetism",
          "Sōsaku hanga",
          "Tachisme",
          "Tenebrism",
          "Timurid Period",
          "Tonalism",
          "Transautomatism",
          "Tubism",
          "Ukiyo-e",
          "Verism",
          "Zen"
         ],
         "name": "",
         "parents": [
          "",
          "",
          "",
          "",
          "",
          "",
          "",
          "",
          "",
          "",
          "",
          "",
          "",
          "",
          "",
          "",
          "",
          "",
          "",
          "",
          "",
          "",
          "",
          "",
          "",
          "",
          "",
          "",
          "",
          "",
          "",
          "",
          "",
          "",
          "",
          "",
          "",
          "",
          "",
          "",
          "",
          "",
          "",
          "",
          "",
          "",
          "",
          "",
          "",
          "",
          "",
          "",
          "",
          "",
          "",
          "",
          "",
          "",
          "",
          "",
          "",
          "",
          "",
          "",
          "",
          "",
          "",
          "",
          "",
          "",
          "",
          "",
          "",
          "",
          "",
          "",
          "",
          "",
          "",
          "",
          "",
          "",
          "",
          "",
          "",
          "",
          "",
          "",
          "",
          "",
          "",
          "",
          "",
          "",
          "",
          "",
          "",
          "",
          "",
          "",
          "",
          "",
          "",
          "",
          "",
          "",
          "",
          "",
          "",
          "",
          "",
          "",
          "",
          "",
          "",
          "",
          "",
          "",
          "",
          "",
          "",
          "",
          "",
          "",
          "",
          "",
          "",
          "",
          "",
          "",
          "",
          ""
         ],
         "type": "treemap",
         "values": [
          837,
          1831,
          600,
          86,
          242,
          87,
          81,
          113,
          226,
          1058,
          3374,
          30,
          3391,
          123,
          70,
          9,
          195,
          167,
          840,
          95,
          492,
          229,
          145,
          10,
          1481,
          18,
          118,
          175,
          128,
          1118,
          17,
          5574,
          26,
          619,
          17,
          19,
          230,
          20,
          12,
          330,
          1101,
          30,
          2,
          8281,
          19,
          318,
          58,
          99,
          94,
          2,
          30,
          29,
          11,
          253,
          576,
          734,
          9,
          1117,
          13,
          156,
          406,
          8,
          38,
          39,
          136,
          15,
          20,
          132,
          1642,
          14,
          36,
          126,
          365,
          25,
          78,
          317,
          47,
          1129,
          147,
          21,
          19,
          263,
          17,
          1637,
          121,
          459,
          226,
          168,
          3,
          51,
          6,
          58,
          396,
          591,
          4222,
          31,
          150,
          28,
          177,
          36,
          255,
          125,
          6,
          8178,
          194,
          1,
          1983,
          5,
          6538,
          17,
          263,
          260,
          89,
          75,
          5,
          23,
          45,
          3117,
          2777,
          9,
          163,
          47,
          257,
          357,
          165,
          7,
          164,
          74,
          19,
          585,
          36,
          12
         ]
        }
       ],
       "layout": {
        "font": {
         "color": "RebeccaPurple",
         "family": "Courier New, monospace",
         "size": 100
        },
        "height": 800,
        "legend": {
         "tracegroupgap": 0
        },
        "margin": {
         "t": 60
        },
        "template": {
         "data": {
          "bar": [
           {
            "error_x": {
             "color": "#2a3f5f"
            },
            "error_y": {
             "color": "#2a3f5f"
            },
            "marker": {
             "line": {
              "color": "#E5ECF6",
              "width": 0.5
             },
             "pattern": {
              "fillmode": "overlay",
              "size": 10,
              "solidity": 0.2
             }
            },
            "type": "bar"
           }
          ],
          "barpolar": [
           {
            "marker": {
             "line": {
              "color": "#E5ECF6",
              "width": 0.5
             },
             "pattern": {
              "fillmode": "overlay",
              "size": 10,
              "solidity": 0.2
             }
            },
            "type": "barpolar"
           }
          ],
          "carpet": [
           {
            "aaxis": {
             "endlinecolor": "#2a3f5f",
             "gridcolor": "white",
             "linecolor": "white",
             "minorgridcolor": "white",
             "startlinecolor": "#2a3f5f"
            },
            "baxis": {
             "endlinecolor": "#2a3f5f",
             "gridcolor": "white",
             "linecolor": "white",
             "minorgridcolor": "white",
             "startlinecolor": "#2a3f5f"
            },
            "type": "carpet"
           }
          ],
          "choropleth": [
           {
            "colorbar": {
             "outlinewidth": 0,
             "ticks": ""
            },
            "type": "choropleth"
           }
          ],
          "contour": [
           {
            "colorbar": {
             "outlinewidth": 0,
             "ticks": ""
            },
            "colorscale": [
             [
              0,
              "#0d0887"
             ],
             [
              0.1111111111111111,
              "#46039f"
             ],
             [
              0.2222222222222222,
              "#7201a8"
             ],
             [
              0.3333333333333333,
              "#9c179e"
             ],
             [
              0.4444444444444444,
              "#bd3786"
             ],
             [
              0.5555555555555556,
              "#d8576b"
             ],
             [
              0.6666666666666666,
              "#ed7953"
             ],
             [
              0.7777777777777778,
              "#fb9f3a"
             ],
             [
              0.8888888888888888,
              "#fdca26"
             ],
             [
              1,
              "#f0f921"
             ]
            ],
            "type": "contour"
           }
          ],
          "contourcarpet": [
           {
            "colorbar": {
             "outlinewidth": 0,
             "ticks": ""
            },
            "type": "contourcarpet"
           }
          ],
          "heatmap": [
           {
            "colorbar": {
             "outlinewidth": 0,
             "ticks": ""
            },
            "colorscale": [
             [
              0,
              "#0d0887"
             ],
             [
              0.1111111111111111,
              "#46039f"
             ],
             [
              0.2222222222222222,
              "#7201a8"
             ],
             [
              0.3333333333333333,
              "#9c179e"
             ],
             [
              0.4444444444444444,
              "#bd3786"
             ],
             [
              0.5555555555555556,
              "#d8576b"
             ],
             [
              0.6666666666666666,
              "#ed7953"
             ],
             [
              0.7777777777777778,
              "#fb9f3a"
             ],
             [
              0.8888888888888888,
              "#fdca26"
             ],
             [
              1,
              "#f0f921"
             ]
            ],
            "type": "heatmap"
           }
          ],
          "heatmapgl": [
           {
            "colorbar": {
             "outlinewidth": 0,
             "ticks": ""
            },
            "colorscale": [
             [
              0,
              "#0d0887"
             ],
             [
              0.1111111111111111,
              "#46039f"
             ],
             [
              0.2222222222222222,
              "#7201a8"
             ],
             [
              0.3333333333333333,
              "#9c179e"
             ],
             [
              0.4444444444444444,
              "#bd3786"
             ],
             [
              0.5555555555555556,
              "#d8576b"
             ],
             [
              0.6666666666666666,
              "#ed7953"
             ],
             [
              0.7777777777777778,
              "#fb9f3a"
             ],
             [
              0.8888888888888888,
              "#fdca26"
             ],
             [
              1,
              "#f0f921"
             ]
            ],
            "type": "heatmapgl"
           }
          ],
          "histogram": [
           {
            "marker": {
             "pattern": {
              "fillmode": "overlay",
              "size": 10,
              "solidity": 0.2
             }
            },
            "type": "histogram"
           }
          ],
          "histogram2d": [
           {
            "colorbar": {
             "outlinewidth": 0,
             "ticks": ""
            },
            "colorscale": [
             [
              0,
              "#0d0887"
             ],
             [
              0.1111111111111111,
              "#46039f"
             ],
             [
              0.2222222222222222,
              "#7201a8"
             ],
             [
              0.3333333333333333,
              "#9c179e"
             ],
             [
              0.4444444444444444,
              "#bd3786"
             ],
             [
              0.5555555555555556,
              "#d8576b"
             ],
             [
              0.6666666666666666,
              "#ed7953"
             ],
             [
              0.7777777777777778,
              "#fb9f3a"
             ],
             [
              0.8888888888888888,
              "#fdca26"
             ],
             [
              1,
              "#f0f921"
             ]
            ],
            "type": "histogram2d"
           }
          ],
          "histogram2dcontour": [
           {
            "colorbar": {
             "outlinewidth": 0,
             "ticks": ""
            },
            "colorscale": [
             [
              0,
              "#0d0887"
             ],
             [
              0.1111111111111111,
              "#46039f"
             ],
             [
              0.2222222222222222,
              "#7201a8"
             ],
             [
              0.3333333333333333,
              "#9c179e"
             ],
             [
              0.4444444444444444,
              "#bd3786"
             ],
             [
              0.5555555555555556,
              "#d8576b"
             ],
             [
              0.6666666666666666,
              "#ed7953"
             ],
             [
              0.7777777777777778,
              "#fb9f3a"
             ],
             [
              0.8888888888888888,
              "#fdca26"
             ],
             [
              1,
              "#f0f921"
             ]
            ],
            "type": "histogram2dcontour"
           }
          ],
          "mesh3d": [
           {
            "colorbar": {
             "outlinewidth": 0,
             "ticks": ""
            },
            "type": "mesh3d"
           }
          ],
          "parcoords": [
           {
            "line": {
             "colorbar": {
              "outlinewidth": 0,
              "ticks": ""
             }
            },
            "type": "parcoords"
           }
          ],
          "pie": [
           {
            "automargin": true,
            "type": "pie"
           }
          ],
          "scatter": [
           {
            "fillpattern": {
             "fillmode": "overlay",
             "size": 10,
             "solidity": 0.2
            },
            "type": "scatter"
           }
          ],
          "scatter3d": [
           {
            "line": {
             "colorbar": {
              "outlinewidth": 0,
              "ticks": ""
             }
            },
            "marker": {
             "colorbar": {
              "outlinewidth": 0,
              "ticks": ""
             }
            },
            "type": "scatter3d"
           }
          ],
          "scattercarpet": [
           {
            "marker": {
             "colorbar": {
              "outlinewidth": 0,
              "ticks": ""
             }
            },
            "type": "scattercarpet"
           }
          ],
          "scattergeo": [
           {
            "marker": {
             "colorbar": {
              "outlinewidth": 0,
              "ticks": ""
             }
            },
            "type": "scattergeo"
           }
          ],
          "scattergl": [
           {
            "marker": {
             "colorbar": {
              "outlinewidth": 0,
              "ticks": ""
             }
            },
            "type": "scattergl"
           }
          ],
          "scattermapbox": [
           {
            "marker": {
             "colorbar": {
              "outlinewidth": 0,
              "ticks": ""
             }
            },
            "type": "scattermapbox"
           }
          ],
          "scatterpolar": [
           {
            "marker": {
             "colorbar": {
              "outlinewidth": 0,
              "ticks": ""
             }
            },
            "type": "scatterpolar"
           }
          ],
          "scatterpolargl": [
           {
            "marker": {
             "colorbar": {
              "outlinewidth": 0,
              "ticks": ""
             }
            },
            "type": "scatterpolargl"
           }
          ],
          "scatterternary": [
           {
            "marker": {
             "colorbar": {
              "outlinewidth": 0,
              "ticks": ""
             }
            },
            "type": "scatterternary"
           }
          ],
          "surface": [
           {
            "colorbar": {
             "outlinewidth": 0,
             "ticks": ""
            },
            "colorscale": [
             [
              0,
              "#0d0887"
             ],
             [
              0.1111111111111111,
              "#46039f"
             ],
             [
              0.2222222222222222,
              "#7201a8"
             ],
             [
              0.3333333333333333,
              "#9c179e"
             ],
             [
              0.4444444444444444,
              "#bd3786"
             ],
             [
              0.5555555555555556,
              "#d8576b"
             ],
             [
              0.6666666666666666,
              "#ed7953"
             ],
             [
              0.7777777777777778,
              "#fb9f3a"
             ],
             [
              0.8888888888888888,
              "#fdca26"
             ],
             [
              1,
              "#f0f921"
             ]
            ],
            "type": "surface"
           }
          ],
          "table": [
           {
            "cells": {
             "fill": {
              "color": "#EBF0F8"
             },
             "line": {
              "color": "white"
             }
            },
            "header": {
             "fill": {
              "color": "#C8D4E3"
             },
             "line": {
              "color": "white"
             }
            },
            "type": "table"
           }
          ]
         },
         "layout": {
          "annotationdefaults": {
           "arrowcolor": "#2a3f5f",
           "arrowhead": 0,
           "arrowwidth": 1
          },
          "autotypenumbers": "strict",
          "coloraxis": {
           "colorbar": {
            "outlinewidth": 0,
            "ticks": ""
           }
          },
          "colorscale": {
           "diverging": [
            [
             0,
             "#8e0152"
            ],
            [
             0.1,
             "#c51b7d"
            ],
            [
             0.2,
             "#de77ae"
            ],
            [
             0.3,
             "#f1b6da"
            ],
            [
             0.4,
             "#fde0ef"
            ],
            [
             0.5,
             "#f7f7f7"
            ],
            [
             0.6,
             "#e6f5d0"
            ],
            [
             0.7,
             "#b8e186"
            ],
            [
             0.8,
             "#7fbc41"
            ],
            [
             0.9,
             "#4d9221"
            ],
            [
             1,
             "#276419"
            ]
           ],
           "sequential": [
            [
             0,
             "#0d0887"
            ],
            [
             0.1111111111111111,
             "#46039f"
            ],
            [
             0.2222222222222222,
             "#7201a8"
            ],
            [
             0.3333333333333333,
             "#9c179e"
            ],
            [
             0.4444444444444444,
             "#bd3786"
            ],
            [
             0.5555555555555556,
             "#d8576b"
            ],
            [
             0.6666666666666666,
             "#ed7953"
            ],
            [
             0.7777777777777778,
             "#fb9f3a"
            ],
            [
             0.8888888888888888,
             "#fdca26"
            ],
            [
             1,
             "#f0f921"
            ]
           ],
           "sequentialminus": [
            [
             0,
             "#0d0887"
            ],
            [
             0.1111111111111111,
             "#46039f"
            ],
            [
             0.2222222222222222,
             "#7201a8"
            ],
            [
             0.3333333333333333,
             "#9c179e"
            ],
            [
             0.4444444444444444,
             "#bd3786"
            ],
            [
             0.5555555555555556,
             "#d8576b"
            ],
            [
             0.6666666666666666,
             "#ed7953"
            ],
            [
             0.7777777777777778,
             "#fb9f3a"
            ],
            [
             0.8888888888888888,
             "#fdca26"
            ],
            [
             1,
             "#f0f921"
            ]
           ]
          },
          "colorway": [
           "#636efa",
           "#EF553B",
           "#00cc96",
           "#ab63fa",
           "#FFA15A",
           "#19d3f3",
           "#FF6692",
           "#B6E880",
           "#FF97FF",
           "#FECB52"
          ],
          "font": {
           "color": "#2a3f5f"
          },
          "geo": {
           "bgcolor": "white",
           "lakecolor": "white",
           "landcolor": "#E5ECF6",
           "showlakes": true,
           "showland": true,
           "subunitcolor": "white"
          },
          "hoverlabel": {
           "align": "left"
          },
          "hovermode": "closest",
          "mapbox": {
           "style": "light"
          },
          "paper_bgcolor": "white",
          "plot_bgcolor": "#E5ECF6",
          "polar": {
           "angularaxis": {
            "gridcolor": "white",
            "linecolor": "white",
            "ticks": ""
           },
           "bgcolor": "#E5ECF6",
           "radialaxis": {
            "gridcolor": "white",
            "linecolor": "white",
            "ticks": ""
           }
          },
          "scene": {
           "xaxis": {
            "backgroundcolor": "#E5ECF6",
            "gridcolor": "white",
            "gridwidth": 2,
            "linecolor": "white",
            "showbackground": true,
            "ticks": "",
            "zerolinecolor": "white"
           },
           "yaxis": {
            "backgroundcolor": "#E5ECF6",
            "gridcolor": "white",
            "gridwidth": 2,
            "linecolor": "white",
            "showbackground": true,
            "ticks": "",
            "zerolinecolor": "white"
           },
           "zaxis": {
            "backgroundcolor": "#E5ECF6",
            "gridcolor": "white",
            "gridwidth": 2,
            "linecolor": "white",
            "showbackground": true,
            "ticks": "",
            "zerolinecolor": "white"
           }
          },
          "shapedefaults": {
           "line": {
            "color": "#2a3f5f"
           }
          },
          "ternary": {
           "aaxis": {
            "gridcolor": "white",
            "linecolor": "white",
            "ticks": ""
           },
           "baxis": {
            "gridcolor": "white",
            "linecolor": "white",
            "ticks": ""
           },
           "bgcolor": "#E5ECF6",
           "caxis": {
            "gridcolor": "white",
            "linecolor": "white",
            "ticks": ""
           }
          },
          "title": {
           "x": 0.05
          },
          "xaxis": {
           "automargin": true,
           "gridcolor": "white",
           "linecolor": "white",
           "ticks": "",
           "title": {
            "standoff": 15
           },
           "zerolinecolor": "white",
           "zerolinewidth": 2
          },
          "yaxis": {
           "automargin": true,
           "gridcolor": "white",
           "linecolor": "white",
           "ticks": "",
           "title": {
            "standoff": 15
           },
           "zerolinecolor": "white",
           "zerolinewidth": 2
          }
         }
        },
        "width": 800
       }
      }
     },
     "metadata": {},
     "output_type": "display_data"
    }
   ],
   "source": [
    "sytle_dist = all_data_info.groupby('style').count()[['artist']]\n",
    "sytle_dist.reset_index(inplace=True)\n",
    "fig1 = px.treemap(sytle_dist, path=['style'], values = 'artist', width=800, height=800)\n",
    "fig1.update_layout(\n",
    "    font=dict(\n",
    "        family=\"Courier New, monospace\",\n",
    "        size=100,\n",
    "        color=\"RebeccaPurple\"\n",
    "    )\n",
    ")\n",
    "fig1.show()"
   ]
  },
  {
   "cell_type": "markdown",
   "metadata": {},
   "source": [
    "#### Year Distribution"
   ]
  },
  {
   "cell_type": "code",
   "execution_count": 4,
   "metadata": {},
   "outputs": [
    {
     "data": {
      "image/png": "[encoded data removed]",
      "image/svg+xml": "<?xml version=\"1.0\" encoding=\"utf-8\" standalone=\"no\"?>\n<!DOCTYPE svg PUBLIC \"-//W3C//DTD SVG 1.1//EN\"\n  \"http://www.w3.org/Graphics/SVG/1.1/DTD/svg11.dtd\">\n<svg xmlns:xlink=\"http://www.w3.org/1999/xlink\" width=\"623.91102pt\" height=\"316.55625pt\" viewBox=\"0 0 623.91102 316.55625\" xmlns=\"http://www.w3.org/2000/svg\" version=\"1.1\">\n <metadata>\n  <rdf:RDF xmlns:dc=\"http://purl.org/dc/elements/1.1/\" xmlns:cc=\"http://creativecommons.org/ns#\" xmlns:rdf=\"http://www.w3.org/1999/02/22-rdf-syntax-ns#\">\n   <cc:Work>\n    <dc:type rdf:resource=\"http://purl.org/dc/dcmitype/StillImage\"/>\n    <dc:date>2022-06-07T15:37:55.170449</dc:date>\n    <dc:format>image/svg+xml</dc:format>\n    <dc:creator>\n     <cc:Agent>\n      <dc:title>Matplotlib v3.5.1, https://matplotlib.org/</dc:title>\n     </cc:Agent>\n    </dc:creator>\n   </cc:Work>\n  </rdf:RDF>\n </metadata>\n <defs>\n  <style type=\"text/css\">*{stroke-linejoin: round; stroke-linecap: butt}</style>\n </defs>\n <g id=\"figure_1\">\n  <g id=\"patch_1\">\n   <path d=\"M 0 316.55625 \nL 623.91102 316.55625 \nL 623.91102 0 \nL 0 0 \nL 0 316.55625 \nz\n\" style=\"fill: none\"/>\n  </g>\n  <g id=\"axes_1\">\n   <g id=\"patch_2\">\n    <path d=\"M 53.328125 279 \nL 611.328125 279 \nL 611.328125 7.2 \nL 53.328125 7.2 \nz\n\" style=\"fill: #ffffff\"/>\n   </g>\n   <g id=\"patch_3\">\n    <path d=\"M -727.137664 279 \nL -722.66877 279 \nL -722.66877 278.948404 \nL -727.137664 278.948404 \nz\n\" clip-path=\"url(#pd827b82a34)\" style=\"fill: #1f77b4; opacity: 0.5\"/>\n   </g>\n   <g id=\"patch_4\">\n    <path d=\"M -722.66877 279 \nL -718.199875 279 \nL -718.199875 279 \nL -722.66877 279 \nz\n\" clip-path=\"url(#pd827b82a34)\" style=\"fill: #1f77b4; opacity: 0.5\"/>\n   </g>\n   <g id=\"patch_5\">\n    <path d=\"M -718.199875 279 \nL -713.73098 279 \nL -713.73098 279 \nL -718.199875 279 \nz\n\" clip-path=\"url(#pd827b82a34)\" style=\"fill: #1f77b4; opacity: 0.5\"/>\n   </g>\n   <g id=\"patch_6\">\n    <path d=\"M -713.73098 279 \nL -709.262086 279 \nL -709.262086 279 \nL -713.73098 279 \nz\n\" clip-path=\"url(#pd827b82a34)\" style=\"fill: #1f77b4; opacity: 0.5\"/>\n   </g>\n   <g id=\"patch_7\">\n    <path d=\"M -709.262086 279 \nL -704.793191 279 \nL -704.793191 279 \nL -709.262086 279 \nz\n\" clip-path=\"url(#pd827b82a34)\" style=\"fill: #1f77b4; opacity: 0.5\"/>\n   </g>\n   <g id=\"patch_8\">\n    <path d=\"M -704.793191 279 \nL -700.324296 279 \nL -700.324296 279 \nL -704.793191 279 \nz\n\" clip-path=\"url(#pd827b82a34)\" style=\"fill: #1f77b4; opacity: 0.5\"/>\n   </g>\n   <g id=\"patch_9\">\n    <path d=\"M -700.324296 279 \nL -695.855401 279 \nL -695.855401 279 \nL -700.324296 279 \nz\n\" clip-path=\"url(#pd827b82a34)\" style=\"fill: #1f77b4; opacity: 0.5\"/>\n   </g>\n   <g id=\"patch_10\">\n    <path d=\"M -695.855401 279 \nL -691.386507 279 \nL -691.386507 279 \nL -695.855401 279 \nz\n\" clip-path=\"url(#pd827b82a34)\" style=\"fill: #1f77b4; opacity: 0.5\"/>\n   </g>\n   <g id=\"patch_11\">\n    <path d=\"M -691.386507 279 \nL -686.917612 279 \nL -686.917612 279 \nL -691.386507 279 \nz\n\" clip-path=\"url(#pd827b82a34)\" style=\"fill: #1f77b4; opacity: 0.5\"/>\n   </g>\n   <g id=\"patch_12\">\n    <path d=\"M -686.917612 279 \nL -682.448717 279 \nL -682.448717 279 \nL -686.917612 279 \nz\n\" clip-path=\"url(#pd827b82a34)\" style=\"fill: #1f77b4; opacity: 0.5\"/>\n   </g>\n   <g id=\"patch_13\">\n    <path d=\"M -682.448717 279 \nL -677.979822 279 \nL -677.979822 279 \nL -682.448717 279 \nz\n\" clip-path=\"url(#pd827b82a34)\" style=\"fill: #1f77b4; opacity: 0.5\"/>\n   </g>\n   <g id=\"patch_14\">\n    <path d=\"M -677.979822 279 \nL -673.510928 279 \nL -673.510928 279 \nL -677.979822 279 \nz\n\" clip-path=\"url(#pd827b82a34)\" style=\"fill: #1f77b4; opacity: 0.5\"/>\n   </g>\n   <g id=\"patch_15\">\n    <path d=\"M -673.510928 279 \nL -669.042033 279 \nL -669.042033 279 \nL -673.510928 279 \nz\n\" clip-path=\"url(#pd827b82a34)\" style=\"fill: #1f77b4; opacity: 0.5\"/>\n   </g>\n   <g id=\"patch_16\">\n    <path d=\"M -669.042033 279 \nL -664.573138 279 \nL -664.573138 279 \nL -669.042033 279 \nz\n\" clip-path=\"url(#pd827b82a34)\" style=\"fill: #1f77b4; opacity: 0.5\"/>\n   </g>\n   <g id=\"patch_17\">\n    <path d=\"M -664.573138 279 \nL -660.104243 279 \nL -660.104243 279 \nL -664.573138 279 \nz\n\" clip-path=\"url(#pd827b82a34)\" style=\"fill: #1f77b4; opacity: 0.5\"/>\n   </g>\n   <g id=\"patch_18\">\n    <path d=\"M -660.104243 279 \nL -655.635349 279 \nL -655.635349 279 \nL -660.104243 279 \nz\n\" clip-path=\"url(#pd827b82a34)\" style=\"fill: #1f77b4; opacity: 0.5\"/>\n   </g>\n   <g id=\"patch_19\">\n    <path d=\"M -655.635349 279 \nL -651.166454 279 \nL -651.166454 279 \nL -655.635349 279 \nz\n\" clip-path=\"url(#pd827b82a34)\" style=\"fill: #1f77b4; opacity: 0.5\"/>\n   </g>\n   <g id=\"patch_20\">\n    <path d=\"M -651.166454 279 \nL -646.697559 279 \nL -646.697559 279 \nL -651.166454 279 \nz\n\" clip-path=\"url(#pd827b82a34)\" style=\"fill: #1f77b4; opacity: 0.5\"/>\n   </g>\n   <g id=\"patch_21\">\n    <path d=\"M -646.697559 279 \nL -642.228664 279 \nL -642.228664 279 \nL -646.697559 279 \nz\n\" clip-path=\"url(#pd827b82a34)\" style=\"fill: #1f77b4; opacity: 0.5\"/>\n   </g>\n   <g id=\"patch_22\">\n    <path d=\"M -642.228664 279 \nL -637.75977 279 \nL -637.75977 279 \nL -642.228664 279 \nz\n\" clip-path=\"url(#pd827b82a34)\" style=\"fill: #1f77b4; opacity: 0.5\"/>\n   </g>\n   <g id=\"patch_23\">\n    <path d=\"M -637.75977 279 \nL -633.290875 279 \nL -633.290875 279 \nL -637.75977 279 \nz\n\" clip-path=\"url(#pd827b82a34)\" style=\"fill: #1f77b4; opacity: 0.5\"/>\n   </g>\n   <g id=\"patch_24\">\n    <path d=\"M -633.290875 279 \nL -628.82198 279 \nL -628.82198 279 \nL -633.290875 279 \nz\n\" clip-path=\"url(#pd827b82a34)\" style=\"fill: #1f77b4; opacity: 0.5\"/>\n   </g>\n   <g id=\"patch_25\">\n    <path d=\"M -628.82198 279 \nL -624.353086 279 \nL -624.353086 279 \nL -628.82198 279 \nz\n\" clip-path=\"url(#pd827b82a34)\" style=\"fill: #1f77b4; opacity: 0.5\"/>\n   </g>\n   <g id=\"patch_26\">\n    <path d=\"M -624.353086 279 \nL -619.884191 279 \nL -619.884191 279 \nL -624.353086 279 \nz\n\" clip-path=\"url(#pd827b82a34)\" style=\"fill: #1f77b4; opacity: 0.5\"/>\n   </g>\n   <g id=\"patch_27\">\n    <path d=\"M -619.884191 279 \nL -615.415296 279 \nL -615.415296 279 \nL -619.884191 279 \nz\n\" clip-path=\"url(#pd827b82a34)\" style=\"fill: #1f77b4; opacity: 0.5\"/>\n   </g>\n   <g id=\"patch_28\">\n    <path d=\"M -615.415296 279 \nL -610.946401 279 \nL -610.946401 279 \nL -615.415296 279 \nz\n\" clip-path=\"url(#pd827b82a34)\" style=\"fill: #1f77b4; opacity: 0.5\"/>\n   </g>\n   <g id=\"patch_29\">\n    <path d=\"M -610.946401 279 \nL -606.477507 279 \nL -606.477507 279 \nL -610.946401 279 \nz\n\" clip-path=\"url(#pd827b82a34)\" style=\"fill: #1f77b4; opacity: 0.5\"/>\n   </g>\n   <g id=\"patch_30\">\n    <path d=\"M -606.477507 279 \nL -602.008612 279 \nL -602.008612 279 \nL -606.477507 279 \nz\n\" clip-path=\"url(#pd827b82a34)\" style=\"fill: #1f77b4; opacity: 0.5\"/>\n   </g>\n   <g id=\"patch_31\">\n    <path d=\"M -602.008612 279 \nL -597.539717 279 \nL -597.539717 279 \nL -602.008612 279 \nz\n\" clip-path=\"url(#pd827b82a34)\" style=\"fill: #1f77b4; opacity: 0.5\"/>\n   </g>\n   <g id=\"patch_32\">\n    <path d=\"M -597.539717 279 \nL -593.070822 279 \nL -593.070822 279 \nL -597.539717 279 \nz\n\" clip-path=\"url(#pd827b82a34)\" style=\"fill: #1f77b4; opacity: 0.5\"/>\n   </g>\n   <g id=\"patch_33\">\n    <path d=\"M -593.070822 279 \nL -588.601928 279 \nL -588.601928 279 \nL -593.070822 279 \nz\n\" clip-path=\"url(#pd827b82a34)\" style=\"fill: #1f77b4; opacity: 0.5\"/>\n   </g>\n   <g id=\"patch_34\">\n    <path d=\"M -588.601928 279 \nL -584.133033 279 \nL -584.133033 279 \nL -588.601928 279 \nz\n\" clip-path=\"url(#pd827b82a34)\" style=\"fill: #1f77b4; opacity: 0.5\"/>\n   </g>\n   <g id=\"patch_35\">\n    <path d=\"M -584.133033 279 \nL -579.664138 279 \nL -579.664138 279 \nL -584.133033 279 \nz\n\" clip-path=\"url(#pd827b82a34)\" style=\"fill: #1f77b4; opacity: 0.5\"/>\n   </g>\n   <g id=\"patch_36\">\n    <path d=\"M -579.664138 279 \nL -575.195243 279 \nL -575.195243 279 \nL -579.664138 279 \nz\n\" clip-path=\"url(#pd827b82a34)\" style=\"fill: #1f77b4; opacity: 0.5\"/>\n   </g>\n   <g id=\"patch_37\">\n    <path d=\"M -575.195243 279 \nL -570.726349 279 \nL -570.726349 279 \nL -575.195243 279 \nz\n\" clip-path=\"url(#pd827b82a34)\" style=\"fill: #1f77b4; opacity: 0.5\"/>\n   </g>\n   <g id=\"patch_38\">\n    <path d=\"M -570.726349 279 \nL -566.257454 279 \nL -566.257454 279 \nL -570.726349 279 \nz\n\" clip-path=\"url(#pd827b82a34)\" style=\"fill: #1f77b4; opacity: 0.5\"/>\n   </g>\n   <g id=\"patch_39\">\n    <path d=\"M -566.257454 279 \nL -561.788559 279 \nL -561.788559 279 \nL -566.257454 279 \nz\n\" clip-path=\"url(#pd827b82a34)\" style=\"fill: #1f77b4; opacity: 0.5\"/>\n   </g>\n   <g id=\"patch_40\">\n    <path d=\"M -561.788559 279 \nL -557.319664 279 \nL -557.319664 279 \nL -561.788559 279 \nz\n\" clip-path=\"url(#pd827b82a34)\" style=\"fill: #1f77b4; opacity: 0.5\"/>\n   </g>\n   <g id=\"patch_41\">\n    <path d=\"M -557.319664 279 \nL -552.85077 279 \nL -552.85077 279 \nL -557.319664 279 \nz\n\" clip-path=\"url(#pd827b82a34)\" style=\"fill: #1f77b4; opacity: 0.5\"/>\n   </g>\n   <g id=\"patch_42\">\n    <path d=\"M -552.85077 279 \nL -548.381875 279 \nL -548.381875 279 \nL -552.85077 279 \nz\n\" clip-path=\"url(#pd827b82a34)\" style=\"fill: #1f77b4; opacity: 0.5\"/>\n   </g>\n   <g id=\"patch_43\">\n    <path d=\"M -548.381875 279 \nL -543.91298 279 \nL -543.91298 279 \nL -548.381875 279 \nz\n\" clip-path=\"url(#pd827b82a34)\" style=\"fill: #1f77b4; opacity: 0.5\"/>\n   </g>\n   <g id=\"patch_44\">\n    <path d=\"M -543.91298 279 \nL -539.444086 279 \nL -539.444086 279 \nL -543.91298 279 \nz\n\" clip-path=\"url(#pd827b82a34)\" style=\"fill: #1f77b4; opacity: 0.5\"/>\n   </g>\n   <g id=\"patch_45\">\n    <path d=\"M -539.444086 279 \nL -534.975191 279 \nL -534.975191 279 \nL -539.444086 279 \nz\n\" clip-path=\"url(#pd827b82a34)\" style=\"fill: #1f77b4; opacity: 0.5\"/>\n   </g>\n   <g id=\"patch_46\">\n    <path d=\"M -534.975191 279 \nL -530.506296 279 \nL -530.506296 279 \nL -534.975191 279 \nz\n\" clip-path=\"url(#pd827b82a34)\" style=\"fill: #1f77b4; opacity: 0.5\"/>\n   </g>\n   <g id=\"patch_47\">\n    <path d=\"M -530.506296 279 \nL -526.037401 279 \nL -526.037401 279 \nL -530.506296 279 \nz\n\" clip-path=\"url(#pd827b82a34)\" style=\"fill: #1f77b4; opacity: 0.5\"/>\n   </g>\n   <g id=\"patch_48\">\n    <path d=\"M -526.037401 279 \nL -521.568507 279 \nL -521.568507 279 \nL -526.037401 279 \nz\n\" clip-path=\"url(#pd827b82a34)\" style=\"fill: #1f77b4; opacity: 0.5\"/>\n   </g>\n   <g id=\"patch_49\">\n    <path d=\"M -521.568507 279 \nL -517.099612 279 \nL -517.099612 279 \nL -521.568507 279 \nz\n\" clip-path=\"url(#pd827b82a34)\" style=\"fill: #1f77b4; opacity: 0.5\"/>\n   </g>\n   <g id=\"patch_50\">\n    <path d=\"M -517.099612 279 \nL -512.630717 279 \nL -512.630717 279 \nL -517.099612 279 \nz\n\" clip-path=\"url(#pd827b82a34)\" style=\"fill: #1f77b4; opacity: 0.5\"/>\n   </g>\n   <g id=\"patch_51\">\n    <path d=\"M -512.630717 279 \nL -508.161822 279 \nL -508.161822 279 \nL -512.630717 279 \nz\n\" clip-path=\"url(#pd827b82a34)\" style=\"fill: #1f77b4; opacity: 0.5\"/>\n   </g>\n   <g id=\"patch_52\">\n    <path d=\"M -508.161822 279 \nL -503.692928 279 \nL -503.692928 279 \nL -508.161822 279 \nz\n\" clip-path=\"url(#pd827b82a34)\" style=\"fill: #1f77b4; opacity: 0.5\"/>\n   </g>\n   <g id=\"patch_53\">\n    <path d=\"M -503.692928 279 \nL -499.224033 279 \nL -499.224033 279 \nL -503.692928 279 \nz\n\" clip-path=\"url(#pd827b82a34)\" style=\"fill: #1f77b4; opacity: 0.5\"/>\n   </g>\n   <g id=\"patch_54\">\n    <path d=\"M -499.224033 279 \nL -494.755138 279 \nL -494.755138 279 \nL -499.224033 279 \nz\n\" clip-path=\"url(#pd827b82a34)\" style=\"fill: #1f77b4; opacity: 0.5\"/>\n   </g>\n   <g id=\"patch_55\">\n    <path d=\"M -494.755138 279 \nL -490.286243 279 \nL -490.286243 279 \nL -494.755138 279 \nz\n\" clip-path=\"url(#pd827b82a34)\" style=\"fill: #1f77b4; opacity: 0.5\"/>\n   </g>\n   <g id=\"patch_56\">\n    <path d=\"M -490.286243 279 \nL -485.817349 279 \nL -485.817349 279 \nL -490.286243 279 \nz\n\" clip-path=\"url(#pd827b82a34)\" style=\"fill: #1f77b4; opacity: 0.5\"/>\n   </g>\n   <g id=\"patch_57\">\n    <path d=\"M -485.817349 279 \nL -481.348454 279 \nL -481.348454 279 \nL -485.817349 279 \nz\n\" clip-path=\"url(#pd827b82a34)\" style=\"fill: #1f77b4; opacity: 0.5\"/>\n   </g>\n   <g id=\"patch_58\">\n    <path d=\"M -481.348454 279 \nL -476.879559 279 \nL -476.879559 279 \nL -481.348454 279 \nz\n\" clip-path=\"url(#pd827b82a34)\" style=\"fill: #1f77b4; opacity: 0.5\"/>\n   </g>\n   <g id=\"patch_59\">\n    <path d=\"M -476.879559 279 \nL -472.410664 279 \nL -472.410664 279 \nL -476.879559 279 \nz\n\" clip-path=\"url(#pd827b82a34)\" style=\"fill: #1f77b4; opacity: 0.5\"/>\n   </g>\n   <g id=\"patch_60\">\n    <path d=\"M -472.410664 279 \nL -467.94177 279 \nL -467.94177 279 \nL -472.410664 279 \nz\n\" clip-path=\"url(#pd827b82a34)\" style=\"fill: #1f77b4; opacity: 0.5\"/>\n   </g>\n   <g id=\"patch_61\">\n    <path d=\"M -467.94177 279 \nL -463.472875 279 \nL -463.472875 279 \nL -467.94177 279 \nz\n\" clip-path=\"url(#pd827b82a34)\" style=\"fill: #1f77b4; opacity: 0.5\"/>\n   </g>\n   <g id=\"patch_62\">\n    <path d=\"M -463.472875 279 \nL -459.00398 279 \nL -459.00398 279 \nL -463.472875 279 \nz\n\" clip-path=\"url(#pd827b82a34)\" style=\"fill: #1f77b4; opacity: 0.5\"/>\n   </g>\n   <g id=\"patch_63\">\n    <path d=\"M -459.00398 279 \nL -454.535086 279 \nL -454.535086 279 \nL -459.00398 279 \nz\n\" clip-path=\"url(#pd827b82a34)\" style=\"fill: #1f77b4; opacity: 0.5\"/>\n   </g>\n   <g id=\"patch_64\">\n    <path d=\"M -454.535086 279 \nL -450.066191 279 \nL -450.066191 279 \nL -454.535086 279 \nz\n\" clip-path=\"url(#pd827b82a34)\" style=\"fill: #1f77b4; opacity: 0.5\"/>\n   </g>\n   <g id=\"patch_65\">\n    <path d=\"M -450.066191 279 \nL -445.597296 279 \nL -445.597296 279 \nL -450.066191 279 \nz\n\" clip-path=\"url(#pd827b82a34)\" style=\"fill: #1f77b4; opacity: 0.5\"/>\n   </g>\n   <g id=\"patch_66\">\n    <path d=\"M -445.597296 279 \nL -441.128401 279 \nL -441.128401 279 \nL -445.597296 279 \nz\n\" clip-path=\"url(#pd827b82a34)\" style=\"fill: #1f77b4; opacity: 0.5\"/>\n   </g>\n   <g id=\"patch_67\">\n    <path d=\"M -441.128401 279 \nL -436.659507 279 \nL -436.659507 279 \nL -441.128401 279 \nz\n\" clip-path=\"url(#pd827b82a34)\" style=\"fill: #1f77b4; opacity: 0.5\"/>\n   </g>\n   <g id=\"patch_68\">\n    <path d=\"M -436.659507 279 \nL -432.190612 279 \nL -432.190612 279 \nL -436.659507 279 \nz\n\" clip-path=\"url(#pd827b82a34)\" style=\"fill: #1f77b4; opacity: 0.5\"/>\n   </g>\n   <g id=\"patch_69\">\n    <path d=\"M -432.190612 279 \nL -427.721717 279 \nL -427.721717 279 \nL -432.190612 279 \nz\n\" clip-path=\"url(#pd827b82a34)\" style=\"fill: #1f77b4; opacity: 0.5\"/>\n   </g>\n   <g id=\"patch_70\">\n    <path d=\"M -427.721717 279 \nL -423.252822 279 \nL -423.252822 279 \nL -427.721717 279 \nz\n\" clip-path=\"url(#pd827b82a34)\" style=\"fill: #1f77b4; opacity: 0.5\"/>\n   </g>\n   <g id=\"patch_71\">\n    <path d=\"M -423.252822 279 \nL -418.783928 279 \nL -418.783928 279 \nL -423.252822 279 \nz\n\" clip-path=\"url(#pd827b82a34)\" style=\"fill: #1f77b4; opacity: 0.5\"/>\n   </g>\n   <g id=\"patch_72\">\n    <path d=\"M -418.783928 279 \nL -414.315033 279 \nL -414.315033 279 \nL -418.783928 279 \nz\n\" clip-path=\"url(#pd827b82a34)\" style=\"fill: #1f77b4; opacity: 0.5\"/>\n   </g>\n   <g id=\"patch_73\">\n    <path d=\"M -414.315033 279 \nL -409.846138 279 \nL -409.846138 279 \nL -414.315033 279 \nz\n\" clip-path=\"url(#pd827b82a34)\" style=\"fill: #1f77b4; opacity: 0.5\"/>\n   </g>\n   <g id=\"patch_74\">\n    <path d=\"M -409.846138 279 \nL -405.377243 279 \nL -405.377243 279 \nL -409.846138 279 \nz\n\" clip-path=\"url(#pd827b82a34)\" style=\"fill: #1f77b4; opacity: 0.5\"/>\n   </g>\n   <g id=\"patch_75\">\n    <path d=\"M -405.377243 279 \nL -400.908349 279 \nL -400.908349 279 \nL -405.377243 279 \nz\n\" clip-path=\"url(#pd827b82a34)\" style=\"fill: #1f77b4; opacity: 0.5\"/>\n   </g>\n   <g id=\"patch_76\">\n    <path d=\"M -400.908349 279 \nL -396.439454 279 \nL -396.439454 279 \nL -400.908349 279 \nz\n\" clip-path=\"url(#pd827b82a34)\" style=\"fill: #1f77b4; opacity: 0.5\"/>\n   </g>\n   <g id=\"patch_77\">\n    <path d=\"M -396.439454 279 \nL -391.970559 279 \nL -391.970559 279 \nL -396.439454 279 \nz\n\" clip-path=\"url(#pd827b82a34)\" style=\"fill: #1f77b4; opacity: 0.5\"/>\n   </g>\n   <g id=\"patch_78\">\n    <path d=\"M -391.970559 279 \nL -387.501664 279 \nL -387.501664 279 \nL -391.970559 279 \nz\n\" clip-path=\"url(#pd827b82a34)\" style=\"fill: #1f77b4; opacity: 0.5\"/>\n   </g>\n   <g id=\"patch_79\">\n    <path d=\"M -387.501664 279 \nL -383.03277 279 \nL -383.03277 279 \nL -387.501664 279 \nz\n\" clip-path=\"url(#pd827b82a34)\" style=\"fill: #1f77b4; opacity: 0.5\"/>\n   </g>\n   <g id=\"patch_80\">\n    <path d=\"M -383.03277 279 \nL -378.563875 279 \nL -378.563875 279 \nL -383.03277 279 \nz\n\" clip-path=\"url(#pd827b82a34)\" style=\"fill: #1f77b4; opacity: 0.5\"/>\n   </g>\n   <g id=\"patch_81\">\n    <path d=\"M -378.563875 279 \nL -374.09498 279 \nL -374.09498 279 \nL -378.563875 279 \nz\n\" clip-path=\"url(#pd827b82a34)\" style=\"fill: #1f77b4; opacity: 0.5\"/>\n   </g>\n   <g id=\"patch_82\">\n    <path d=\"M -374.09498 279 \nL -369.626086 279 \nL -369.626086 279 \nL -374.09498 279 \nz\n\" clip-path=\"url(#pd827b82a34)\" style=\"fill: #1f77b4; opacity: 0.5\"/>\n   </g>\n   <g id=\"patch_83\">\n    <path d=\"M -369.626086 279 \nL -365.157191 279 \nL -365.157191 279 \nL -369.626086 279 \nz\n\" clip-path=\"url(#pd827b82a34)\" style=\"fill: #1f77b4; opacity: 0.5\"/>\n   </g>\n   <g id=\"patch_84\">\n    <path d=\"M -365.157191 279 \nL -360.688296 279 \nL -360.688296 279 \nL -365.157191 279 \nz\n\" clip-path=\"url(#pd827b82a34)\" style=\"fill: #1f77b4; opacity: 0.5\"/>\n   </g>\n   <g id=\"patch_85\">\n    <path d=\"M -360.688296 279 \nL -356.219401 279 \nL -356.219401 279 \nL -360.688296 279 \nz\n\" clip-path=\"url(#pd827b82a34)\" style=\"fill: #1f77b4; opacity: 0.5\"/>\n   </g>\n   <g id=\"patch_86\">\n    <path d=\"M -356.219401 279 \nL -351.750507 279 \nL -351.750507 279 \nL -356.219401 279 \nz\n\" clip-path=\"url(#pd827b82a34)\" style=\"fill: #1f77b4; opacity: 0.5\"/>\n   </g>\n   <g id=\"patch_87\">\n    <path d=\"M -351.750507 279 \nL -347.281612 279 \nL -347.281612 279 \nL -351.750507 279 \nz\n\" clip-path=\"url(#pd827b82a34)\" style=\"fill: #1f77b4; opacity: 0.5\"/>\n   </g>\n   <g id=\"patch_88\">\n    <path d=\"M -347.281612 279 \nL -342.812717 279 \nL -342.812717 279 \nL -347.281612 279 \nz\n\" clip-path=\"url(#pd827b82a34)\" style=\"fill: #1f77b4; opacity: 0.5\"/>\n   </g>\n   <g id=\"patch_89\">\n    <path d=\"M -342.812717 279 \nL -338.343822 279 \nL -338.343822 279 \nL -342.812717 279 \nz\n\" clip-path=\"url(#pd827b82a34)\" style=\"fill: #1f77b4; opacity: 0.5\"/>\n   </g>\n   <g id=\"patch_90\">\n    <path d=\"M -338.343822 279 \nL -333.874928 279 \nL -333.874928 279 \nL -338.343822 279 \nz\n\" clip-path=\"url(#pd827b82a34)\" style=\"fill: #1f77b4; opacity: 0.5\"/>\n   </g>\n   <g id=\"patch_91\">\n    <path d=\"M -333.874928 279 \nL -329.406033 279 \nL -329.406033 279 \nL -333.874928 279 \nz\n\" clip-path=\"url(#pd827b82a34)\" style=\"fill: #1f77b4; opacity: 0.5\"/>\n   </g>\n   <g id=\"patch_92\">\n    <path d=\"M -329.406033 279 \nL -324.937138 279 \nL -324.937138 279 \nL -329.406033 279 \nz\n\" clip-path=\"url(#pd827b82a34)\" style=\"fill: #1f77b4; opacity: 0.5\"/>\n   </g>\n   <g id=\"patch_93\">\n    <path d=\"M -324.937138 279 \nL -320.468243 279 \nL -320.468243 279 \nL -324.937138 279 \nz\n\" clip-path=\"url(#pd827b82a34)\" style=\"fill: #1f77b4; opacity: 0.5\"/>\n   </g>\n   <g id=\"patch_94\">\n    <path d=\"M -320.468243 279 \nL -315.999349 279 \nL -315.999349 279 \nL -320.468243 279 \nz\n\" clip-path=\"url(#pd827b82a34)\" style=\"fill: #1f77b4; opacity: 0.5\"/>\n   </g>\n   <g id=\"patch_95\">\n    <path d=\"M -315.999349 279 \nL -311.530454 279 \nL -311.530454 279 \nL -315.999349 279 \nz\n\" clip-path=\"url(#pd827b82a34)\" style=\"fill: #1f77b4; opacity: 0.5\"/>\n   </g>\n   <g id=\"patch_96\">\n    <path d=\"M -311.530454 279 \nL -307.061559 279 \nL -307.061559 279 \nL -311.530454 279 \nz\n\" clip-path=\"url(#pd827b82a34)\" style=\"fill: #1f77b4; opacity: 0.5\"/>\n   </g>\n   <g id=\"patch_97\">\n    <path d=\"M -307.061559 279 \nL -302.592664 279 \nL -302.592664 279 \nL -307.061559 279 \nz\n\" clip-path=\"url(#pd827b82a34)\" style=\"fill: #1f77b4; opacity: 0.5\"/>\n   </g>\n   <g id=\"patch_98\">\n    <path d=\"M -302.592664 279 \nL -298.12377 279 \nL -298.12377 279 \nL -302.592664 279 \nz\n\" clip-path=\"url(#pd827b82a34)\" style=\"fill: #1f77b4; opacity: 0.5\"/>\n   </g>\n   <g id=\"patch_99\">\n    <path d=\"M -298.12377 279 \nL -293.654875 279 \nL -293.654875 279 \nL -298.12377 279 \nz\n\" clip-path=\"url(#pd827b82a34)\" style=\"fill: #1f77b4; opacity: 0.5\"/>\n   </g>\n   <g id=\"patch_100\">\n    <path d=\"M -293.654875 279 \nL -289.18598 279 \nL -289.18598 279 \nL -293.654875 279 \nz\n\" clip-path=\"url(#pd827b82a34)\" style=\"fill: #1f77b4; opacity: 0.5\"/>\n   </g>\n   <g id=\"patch_101\">\n    <path d=\"M -289.18598 279 \nL -284.717086 279 \nL -284.717086 279 \nL -289.18598 279 \nz\n\" clip-path=\"url(#pd827b82a34)\" style=\"fill: #1f77b4; opacity: 0.5\"/>\n   </g>\n   <g id=\"patch_102\">\n    <path d=\"M -284.717086 279 \nL -280.248191 279 \nL -280.248191 279 \nL -284.717086 279 \nz\n\" clip-path=\"url(#pd827b82a34)\" style=\"fill: #1f77b4; opacity: 0.5\"/>\n   </g>\n   <g id=\"patch_103\">\n    <path d=\"M -280.248191 279 \nL -275.779296 279 \nL -275.779296 279 \nL -280.248191 279 \nz\n\" clip-path=\"url(#pd827b82a34)\" style=\"fill: #1f77b4; opacity: 0.5\"/>\n   </g>\n   <g id=\"patch_104\">\n    <path d=\"M -275.779296 279 \nL -271.310401 279 \nL -271.310401 279 \nL -275.779296 279 \nz\n\" clip-path=\"url(#pd827b82a34)\" style=\"fill: #1f77b4; opacity: 0.5\"/>\n   </g>\n   <g id=\"patch_105\">\n    <path d=\"M -271.310401 279 \nL -266.841507 279 \nL -266.841507 279 \nL -271.310401 279 \nz\n\" clip-path=\"url(#pd827b82a34)\" style=\"fill: #1f77b4; opacity: 0.5\"/>\n   </g>\n   <g id=\"patch_106\">\n    <path d=\"M -266.841507 279 \nL -262.372612 279 \nL -262.372612 279 \nL -266.841507 279 \nz\n\" clip-path=\"url(#pd827b82a34)\" style=\"fill: #1f77b4; opacity: 0.5\"/>\n   </g>\n   <g id=\"patch_107\">\n    <path d=\"M -262.372612 279 \nL -257.903717 279 \nL -257.903717 279 \nL -262.372612 279 \nz\n\" clip-path=\"url(#pd827b82a34)\" style=\"fill: #1f77b4; opacity: 0.5\"/>\n   </g>\n   <g id=\"patch_108\">\n    <path d=\"M -257.903717 279 \nL -253.434822 279 \nL -253.434822 279 \nL -257.903717 279 \nz\n\" clip-path=\"url(#pd827b82a34)\" style=\"fill: #1f77b4; opacity: 0.5\"/>\n   </g>\n   <g id=\"patch_109\">\n    <path d=\"M -253.434822 279 \nL -248.965928 279 \nL -248.965928 279 \nL -253.434822 279 \nz\n\" clip-path=\"url(#pd827b82a34)\" style=\"fill: #1f77b4; opacity: 0.5\"/>\n   </g>\n   <g id=\"patch_110\">\n    <path d=\"M -248.965928 279 \nL -244.497033 279 \nL -244.497033 279 \nL -248.965928 279 \nz\n\" clip-path=\"url(#pd827b82a34)\" style=\"fill: #1f77b4; opacity: 0.5\"/>\n   </g>\n   <g id=\"patch_111\">\n    <path d=\"M -244.497033 279 \nL -240.028138 279 \nL -240.028138 279 \nL -244.497033 279 \nz\n\" clip-path=\"url(#pd827b82a34)\" style=\"fill: #1f77b4; opacity: 0.5\"/>\n   </g>\n   <g id=\"patch_112\">\n    <path d=\"M -240.028138 279 \nL -235.559243 279 \nL -235.559243 279 \nL -240.028138 279 \nz\n\" clip-path=\"url(#pd827b82a34)\" style=\"fill: #1f77b4; opacity: 0.5\"/>\n   </g>\n   <g id=\"patch_113\">\n    <path d=\"M -235.559243 279 \nL -231.090349 279 \nL -231.090349 279 \nL -235.559243 279 \nz\n\" clip-path=\"url(#pd827b82a34)\" style=\"fill: #1f77b4; opacity: 0.5\"/>\n   </g>\n   <g id=\"patch_114\">\n    <path d=\"M -231.090349 279 \nL -226.621454 279 \nL -226.621454 279 \nL -231.090349 279 \nz\n\" clip-path=\"url(#pd827b82a34)\" style=\"fill: #1f77b4; opacity: 0.5\"/>\n   </g>\n   <g id=\"patch_115\">\n    <path d=\"M -226.621454 279 \nL -222.152559 279 \nL -222.152559 279 \nL -226.621454 279 \nz\n\" clip-path=\"url(#pd827b82a34)\" style=\"fill: #1f77b4; opacity: 0.5\"/>\n   </g>\n   <g id=\"patch_116\">\n    <path d=\"M -222.152559 279 \nL -217.683664 279 \nL -217.683664 279 \nL -222.152559 279 \nz\n\" clip-path=\"url(#pd827b82a34)\" style=\"fill: #1f77b4; opacity: 0.5\"/>\n   </g>\n   <g id=\"patch_117\">\n    <path d=\"M -217.683664 279 \nL -213.21477 279 \nL -213.21477 279 \nL -217.683664 279 \nz\n\" clip-path=\"url(#pd827b82a34)\" style=\"fill: #1f77b4; opacity: 0.5\"/>\n   </g>\n   <g id=\"patch_118\">\n    <path d=\"M -213.21477 279 \nL -208.745875 279 \nL -208.745875 279 \nL -213.21477 279 \nz\n\" clip-path=\"url(#pd827b82a34)\" style=\"fill: #1f77b4; opacity: 0.5\"/>\n   </g>\n   <g id=\"patch_119\">\n    <path d=\"M -208.745875 279 \nL -204.27698 279 \nL -204.27698 279 \nL -208.745875 279 \nz\n\" clip-path=\"url(#pd827b82a34)\" style=\"fill: #1f77b4; opacity: 0.5\"/>\n   </g>\n   <g id=\"patch_120\">\n    <path d=\"M -204.27698 279 \nL -199.808086 279 \nL -199.808086 278.948404 \nL -204.27698 278.948404 \nz\n\" clip-path=\"url(#pd827b82a34)\" style=\"fill: #1f77b4; opacity: 0.5\"/>\n   </g>\n   <g id=\"patch_121\">\n    <path d=\"M -199.808086 279 \nL -195.339191 279 \nL -195.339191 279 \nL -199.808086 279 \nz\n\" clip-path=\"url(#pd827b82a34)\" style=\"fill: #1f77b4; opacity: 0.5\"/>\n   </g>\n   <g id=\"patch_122\">\n    <path d=\"M -195.339191 279 \nL -190.870296 279 \nL -190.870296 279 \nL -195.339191 279 \nz\n\" clip-path=\"url(#pd827b82a34)\" style=\"fill: #1f77b4; opacity: 0.5\"/>\n   </g>\n   <g id=\"patch_123\">\n    <path d=\"M -190.870296 279 \nL -186.401401 279 \nL -186.401401 279 \nL -190.870296 279 \nz\n\" clip-path=\"url(#pd827b82a34)\" style=\"fill: #1f77b4; opacity: 0.5\"/>\n   </g>\n   <g id=\"patch_124\">\n    <path d=\"M -186.401401 279 \nL -181.932507 279 \nL -181.932507 279 \nL -186.401401 279 \nz\n\" clip-path=\"url(#pd827b82a34)\" style=\"fill: #1f77b4; opacity: 0.5\"/>\n   </g>\n   <g id=\"patch_125\">\n    <path d=\"M -181.932507 279 \nL -177.463612 279 \nL -177.463612 278.948404 \nL -181.932507 278.948404 \nz\n\" clip-path=\"url(#pd827b82a34)\" style=\"fill: #1f77b4; opacity: 0.5\"/>\n   </g>\n   <g id=\"patch_126\">\n    <path d=\"M -177.463612 279 \nL -172.994717 279 \nL -172.994717 279 \nL -177.463612 279 \nz\n\" clip-path=\"url(#pd827b82a34)\" style=\"fill: #1f77b4; opacity: 0.5\"/>\n   </g>\n   <g id=\"patch_127\">\n    <path d=\"M -172.994717 279 \nL -168.525822 279 \nL -168.525822 279 \nL -172.994717 279 \nz\n\" clip-path=\"url(#pd827b82a34)\" style=\"fill: #1f77b4; opacity: 0.5\"/>\n   </g>\n   <g id=\"patch_128\">\n    <path d=\"M -168.525822 279 \nL -164.056928 279 \nL -164.056928 279 \nL -168.525822 279 \nz\n\" clip-path=\"url(#pd827b82a34)\" style=\"fill: #1f77b4; opacity: 0.5\"/>\n   </g>\n   <g id=\"patch_129\">\n    <path d=\"M -164.056928 279 \nL -159.588033 279 \nL -159.588033 279 \nL -164.056928 279 \nz\n\" clip-path=\"url(#pd827b82a34)\" style=\"fill: #1f77b4; opacity: 0.5\"/>\n   </g>\n   <g id=\"patch_130\">\n    <path d=\"M -159.588033 279 \nL -155.119138 279 \nL -155.119138 279 \nL -159.588033 279 \nz\n\" clip-path=\"url(#pd827b82a34)\" style=\"fill: #1f77b4; opacity: 0.5\"/>\n   </g>\n   <g id=\"patch_131\">\n    <path d=\"M -155.119138 279 \nL -150.650243 279 \nL -150.650243 279 \nL -155.119138 279 \nz\n\" clip-path=\"url(#pd827b82a34)\" style=\"fill: #1f77b4; opacity: 0.5\"/>\n   </g>\n   <g id=\"patch_132\">\n    <path d=\"M -150.650243 279 \nL -146.181349 279 \nL -146.181349 279 \nL -150.650243 279 \nz\n\" clip-path=\"url(#pd827b82a34)\" style=\"fill: #1f77b4; opacity: 0.5\"/>\n   </g>\n   <g id=\"patch_133\">\n    <path d=\"M -146.181349 279 \nL -141.712454 279 \nL -141.712454 279 \nL -146.181349 279 \nz\n\" clip-path=\"url(#pd827b82a34)\" style=\"fill: #1f77b4; opacity: 0.5\"/>\n   </g>\n   <g id=\"patch_134\">\n    <path d=\"M -141.712454 279 \nL -137.243559 279 \nL -137.243559 279 \nL -141.712454 279 \nz\n\" clip-path=\"url(#pd827b82a34)\" style=\"fill: #1f77b4; opacity: 0.5\"/>\n   </g>\n   <g id=\"patch_135\">\n    <path d=\"M -137.243559 279 \nL -132.774664 279 \nL -132.774664 279 \nL -137.243559 279 \nz\n\" clip-path=\"url(#pd827b82a34)\" style=\"fill: #1f77b4; opacity: 0.5\"/>\n   </g>\n   <g id=\"patch_136\">\n    <path d=\"M -132.774664 279 \nL -128.30577 279 \nL -128.30577 279 \nL -132.774664 279 \nz\n\" clip-path=\"url(#pd827b82a34)\" style=\"fill: #1f77b4; opacity: 0.5\"/>\n   </g>\n   <g id=\"patch_137\">\n    <path d=\"M -128.30577 279 \nL -123.836875 279 \nL -123.836875 279 \nL -128.30577 279 \nz\n\" clip-path=\"url(#pd827b82a34)\" style=\"fill: #1f77b4; opacity: 0.5\"/>\n   </g>\n   <g id=\"patch_138\">\n    <path d=\"M -123.836875 279 \nL -119.36798 279 \nL -119.36798 279 \nL -123.836875 279 \nz\n\" clip-path=\"url(#pd827b82a34)\" style=\"fill: #1f77b4; opacity: 0.5\"/>\n   </g>\n   <g id=\"patch_139\">\n    <path d=\"M -119.36798 279 \nL -114.899086 279 \nL -114.899086 279 \nL -119.36798 279 \nz\n\" clip-path=\"url(#pd827b82a34)\" style=\"fill: #1f77b4; opacity: 0.5\"/>\n   </g>\n   <g id=\"patch_140\">\n    <path d=\"M -114.899086 279 \nL -110.430191 279 \nL -110.430191 279 \nL -114.899086 279 \nz\n\" clip-path=\"url(#pd827b82a34)\" style=\"fill: #1f77b4; opacity: 0.5\"/>\n   </g>\n   <g id=\"patch_141\">\n    <path d=\"M -110.430191 279 \nL -105.961296 279 \nL -105.961296 279 \nL -110.430191 279 \nz\n\" clip-path=\"url(#pd827b82a34)\" style=\"fill: #1f77b4; opacity: 0.5\"/>\n   </g>\n   <g id=\"patch_142\">\n    <path d=\"M -105.961296 279 \nL -101.492401 279 \nL -101.492401 279 \nL -105.961296 279 \nz\n\" clip-path=\"url(#pd827b82a34)\" style=\"fill: #1f77b4; opacity: 0.5\"/>\n   </g>\n   <g id=\"patch_143\">\n    <path d=\"M -101.492401 279 \nL -97.023507 279 \nL -97.023507 279 \nL -101.492401 279 \nz\n\" clip-path=\"url(#pd827b82a34)\" style=\"fill: #1f77b4; opacity: 0.5\"/>\n   </g>\n   <g id=\"patch_144\">\n    <path d=\"M -97.023507 279 \nL -92.554612 279 \nL -92.554612 279 \nL -97.023507 279 \nz\n\" clip-path=\"url(#pd827b82a34)\" style=\"fill: #1f77b4; opacity: 0.5\"/>\n   </g>\n   <g id=\"patch_145\">\n    <path d=\"M -92.554612 279 \nL -88.085717 279 \nL -88.085717 279 \nL -92.554612 279 \nz\n\" clip-path=\"url(#pd827b82a34)\" style=\"fill: #1f77b4; opacity: 0.5\"/>\n   </g>\n   <g id=\"patch_146\">\n    <path d=\"M -88.085717 279 \nL -83.616822 279 \nL -83.616822 278.948404 \nL -88.085717 278.948404 \nz\n\" clip-path=\"url(#pd827b82a34)\" style=\"fill: #1f77b4; opacity: 0.5\"/>\n   </g>\n   <g id=\"patch_147\">\n    <path d=\"M -83.616822 279 \nL -79.147928 279 \nL -79.147928 279 \nL -83.616822 279 \nz\n\" clip-path=\"url(#pd827b82a34)\" style=\"fill: #1f77b4; opacity: 0.5\"/>\n   </g>\n   <g id=\"patch_148\">\n    <path d=\"M -79.147928 279 \nL -74.679033 279 \nL -74.679033 278.845212 \nL -79.147928 278.845212 \nz\n\" clip-path=\"url(#pd827b82a34)\" style=\"fill: #1f77b4; opacity: 0.5\"/>\n   </g>\n   <g id=\"patch_149\">\n    <path d=\"M -74.679033 279 \nL -70.210138 279 \nL -70.210138 278.948404 \nL -74.679033 278.948404 \nz\n\" clip-path=\"url(#pd827b82a34)\" style=\"fill: #1f77b4; opacity: 0.5\"/>\n   </g>\n   <g id=\"patch_150\">\n    <path d=\"M -70.210138 279 \nL -65.741243 279 \nL -65.741243 279 \nL -70.210138 279 \nz\n\" clip-path=\"url(#pd827b82a34)\" style=\"fill: #1f77b4; opacity: 0.5\"/>\n   </g>\n   <g id=\"patch_151\">\n    <path d=\"M -65.741243 279 \nL -61.272349 279 \nL -61.272349 279 \nL -65.741243 279 \nz\n\" clip-path=\"url(#pd827b82a34)\" style=\"fill: #1f77b4; opacity: 0.5\"/>\n   </g>\n   <g id=\"patch_152\">\n    <path d=\"M -61.272349 279 \nL -56.803454 279 \nL -56.803454 279 \nL -61.272349 279 \nz\n\" clip-path=\"url(#pd827b82a34)\" style=\"fill: #1f77b4; opacity: 0.5\"/>\n   </g>\n   <g id=\"patch_153\">\n    <path d=\"M -56.803454 279 \nL -52.334559 279 \nL -52.334559 278.845212 \nL -56.803454 278.845212 \nz\n\" clip-path=\"url(#pd827b82a34)\" style=\"fill: #1f77b4; opacity: 0.5\"/>\n   </g>\n   <g id=\"patch_154\">\n    <path d=\"M -52.334559 279 \nL -47.865664 279 \nL -47.865664 278.896808 \nL -52.334559 278.896808 \nz\n\" clip-path=\"url(#pd827b82a34)\" style=\"fill: #1f77b4; opacity: 0.5\"/>\n   </g>\n   <g id=\"patch_155\">\n    <path d=\"M -47.865664 279 \nL -43.39677 279 \nL -43.39677 279 \nL -47.865664 279 \nz\n\" clip-path=\"url(#pd827b82a34)\" style=\"fill: #1f77b4; opacity: 0.5\"/>\n   </g>\n   <g id=\"patch_156\">\n    <path d=\"M -43.39677 279 \nL -38.927875 279 \nL -38.927875 278.948404 \nL -43.39677 278.948404 \nz\n\" clip-path=\"url(#pd827b82a34)\" style=\"fill: #1f77b4; opacity: 0.5\"/>\n   </g>\n   <g id=\"patch_157\">\n    <path d=\"M -38.927875 279 \nL -34.45898 279 \nL -34.45898 279 \nL -38.927875 279 \nz\n\" clip-path=\"url(#pd827b82a34)\" style=\"fill: #1f77b4; opacity: 0.5\"/>\n   </g>\n   <g id=\"patch_158\">\n    <path d=\"M -34.45898 279 \nL -29.990086 279 \nL -29.990086 279 \nL -34.45898 279 \nz\n\" clip-path=\"url(#pd827b82a34)\" style=\"fill: #1f77b4; opacity: 0.5\"/>\n   </g>\n   <g id=\"patch_159\">\n    <path d=\"M -29.990086 279 \nL -25.521191 279 \nL -25.521191 279 \nL -29.990086 279 \nz\n\" clip-path=\"url(#pd827b82a34)\" style=\"fill: #1f77b4; opacity: 0.5\"/>\n   </g>\n   <g id=\"patch_160\">\n    <path d=\"M -25.521191 279 \nL -21.052296 279 \nL -21.052296 279 \nL -25.521191 279 \nz\n\" clip-path=\"url(#pd827b82a34)\" style=\"fill: #1f77b4; opacity: 0.5\"/>\n   </g>\n   <g id=\"patch_161\">\n    <path d=\"M -21.052296 279 \nL -16.583401 279 \nL -16.583401 279 \nL -21.052296 279 \nz\n\" clip-path=\"url(#pd827b82a34)\" style=\"fill: #1f77b4; opacity: 0.5\"/>\n   </g>\n   <g id=\"patch_162\">\n    <path d=\"M -16.583401 279 \nL -12.114507 279 \nL -12.114507 279 \nL -16.583401 279 \nz\n\" clip-path=\"url(#pd827b82a34)\" style=\"fill: #1f77b4; opacity: 0.5\"/>\n   </g>\n   <g id=\"patch_163\">\n    <path d=\"M -12.114507 279 \nL -7.645612 279 \nL -7.645612 278.793616 \nL -12.114507 278.793616 \nz\n\" clip-path=\"url(#pd827b82a34)\" style=\"fill: #1f77b4; opacity: 0.5\"/>\n   </g>\n   <g id=\"patch_164\">\n    <path d=\"M -7.645612 279 \nL -3.176717 279 \nL -3.176717 279 \nL -7.645612 279 \nz\n\" clip-path=\"url(#pd827b82a34)\" style=\"fill: #1f77b4; opacity: 0.5\"/>\n   </g>\n   <g id=\"patch_165\">\n    <path d=\"M -3.176717 279 \nL 1.292178 279 \nL 1.292178 278.948404 \nL -3.176717 278.948404 \nz\n\" clip-path=\"url(#pd827b82a34)\" style=\"fill: #1f77b4; opacity: 0.5\"/>\n   </g>\n   <g id=\"patch_166\">\n    <path d=\"M 1.292178 279 \nL 5.761072 279 \nL 5.761072 277.090948 \nL 1.292178 277.090948 \nz\n\" clip-path=\"url(#pd827b82a34)\" style=\"fill: #1f77b4; opacity: 0.5\"/>\n   </g>\n   <g id=\"patch_167\">\n    <path d=\"M 5.761072 279 \nL 10.229967 279 \nL 10.229967 279 \nL 5.761072 279 \nz\n\" clip-path=\"url(#pd827b82a34)\" style=\"fill: #1f77b4; opacity: 0.5\"/>\n   </g>\n   <g id=\"patch_168\">\n    <path d=\"M 10.229967 279 \nL 14.698862 279 \nL 14.698862 278.948404 \nL 10.229967 278.948404 \nz\n\" clip-path=\"url(#pd827b82a34)\" style=\"fill: #1f77b4; opacity: 0.5\"/>\n   </g>\n   <g id=\"patch_169\">\n    <path d=\"M 14.698862 279 \nL 19.167757 279 \nL 19.167757 278.948404 \nL 14.698862 278.948404 \nz\n\" clip-path=\"url(#pd827b82a34)\" style=\"fill: #1f77b4; opacity: 0.5\"/>\n   </g>\n   <g id=\"patch_170\">\n    <path d=\"M 19.167757 279 \nL 23.636651 279 \nL 23.636651 278.948404 \nL 19.167757 278.948404 \nz\n\" clip-path=\"url(#pd827b82a34)\" style=\"fill: #1f77b4; opacity: 0.5\"/>\n   </g>\n   <g id=\"patch_171\">\n    <path d=\"M 23.636651 279 \nL 28.105546 279 \nL 28.105546 279 \nL 23.636651 279 \nz\n\" clip-path=\"url(#pd827b82a34)\" style=\"fill: #1f77b4; opacity: 0.5\"/>\n   </g>\n   <g id=\"patch_172\">\n    <path d=\"M 28.105546 279 \nL 32.574441 279 \nL 32.574441 279 \nL 28.105546 279 \nz\n\" clip-path=\"url(#pd827b82a34)\" style=\"fill: #1f77b4; opacity: 0.5\"/>\n   </g>\n   <g id=\"patch_173\">\n    <path d=\"M 32.574441 279 \nL 37.043336 279 \nL 37.043336 279 \nL 32.574441 279 \nz\n\" clip-path=\"url(#pd827b82a34)\" style=\"fill: #1f77b4; opacity: 0.5\"/>\n   </g>\n   <g id=\"patch_174\">\n    <path d=\"M 37.043336 279 \nL 41.51223 279 \nL 41.51223 279 \nL 37.043336 279 \nz\n\" clip-path=\"url(#pd827b82a34)\" style=\"fill: #1f77b4; opacity: 0.5\"/>\n   </g>\n   <g id=\"patch_175\">\n    <path d=\"M 41.51223 279 \nL 45.981125 279 \nL 45.981125 279 \nL 41.51223 279 \nz\n\" clip-path=\"url(#pd827b82a34)\" style=\"fill: #1f77b4; opacity: 0.5\"/>\n   </g>\n   <g id=\"patch_176\">\n    <path d=\"M 45.981125 279 \nL 50.45002 279 \nL 50.45002 279 \nL 45.981125 279 \nz\n\" clip-path=\"url(#pd827b82a34)\" style=\"fill: #1f77b4; opacity: 0.5\"/>\n   </g>\n   <g id=\"patch_177\">\n    <path d=\"M 50.45002 279 \nL 54.918914 279 \nL 54.918914 279 \nL 50.45002 279 \nz\n\" clip-path=\"url(#pd827b82a34)\" style=\"fill: #1f77b4; opacity: 0.5\"/>\n   </g>\n   <g id=\"patch_178\">\n    <path d=\"M 54.918914 279 \nL 59.387809 279 \nL 59.387809 279 \nL 54.918914 279 \nz\n\" clip-path=\"url(#pd827b82a34)\" style=\"fill: #1f77b4; opacity: 0.5\"/>\n   </g>\n   <g id=\"patch_179\">\n    <path d=\"M 59.387809 279 \nL 63.856704 279 \nL 63.856704 279 \nL 59.387809 279 \nz\n\" clip-path=\"url(#pd827b82a34)\" style=\"fill: #1f77b4; opacity: 0.5\"/>\n   </g>\n   <g id=\"patch_180\">\n    <path d=\"M 63.856704 279 \nL 68.325599 279 \nL 68.325599 278.948404 \nL 63.856704 278.948404 \nz\n\" clip-path=\"url(#pd827b82a34)\" style=\"fill: #1f77b4; opacity: 0.5\"/>\n   </g>\n   <g id=\"patch_181\">\n    <path d=\"M 68.325599 279 \nL 72.794493 279 \nL 72.794493 278.948404 \nL 68.325599 278.948404 \nz\n\" clip-path=\"url(#pd827b82a34)\" style=\"fill: #1f77b4; opacity: 0.5\"/>\n   </g>\n   <g id=\"patch_182\">\n    <path d=\"M 72.794493 279 \nL 77.263388 279 \nL 77.263388 278.638828 \nL 72.794493 278.638828 \nz\n\" clip-path=\"url(#pd827b82a34)\" style=\"fill: #1f77b4; opacity: 0.5\"/>\n   </g>\n   <g id=\"patch_183\">\n    <path d=\"M 77.263388 279 \nL 81.732283 279 \nL 81.732283 278.48404 \nL 77.263388 278.48404 \nz\n\" clip-path=\"url(#pd827b82a34)\" style=\"fill: #1f77b4; opacity: 0.5\"/>\n   </g>\n   <g id=\"patch_184\">\n    <path d=\"M 81.732283 279 \nL 86.201178 279 \nL 86.201178 279 \nL 81.732283 279 \nz\n\" clip-path=\"url(#pd827b82a34)\" style=\"fill: #1f77b4; opacity: 0.5\"/>\n   </g>\n   <g id=\"patch_185\">\n    <path d=\"M 86.201178 279 \nL 90.670072 279 \nL 90.670072 277.039352 \nL 86.201178 277.039352 \nz\n\" clip-path=\"url(#pd827b82a34)\" style=\"fill: #1f77b4; opacity: 0.5\"/>\n   </g>\n   <g id=\"patch_186\">\n    <path d=\"M 90.670072 279 \nL 95.138967 279 \nL 95.138967 276.471796 \nL 90.670072 276.471796 \nz\n\" clip-path=\"url(#pd827b82a34)\" style=\"fill: #1f77b4; opacity: 0.5\"/>\n   </g>\n   <g id=\"patch_187\">\n    <path d=\"M 95.138967 279 \nL 99.607862 279 \nL 99.607862 272.860076 \nL 95.138967 272.860076 \nz\n\" clip-path=\"url(#pd827b82a34)\" style=\"fill: #1f77b4; opacity: 0.5\"/>\n   </g>\n   <g id=\"patch_188\">\n    <path d=\"M 99.607862 279 \nL 104.076757 279 \nL 104.076757 278.690424 \nL 99.607862 278.690424 \nz\n\" clip-path=\"url(#pd827b82a34)\" style=\"fill: #1f77b4; opacity: 0.5\"/>\n   </g>\n   <g id=\"patch_189\">\n    <path d=\"M 104.076757 279 \nL 108.545651 279 \nL 108.545651 277.297332 \nL 104.076757 277.297332 \nz\n\" clip-path=\"url(#pd827b82a34)\" style=\"fill: #1f77b4; opacity: 0.5\"/>\n   </g>\n   <g id=\"patch_190\">\n    <path d=\"M 108.545651 279 \nL 113.014546 279 \nL 113.014546 278.638828 \nL 108.545651 278.638828 \nz\n\" clip-path=\"url(#pd827b82a34)\" style=\"fill: #1f77b4; opacity: 0.5\"/>\n   </g>\n   <g id=\"patch_191\">\n    <path d=\"M 113.014546 279 \nL 117.483441 279 \nL 117.483441 278.690424 \nL 113.014546 278.690424 \nz\n\" clip-path=\"url(#pd827b82a34)\" style=\"fill: #1f77b4; opacity: 0.5\"/>\n   </g>\n   <g id=\"patch_192\">\n    <path d=\"M 117.483441 279 \nL 121.952336 279 \nL 121.952336 278.948404 \nL 117.483441 278.948404 \nz\n\" clip-path=\"url(#pd827b82a34)\" style=\"fill: #1f77b4; opacity: 0.5\"/>\n   </g>\n   <g id=\"patch_193\">\n    <path d=\"M 121.952336 279 \nL 126.42123 279 \nL 126.42123 278.948404 \nL 121.952336 278.948404 \nz\n\" clip-path=\"url(#pd827b82a34)\" style=\"fill: #1f77b4; opacity: 0.5\"/>\n   </g>\n   <g id=\"patch_194\">\n    <path d=\"M 126.42123 279 \nL 130.890125 279 \nL 130.890125 279 \nL 126.42123 279 \nz\n\" clip-path=\"url(#pd827b82a34)\" style=\"fill: #1f77b4; opacity: 0.5\"/>\n   </g>\n   <g id=\"patch_195\">\n    <path d=\"M 130.890125 279 \nL 135.35902 279 \nL 135.35902 279 \nL 130.890125 279 \nz\n\" clip-path=\"url(#pd827b82a34)\" style=\"fill: #1f77b4; opacity: 0.5\"/>\n   </g>\n   <g id=\"patch_196\">\n    <path d=\"M 135.35902 279 \nL 139.827914 279 \nL 139.827914 279 \nL 135.35902 279 \nz\n\" clip-path=\"url(#pd827b82a34)\" style=\"fill: #1f77b4; opacity: 0.5\"/>\n   </g>\n   <g id=\"patch_197\">\n    <path d=\"M 139.827914 279 \nL 144.296809 279 \nL 144.296809 278.896808 \nL 139.827914 278.896808 \nz\n\" clip-path=\"url(#pd827b82a34)\" style=\"fill: #1f77b4; opacity: 0.5\"/>\n   </g>\n   <g id=\"patch_198\">\n    <path d=\"M 144.296809 279 \nL 148.765704 279 \nL 148.765704 279 \nL 144.296809 279 \nz\n\" clip-path=\"url(#pd827b82a34)\" style=\"fill: #1f77b4; opacity: 0.5\"/>\n   </g>\n   <g id=\"patch_199\">\n    <path d=\"M 148.765704 279 \nL 153.234599 279 \nL 153.234599 279 \nL 148.765704 279 \nz\n\" clip-path=\"url(#pd827b82a34)\" style=\"fill: #1f77b4; opacity: 0.5\"/>\n   </g>\n   <g id=\"patch_200\">\n    <path d=\"M 153.234599 279 \nL 157.703493 279 \nL 157.703493 279 \nL 153.234599 279 \nz\n\" clip-path=\"url(#pd827b82a34)\" style=\"fill: #1f77b4; opacity: 0.5\"/>\n   </g>\n   <g id=\"patch_201\">\n    <path d=\"M 157.703493 279 \nL 162.172388 279 \nL 162.172388 279 \nL 157.703493 279 \nz\n\" clip-path=\"url(#pd827b82a34)\" style=\"fill: #1f77b4; opacity: 0.5\"/>\n   </g>\n   <g id=\"patch_202\">\n    <path d=\"M 162.172388 279 \nL 166.641283 279 \nL 166.641283 277.864888 \nL 162.172388 277.864888 \nz\n\" clip-path=\"url(#pd827b82a34)\" style=\"fill: #1f77b4; opacity: 0.5\"/>\n   </g>\n   <g id=\"patch_203\">\n    <path d=\"M 166.641283 279 \nL 171.110178 279 \nL 171.110178 275.852644 \nL 166.641283 275.852644 \nz\n\" clip-path=\"url(#pd827b82a34)\" style=\"fill: #1f77b4; opacity: 0.5\"/>\n   </g>\n   <g id=\"patch_204\">\n    <path d=\"M 171.110178 279 \nL 175.579072 279 \nL 175.579072 278.48404 \nL 171.110178 278.48404 \nz\n\" clip-path=\"url(#pd827b82a34)\" style=\"fill: #1f77b4; opacity: 0.5\"/>\n   </g>\n   <g id=\"patch_205\">\n    <path d=\"M 175.579072 279 \nL 180.047967 279 \nL 180.047967 278.071272 \nL 175.579072 278.071272 \nz\n\" clip-path=\"url(#pd827b82a34)\" style=\"fill: #1f77b4; opacity: 0.5\"/>\n   </g>\n   <g id=\"patch_206\">\n    <path d=\"M 180.047967 279 \nL 184.516862 279 \nL 184.516862 275.955836 \nL 180.047967 275.955836 \nz\n\" clip-path=\"url(#pd827b82a34)\" style=\"fill: #1f77b4; opacity: 0.5\"/>\n   </g>\n   <g id=\"patch_207\">\n    <path d=\"M 184.516862 279 \nL 188.985757 279 \nL 188.985757 273.943592 \nL 184.516862 273.943592 \nz\n\" clip-path=\"url(#pd827b82a34)\" style=\"fill: #1f77b4; opacity: 0.5\"/>\n   </g>\n   <g id=\"patch_208\">\n    <path d=\"M 188.985757 279 \nL 193.454651 279 \nL 193.454651 272.5505 \nL 188.985757 272.5505 \nz\n\" clip-path=\"url(#pd827b82a34)\" style=\"fill: #1f77b4; opacity: 0.5\"/>\n   </g>\n   <g id=\"patch_209\">\n    <path d=\"M 193.454651 279 \nL 197.923546 279 \nL 197.923546 274.09838 \nL 193.454651 274.09838 \nz\n\" clip-path=\"url(#pd827b82a34)\" style=\"fill: #1f77b4; opacity: 0.5\"/>\n   </g>\n   <g id=\"patch_210\">\n    <path d=\"M 197.923546 279 \nL 202.392441 279 \nL 202.392441 270.48666 \nL 197.923546 270.48666 \nz\n\" clip-path=\"url(#pd827b82a34)\" style=\"fill: #1f77b4; opacity: 0.5\"/>\n   </g>\n   <g id=\"patch_211\">\n    <path d=\"M 202.392441 279 \nL 206.861336 279 \nL 206.861336 275.64626 \nL 202.392441 275.64626 \nz\n\" clip-path=\"url(#pd827b82a34)\" style=\"fill: #1f77b4; opacity: 0.5\"/>\n   </g>\n   <g id=\"patch_212\">\n    <path d=\"M 206.861336 279 \nL 211.33023 279 \nL 211.33023 266.152595 \nL 206.861336 266.152595 \nz\n\" clip-path=\"url(#pd827b82a34)\" style=\"fill: #1f77b4; opacity: 0.5\"/>\n   </g>\n   <g id=\"patch_213\">\n    <path d=\"M 211.33023 279 \nL 215.799125 279 \nL 215.799125 272.344116 \nL 211.33023 272.344116 \nz\n\" clip-path=\"url(#pd827b82a34)\" style=\"fill: #1f77b4; opacity: 0.5\"/>\n   </g>\n   <g id=\"patch_214\">\n    <path d=\"M 215.799125 279 \nL 220.26802 279 \nL 220.26802 270.48666 \nL 215.799125 270.48666 \nz\n\" clip-path=\"url(#pd827b82a34)\" style=\"fill: #1f77b4; opacity: 0.5\"/>\n   </g>\n   <g id=\"patch_215\">\n    <path d=\"M 220.26802 279 \nL 224.736914 279 \nL 224.736914 268.732396 \nL 220.26802 268.732396 \nz\n\" clip-path=\"url(#pd827b82a34)\" style=\"fill: #1f77b4; opacity: 0.5\"/>\n   </g>\n   <g id=\"patch_216\">\n    <path d=\"M 224.736914 279 \nL 229.205809 279 \nL 229.205809 271.570176 \nL 224.736914 271.570176 \nz\n\" clip-path=\"url(#pd827b82a34)\" style=\"fill: #1f77b4; opacity: 0.5\"/>\n   </g>\n   <g id=\"patch_217\">\n    <path d=\"M 229.205809 279 \nL 233.674704 279 \nL 233.674704 264.811099 \nL 229.205809 264.811099 \nz\n\" clip-path=\"url(#pd827b82a34)\" style=\"fill: #1f77b4; opacity: 0.5\"/>\n   </g>\n   <g id=\"patch_218\">\n    <path d=\"M 233.674704 279 \nL 238.143599 279 \nL 238.143599 265.378655 \nL 233.674704 265.378655 \nz\n\" clip-path=\"url(#pd827b82a34)\" style=\"fill: #1f77b4; opacity: 0.5\"/>\n   </g>\n   <g id=\"patch_219\">\n    <path d=\"M 238.143599 279 \nL 242.612493 279 \nL 242.612493 260.941399 \nL 238.143599 260.941399 \nz\n\" clip-path=\"url(#pd827b82a34)\" style=\"fill: #1f77b4; opacity: 0.5\"/>\n   </g>\n   <g id=\"patch_220\">\n    <path d=\"M 242.612493 279 \nL 247.081388 279 \nL 247.081388 260.683419 \nL 242.612493 260.683419 \nz\n\" clip-path=\"url(#pd827b82a34)\" style=\"fill: #1f77b4; opacity: 0.5\"/>\n   </g>\n   <g id=\"patch_221\">\n    <path d=\"M 247.081388 279 \nL 251.550283 279 \nL 251.550283 257.897235 \nL 247.081388 257.897235 \nz\n\" clip-path=\"url(#pd827b82a34)\" style=\"fill: #1f77b4; opacity: 0.5\"/>\n   </g>\n   <g id=\"patch_222\">\n    <path d=\"M 251.550283 279 \nL 256.019178 279 \nL 256.019178 260.373843 \nL 251.550283 260.373843 \nz\n\" clip-path=\"url(#pd827b82a34)\" style=\"fill: #1f77b4; opacity: 0.5\"/>\n   </g>\n   <g id=\"patch_223\">\n    <path d=\"M 256.019178 279 \nL 260.488072 279 \nL 260.488072 265.120675 \nL 256.019178 265.120675 \nz\n\" clip-path=\"url(#pd827b82a34)\" style=\"fill: #1f77b4; opacity: 0.5\"/>\n   </g>\n   <g id=\"patch_224\">\n    <path d=\"M 260.488072 279 \nL 264.956967 279 \nL 264.956967 271.621772 \nL 260.488072 271.621772 \nz\n\" clip-path=\"url(#pd827b82a34)\" style=\"fill: #1f77b4; opacity: 0.5\"/>\n   </g>\n   <g id=\"patch_225\">\n    <path d=\"M 264.956967 279 \nL 269.425862 279 \nL 269.425862 272.29252 \nL 264.956967 272.29252 \nz\n\" clip-path=\"url(#pd827b82a34)\" style=\"fill: #1f77b4; opacity: 0.5\"/>\n   </g>\n   <g id=\"patch_226\">\n    <path d=\"M 269.425862 279 \nL 273.894757 279 \nL 273.894757 272.344116 \nL 269.425862 272.344116 \nz\n\" clip-path=\"url(#pd827b82a34)\" style=\"fill: #1f77b4; opacity: 0.5\"/>\n   </g>\n   <g id=\"patch_227\">\n    <path d=\"M 273.894757 279 \nL 278.363651 279 \nL 278.363651 273.479228 \nL 273.894757 273.479228 \nz\n\" clip-path=\"url(#pd827b82a34)\" style=\"fill: #1f77b4; opacity: 0.5\"/>\n   </g>\n   <g id=\"patch_228\">\n    <path d=\"M 278.363651 279 \nL 282.832546 279 \nL 282.832546 271.879752 \nL 278.363651 271.879752 \nz\n\" clip-path=\"url(#pd827b82a34)\" style=\"fill: #1f77b4; opacity: 0.5\"/>\n   </g>\n   <g id=\"patch_229\">\n    <path d=\"M 282.832546 279 \nL 287.301441 279 \nL 287.301441 272.756884 \nL 282.832546 272.756884 \nz\n\" clip-path=\"url(#pd827b82a34)\" style=\"fill: #1f77b4; opacity: 0.5\"/>\n   </g>\n   <g id=\"patch_230\">\n    <path d=\"M 287.301441 279 \nL 291.770336 279 \nL 291.770336 275.543068 \nL 287.301441 275.543068 \nz\n\" clip-path=\"url(#pd827b82a34)\" style=\"fill: #1f77b4; opacity: 0.5\"/>\n   </g>\n   <g id=\"patch_231\">\n    <path d=\"M 291.770336 279 \nL 296.23923 279 \nL 296.23923 272.5505 \nL 291.770336 272.5505 \nz\n\" clip-path=\"url(#pd827b82a34)\" style=\"fill: #1f77b4; opacity: 0.5\"/>\n   </g>\n   <g id=\"patch_232\">\n    <path d=\"M 296.23923 279 \nL 300.708125 279 \nL 300.708125 275.38828 \nL 296.23923 275.38828 \nz\n\" clip-path=\"url(#pd827b82a34)\" style=\"fill: #1f77b4; opacity: 0.5\"/>\n   </g>\n   <g id=\"patch_233\">\n    <path d=\"M 300.708125 279 \nL 305.17702 279 \nL 305.17702 275.336684 \nL 300.708125 275.336684 \nz\n\" clip-path=\"url(#pd827b82a34)\" style=\"fill: #1f77b4; opacity: 0.5\"/>\n   </g>\n   <g id=\"patch_234\">\n    <path d=\"M 305.17702 279 \nL 309.645914 279 \nL 309.645914 273.737208 \nL 305.17702 273.737208 \nz\n\" clip-path=\"url(#pd827b82a34)\" style=\"fill: #1f77b4; opacity: 0.5\"/>\n   </g>\n   <g id=\"patch_235\">\n    <path d=\"M 309.645914 279 \nL 314.114809 279 \nL 314.114809 271.105812 \nL 309.645914 271.105812 \nz\n\" clip-path=\"url(#pd827b82a34)\" style=\"fill: #1f77b4; opacity: 0.5\"/>\n   </g>\n   <g id=\"patch_236\">\n    <path d=\"M 314.114809 279 \nL 318.583704 279 \nL 318.583704 271.209004 \nL 314.114809 271.209004 \nz\n\" clip-path=\"url(#pd827b82a34)\" style=\"fill: #1f77b4; opacity: 0.5\"/>\n   </g>\n   <g id=\"patch_237\">\n    <path d=\"M 318.583704 279 \nL 323.052599 279 \nL 323.052599 269.71272 \nL 318.583704 269.71272 \nz\n\" clip-path=\"url(#pd827b82a34)\" style=\"fill: #1f77b4; opacity: 0.5\"/>\n   </g>\n   <g id=\"patch_238\">\n    <path d=\"M 323.052599 279 \nL 327.521493 279 \nL 327.521493 265.120675 \nL 323.052599 265.120675 \nz\n\" clip-path=\"url(#pd827b82a34)\" style=\"fill: #1f77b4; opacity: 0.5\"/>\n   </g>\n   <g id=\"patch_239\">\n    <path d=\"M 327.521493 279 \nL 331.990388 279 \nL 331.990388 263.675987 \nL 327.521493 263.675987 \nz\n\" clip-path=\"url(#pd827b82a34)\" style=\"fill: #1f77b4; opacity: 0.5\"/>\n   </g>\n   <g id=\"patch_240\">\n    <path d=\"M 331.990388 279 \nL 336.459283 279 \nL 336.459283 252.015291 \nL 331.990388 252.015291 \nz\n\" clip-path=\"url(#pd827b82a34)\" style=\"fill: #1f77b4; opacity: 0.5\"/>\n   </g>\n   <g id=\"patch_241\">\n    <path d=\"M 336.459283 279 \nL 340.928178 279 \nL 340.928178 257.226487 \nL 336.459283 257.226487 \nz\n\" clip-path=\"url(#pd827b82a34)\" style=\"fill: #1f77b4; opacity: 0.5\"/>\n   </g>\n   <g id=\"patch_242\">\n    <path d=\"M 340.928178 279 \nL 345.397072 279 \nL 345.397072 266.152595 \nL 340.928178 266.152595 \nz\n\" clip-path=\"url(#pd827b82a34)\" style=\"fill: #1f77b4; opacity: 0.5\"/>\n   </g>\n   <g id=\"patch_243\">\n    <path d=\"M 345.397072 279 \nL 349.865967 279 \nL 349.865967 264.501523 \nL 345.397072 264.501523 \nz\n\" clip-path=\"url(#pd827b82a34)\" style=\"fill: #1f77b4; opacity: 0.5\"/>\n   </g>\n   <g id=\"patch_244\">\n    <path d=\"M 349.865967 279 \nL 354.334862 279 \nL 354.334862 266.513767 \nL 349.865967 266.513767 \nz\n\" clip-path=\"url(#pd827b82a34)\" style=\"fill: #1f77b4; opacity: 0.5\"/>\n   </g>\n   <g id=\"patch_245\">\n    <path d=\"M 354.334862 279 \nL 358.803757 279 \nL 358.803757 261.921723 \nL 354.334862 261.921723 \nz\n\" clip-path=\"url(#pd827b82a34)\" style=\"fill: #1f77b4; opacity: 0.5\"/>\n   </g>\n   <g id=\"patch_246\">\n    <path d=\"M 358.803757 279 \nL 363.272651 279 \nL 363.272651 270.177084 \nL 358.803757 270.177084 \nz\n\" clip-path=\"url(#pd827b82a34)\" style=\"fill: #1f77b4; opacity: 0.5\"/>\n   </g>\n   <g id=\"patch_247\">\n    <path d=\"M 363.272651 279 \nL 367.741546 279 \nL 367.741546 275.90424 \nL 363.272651 275.90424 \nz\n\" clip-path=\"url(#pd827b82a34)\" style=\"fill: #1f77b4; opacity: 0.5\"/>\n   </g>\n   <g id=\"patch_248\">\n    <path d=\"M 367.741546 279 \nL 372.210441 279 \nL 372.210441 276.523392 \nL 367.741546 276.523392 \nz\n\" clip-path=\"url(#pd827b82a34)\" style=\"fill: #1f77b4; opacity: 0.5\"/>\n   </g>\n   <g id=\"patch_249\">\n    <path d=\"M 372.210441 279 \nL 376.679336 279 \nL 376.679336 275.38828 \nL 372.210441 275.38828 \nz\n\" clip-path=\"url(#pd827b82a34)\" style=\"fill: #1f77b4; opacity: 0.5\"/>\n   </g>\n   <g id=\"patch_250\">\n    <path d=\"M 376.679336 279 \nL 381.14823 279 \nL 381.14823 277.555312 \nL 376.679336 277.555312 \nz\n\" clip-path=\"url(#pd827b82a34)\" style=\"fill: #1f77b4; opacity: 0.5\"/>\n   </g>\n   <g id=\"patch_251\">\n    <path d=\"M 381.14823 279 \nL 385.617125 279 \nL 385.617125 277.348928 \nL 381.14823 277.348928 \nz\n\" clip-path=\"url(#pd827b82a34)\" style=\"fill: #1f77b4; opacity: 0.5\"/>\n   </g>\n   <g id=\"patch_252\">\n    <path d=\"M 385.617125 279 \nL 390.08602 279 \nL 390.08602 275.027108 \nL 385.617125 275.027108 \nz\n\" clip-path=\"url(#pd827b82a34)\" style=\"fill: #1f77b4; opacity: 0.5\"/>\n   </g>\n   <g id=\"patch_253\">\n    <path d=\"M 390.08602 279 \nL 394.554914 279 \nL 394.554914 277.090948 \nL 390.08602 277.090948 \nz\n\" clip-path=\"url(#pd827b82a34)\" style=\"fill: #1f77b4; opacity: 0.5\"/>\n   </g>\n   <g id=\"patch_254\">\n    <path d=\"M 394.554914 279 \nL 399.023809 279 \nL 399.023809 274.769128 \nL 394.554914 274.769128 \nz\n\" clip-path=\"url(#pd827b82a34)\" style=\"fill: #1f77b4; opacity: 0.5\"/>\n   </g>\n   <g id=\"patch_255\">\n    <path d=\"M 399.023809 279 \nL 403.492704 279 \nL 403.492704 275.955836 \nL 399.023809 275.955836 \nz\n\" clip-path=\"url(#pd827b82a34)\" style=\"fill: #1f77b4; opacity: 0.5\"/>\n   </g>\n   <g id=\"patch_256\">\n    <path d=\"M 403.492704 279 \nL 407.961599 279 \nL 407.961599 272.395712 \nL 403.492704 272.395712 \nz\n\" clip-path=\"url(#pd827b82a34)\" style=\"fill: #1f77b4; opacity: 0.5\"/>\n   </g>\n   <g id=\"patch_257\">\n    <path d=\"M 407.961599 279 \nL 412.430493 279 \nL 412.430493 273.737208 \nL 407.961599 273.737208 \nz\n\" clip-path=\"url(#pd827b82a34)\" style=\"fill: #1f77b4; opacity: 0.5\"/>\n   </g>\n   <g id=\"patch_258\">\n    <path d=\"M 412.430493 279 \nL 416.899388 279 \nL 416.899388 271.466984 \nL 412.430493 271.466984 \nz\n\" clip-path=\"url(#pd827b82a34)\" style=\"fill: #1f77b4; opacity: 0.5\"/>\n   </g>\n   <g id=\"patch_259\">\n    <path d=\"M 416.899388 279 \nL 421.368283 279 \nL 421.368283 270.022296 \nL 416.899388 270.022296 \nz\n\" clip-path=\"url(#pd827b82a34)\" style=\"fill: #1f77b4; opacity: 0.5\"/>\n   </g>\n   <g id=\"patch_260\">\n    <path d=\"M 421.368283 279 \nL 425.837178 279 \nL 425.837178 268.577608 \nL 421.368283 268.577608 \nz\n\" clip-path=\"url(#pd827b82a34)\" style=\"fill: #1f77b4; opacity: 0.5\"/>\n   </g>\n   <g id=\"patch_261\">\n    <path d=\"M 425.837178 279 \nL 430.306072 279 \nL 430.306072 266.771747 \nL 425.837178 266.771747 \nz\n\" clip-path=\"url(#pd827b82a34)\" style=\"fill: #1f77b4; opacity: 0.5\"/>\n   </g>\n   <g id=\"patch_262\">\n    <path d=\"M 430.306072 279 \nL 434.774967 279 \nL 434.774967 268.061648 \nL 430.306072 268.061648 \nz\n\" clip-path=\"url(#pd827b82a34)\" style=\"fill: #1f77b4; opacity: 0.5\"/>\n   </g>\n   <g id=\"patch_263\">\n    <path d=\"M 434.774967 279 \nL 439.243862 279 \nL 439.243862 262.282895 \nL 434.774967 262.282895 \nz\n\" clip-path=\"url(#pd827b82a34)\" style=\"fill: #1f77b4; opacity: 0.5\"/>\n   </g>\n   <g id=\"patch_264\">\n    <path d=\"M 439.243862 279 \nL 443.712757 279 \nL 443.712757 263.675987 \nL 439.243862 263.675987 \nz\n\" clip-path=\"url(#pd827b82a34)\" style=\"fill: #1f77b4; opacity: 0.5\"/>\n   </g>\n   <g id=\"patch_265\">\n    <path d=\"M 443.712757 279 \nL 448.181651 279 \nL 448.181651 260.477035 \nL 443.712757 260.477035 \nz\n\" clip-path=\"url(#pd827b82a34)\" style=\"fill: #1f77b4; opacity: 0.5\"/>\n   </g>\n   <g id=\"patch_266\">\n    <path d=\"M 448.181651 279 \nL 452.650546 279 \nL 452.650546 261.766935 \nL 448.181651 261.766935 \nz\n\" clip-path=\"url(#pd827b82a34)\" style=\"fill: #1f77b4; opacity: 0.5\"/>\n   </g>\n   <g id=\"patch_267\">\n    <path d=\"M 452.650546 279 \nL 457.119441 279 \nL 457.119441 257.897235 \nL 452.650546 257.897235 \nz\n\" clip-path=\"url(#pd827b82a34)\" style=\"fill: #1f77b4; opacity: 0.5\"/>\n   </g>\n   <g id=\"patch_268\">\n    <path d=\"M 457.119441 279 \nL 461.588336 279 \nL 461.588336 258.929155 \nL 457.119441 258.929155 \nz\n\" clip-path=\"url(#pd827b82a34)\" style=\"fill: #1f77b4; opacity: 0.5\"/>\n   </g>\n   <g id=\"patch_269\">\n    <path d=\"M 461.588336 279 \nL 466.05723 279 \nL 466.05723 255.162647 \nL 461.588336 255.162647 \nz\n\" clip-path=\"url(#pd827b82a34)\" style=\"fill: #1f77b4; opacity: 0.5\"/>\n   </g>\n   <g id=\"patch_270\">\n    <path d=\"M 466.05723 279 \nL 470.526125 279 \nL 470.526125 257.536063 \nL 466.05723 257.536063 \nz\n\" clip-path=\"url(#pd827b82a34)\" style=\"fill: #1f77b4; opacity: 0.5\"/>\n   </g>\n   <g id=\"patch_271\">\n    <path d=\"M 470.526125 279 \nL 474.99502 279 \nL 474.99502 248.919531 \nL 470.526125 248.919531 \nz\n\" clip-path=\"url(#pd827b82a34)\" style=\"fill: #1f77b4; opacity: 0.5\"/>\n   </g>\n   <g id=\"patch_272\">\n    <path d=\"M 474.99502 279 \nL 479.463914 279 \nL 479.463914 246.855691 \nL 474.99502 246.855691 \nz\n\" clip-path=\"url(#pd827b82a34)\" style=\"fill: #1f77b4; opacity: 0.5\"/>\n   </g>\n   <g id=\"patch_273\">\n    <path d=\"M 479.463914 279 \nL 483.932809 279 \nL 483.932809 247.268459 \nL 479.463914 247.268459 \nz\n\" clip-path=\"url(#pd827b82a34)\" style=\"fill: #1f77b4; opacity: 0.5\"/>\n   </g>\n   <g id=\"patch_274\">\n    <path d=\"M 483.932809 279 \nL 488.401704 279 \nL 488.401704 250.570603 \nL 483.932809 250.570603 \nz\n\" clip-path=\"url(#pd827b82a34)\" style=\"fill: #1f77b4; opacity: 0.5\"/>\n   </g>\n   <g id=\"patch_275\">\n    <path d=\"M 488.401704 279 \nL 492.870599 279 \nL 492.870599 242.831202 \nL 488.401704 242.831202 \nz\n\" clip-path=\"url(#pd827b82a34)\" style=\"fill: #1f77b4; opacity: 0.5\"/>\n   </g>\n   <g id=\"patch_276\">\n    <path d=\"M 492.870599 279 \nL 497.339493 279 \nL 497.339493 243.089182 \nL 492.870599 243.089182 \nz\n\" clip-path=\"url(#pd827b82a34)\" style=\"fill: #1f77b4; opacity: 0.5\"/>\n   </g>\n   <g id=\"patch_277\">\n    <path d=\"M 497.339493 279 \nL 501.808388 279 \nL 501.808388 228.951878 \nL 497.339493 228.951878 \nz\n\" clip-path=\"url(#pd827b82a34)\" style=\"fill: #1f77b4; opacity: 0.5\"/>\n   </g>\n   <g id=\"patch_278\">\n    <path d=\"M 501.808388 279 \nL 506.277283 279 \nL 506.277283 218.787465 \nL 501.808388 218.787465 \nz\n\" clip-path=\"url(#pd827b82a34)\" style=\"fill: #1f77b4; opacity: 0.5\"/>\n   </g>\n   <g id=\"patch_279\">\n    <path d=\"M 506.277283 279 \nL 510.746178 279 \nL 510.746178 157.749395 \nL 506.277283 157.749395 \nz\n\" clip-path=\"url(#pd827b82a34)\" style=\"fill: #1f77b4; opacity: 0.5\"/>\n   </g>\n   <g id=\"patch_280\">\n    <path d=\"M 510.746178 279 \nL 515.215072 279 \nL 515.215072 150.164783 \nL 510.746178 150.164783 \nz\n\" clip-path=\"url(#pd827b82a34)\" style=\"fill: #1f77b4; opacity: 0.5\"/>\n   </g>\n   <g id=\"patch_281\">\n    <path d=\"M 515.215072 279 \nL 519.683967 279 \nL 519.683967 104.450725 \nL 515.215072 104.450725 \nz\n\" clip-path=\"url(#pd827b82a34)\" style=\"fill: #1f77b4; opacity: 0.5\"/>\n   </g>\n   <g id=\"patch_282\">\n    <path d=\"M 519.683967 279 \nL 524.152862 279 \nL 524.152862 96.195364 \nL 519.683967 96.195364 \nz\n\" clip-path=\"url(#pd827b82a34)\" style=\"fill: #1f77b4; opacity: 0.5\"/>\n   </g>\n   <g id=\"patch_283\">\n    <path d=\"M 524.152862 279 \nL 528.621757 279 \nL 528.621757 98.929952 \nL 524.152862 98.929952 \nz\n\" clip-path=\"url(#pd827b82a34)\" style=\"fill: #1f77b4; opacity: 0.5\"/>\n   </g>\n   <g id=\"patch_284\">\n    <path d=\"M 528.621757 279 \nL 533.090651 279 \nL 533.090651 84.689456 \nL 528.621757 84.689456 \nz\n\" clip-path=\"url(#pd827b82a34)\" style=\"fill: #1f77b4; opacity: 0.5\"/>\n   </g>\n   <g id=\"patch_285\">\n    <path d=\"M 533.090651 279 \nL 537.559546 279 \nL 537.559546 72.048435 \nL 533.090651 72.048435 \nz\n\" clip-path=\"url(#pd827b82a34)\" style=\"fill: #1f77b4; opacity: 0.5\"/>\n   </g>\n   <g id=\"patch_286\">\n    <path d=\"M 537.559546 279 \nL 542.028441 279 \nL 542.028441 20.142857 \nL 537.559546 20.142857 \nz\n\" clip-path=\"url(#pd827b82a34)\" style=\"fill: #1f77b4; opacity: 0.5\"/>\n   </g>\n   <g id=\"patch_287\">\n    <path d=\"M 542.028441 279 \nL 546.497336 279 \nL 546.497336 76.64048 \nL 542.028441 76.64048 \nz\n\" clip-path=\"url(#pd827b82a34)\" style=\"fill: #1f77b4; opacity: 0.5\"/>\n   </g>\n   <g id=\"patch_288\">\n    <path d=\"M 546.497336 279 \nL 550.96623 279 \nL 550.96623 115.801845 \nL 546.497336 115.801845 \nz\n\" clip-path=\"url(#pd827b82a34)\" style=\"fill: #1f77b4; opacity: 0.5\"/>\n   </g>\n   <g id=\"patch_289\">\n    <path d=\"M 550.96623 279 \nL 555.435125 279 \nL 555.435125 136.543438 \nL 550.96623 136.543438 \nz\n\" clip-path=\"url(#pd827b82a34)\" style=\"fill: #1f77b4; opacity: 0.5\"/>\n   </g>\n   <g id=\"patch_290\">\n    <path d=\"M 555.435125 279 \nL 559.90402 279 \nL 559.90402 150.990319 \nL 555.435125 150.990319 \nz\n\" clip-path=\"url(#pd827b82a34)\" style=\"fill: #1f77b4; opacity: 0.5\"/>\n   </g>\n   <g id=\"patch_291\">\n    <path d=\"M 559.90402 279 \nL 564.372914 279 \nL 564.372914 167.191463 \nL 559.90402 167.191463 \nz\n\" clip-path=\"url(#pd827b82a34)\" style=\"fill: #1f77b4; opacity: 0.5\"/>\n   </g>\n   <g id=\"patch_292\">\n    <path d=\"M 564.372914 279 \nL 568.841809 279 \nL 568.841809 169.513283 \nL 564.372914 169.513283 \nz\n\" clip-path=\"url(#pd827b82a34)\" style=\"fill: #1f77b4; opacity: 0.5\"/>\n   </g>\n   <g id=\"patch_293\">\n    <path d=\"M 568.841809 279 \nL 573.310704 279 \nL 573.310704 168.532959 \nL 568.841809 168.532959 \nz\n\" clip-path=\"url(#pd827b82a34)\" style=\"fill: #1f77b4; opacity: 0.5\"/>\n   </g>\n   <g id=\"patch_294\">\n    <path d=\"M 573.310704 279 \nL 577.779599 279 \nL 577.779599 151.093511 \nL 573.310704 151.093511 \nz\n\" clip-path=\"url(#pd827b82a34)\" style=\"fill: #1f77b4; opacity: 0.5\"/>\n   </g>\n   <g id=\"patch_295\">\n    <path d=\"M 577.779599 279 \nL 582.248493 279 \nL 582.248493 167.243059 \nL 577.779599 167.243059 \nz\n\" clip-path=\"url(#pd827b82a34)\" style=\"fill: #1f77b4; opacity: 0.5\"/>\n   </g>\n   <g id=\"patch_296\">\n    <path d=\"M 582.248493 279 \nL 586.717388 279 \nL 586.717388 188.449016 \nL 582.248493 188.449016 \nz\n\" clip-path=\"url(#pd827b82a34)\" style=\"fill: #1f77b4; opacity: 0.5\"/>\n   </g>\n   <g id=\"patch_297\">\n    <path d=\"M 586.717388 279 \nL 591.186283 279 \nL 591.186283 205.320909 \nL 586.717388 205.320909 \nz\n\" clip-path=\"url(#pd827b82a34)\" style=\"fill: #1f77b4; opacity: 0.5\"/>\n   </g>\n   <g id=\"patch_298\">\n    <path d=\"M 591.186283 279 \nL 595.655178 279 \nL 595.655178 223.689086 \nL 591.186283 223.689086 \nz\n\" clip-path=\"url(#pd827b82a34)\" style=\"fill: #1f77b4; opacity: 0.5\"/>\n   </g>\n   <g id=\"patch_299\">\n    <path d=\"M 595.655178 279 \nL 600.124072 279 \nL 600.124072 236.691278 \nL 595.655178 236.691278 \nz\n\" clip-path=\"url(#pd827b82a34)\" style=\"fill: #1f77b4; opacity: 0.5\"/>\n   </g>\n   <g id=\"patch_300\">\n    <path d=\"M 600.124072 279 \nL 604.592967 279 \nL 604.592967 249.487087 \nL 600.124072 249.487087 \nz\n\" clip-path=\"url(#pd827b82a34)\" style=\"fill: #1f77b4; opacity: 0.5\"/>\n   </g>\n   <g id=\"patch_301\">\n    <path d=\"M 604.592967 279 \nL 609.061862 279 \nL 609.061862 262.644067 \nL 604.592967 262.644067 \nz\n\" clip-path=\"url(#pd827b82a34)\" style=\"fill: #1f77b4; opacity: 0.5\"/>\n   </g>\n   <g id=\"patch_302\">\n    <path d=\"M 609.061862 279 \nL 613.530757 279 \nL 613.530757 270.125488 \nL 609.061862 270.125488 \nz\n\" clip-path=\"url(#pd827b82a34)\" style=\"fill: #1f77b4; opacity: 0.5\"/>\n   </g>\n   <g id=\"matplotlib.axis_1\">\n    <g id=\"xtick_1\">\n     <g id=\"line2d_1\">\n      <defs>\n       <path id=\"maf20af517e\" d=\"M 0 0 \nL 0 3.5 \n\" style=\"stroke: #000000; stroke-width: 0.8\"/>\n      </defs>\n      <g>\n       <use xlink:href=\"#maf20af517e\" x=\"90.038651\" y=\"279\" style=\"stroke: #000000; stroke-width: 0.8\"/>\n      </g>\n     </g>\n     <g id=\"text_1\">\n      <!-- 1300 -->\n      <g transform=\"translate(77.313651 293.598437)scale(0.1 -0.1)\">\n       <defs>\n        <path id=\"DejaVuSans-31\" d=\"M 794 531 \nL 1825 531 \nL 1825 4091 \nL 703 3866 \nL 703 4441 \nL 1819 4666 \nL 2450 4666 \nL 2450 531 \nL 3481 531 \nL 3481 0 \nL 794 0 \nL 794 531 \nz\n\" transform=\"scale(0.015625)\"/>\n        <path id=\"DejaVuSans-33\" d=\"M 2597 2516 \nQ 3050 2419 3304 2112 \nQ 3559 1806 3559 1356 \nQ 3559 666 3084 287 \nQ 2609 -91 1734 -91 \nQ 1441 -91 1130 -33 \nQ 819 25 488 141 \nL 488 750 \nQ 750 597 1062 519 \nQ 1375 441 1716 441 \nQ 2309 441 2620 675 \nQ 2931 909 2931 1356 \nQ 2931 1769 2642 2001 \nQ 2353 2234 1838 2234 \nL 1294 2234 \nL 1294 2753 \nL 1863 2753 \nQ 2328 2753 2575 2939 \nQ 2822 3125 2822 3475 \nQ 2822 3834 2567 4026 \nQ 2313 4219 1838 4219 \nQ 1578 4219 1281 4162 \nQ 984 4106 628 3988 \nL 628 4550 \nQ 988 4650 1302 4700 \nQ 1616 4750 1894 4750 \nQ 2613 4750 3031 4423 \nQ 3450 4097 3450 3541 \nQ 3450 3153 3228 2886 \nQ 3006 2619 2597 2516 \nz\n\" transform=\"scale(0.015625)\"/>\n        <path id=\"DejaVuSans-30\" d=\"M 2034 4250 \nQ 1547 4250 1301 3770 \nQ 1056 3291 1056 2328 \nQ 1056 1369 1301 889 \nQ 1547 409 2034 409 \nQ 2525 409 2770 889 \nQ 3016 1369 3016 2328 \nQ 3016 3291 2770 3770 \nQ 2525 4250 2034 4250 \nz\nM 2034 4750 \nQ 2819 4750 3233 4129 \nQ 3647 3509 3647 2328 \nQ 3647 1150 3233 529 \nQ 2819 -91 2034 -91 \nQ 1250 -91 836 529 \nQ 422 1150 422 2328 \nQ 422 3509 836 4129 \nQ 1250 4750 2034 4750 \nz\n\" transform=\"scale(0.015625)\"/>\n       </defs>\n       <use xlink:href=\"#DejaVuSans-31\"/>\n       <use xlink:href=\"#DejaVuSans-33\" x=\"63.623047\"/>\n       <use xlink:href=\"#DejaVuSans-30\" x=\"127.246094\"/>\n       <use xlink:href=\"#DejaVuSans-30\" x=\"190.869141\"/>\n      </g>\n     </g>\n    </g>\n    <g id=\"xtick_2\">\n     <g id=\"line2d_2\">\n      <g>\n       <use xlink:href=\"#maf20af517e\" x=\"163.459704\" y=\"279\" style=\"stroke: #000000; stroke-width: 0.8\"/>\n      </g>\n     </g>\n     <g id=\"text_2\">\n      <!-- 1400 -->\n      <g transform=\"translate(150.734704 293.598437)scale(0.1 -0.1)\">\n       <defs>\n        <path id=\"DejaVuSans-34\" d=\"M 2419 4116 \nL 825 1625 \nL 2419 1625 \nL 2419 4116 \nz\nM 2253 4666 \nL 3047 4666 \nL 3047 1625 \nL 3713 1625 \nL 3713 1100 \nL 3047 1100 \nL 3047 0 \nL 2419 0 \nL 2419 1100 \nL 313 1100 \nL 313 1709 \nL 2253 4666 \nz\n\" transform=\"scale(0.015625)\"/>\n       </defs>\n       <use xlink:href=\"#DejaVuSans-31\"/>\n       <use xlink:href=\"#DejaVuSans-34\" x=\"63.623047\"/>\n       <use xlink:href=\"#DejaVuSans-30\" x=\"127.246094\"/>\n       <use xlink:href=\"#DejaVuSans-30\" x=\"190.869141\"/>\n      </g>\n     </g>\n    </g>\n    <g id=\"xtick_3\">\n     <g id=\"line2d_3\">\n      <g>\n       <use xlink:href=\"#maf20af517e\" x=\"236.880757\" y=\"279\" style=\"stroke: #000000; stroke-width: 0.8\"/>\n      </g>\n     </g>\n     <g id=\"text_3\">\n      <!-- 1500 -->\n      <g transform=\"translate(224.155757 293.598437)scale(0.1 -0.1)\">\n       <defs>\n        <path id=\"DejaVuSans-35\" d=\"M 691 4666 \nL 3169 4666 \nL 3169 4134 \nL 1269 4134 \nL 1269 2991 \nQ 1406 3038 1543 3061 \nQ 1681 3084 1819 3084 \nQ 2600 3084 3056 2656 \nQ 3513 2228 3513 1497 \nQ 3513 744 3044 326 \nQ 2575 -91 1722 -91 \nQ 1428 -91 1123 -41 \nQ 819 9 494 109 \nL 494 744 \nQ 775 591 1075 516 \nQ 1375 441 1709 441 \nQ 2250 441 2565 725 \nQ 2881 1009 2881 1497 \nQ 2881 1984 2565 2268 \nQ 2250 2553 1709 2553 \nQ 1456 2553 1204 2497 \nQ 953 2441 691 2322 \nL 691 4666 \nz\n\" transform=\"scale(0.015625)\"/>\n       </defs>\n       <use xlink:href=\"#DejaVuSans-31\"/>\n       <use xlink:href=\"#DejaVuSans-35\" x=\"63.623047\"/>\n       <use xlink:href=\"#DejaVuSans-30\" x=\"127.246094\"/>\n       <use xlink:href=\"#DejaVuSans-30\" x=\"190.869141\"/>\n      </g>\n     </g>\n    </g>\n    <g id=\"xtick_4\">\n     <g id=\"line2d_4\">\n      <g>\n       <use xlink:href=\"#maf20af517e\" x=\"310.301809\" y=\"279\" style=\"stroke: #000000; stroke-width: 0.8\"/>\n      </g>\n     </g>\n     <g id=\"text_4\">\n      <!-- 1600 -->\n      <g transform=\"translate(297.576809 293.598437)scale(0.1 -0.1)\">\n       <defs>\n        <path id=\"DejaVuSans-36\" d=\"M 2113 2584 \nQ 1688 2584 1439 2293 \nQ 1191 2003 1191 1497 \nQ 1191 994 1439 701 \nQ 1688 409 2113 409 \nQ 2538 409 2786 701 \nQ 3034 994 3034 1497 \nQ 3034 2003 2786 2293 \nQ 2538 2584 2113 2584 \nz\nM 3366 4563 \nL 3366 3988 \nQ 3128 4100 2886 4159 \nQ 2644 4219 2406 4219 \nQ 1781 4219 1451 3797 \nQ 1122 3375 1075 2522 \nQ 1259 2794 1537 2939 \nQ 1816 3084 2150 3084 \nQ 2853 3084 3261 2657 \nQ 3669 2231 3669 1497 \nQ 3669 778 3244 343 \nQ 2819 -91 2113 -91 \nQ 1303 -91 875 529 \nQ 447 1150 447 2328 \nQ 447 3434 972 4092 \nQ 1497 4750 2381 4750 \nQ 2619 4750 2861 4703 \nQ 3103 4656 3366 4563 \nz\n\" transform=\"scale(0.015625)\"/>\n       </defs>\n       <use xlink:href=\"#DejaVuSans-31\"/>\n       <use xlink:href=\"#DejaVuSans-36\" x=\"63.623047\"/>\n       <use xlink:href=\"#DejaVuSans-30\" x=\"127.246094\"/>\n       <use xlink:href=\"#DejaVuSans-30\" x=\"190.869141\"/>\n      </g>\n     </g>\n    </g>\n    <g id=\"xtick_5\">\n     <g id=\"line2d_5\">\n      <g>\n       <use xlink:href=\"#maf20af517e\" x=\"383.722862\" y=\"279\" style=\"stroke: #000000; stroke-width: 0.8\"/>\n      </g>\n     </g>\n     <g id=\"text_5\">\n      <!-- 1700 -->\n      <g transform=\"translate(370.997862 293.598437)scale(0.1 -0.1)\">\n       <defs>\n        <path id=\"DejaVuSans-37\" d=\"M 525 4666 \nL 3525 4666 \nL 3525 4397 \nL 1831 0 \nL 1172 0 \nL 2766 4134 \nL 525 4134 \nL 525 4666 \nz\n\" transform=\"scale(0.015625)\"/>\n       </defs>\n       <use xlink:href=\"#DejaVuSans-31\"/>\n       <use xlink:href=\"#DejaVuSans-37\" x=\"63.623047\"/>\n       <use xlink:href=\"#DejaVuSans-30\" x=\"127.246094\"/>\n       <use xlink:href=\"#DejaVuSans-30\" x=\"190.869141\"/>\n      </g>\n     </g>\n    </g>\n    <g id=\"xtick_6\">\n     <g id=\"line2d_6\">\n      <g>\n       <use xlink:href=\"#maf20af517e\" x=\"457.143914\" y=\"279\" style=\"stroke: #000000; stroke-width: 0.8\"/>\n      </g>\n     </g>\n     <g id=\"text_6\">\n      <!-- 1800 -->\n      <g transform=\"translate(444.418914 293.598437)scale(0.1 -0.1)\">\n       <defs>\n        <path id=\"DejaVuSans-38\" d=\"M 2034 2216 \nQ 1584 2216 1326 1975 \nQ 1069 1734 1069 1313 \nQ 1069 891 1326 650 \nQ 1584 409 2034 409 \nQ 2484 409 2743 651 \nQ 3003 894 3003 1313 \nQ 3003 1734 2745 1975 \nQ 2488 2216 2034 2216 \nz\nM 1403 2484 \nQ 997 2584 770 2862 \nQ 544 3141 544 3541 \nQ 544 4100 942 4425 \nQ 1341 4750 2034 4750 \nQ 2731 4750 3128 4425 \nQ 3525 4100 3525 3541 \nQ 3525 3141 3298 2862 \nQ 3072 2584 2669 2484 \nQ 3125 2378 3379 2068 \nQ 3634 1759 3634 1313 \nQ 3634 634 3220 271 \nQ 2806 -91 2034 -91 \nQ 1263 -91 848 271 \nQ 434 634 434 1313 \nQ 434 1759 690 2068 \nQ 947 2378 1403 2484 \nz\nM 1172 3481 \nQ 1172 3119 1398 2916 \nQ 1625 2713 2034 2713 \nQ 2441 2713 2670 2916 \nQ 2900 3119 2900 3481 \nQ 2900 3844 2670 4047 \nQ 2441 4250 2034 4250 \nQ 1625 4250 1398 4047 \nQ 1172 3844 1172 3481 \nz\n\" transform=\"scale(0.015625)\"/>\n       </defs>\n       <use xlink:href=\"#DejaVuSans-31\"/>\n       <use xlink:href=\"#DejaVuSans-38\" x=\"63.623047\"/>\n       <use xlink:href=\"#DejaVuSans-30\" x=\"127.246094\"/>\n       <use xlink:href=\"#DejaVuSans-30\" x=\"190.869141\"/>\n      </g>\n     </g>\n    </g>\n    <g id=\"xtick_7\">\n     <g id=\"line2d_7\">\n      <g>\n       <use xlink:href=\"#maf20af517e\" x=\"530.564967\" y=\"279\" style=\"stroke: #000000; stroke-width: 0.8\"/>\n      </g>\n     </g>\n     <g id=\"text_7\">\n      <!-- 1900 -->\n      <g transform=\"translate(517.839967 293.598437)scale(0.1 -0.1)\">\n       <defs>\n        <path id=\"DejaVuSans-39\" d=\"M 703 97 \nL 703 672 \nQ 941 559 1184 500 \nQ 1428 441 1663 441 \nQ 2288 441 2617 861 \nQ 2947 1281 2994 2138 \nQ 2813 1869 2534 1725 \nQ 2256 1581 1919 1581 \nQ 1219 1581 811 2004 \nQ 403 2428 403 3163 \nQ 403 3881 828 4315 \nQ 1253 4750 1959 4750 \nQ 2769 4750 3195 4129 \nQ 3622 3509 3622 2328 \nQ 3622 1225 3098 567 \nQ 2575 -91 1691 -91 \nQ 1453 -91 1209 -44 \nQ 966 3 703 97 \nz\nM 1959 2075 \nQ 2384 2075 2632 2365 \nQ 2881 2656 2881 3163 \nQ 2881 3666 2632 3958 \nQ 2384 4250 1959 4250 \nQ 1534 4250 1286 3958 \nQ 1038 3666 1038 3163 \nQ 1038 2656 1286 2365 \nQ 1534 2075 1959 2075 \nz\n\" transform=\"scale(0.015625)\"/>\n       </defs>\n       <use xlink:href=\"#DejaVuSans-31\"/>\n       <use xlink:href=\"#DejaVuSans-39\" x=\"63.623047\"/>\n       <use xlink:href=\"#DejaVuSans-30\" x=\"127.246094\"/>\n       <use xlink:href=\"#DejaVuSans-30\" x=\"190.869141\"/>\n      </g>\n     </g>\n    </g>\n    <g id=\"xtick_8\">\n     <g id=\"line2d_8\">\n      <g>\n       <use xlink:href=\"#maf20af517e\" x=\"603.98602\" y=\"279\" style=\"stroke: #000000; stroke-width: 0.8\"/>\n      </g>\n     </g>\n     <g id=\"text_8\">\n      <!-- 2000 -->\n      <g transform=\"translate(591.26102 293.598437)scale(0.1 -0.1)\">\n       <defs>\n        <path id=\"DejaVuSans-32\" d=\"M 1228 531 \nL 3431 531 \nL 3431 0 \nL 469 0 \nL 469 531 \nQ 828 903 1448 1529 \nQ 2069 2156 2228 2338 \nQ 2531 2678 2651 2914 \nQ 2772 3150 2772 3378 \nQ 2772 3750 2511 3984 \nQ 2250 4219 1831 4219 \nQ 1534 4219 1204 4116 \nQ 875 4013 500 3803 \nL 500 4441 \nQ 881 4594 1212 4672 \nQ 1544 4750 1819 4750 \nQ 2544 4750 2975 4387 \nQ 3406 4025 3406 3419 \nQ 3406 3131 3298 2873 \nQ 3191 2616 2906 2266 \nQ 2828 2175 2409 1742 \nQ 1991 1309 1228 531 \nz\n\" transform=\"scale(0.015625)\"/>\n       </defs>\n       <use xlink:href=\"#DejaVuSans-32\"/>\n       <use xlink:href=\"#DejaVuSans-30\" x=\"63.623047\"/>\n       <use xlink:href=\"#DejaVuSans-30\" x=\"127.246094\"/>\n       <use xlink:href=\"#DejaVuSans-30\" x=\"190.869141\"/>\n      </g>\n     </g>\n    </g>\n    <g id=\"text_9\">\n     <!-- Year -->\n     <g transform=\"translate(321.740625 307.276562)scale(0.1 -0.1)\">\n      <defs>\n       <path id=\"DejaVuSans-59\" d=\"M -13 4666 \nL 666 4666 \nL 1959 2747 \nL 3244 4666 \nL 3922 4666 \nL 2272 2222 \nL 2272 0 \nL 1638 0 \nL 1638 2222 \nL -13 4666 \nz\n\" transform=\"scale(0.015625)\"/>\n       <path id=\"DejaVuSans-65\" d=\"M 3597 1894 \nL 3597 1613 \nL 953 1613 \nQ 991 1019 1311 708 \nQ 1631 397 2203 397 \nQ 2534 397 2845 478 \nQ 3156 559 3463 722 \nL 3463 178 \nQ 3153 47 2828 -22 \nQ 2503 -91 2169 -91 \nQ 1331 -91 842 396 \nQ 353 884 353 1716 \nQ 353 2575 817 3079 \nQ 1281 3584 2069 3584 \nQ 2775 3584 3186 3129 \nQ 3597 2675 3597 1894 \nz\nM 3022 2063 \nQ 3016 2534 2758 2815 \nQ 2500 3097 2075 3097 \nQ 1594 3097 1305 2825 \nQ 1016 2553 972 2059 \nL 3022 2063 \nz\n\" transform=\"scale(0.015625)\"/>\n       <path id=\"DejaVuSans-61\" d=\"M 2194 1759 \nQ 1497 1759 1228 1600 \nQ 959 1441 959 1056 \nQ 959 750 1161 570 \nQ 1363 391 1709 391 \nQ 2188 391 2477 730 \nQ 2766 1069 2766 1631 \nL 2766 1759 \nL 2194 1759 \nz\nM 3341 1997 \nL 3341 0 \nL 2766 0 \nL 2766 531 \nQ 2569 213 2275 61 \nQ 1981 -91 1556 -91 \nQ 1019 -91 701 211 \nQ 384 513 384 1019 \nQ 384 1609 779 1909 \nQ 1175 2209 1959 2209 \nL 2766 2209 \nL 2766 2266 \nQ 2766 2663 2505 2880 \nQ 2244 3097 1772 3097 \nQ 1472 3097 1187 3025 \nQ 903 2953 641 2809 \nL 641 3341 \nQ 956 3463 1253 3523 \nQ 1550 3584 1831 3584 \nQ 2591 3584 2966 3190 \nQ 3341 2797 3341 1997 \nz\n\" transform=\"scale(0.015625)\"/>\n       <path id=\"DejaVuSans-72\" d=\"M 2631 2963 \nQ 2534 3019 2420 3045 \nQ 2306 3072 2169 3072 \nQ 1681 3072 1420 2755 \nQ 1159 2438 1159 1844 \nL 1159 0 \nL 581 0 \nL 581 3500 \nL 1159 3500 \nL 1159 2956 \nQ 1341 3275 1631 3429 \nQ 1922 3584 2338 3584 \nQ 2397 3584 2469 3576 \nQ 2541 3569 2628 3553 \nL 2631 2963 \nz\n\" transform=\"scale(0.015625)\"/>\n      </defs>\n      <use xlink:href=\"#DejaVuSans-59\"/>\n      <use xlink:href=\"#DejaVuSans-65\" x=\"47.833984\"/>\n      <use xlink:href=\"#DejaVuSans-61\" x=\"109.357422\"/>\n      <use xlink:href=\"#DejaVuSans-72\" x=\"170.636719\"/>\n     </g>\n    </g>\n   </g>\n   <g id=\"matplotlib.axis_2\">\n    <g id=\"ytick_1\">\n     <g id=\"line2d_9\">\n      <defs>\n       <path id=\"me5454829e7\" d=\"M 0 0 \nL -3.5 0 \n\" style=\"stroke: #000000; stroke-width: 0.8\"/>\n      </defs>\n      <g>\n       <use xlink:href=\"#me5454829e7\" x=\"53.328125\" y=\"279\" style=\"stroke: #000000; stroke-width: 0.8\"/>\n      </g>\n     </g>\n     <g id=\"text_10\">\n      <!-- 0 -->\n      <g transform=\"translate(39.965625 282.799219)scale(0.1 -0.1)\">\n       <use xlink:href=\"#DejaVuSans-30\"/>\n      </g>\n     </g>\n    </g>\n    <g id=\"ytick_2\">\n     <g id=\"line2d_10\">\n      <g>\n       <use xlink:href=\"#me5454829e7\" x=\"53.328125\" y=\"227.403998\" style=\"stroke: #000000; stroke-width: 0.8\"/>\n      </g>\n     </g>\n     <g id=\"text_11\">\n      <!-- 1000 -->\n      <g transform=\"translate(20.878125 231.203217)scale(0.1 -0.1)\">\n       <use xlink:href=\"#DejaVuSans-31\"/>\n       <use xlink:href=\"#DejaVuSans-30\" x=\"63.623047\"/>\n       <use xlink:href=\"#DejaVuSans-30\" x=\"127.246094\"/>\n       <use xlink:href=\"#DejaVuSans-30\" x=\"190.869141\"/>\n      </g>\n     </g>\n    </g>\n    <g id=\"ytick_3\">\n     <g id=\"line2d_11\">\n      <g>\n       <use xlink:href=\"#me5454829e7\" x=\"53.328125\" y=\"175.807996\" style=\"stroke: #000000; stroke-width: 0.8\"/>\n      </g>\n     </g>\n     <g id=\"text_12\">\n      <!-- 2000 -->\n      <g transform=\"translate(20.878125 179.607214)scale(0.1 -0.1)\">\n       <use xlink:href=\"#DejaVuSans-32\"/>\n       <use xlink:href=\"#DejaVuSans-30\" x=\"63.623047\"/>\n       <use xlink:href=\"#DejaVuSans-30\" x=\"127.246094\"/>\n       <use xlink:href=\"#DejaVuSans-30\" x=\"190.869141\"/>\n      </g>\n     </g>\n    </g>\n    <g id=\"ytick_4\">\n     <g id=\"line2d_12\">\n      <g>\n       <use xlink:href=\"#me5454829e7\" x=\"53.328125\" y=\"124.211994\" style=\"stroke: #000000; stroke-width: 0.8\"/>\n      </g>\n     </g>\n     <g id=\"text_13\">\n      <!-- 3000 -->\n      <g transform=\"translate(20.878125 128.011212)scale(0.1 -0.1)\">\n       <use xlink:href=\"#DejaVuSans-33\"/>\n       <use xlink:href=\"#DejaVuSans-30\" x=\"63.623047\"/>\n       <use xlink:href=\"#DejaVuSans-30\" x=\"127.246094\"/>\n       <use xlink:href=\"#DejaVuSans-30\" x=\"190.869141\"/>\n      </g>\n     </g>\n    </g>\n    <g id=\"ytick_5\">\n     <g id=\"line2d_13\">\n      <g>\n       <use xlink:href=\"#me5454829e7\" x=\"53.328125\" y=\"72.615991\" style=\"stroke: #000000; stroke-width: 0.8\"/>\n      </g>\n     </g>\n     <g id=\"text_14\">\n      <!-- 4000 -->\n      <g transform=\"translate(20.878125 76.41521)scale(0.1 -0.1)\">\n       <use xlink:href=\"#DejaVuSans-34\"/>\n       <use xlink:href=\"#DejaVuSans-30\" x=\"63.623047\"/>\n       <use xlink:href=\"#DejaVuSans-30\" x=\"127.246094\"/>\n       <use xlink:href=\"#DejaVuSans-30\" x=\"190.869141\"/>\n      </g>\n     </g>\n    </g>\n    <g id=\"ytick_6\">\n     <g id=\"line2d_14\">\n      <g>\n       <use xlink:href=\"#me5454829e7\" x=\"53.328125\" y=\"21.019989\" style=\"stroke: #000000; stroke-width: 0.8\"/>\n      </g>\n     </g>\n     <g id=\"text_15\">\n      <!-- 5000 -->\n      <g transform=\"translate(20.878125 24.819208)scale(0.1 -0.1)\">\n       <use xlink:href=\"#DejaVuSans-35\"/>\n       <use xlink:href=\"#DejaVuSans-30\" x=\"63.623047\"/>\n       <use xlink:href=\"#DejaVuSans-30\" x=\"127.246094\"/>\n       <use xlink:href=\"#DejaVuSans-30\" x=\"190.869141\"/>\n      </g>\n     </g>\n    </g>\n    <g id=\"text_16\">\n     <!-- Count -->\n     <g transform=\"translate(14.798438 157.948437)rotate(-90)scale(0.1 -0.1)\">\n      <defs>\n       <path id=\"DejaVuSans-43\" d=\"M 4122 4306 \nL 4122 3641 \nQ 3803 3938 3442 4084 \nQ 3081 4231 2675 4231 \nQ 1875 4231 1450 3742 \nQ 1025 3253 1025 2328 \nQ 1025 1406 1450 917 \nQ 1875 428 2675 428 \nQ 3081 428 3442 575 \nQ 3803 722 4122 1019 \nL 4122 359 \nQ 3791 134 3420 21 \nQ 3050 -91 2638 -91 \nQ 1578 -91 968 557 \nQ 359 1206 359 2328 \nQ 359 3453 968 4101 \nQ 1578 4750 2638 4750 \nQ 3056 4750 3426 4639 \nQ 3797 4528 4122 4306 \nz\n\" transform=\"scale(0.015625)\"/>\n       <path id=\"DejaVuSans-6f\" d=\"M 1959 3097 \nQ 1497 3097 1228 2736 \nQ 959 2375 959 1747 \nQ 959 1119 1226 758 \nQ 1494 397 1959 397 \nQ 2419 397 2687 759 \nQ 2956 1122 2956 1747 \nQ 2956 2369 2687 2733 \nQ 2419 3097 1959 3097 \nz\nM 1959 3584 \nQ 2709 3584 3137 3096 \nQ 3566 2609 3566 1747 \nQ 3566 888 3137 398 \nQ 2709 -91 1959 -91 \nQ 1206 -91 779 398 \nQ 353 888 353 1747 \nQ 353 2609 779 3096 \nQ 1206 3584 1959 3584 \nz\n\" transform=\"scale(0.015625)\"/>\n       <path id=\"DejaVuSans-75\" d=\"M 544 1381 \nL 544 3500 \nL 1119 3500 \nL 1119 1403 \nQ 1119 906 1312 657 \nQ 1506 409 1894 409 \nQ 2359 409 2629 706 \nQ 2900 1003 2900 1516 \nL 2900 3500 \nL 3475 3500 \nL 3475 0 \nL 2900 0 \nL 2900 538 \nQ 2691 219 2414 64 \nQ 2138 -91 1772 -91 \nQ 1169 -91 856 284 \nQ 544 659 544 1381 \nz\nM 1991 3584 \nL 1991 3584 \nz\n\" transform=\"scale(0.015625)\"/>\n       <path id=\"DejaVuSans-6e\" d=\"M 3513 2113 \nL 3513 0 \nL 2938 0 \nL 2938 2094 \nQ 2938 2591 2744 2837 \nQ 2550 3084 2163 3084 \nQ 1697 3084 1428 2787 \nQ 1159 2491 1159 1978 \nL 1159 0 \nL 581 0 \nL 581 3500 \nL 1159 3500 \nL 1159 2956 \nQ 1366 3272 1645 3428 \nQ 1925 3584 2291 3584 \nQ 2894 3584 3203 3211 \nQ 3513 2838 3513 2113 \nz\n\" transform=\"scale(0.015625)\"/>\n       <path id=\"DejaVuSans-74\" d=\"M 1172 4494 \nL 1172 3500 \nL 2356 3500 \nL 2356 3053 \nL 1172 3053 \nL 1172 1153 \nQ 1172 725 1289 603 \nQ 1406 481 1766 481 \nL 2356 481 \nL 2356 0 \nL 1766 0 \nQ 1100 0 847 248 \nQ 594 497 594 1153 \nL 594 3053 \nL 172 3053 \nL 172 3500 \nL 594 3500 \nL 594 4494 \nL 1172 4494 \nz\n\" transform=\"scale(0.015625)\"/>\n      </defs>\n      <use xlink:href=\"#DejaVuSans-43\"/>\n      <use xlink:href=\"#DejaVuSans-6f\" x=\"69.824219\"/>\n      <use xlink:href=\"#DejaVuSans-75\" x=\"131.005859\"/>\n      <use xlink:href=\"#DejaVuSans-6e\" x=\"194.384766\"/>\n      <use xlink:href=\"#DejaVuSans-74\" x=\"257.763672\"/>\n     </g>\n    </g>\n   </g>\n   <g id=\"patch_303\">\n    <path d=\"M 53.328125 279 \nL 53.328125 7.2 \n\" style=\"fill: none; stroke: #000000; stroke-width: 0.8; stroke-linejoin: miter; stroke-linecap: square\"/>\n   </g>\n   <g id=\"patch_304\">\n    <path d=\"M 611.328125 279 \nL 611.328125 7.2 \n\" style=\"fill: none; stroke: #000000; stroke-width: 0.8; stroke-linejoin: miter; stroke-linecap: square\"/>\n   </g>\n   <g id=\"patch_305\">\n    <path d=\"M 53.328125 279 \nL 611.328125 279 \n\" style=\"fill: none; stroke: #000000; stroke-width: 0.8; stroke-linejoin: miter; stroke-linecap: square\"/>\n   </g>\n   <g id=\"patch_306\">\n    <path d=\"M 53.328125 7.2 \nL 611.328125 7.2 \n\" style=\"fill: none; stroke: #000000; stroke-width: 0.8; stroke-linejoin: miter; stroke-linecap: square\"/>\n   </g>\n  </g>\n </g>\n <defs>\n  <clipPath id=\"pd827b82a34\">\n   <rect x=\"53.328125\" y=\"7.2\" width=\"558\" height=\"271.8\"/>\n  </clipPath>\n </defs>\n</svg>\n",
      "text/plain": [
       "<Figure size 720x360 with 1 Axes>"
      ]
     },
     "metadata": {
      "needs_background": "light"
     },
     "output_type": "display_data"
    }
   ],
   "source": [
    "plt.figure(figsize=(10,5))\n",
    "plt.hist(all_data_info.date, bins=300, alpha=0.5)\n",
    "plt.xlim(1250,2010)\n",
    "plt.xlabel('Year')\n",
    "plt.ylabel('Count')\n",
    "plt.savefig('date1.png')\n",
    "plt.show()"
   ]
  },
  {
   "cell_type": "markdown",
   "metadata": {},
   "source": [
    "#### Source Distribution of All Data"
   ]
  },
  {
   "cell_type": "code",
   "execution_count": 6,
   "metadata": {},
   "outputs": [
    {
     "data": {
      "image/png": "[encoded data removed]",
      "image/svg+xml": "<?xml version=\"1.0\" encoding=\"utf-8\" standalone=\"no\"?>\n<!DOCTYPE svg PUBLIC \"-//W3C//DTD SVG 1.1//EN\"\n  \"http://www.w3.org/Graphics/SVG/1.1/DTD/svg11.dtd\">\n<svg xmlns:xlink=\"http://www.w3.org/1999/xlink\" width=\"843.478125pt\" height=\"829.8pt\" viewBox=\"0 0 843.478125 829.8\" xmlns=\"http://www.w3.org/2000/svg\" version=\"1.1\">\n <metadata>\n  <rdf:RDF xmlns:dc=\"http://purl.org/dc/elements/1.1/\" xmlns:cc=\"http://creativecommons.org/ns#\" xmlns:rdf=\"http://www.w3.org/1999/02/22-rdf-syntax-ns#\">\n   <cc:Work>\n    <dc:type rdf:resource=\"http://purl.org/dc/dcmitype/StillImage\"/>\n    <dc:date>2022-06-07T15:51:41.299622</dc:date>\n    <dc:format>image/svg+xml</dc:format>\n    <dc:creator>\n     <cc:Agent>\n      <dc:title>Matplotlib v3.5.1, https://matplotlib.org/</dc:title>\n     </cc:Agent>\n    </dc:creator>\n   </cc:Work>\n  </rdf:RDF>\n </metadata>\n <defs>\n  <style type=\"text/css\">*{stroke-linejoin: round; stroke-linecap: butt}</style>\n </defs>\n <g id=\"figure_1\">\n  <g id=\"patch_1\">\n   <path d=\"M 0 829.8 \nL 843.478125 829.8 \nL 843.478125 0 \nL 0 0 \nL 0 829.8 \nz\n\" style=\"fill: none\"/>\n  </g>\n  <g id=\"axes_1\">\n   <g id=\"patch_2\">\n    <path d=\"M 754.738125 414.9 \nC 754.738125 374.054385 747.065368 333.569896 732.119802 295.556815 \nC 717.174237 257.543735 695.220136 222.674227 667.401875 192.765891 \nC 639.583613 162.857555 606.393086 138.439244 569.560372 120.783779 \nC 532.727658 103.128313 492.904052 92.547887 452.165386 89.594011 \nC 411.426721 86.640135 370.493357 91.365041 331.498974 103.522441 \nC 292.504592 115.679841 256.138708 135.054762 224.29692 160.637272 \nC 192.455133 186.219781 165.700483 217.557518 145.427575 253.016981 \nC 125.154668 288.476443 111.721979 327.43062 105.829695 367.848998 \nC 99.937412 408.267375 101.689725 449.435257 110.995294 489.206737 \nC 120.300863 528.978217 136.995142 566.650038 160.207931 600.258529 \nC 183.420719 633.867021 212.741557 662.817902 246.642076 685.602087 \nC 280.542595 708.386272 318.423349 724.60088 358.309777 733.400714 \nC 398.196205 742.200548 439.383017 743.430005 479.723321 737.024998 \nC 520.063625 730.619992 558.844105 716.693778 594.043301 695.97227 \nC 629.242497 675.250763 660.238 648.10037 685.414147 615.936324 \nC 710.590294 583.772278 729.50191 547.163319 741.163212 508.017716 \nL 428.578125 414.9 \nL 754.738125 414.9 \nz\n\" style=\"fill: #1f77b4\"/>\n   </g>\n   <g id=\"patch_3\">\n    <path d=\"M 741.163212 508.017716 \nC 745.658492 492.927596 749.055158 477.531748 751.326556 461.950991 \nC 753.597954 446.370233 754.738126 430.645429 754.738125 414.899977 \nL 428.578125 414.9 \nL 741.163212 508.017716 \nz\n\" style=\"fill: #ff7f0e\"/>\n   </g>\n   <g id=\"matplotlib.axis_1\"/>\n   <g id=\"matplotlib.axis_2\">\n    <g id=\"text_1\">\n     <!-- None -->\n     <g transform=\"translate(14.798438 427.945312)rotate(-90)scale(0.1 -0.1)\">\n      <defs>\n       <path id=\"DejaVuSans-4e\" d=\"M 628 4666 \nL 1478 4666 \nL 3547 763 \nL 3547 4666 \nL 4159 4666 \nL 4159 0 \nL 3309 0 \nL 1241 3903 \nL 1241 0 \nL 628 0 \nL 628 4666 \nz\n\" transform=\"scale(0.015625)\"/>\n       <path id=\"DejaVuSans-6f\" d=\"M 1959 3097 \nQ 1497 3097 1228 2736 \nQ 959 2375 959 1747 \nQ 959 1119 1226 758 \nQ 1494 397 1959 397 \nQ 2419 397 2687 759 \nQ 2956 1122 2956 1747 \nQ 2956 2369 2687 2733 \nQ 2419 3097 1959 3097 \nz\nM 1959 3584 \nQ 2709 3584 3137 3096 \nQ 3566 2609 3566 1747 \nQ 3566 888 3137 398 \nQ 2709 -91 1959 -91 \nQ 1206 -91 779 398 \nQ 353 888 353 1747 \nQ 353 2609 779 3096 \nQ 1206 3584 1959 3584 \nz\n\" transform=\"scale(0.015625)\"/>\n       <path id=\"DejaVuSans-6e\" d=\"M 3513 2113 \nL 3513 0 \nL 2938 0 \nL 2938 2094 \nQ 2938 2591 2744 2837 \nQ 2550 3084 2163 3084 \nQ 1697 3084 1428 2787 \nQ 1159 2491 1159 1978 \nL 1159 0 \nL 581 0 \nL 581 3500 \nL 1159 3500 \nL 1159 2956 \nQ 1366 3272 1645 3428 \nQ 1925 3584 2291 3584 \nQ 2894 3584 3203 3211 \nQ 3513 2838 3513 2113 \nz\n\" transform=\"scale(0.015625)\"/>\n       <path id=\"DejaVuSans-65\" d=\"M 3597 1894 \nL 3597 1613 \nL 953 1613 \nQ 991 1019 1311 708 \nQ 1631 397 2203 397 \nQ 2534 397 2845 478 \nQ 3156 559 3463 722 \nL 3463 178 \nQ 3153 47 2828 -22 \nQ 2503 -91 2169 -91 \nQ 1331 -91 842 396 \nQ 353 884 353 1716 \nQ 353 2575 817 3079 \nQ 1281 3584 2069 3584 \nQ 2775 3584 3186 3129 \nQ 3597 2675 3597 1894 \nz\nM 3022 2063 \nQ 3016 2534 2758 2815 \nQ 2500 3097 2075 3097 \nQ 1594 3097 1305 2825 \nQ 1016 2553 972 2059 \nL 3022 2063 \nz\n\" transform=\"scale(0.015625)\"/>\n      </defs>\n      <use xlink:href=\"#DejaVuSans-4e\"/>\n      <use xlink:href=\"#DejaVuSans-6f\" x=\"74.804688\"/>\n      <use xlink:href=\"#DejaVuSans-6e\" x=\"135.986328\"/>\n      <use xlink:href=\"#DejaVuSans-65\" x=\"199.365234\"/>\n     </g>\n    </g>\n   </g>\n   <g id=\"text_2\">\n    <!-- wikiart -->\n    <g transform=\"translate(39.870477 365.903273)scale(0.1 -0.1)\">\n     <defs>\n      <path id=\"DejaVuSans-77\" d=\"M 269 3500 \nL 844 3500 \nL 1563 769 \nL 2278 3500 \nL 2956 3500 \nL 3675 769 \nL 4391 3500 \nL 4966 3500 \nL 4050 0 \nL 3372 0 \nL 2619 2869 \nL 1863 0 \nL 1184 0 \nL 269 3500 \nz\n\" transform=\"scale(0.015625)\"/>\n      <path id=\"DejaVuSans-69\" d=\"M 603 3500 \nL 1178 3500 \nL 1178 0 \nL 603 0 \nL 603 3500 \nz\nM 603 4863 \nL 1178 4863 \nL 1178 4134 \nL 603 4134 \nL 603 4863 \nz\n\" transform=\"scale(0.015625)\"/>\n      <path id=\"DejaVuSans-6b\" d=\"M 581 4863 \nL 1159 4863 \nL 1159 1991 \nL 2875 3500 \nL 3609 3500 \nL 1753 1863 \nL 3688 0 \nL 2938 0 \nL 1159 1709 \nL 1159 0 \nL 581 0 \nL 581 4863 \nz\n\" transform=\"scale(0.015625)\"/>\n      <path id=\"DejaVuSans-61\" d=\"M 2194 1759 \nQ 1497 1759 1228 1600 \nQ 959 1441 959 1056 \nQ 959 750 1161 570 \nQ 1363 391 1709 391 \nQ 2188 391 2477 730 \nQ 2766 1069 2766 1631 \nL 2766 1759 \nL 2194 1759 \nz\nM 3341 1997 \nL 3341 0 \nL 2766 0 \nL 2766 531 \nQ 2569 213 2275 61 \nQ 1981 -91 1556 -91 \nQ 1019 -91 701 211 \nQ 384 513 384 1019 \nQ 384 1609 779 1909 \nQ 1175 2209 1959 2209 \nL 2766 2209 \nL 2766 2266 \nQ 2766 2663 2505 2880 \nQ 2244 3097 1772 3097 \nQ 1472 3097 1187 3025 \nQ 903 2953 641 2809 \nL 641 3341 \nQ 956 3463 1253 3523 \nQ 1550 3584 1831 3584 \nQ 2591 3584 2966 3190 \nQ 3341 2797 3341 1997 \nz\n\" transform=\"scale(0.015625)\"/>\n      <path id=\"DejaVuSans-72\" d=\"M 2631 2963 \nQ 2534 3019 2420 3045 \nQ 2306 3072 2169 3072 \nQ 1681 3072 1420 2755 \nQ 1159 2438 1159 1844 \nL 1159 0 \nL 581 0 \nL 581 3500 \nL 1159 3500 \nL 1159 2956 \nQ 1341 3275 1631 3429 \nQ 1922 3584 2338 3584 \nQ 2397 3584 2469 3576 \nQ 2541 3569 2628 3553 \nL 2631 2963 \nz\n\" transform=\"scale(0.015625)\"/>\n      <path id=\"DejaVuSans-74\" d=\"M 1172 4494 \nL 1172 3500 \nL 2356 3500 \nL 2356 3053 \nL 1172 3053 \nL 1172 1153 \nQ 1172 725 1289 603 \nQ 1406 481 1766 481 \nL 2356 481 \nL 2356 0 \nL 1766 0 \nQ 1100 0 847 248 \nQ 594 497 594 1153 \nL 594 3053 \nL 172 3053 \nL 172 3500 \nL 594 3500 \nL 594 4494 \nL 1172 4494 \nz\n\" transform=\"scale(0.015625)\"/>\n     </defs>\n     <use xlink:href=\"#DejaVuSans-77\"/>\n     <use xlink:href=\"#DejaVuSans-69\" x=\"81.787109\"/>\n     <use xlink:href=\"#DejaVuSans-6b\" x=\"109.570312\"/>\n     <use xlink:href=\"#DejaVuSans-69\" x=\"167.480469\"/>\n     <use xlink:href=\"#DejaVuSans-61\" x=\"195.263672\"/>\n     <use xlink:href=\"#DejaVuSans-72\" x=\"256.542969\"/>\n     <use xlink:href=\"#DejaVuSans-74\" x=\"297.65625\"/>\n    </g>\n   </g>\n   <g id=\"text_3\">\n    <!-- 95.39 -->\n    <g transform=\"translate(220.615005 389.428774)scale(0.1 -0.1)\">\n     <defs>\n      <path id=\"DejaVuSans-39\" d=\"M 703 97 \nL 703 672 \nQ 941 559 1184 500 \nQ 1428 441 1663 441 \nQ 2288 441 2617 861 \nQ 2947 1281 2994 2138 \nQ 2813 1869 2534 1725 \nQ 2256 1581 1919 1581 \nQ 1219 1581 811 2004 \nQ 403 2428 403 3163 \nQ 403 3881 828 4315 \nQ 1253 4750 1959 4750 \nQ 2769 4750 3195 4129 \nQ 3622 3509 3622 2328 \nQ 3622 1225 3098 567 \nQ 2575 -91 1691 -91 \nQ 1453 -91 1209 -44 \nQ 966 3 703 97 \nz\nM 1959 2075 \nQ 2384 2075 2632 2365 \nQ 2881 2656 2881 3163 \nQ 2881 3666 2632 3958 \nQ 2384 4250 1959 4250 \nQ 1534 4250 1286 3958 \nQ 1038 3666 1038 3163 \nQ 1038 2656 1286 2365 \nQ 1534 2075 1959 2075 \nz\n\" transform=\"scale(0.015625)\"/>\n      <path id=\"DejaVuSans-35\" d=\"M 691 4666 \nL 3169 4666 \nL 3169 4134 \nL 1269 4134 \nL 1269 2991 \nQ 1406 3038 1543 3061 \nQ 1681 3084 1819 3084 \nQ 2600 3084 3056 2656 \nQ 3513 2228 3513 1497 \nQ 3513 744 3044 326 \nQ 2575 -91 1722 -91 \nQ 1428 -91 1123 -41 \nQ 819 9 494 109 \nL 494 744 \nQ 775 591 1075 516 \nQ 1375 441 1709 441 \nQ 2250 441 2565 725 \nQ 2881 1009 2881 1497 \nQ 2881 1984 2565 2268 \nQ 2250 2553 1709 2553 \nQ 1456 2553 1204 2497 \nQ 953 2441 691 2322 \nL 691 4666 \nz\n\" transform=\"scale(0.015625)\"/>\n      <path id=\"DejaVuSans-2e\" d=\"M 684 794 \nL 1344 794 \nL 1344 0 \nL 684 0 \nL 684 794 \nz\n\" transform=\"scale(0.015625)\"/>\n      <path id=\"DejaVuSans-33\" d=\"M 2597 2516 \nQ 3050 2419 3304 2112 \nQ 3559 1806 3559 1356 \nQ 3559 666 3084 287 \nQ 2609 -91 1734 -91 \nQ 1441 -91 1130 -33 \nQ 819 25 488 141 \nL 488 750 \nQ 750 597 1062 519 \nQ 1375 441 1716 441 \nQ 2309 441 2620 675 \nQ 2931 909 2931 1356 \nQ 2931 1769 2642 2001 \nQ 2353 2234 1838 2234 \nL 1294 2234 \nL 1294 2753 \nL 1863 2753 \nQ 2328 2753 2575 2939 \nQ 2822 3125 2822 3475 \nQ 2822 3834 2567 4026 \nQ 2313 4219 1838 4219 \nQ 1578 4219 1281 4162 \nQ 984 4106 628 3988 \nL 628 4550 \nQ 988 4650 1302 4700 \nQ 1616 4750 1894 4750 \nQ 2613 4750 3031 4423 \nQ 3450 4097 3450 3541 \nQ 3450 3153 3228 2886 \nQ 3006 2619 2597 2516 \nz\n\" transform=\"scale(0.015625)\"/>\n     </defs>\n     <use xlink:href=\"#DejaVuSans-39\"/>\n     <use xlink:href=\"#DejaVuSans-35\" x=\"63.623047\"/>\n     <use xlink:href=\"#DejaVuSans-2e\" x=\"127.246094\"/>\n     <use xlink:href=\"#DejaVuSans-33\" x=\"159.033203\"/>\n     <use xlink:href=\"#DejaVuSans-39\" x=\"222.65625\"/>\n    </g>\n   </g>\n   <g id=\"text_4\">\n    <!-- wikipedia -->\n    <g transform=\"translate(783.601399 469.415465)scale(0.1 -0.1)\">\n     <defs>\n      <path id=\"DejaVuSans-70\" d=\"M 1159 525 \nL 1159 -1331 \nL 581 -1331 \nL 581 3500 \nL 1159 3500 \nL 1159 2969 \nQ 1341 3281 1617 3432 \nQ 1894 3584 2278 3584 \nQ 2916 3584 3314 3078 \nQ 3713 2572 3713 1747 \nQ 3713 922 3314 415 \nQ 2916 -91 2278 -91 \nQ 1894 -91 1617 61 \nQ 1341 213 1159 525 \nz\nM 3116 1747 \nQ 3116 2381 2855 2742 \nQ 2594 3103 2138 3103 \nQ 1681 3103 1420 2742 \nQ 1159 2381 1159 1747 \nQ 1159 1113 1420 752 \nQ 1681 391 2138 391 \nQ 2594 391 2855 752 \nQ 3116 1113 3116 1747 \nz\n\" transform=\"scale(0.015625)\"/>\n      <path id=\"DejaVuSans-64\" d=\"M 2906 2969 \nL 2906 4863 \nL 3481 4863 \nL 3481 0 \nL 2906 0 \nL 2906 525 \nQ 2725 213 2448 61 \nQ 2172 -91 1784 -91 \nQ 1150 -91 751 415 \nQ 353 922 353 1747 \nQ 353 2572 751 3078 \nQ 1150 3584 1784 3584 \nQ 2172 3584 2448 3432 \nQ 2725 3281 2906 2969 \nz\nM 947 1747 \nQ 947 1113 1208 752 \nQ 1469 391 1925 391 \nQ 2381 391 2643 752 \nQ 2906 1113 2906 1747 \nQ 2906 2381 2643 2742 \nQ 2381 3103 1925 3103 \nQ 1469 3103 1208 2742 \nQ 947 2381 947 1747 \nz\n\" transform=\"scale(0.015625)\"/>\n     </defs>\n     <use xlink:href=\"#DejaVuSans-77\"/>\n     <use xlink:href=\"#DejaVuSans-69\" x=\"81.787109\"/>\n     <use xlink:href=\"#DejaVuSans-6b\" x=\"109.570312\"/>\n     <use xlink:href=\"#DejaVuSans-69\" x=\"167.480469\"/>\n     <use xlink:href=\"#DejaVuSans-70\" x=\"195.263672\"/>\n     <use xlink:href=\"#DejaVuSans-65\" x=\"258.740234\"/>\n     <use xlink:href=\"#DejaVuSans-64\" x=\"320.263672\"/>\n     <use xlink:href=\"#DejaVuSans-69\" x=\"383.740234\"/>\n     <use xlink:href=\"#DejaVuSans-61\" x=\"411.523438\"/>\n    </g>\n   </g>\n   <g id=\"text_5\">\n    <!-- 4.61 -->\n    <g transform=\"translate(611.094371 445.88997)scale(0.1 -0.1)\">\n     <defs>\n      <path id=\"DejaVuSans-34\" d=\"M 2419 4116 \nL 825 1625 \nL 2419 1625 \nL 2419 4116 \nz\nM 2253 4666 \nL 3047 4666 \nL 3047 1625 \nL 3713 1625 \nL 3713 1100 \nL 3047 1100 \nL 3047 0 \nL 2419 0 \nL 2419 1100 \nL 313 1100 \nL 313 1709 \nL 2253 4666 \nz\n\" transform=\"scale(0.015625)\"/>\n      <path id=\"DejaVuSans-36\" d=\"M 2113 2584 \nQ 1688 2584 1439 2293 \nQ 1191 2003 1191 1497 \nQ 1191 994 1439 701 \nQ 1688 409 2113 409 \nQ 2538 409 2786 701 \nQ 3034 994 3034 1497 \nQ 3034 2003 2786 2293 \nQ 2538 2584 2113 2584 \nz\nM 3366 4563 \nL 3366 3988 \nQ 3128 4100 2886 4159 \nQ 2644 4219 2406 4219 \nQ 1781 4219 1451 3797 \nQ 1122 3375 1075 2522 \nQ 1259 2794 1537 2939 \nQ 1816 3084 2150 3084 \nQ 2853 3084 3261 2657 \nQ 3669 2231 3669 1497 \nQ 3669 778 3244 343 \nQ 2819 -91 2113 -91 \nQ 1303 -91 875 529 \nQ 447 1150 447 2328 \nQ 447 3434 972 4092 \nQ 1497 4750 2381 4750 \nQ 2619 4750 2861 4703 \nQ 3103 4656 3366 4563 \nz\n\" transform=\"scale(0.015625)\"/>\n      <path id=\"DejaVuSans-31\" d=\"M 794 531 \nL 1825 531 \nL 1825 4091 \nL 703 3866 \nL 703 4441 \nL 1819 4666 \nL 2450 4666 \nL 2450 531 \nL 3481 531 \nL 3481 0 \nL 794 0 \nL 794 531 \nz\n\" transform=\"scale(0.015625)\"/>\n     </defs>\n     <use xlink:href=\"#DejaVuSans-34\"/>\n     <use xlink:href=\"#DejaVuSans-2e\" x=\"63.623047\"/>\n     <use xlink:href=\"#DejaVuSans-36\" x=\"95.410156\"/>\n     <use xlink:href=\"#DejaVuSans-31\" x=\"159.033203\"/>\n    </g>\n   </g>\n  </g>\n </g>\n</svg>\n",
      "text/plain": [
       "<Figure size 1080x1080 with 1 Axes>"
      ]
     },
     "metadata": {},
     "output_type": "display_data"
    }
   ],
   "source": [
    "all_data_info.groupby('source').size().plot(kind='pie', autopct='%.2f');\n",
    "plt.show()"
   ]
  },
  {
   "cell_type": "markdown",
   "metadata": {},
   "source": [
    "### Portraits"
   ]
  },
  {
   "cell_type": "code",
   "execution_count": 72,
   "metadata": {},
   "outputs": [
    {
     "data": {
      "text/html": [
       "<div>\n",
       "<style scoped>\n",
       "    .dataframe tbody tr th:only-of-type {\n",
       "        vertical-align: middle;\n",
       "    }\n",
       "\n",
       "    .dataframe tbody tr th {\n",
       "        vertical-align: top;\n",
       "    }\n",
       "\n",
       "    .dataframe thead th {\n",
       "        text-align: right;\n",
       "    }\n",
       "</style>\n",
       "<table border=\"1\" class=\"dataframe\">\n",
       "  <thead>\n",
       "    <tr style=\"text-align: right;\">\n",
       "      <th></th>\n",
       "      <th>artist</th>\n",
       "      <th>date</th>\n",
       "      <th>genre</th>\n",
       "      <th>source</th>\n",
       "      <th>style</th>\n",
       "      <th>title</th>\n",
       "      <th>new_filename</th>\n",
       "    </tr>\n",
       "  </thead>\n",
       "  <tbody>\n",
       "    <tr>\n",
       "      <th>32</th>\n",
       "      <td>Diego Velazquez</td>\n",
       "      <td>1645</td>\n",
       "      <td>self-portrait</td>\n",
       "      <td>wikiart</td>\n",
       "      <td>Baroque</td>\n",
       "      <td>Self-portrait</td>\n",
       "      <td>70728.jpg</td>\n",
       "    </tr>\n",
       "    <tr>\n",
       "      <th>37</th>\n",
       "      <td>Titian</td>\n",
       "      <td>1562</td>\n",
       "      <td>self-portrait</td>\n",
       "      <td>wikiart</td>\n",
       "      <td>Mannerism (Late Renaissance)</td>\n",
       "      <td>Self-portrait</td>\n",
       "      <td>15715.jpg</td>\n",
       "    </tr>\n",
       "    <tr>\n",
       "      <th>38</th>\n",
       "      <td>Gerrit Dou</td>\n",
       "      <td>1635</td>\n",
       "      <td>self-portrait</td>\n",
       "      <td>wikiart</td>\n",
       "      <td>Baroque</td>\n",
       "      <td>Self Portrait</td>\n",
       "      <td>59486.jpg</td>\n",
       "    </tr>\n",
       "    <tr>\n",
       "      <th>48</th>\n",
       "      <td>Jan van Eyck</td>\n",
       "      <td>1433</td>\n",
       "      <td>portrait</td>\n",
       "      <td>wikiart</td>\n",
       "      <td>Northern Renaissance</td>\n",
       "      <td>A Man in a Turban</td>\n",
       "      <td>65895.jpg</td>\n",
       "    </tr>\n",
       "    <tr>\n",
       "      <th>73</th>\n",
       "      <td>Lorenzo Lotto</td>\n",
       "      <td>1547</td>\n",
       "      <td>portrait</td>\n",
       "      <td>wikiart</td>\n",
       "      <td>High Renaissance</td>\n",
       "      <td>Portrait of Giovanni della Volta with his Wife...</td>\n",
       "      <td>5194.jpg</td>\n",
       "    </tr>\n",
       "  </tbody>\n",
       "</table>\n",
       "</div>"
      ],
      "text/plain": [
       "             artist  date          genre   source  \\\n",
       "32  Diego Velazquez  1645  self-portrait  wikiart   \n",
       "37           Titian  1562  self-portrait  wikiart   \n",
       "38       Gerrit Dou  1635  self-portrait  wikiart   \n",
       "48     Jan van Eyck  1433       portrait  wikiart   \n",
       "73    Lorenzo Lotto  1547       portrait  wikiart   \n",
       "\n",
       "                           style  \\\n",
       "32                       Baroque   \n",
       "37  Mannerism (Late Renaissance)   \n",
       "38                       Baroque   \n",
       "48          Northern Renaissance   \n",
       "73              High Renaissance   \n",
       "\n",
       "                                                title new_filename  \n",
       "32                                      Self-portrait    70728.jpg  \n",
       "37                                      Self-portrait    15715.jpg  \n",
       "38                                     Self Portrait     59486.jpg  \n",
       "48                                  A Man in a Turban    65895.jpg  \n",
       "73  Portrait of Giovanni della Volta with his Wife...     5194.jpg  "
      ]
     },
     "execution_count": 72,
     "metadata": {},
     "output_type": "execute_result"
    }
   ],
   "source": [
    "portrait_info = all_data_info[((all_data_info[\"genre\"]==\"portrait\") | (all_data_info[\"genre\"]==\"self-portrait\"))]\n",
    "portrait_info = portrait_info[portrait_info['date']<=1800]\n",
    "portrait_info.head()"
   ]
  },
  {
   "cell_type": "markdown",
   "metadata": {},
   "source": [
    "#### Styles Distribution"
   ]
  },
  {
   "cell_type": "code",
   "execution_count": 73,
   "metadata": {},
   "outputs": [
    {
     "data": {
      "application/vnd.plotly.v1+json": {
       "config": {
        "plotlyServerURL": "https://plot.ly"
       },
       "data": [
        {
         "branchvalues": "total",
         "domain": {
          "x": [
           0,
           1
          ],
          "y": [
           0,
           1
          ]
         },
         "hovertemplate": "labels=%{label}<br>artist=%{value}<br>parent=%{parent}<br>id=%{id}<extra></extra>",
         "ids": [
          "Baroque",
          "Classicism",
          "Early Renaissance",
          "Gongbi",
          "High Renaissance",
          "Ink and wash painting",
          "Mannerism (Late Renaissance)",
          "Naïve Art (Primitivism)",
          "Neoclassicism",
          "Northern Renaissance",
          "Rococo",
          "Romanticism",
          "Tenebrism",
          "Ukiyo-e"
         ],
         "labels": [
          "Baroque",
          "Classicism",
          "Early Renaissance",
          "Gongbi",
          "High Renaissance",
          "Ink and wash painting",
          "Mannerism (Late Renaissance)",
          "Naïve Art (Primitivism)",
          "Neoclassicism",
          "Northern Renaissance",
          "Rococo",
          "Romanticism",
          "Tenebrism",
          "Ukiyo-e"
         ],
         "name": "",
         "parents": [
          "",
          "",
          "",
          "",
          "",
          "",
          "",
          "",
          "",
          "",
          "",
          "",
          "",
          ""
         ],
         "type": "treemap",
         "values": [
          895,
          2,
          79,
          1,
          175,
          4,
          256,
          2,
          203,
          349,
          995,
          183,
          16,
          11
         ]
        }
       ],
       "layout": {
        "font": {
         "color": "RebeccaPurple",
         "family": "Courier New, monospace",
         "size": 100
        },
        "height": 800,
        "legend": {
         "tracegroupgap": 0
        },
        "margin": {
         "t": 60
        },
        "template": {
         "data": {
          "bar": [
           {
            "error_x": {
             "color": "#2a3f5f"
            },
            "error_y": {
             "color": "#2a3f5f"
            },
            "marker": {
             "line": {
              "color": "#E5ECF6",
              "width": 0.5
             },
             "pattern": {
              "fillmode": "overlay",
              "size": 10,
              "solidity": 0.2
             }
            },
            "type": "bar"
           }
          ],
          "barpolar": [
           {
            "marker": {
             "line": {
              "color": "#E5ECF6",
              "width": 0.5
             },
             "pattern": {
              "fillmode": "overlay",
              "size": 10,
              "solidity": 0.2
             }
            },
            "type": "barpolar"
           }
          ],
          "carpet": [
           {
            "aaxis": {
             "endlinecolor": "#2a3f5f",
             "gridcolor": "white",
             "linecolor": "white",
             "minorgridcolor": "white",
             "startlinecolor": "#2a3f5f"
            },
            "baxis": {
             "endlinecolor": "#2a3f5f",
             "gridcolor": "white",
             "linecolor": "white",
             "minorgridcolor": "white",
             "startlinecolor": "#2a3f5f"
            },
            "type": "carpet"
           }
          ],
          "choropleth": [
           {
            "colorbar": {
             "outlinewidth": 0,
             "ticks": ""
            },
            "type": "choropleth"
           }
          ],
          "contour": [
           {
            "colorbar": {
             "outlinewidth": 0,
             "ticks": ""
            },
            "colorscale": [
             [
              0,
              "#0d0887"
             ],
             [
              0.1111111111111111,
              "#46039f"
             ],
             [
              0.2222222222222222,
              "#7201a8"
             ],
             [
              0.3333333333333333,
              "#9c179e"
             ],
             [
              0.4444444444444444,
              "#bd3786"
             ],
             [
              0.5555555555555556,
              "#d8576b"
             ],
             [
              0.6666666666666666,
              "#ed7953"
             ],
             [
              0.7777777777777778,
              "#fb9f3a"
             ],
             [
              0.8888888888888888,
              "#fdca26"
             ],
             [
              1,
              "#f0f921"
             ]
            ],
            "type": "contour"
           }
          ],
          "contourcarpet": [
           {
            "colorbar": {
             "outlinewidth": 0,
             "ticks": ""
            },
            "type": "contourcarpet"
           }
          ],
          "heatmap": [
           {
            "colorbar": {
             "outlinewidth": 0,
             "ticks": ""
            },
            "colorscale": [
             [
              0,
              "#0d0887"
             ],
             [
              0.1111111111111111,
              "#46039f"
             ],
             [
              0.2222222222222222,
              "#7201a8"
             ],
             [
              0.3333333333333333,
              "#9c179e"
             ],
             [
              0.4444444444444444,
              "#bd3786"
             ],
             [
              0.5555555555555556,
              "#d8576b"
             ],
             [
              0.6666666666666666,
              "#ed7953"
             ],
             [
              0.7777777777777778,
              "#fb9f3a"
             ],
             [
              0.8888888888888888,
              "#fdca26"
             ],
             [
              1,
              "#f0f921"
             ]
            ],
            "type": "heatmap"
           }
          ],
          "heatmapgl": [
           {
            "colorbar": {
             "outlinewidth": 0,
             "ticks": ""
            },
            "colorscale": [
             [
              0,
              "#0d0887"
             ],
             [
              0.1111111111111111,
              "#46039f"
             ],
             [
              0.2222222222222222,
              "#7201a8"
             ],
             [
              0.3333333333333333,
              "#9c179e"
             ],
             [
              0.4444444444444444,
              "#bd3786"
             ],
             [
              0.5555555555555556,
              "#d8576b"
             ],
             [
              0.6666666666666666,
              "#ed7953"
             ],
             [
              0.7777777777777778,
              "#fb9f3a"
             ],
             [
              0.8888888888888888,
              "#fdca26"
             ],
             [
              1,
              "#f0f921"
             ]
            ],
            "type": "heatmapgl"
           }
          ],
          "histogram": [
           {
            "marker": {
             "pattern": {
              "fillmode": "overlay",
              "size": 10,
              "solidity": 0.2
             }
            },
            "type": "histogram"
           }
          ],
          "histogram2d": [
           {
            "colorbar": {
             "outlinewidth": 0,
             "ticks": ""
            },
            "colorscale": [
             [
              0,
              "#0d0887"
             ],
             [
              0.1111111111111111,
              "#46039f"
             ],
             [
              0.2222222222222222,
              "#7201a8"
             ],
             [
              0.3333333333333333,
              "#9c179e"
             ],
             [
              0.4444444444444444,
              "#bd3786"
             ],
             [
              0.5555555555555556,
              "#d8576b"
             ],
             [
              0.6666666666666666,
              "#ed7953"
             ],
             [
              0.7777777777777778,
              "#fb9f3a"
             ],
             [
              0.8888888888888888,
              "#fdca26"
             ],
             [
              1,
              "#f0f921"
             ]
            ],
            "type": "histogram2d"
           }
          ],
          "histogram2dcontour": [
           {
            "colorbar": {
             "outlinewidth": 0,
             "ticks": ""
            },
            "colorscale": [
             [
              0,
              "#0d0887"
             ],
             [
              0.1111111111111111,
              "#46039f"
             ],
             [
              0.2222222222222222,
              "#7201a8"
             ],
             [
              0.3333333333333333,
              "#9c179e"
             ],
             [
              0.4444444444444444,
              "#bd3786"
             ],
             [
              0.5555555555555556,
              "#d8576b"
             ],
             [
              0.6666666666666666,
              "#ed7953"
             ],
             [
              0.7777777777777778,
              "#fb9f3a"
             ],
             [
              0.8888888888888888,
              "#fdca26"
             ],
             [
              1,
              "#f0f921"
             ]
            ],
            "type": "histogram2dcontour"
           }
          ],
          "mesh3d": [
           {
            "colorbar": {
             "outlinewidth": 0,
             "ticks": ""
            },
            "type": "mesh3d"
           }
          ],
          "parcoords": [
           {
            "line": {
             "colorbar": {
              "outlinewidth": 0,
              "ticks": ""
             }
            },
            "type": "parcoords"
           }
          ],
          "pie": [
           {
            "automargin": true,
            "type": "pie"
           }
          ],
          "scatter": [
           {
            "fillpattern": {
             "fillmode": "overlay",
             "size": 10,
             "solidity": 0.2
            },
            "type": "scatter"
           }
          ],
          "scatter3d": [
           {
            "line": {
             "colorbar": {
              "outlinewidth": 0,
              "ticks": ""
             }
            },
            "marker": {
             "colorbar": {
              "outlinewidth": 0,
              "ticks": ""
             }
            },
            "type": "scatter3d"
           }
          ],
          "scattercarpet": [
           {
            "marker": {
             "colorbar": {
              "outlinewidth": 0,
              "ticks": ""
             }
            },
            "type": "scattercarpet"
           }
          ],
          "scattergeo": [
           {
            "marker": {
             "colorbar": {
              "outlinewidth": 0,
              "ticks": ""
             }
            },
            "type": "scattergeo"
           }
          ],
          "scattergl": [
           {
            "marker": {
             "colorbar": {
              "outlinewidth": 0,
              "ticks": ""
             }
            },
            "type": "scattergl"
           }
          ],
          "scattermapbox": [
           {
            "marker": {
             "colorbar": {
              "outlinewidth": 0,
              "ticks": ""
             }
            },
            "type": "scattermapbox"
           }
          ],
          "scatterpolar": [
           {
            "marker": {
             "colorbar": {
              "outlinewidth": 0,
              "ticks": ""
             }
            },
            "type": "scatterpolar"
           }
          ],
          "scatterpolargl": [
           {
            "marker": {
             "colorbar": {
              "outlinewidth": 0,
              "ticks": ""
             }
            },
            "type": "scatterpolargl"
           }
          ],
          "scatterternary": [
           {
            "marker": {
             "colorbar": {
              "outlinewidth": 0,
              "ticks": ""
             }
            },
            "type": "scatterternary"
           }
          ],
          "surface": [
           {
            "colorbar": {
             "outlinewidth": 0,
             "ticks": ""
            },
            "colorscale": [
             [
              0,
              "#0d0887"
             ],
             [
              0.1111111111111111,
              "#46039f"
             ],
             [
              0.2222222222222222,
              "#7201a8"
             ],
             [
              0.3333333333333333,
              "#9c179e"
             ],
             [
              0.4444444444444444,
              "#bd3786"
             ],
             [
              0.5555555555555556,
              "#d8576b"
             ],
             [
              0.6666666666666666,
              "#ed7953"
             ],
             [
              0.7777777777777778,
              "#fb9f3a"
             ],
             [
              0.8888888888888888,
              "#fdca26"
             ],
             [
              1,
              "#f0f921"
             ]
            ],
            "type": "surface"
           }
          ],
          "table": [
           {
            "cells": {
             "fill": {
              "color": "#EBF0F8"
             },
             "line": {
              "color": "white"
             }
            },
            "header": {
             "fill": {
              "color": "#C8D4E3"
             },
             "line": {
              "color": "white"
             }
            },
            "type": "table"
           }
          ]
         },
         "layout": {
          "annotationdefaults": {
           "arrowcolor": "#2a3f5f",
           "arrowhead": 0,
           "arrowwidth": 1
          },
          "autotypenumbers": "strict",
          "coloraxis": {
           "colorbar": {
            "outlinewidth": 0,
            "ticks": ""
           }
          },
          "colorscale": {
           "diverging": [
            [
             0,
             "#8e0152"
            ],
            [
             0.1,
             "#c51b7d"
            ],
            [
             0.2,
             "#de77ae"
            ],
            [
             0.3,
             "#f1b6da"
            ],
            [
             0.4,
             "#fde0ef"
            ],
            [
             0.5,
             "#f7f7f7"
            ],
            [
             0.6,
             "#e6f5d0"
            ],
            [
             0.7,
             "#b8e186"
            ],
            [
             0.8,
             "#7fbc41"
            ],
            [
             0.9,
             "#4d9221"
            ],
            [
             1,
             "#276419"
            ]
           ],
           "sequential": [
            [
             0,
             "#0d0887"
            ],
            [
             0.1111111111111111,
             "#46039f"
            ],
            [
             0.2222222222222222,
             "#7201a8"
            ],
            [
             0.3333333333333333,
             "#9c179e"
            ],
            [
             0.4444444444444444,
             "#bd3786"
            ],
            [
             0.5555555555555556,
             "#d8576b"
            ],
            [
             0.6666666666666666,
             "#ed7953"
            ],
            [
             0.7777777777777778,
             "#fb9f3a"
            ],
            [
             0.8888888888888888,
             "#fdca26"
            ],
            [
             1,
             "#f0f921"
            ]
           ],
           "sequentialminus": [
            [
             0,
             "#0d0887"
            ],
            [
             0.1111111111111111,
             "#46039f"
            ],
            [
             0.2222222222222222,
             "#7201a8"
            ],
            [
             0.3333333333333333,
             "#9c179e"
            ],
            [
             0.4444444444444444,
             "#bd3786"
            ],
            [
             0.5555555555555556,
             "#d8576b"
            ],
            [
             0.6666666666666666,
             "#ed7953"
            ],
            [
             0.7777777777777778,
             "#fb9f3a"
            ],
            [
             0.8888888888888888,
             "#fdca26"
            ],
            [
             1,
             "#f0f921"
            ]
           ]
          },
          "colorway": [
           "#636efa",
           "#EF553B",
           "#00cc96",
           "#ab63fa",
           "#FFA15A",
           "#19d3f3",
           "#FF6692",
           "#B6E880",
           "#FF97FF",
           "#FECB52"
          ],
          "font": {
           "color": "#2a3f5f"
          },
          "geo": {
           "bgcolor": "white",
           "lakecolor": "white",
           "landcolor": "#E5ECF6",
           "showlakes": true,
           "showland": true,
           "subunitcolor": "white"
          },
          "hoverlabel": {
           "align": "left"
          },
          "hovermode": "closest",
          "mapbox": {
           "style": "light"
          },
          "paper_bgcolor": "white",
          "plot_bgcolor": "#E5ECF6",
          "polar": {
           "angularaxis": {
            "gridcolor": "white",
            "linecolor": "white",
            "ticks": ""
           },
           "bgcolor": "#E5ECF6",
           "radialaxis": {
            "gridcolor": "white",
            "linecolor": "white",
            "ticks": ""
           }
          },
          "scene": {
           "xaxis": {
            "backgroundcolor": "#E5ECF6",
            "gridcolor": "white",
            "gridwidth": 2,
            "linecolor": "white",
            "showbackground": true,
            "ticks": "",
            "zerolinecolor": "white"
           },
           "yaxis": {
            "backgroundcolor": "#E5ECF6",
            "gridcolor": "white",
            "gridwidth": 2,
            "linecolor": "white",
            "showbackground": true,
            "ticks": "",
            "zerolinecolor": "white"
           },
           "zaxis": {
            "backgroundcolor": "#E5ECF6",
            "gridcolor": "white",
            "gridwidth": 2,
            "linecolor": "white",
            "showbackground": true,
            "ticks": "",
            "zerolinecolor": "white"
           }
          },
          "shapedefaults": {
           "line": {
            "color": "#2a3f5f"
           }
          },
          "ternary": {
           "aaxis": {
            "gridcolor": "white",
            "linecolor": "white",
            "ticks": ""
           },
           "baxis": {
            "gridcolor": "white",
            "linecolor": "white",
            "ticks": ""
           },
           "bgcolor": "#E5ECF6",
           "caxis": {
            "gridcolor": "white",
            "linecolor": "white",
            "ticks": ""
           }
          },
          "title": {
           "x": 0.05
          },
          "xaxis": {
           "automargin": true,
           "gridcolor": "white",
           "linecolor": "white",
           "ticks": "",
           "title": {
            "standoff": 15
           },
           "zerolinecolor": "white",
           "zerolinewidth": 2
          },
          "yaxis": {
           "automargin": true,
           "gridcolor": "white",
           "linecolor": "white",
           "ticks": "",
           "title": {
            "standoff": 15
           },
           "zerolinecolor": "white",
           "zerolinewidth": 2
          }
         }
        },
        "width": 800
       }
      }
     },
     "metadata": {},
     "output_type": "display_data"
    }
   ],
   "source": [
    "sytle_dist = portrait_info.groupby('style').count()[['artist']]\n",
    "sytle_dist.reset_index(inplace=True)\n",
    "fig2 = px.treemap(sytle_dist, path=['style'], values = 'artist', width=800, height=800)\n",
    "fig2.update_layout(\n",
    "    font=dict(\n",
    "        family=\"Courier New, monospace\",\n",
    "        size=100,\n",
    "        color=\"RebeccaPurple\"\n",
    "    )\n",
    ")\n",
    "fig2.show()"
   ]
  },
  {
   "cell_type": "markdown",
   "metadata": {},
   "source": [
    "#### Year Distribution of Portraits"
   ]
  },
  {
   "cell_type": "code",
   "execution_count": 97,
   "metadata": {},
   "outputs": [
    {
     "data": {
      "image/png": "[encoded data removed]",
      "image/svg+xml": "<?xml version=\"1.0\" encoding=\"utf-8\" standalone=\"no\"?>\n<!DOCTYPE svg PUBLIC \"-//W3C//DTD SVG 1.1//EN\"\n  \"http://www.w3.org/Graphics/SVG/1.1/DTD/svg11.dtd\">\n<svg xmlns:xlink=\"http://www.w3.org/1999/xlink\" width=\"631.253125pt\" height=\"320.355469pt\" viewBox=\"0 0 631.253125 320.355469\" xmlns=\"http://www.w3.org/2000/svg\" version=\"1.1\">\n <metadata>\n  <rdf:RDF xmlns:dc=\"http://purl.org/dc/elements/1.1/\" xmlns:cc=\"http://creativecommons.org/ns#\" xmlns:rdf=\"http://www.w3.org/1999/02/22-rdf-syntax-ns#\">\n   <cc:Work>\n    <dc:type rdf:resource=\"http://purl.org/dc/dcmitype/StillImage\"/>\n    <dc:date>2022-06-05T18:25:11.158943</dc:date>\n    <dc:format>image/svg+xml</dc:format>\n    <dc:creator>\n     <cc:Agent>\n      <dc:title>Matplotlib v3.5.1, https://matplotlib.org/</dc:title>\n     </cc:Agent>\n    </dc:creator>\n   </cc:Work>\n  </rdf:RDF>\n </metadata>\n <defs>\n  <style type=\"text/css\">*{stroke-linejoin: round; stroke-linecap: butt}</style>\n </defs>\n <g id=\"figure_1\">\n  <g id=\"patch_1\">\n   <path d=\"M 0 320.355469 \nL 631.253125 320.355469 \nL 631.253125 0 \nL 0 0 \nL 0 320.355469 \nz\n\" style=\"fill: none\"/>\n  </g>\n  <g id=\"axes_1\">\n   <g id=\"patch_2\">\n    <path d=\"M 53.328125 282.799219 \nL 611.328125 282.799219 \nL 611.328125 10.999219 \nL 53.328125 10.999219 \nz\n\" style=\"fill: #ffffff\"/>\n   </g>\n   <g id=\"patch_3\">\n    <path d=\"M -1638.806875 282.799219 \nL -1630.315975 282.799219 \nL -1630.315975 282.527419 \nL -1638.806875 282.527419 \nz\n\" clip-path=\"url(#p34f15d4daf)\" style=\"fill: #1f77b4; opacity: 0.5\"/>\n   </g>\n   <g id=\"patch_4\">\n    <path d=\"M -1630.315975 282.799219 \nL -1621.825075 282.799219 \nL -1621.825075 282.799219 \nL -1630.315975 282.799219 \nz\n\" clip-path=\"url(#p34f15d4daf)\" style=\"fill: #1f77b4; opacity: 0.5\"/>\n   </g>\n   <g id=\"patch_5\">\n    <path d=\"M -1621.825075 282.799219 \nL -1613.334175 282.799219 \nL -1613.334175 282.799219 \nL -1621.825075 282.799219 \nz\n\" clip-path=\"url(#p34f15d4daf)\" style=\"fill: #1f77b4; opacity: 0.5\"/>\n   </g>\n   <g id=\"patch_6\">\n    <path d=\"M -1613.334175 282.799219 \nL -1604.843275 282.799219 \nL -1604.843275 282.799219 \nL -1613.334175 282.799219 \nz\n\" clip-path=\"url(#p34f15d4daf)\" style=\"fill: #1f77b4; opacity: 0.5\"/>\n   </g>\n   <g id=\"patch_7\">\n    <path d=\"M -1604.843275 282.799219 \nL -1596.352375 282.799219 \nL -1596.352375 282.799219 \nL -1604.843275 282.799219 \nz\n\" clip-path=\"url(#p34f15d4daf)\" style=\"fill: #1f77b4; opacity: 0.5\"/>\n   </g>\n   <g id=\"patch_8\">\n    <path d=\"M -1596.352375 282.799219 \nL -1587.861475 282.799219 \nL -1587.861475 282.799219 \nL -1596.352375 282.799219 \nz\n\" clip-path=\"url(#p34f15d4daf)\" style=\"fill: #1f77b4; opacity: 0.5\"/>\n   </g>\n   <g id=\"patch_9\">\n    <path d=\"M -1587.861475 282.799219 \nL -1579.370575 282.799219 \nL -1579.370575 282.799219 \nL -1587.861475 282.799219 \nz\n\" clip-path=\"url(#p34f15d4daf)\" style=\"fill: #1f77b4; opacity: 0.5\"/>\n   </g>\n   <g id=\"patch_10\">\n    <path d=\"M -1579.370575 282.799219 \nL -1570.879675 282.799219 \nL -1570.879675 282.799219 \nL -1579.370575 282.799219 \nz\n\" clip-path=\"url(#p34f15d4daf)\" style=\"fill: #1f77b4; opacity: 0.5\"/>\n   </g>\n   <g id=\"patch_11\">\n    <path d=\"M -1570.879675 282.799219 \nL -1562.388775 282.799219 \nL -1562.388775 282.799219 \nL -1570.879675 282.799219 \nz\n\" clip-path=\"url(#p34f15d4daf)\" style=\"fill: #1f77b4; opacity: 0.5\"/>\n   </g>\n   <g id=\"patch_12\">\n    <path d=\"M -1562.388775 282.799219 \nL -1553.897875 282.799219 \nL -1553.897875 282.799219 \nL -1562.388775 282.799219 \nz\n\" clip-path=\"url(#p34f15d4daf)\" style=\"fill: #1f77b4; opacity: 0.5\"/>\n   </g>\n   <g id=\"patch_13\">\n    <path d=\"M -1553.897875 282.799219 \nL -1545.406975 282.799219 \nL -1545.406975 282.799219 \nL -1553.897875 282.799219 \nz\n\" clip-path=\"url(#p34f15d4daf)\" style=\"fill: #1f77b4; opacity: 0.5\"/>\n   </g>\n   <g id=\"patch_14\">\n    <path d=\"M -1545.406975 282.799219 \nL -1536.916075 282.799219 \nL -1536.916075 282.799219 \nL -1545.406975 282.799219 \nz\n\" clip-path=\"url(#p34f15d4daf)\" style=\"fill: #1f77b4; opacity: 0.5\"/>\n   </g>\n   <g id=\"patch_15\">\n    <path d=\"M -1536.916075 282.799219 \nL -1528.425175 282.799219 \nL -1528.425175 282.799219 \nL -1536.916075 282.799219 \nz\n\" clip-path=\"url(#p34f15d4daf)\" style=\"fill: #1f77b4; opacity: 0.5\"/>\n   </g>\n   <g id=\"patch_16\">\n    <path d=\"M -1528.425175 282.799219 \nL -1519.934275 282.799219 \nL -1519.934275 282.799219 \nL -1528.425175 282.799219 \nz\n\" clip-path=\"url(#p34f15d4daf)\" style=\"fill: #1f77b4; opacity: 0.5\"/>\n   </g>\n   <g id=\"patch_17\">\n    <path d=\"M -1519.934275 282.799219 \nL -1511.443375 282.799219 \nL -1511.443375 282.799219 \nL -1519.934275 282.799219 \nz\n\" clip-path=\"url(#p34f15d4daf)\" style=\"fill: #1f77b4; opacity: 0.5\"/>\n   </g>\n   <g id=\"patch_18\">\n    <path d=\"M -1511.443375 282.799219 \nL -1502.952475 282.799219 \nL -1502.952475 282.799219 \nL -1511.443375 282.799219 \nz\n\" clip-path=\"url(#p34f15d4daf)\" style=\"fill: #1f77b4; opacity: 0.5\"/>\n   </g>\n   <g id=\"patch_19\">\n    <path d=\"M -1502.952475 282.799219 \nL -1494.461575 282.799219 \nL -1494.461575 282.799219 \nL -1502.952475 282.799219 \nz\n\" clip-path=\"url(#p34f15d4daf)\" style=\"fill: #1f77b4; opacity: 0.5\"/>\n   </g>\n   <g id=\"patch_20\">\n    <path d=\"M -1494.461575 282.799219 \nL -1485.970675 282.799219 \nL -1485.970675 282.799219 \nL -1494.461575 282.799219 \nz\n\" clip-path=\"url(#p34f15d4daf)\" style=\"fill: #1f77b4; opacity: 0.5\"/>\n   </g>\n   <g id=\"patch_21\">\n    <path d=\"M -1485.970675 282.799219 \nL -1477.479775 282.799219 \nL -1477.479775 282.799219 \nL -1485.970675 282.799219 \nz\n\" clip-path=\"url(#p34f15d4daf)\" style=\"fill: #1f77b4; opacity: 0.5\"/>\n   </g>\n   <g id=\"patch_22\">\n    <path d=\"M -1477.479775 282.799219 \nL -1468.988875 282.799219 \nL -1468.988875 282.799219 \nL -1477.479775 282.799219 \nz\n\" clip-path=\"url(#p34f15d4daf)\" style=\"fill: #1f77b4; opacity: 0.5\"/>\n   </g>\n   <g id=\"patch_23\">\n    <path d=\"M -1468.988875 282.799219 \nL -1460.497975 282.799219 \nL -1460.497975 282.799219 \nL -1468.988875 282.799219 \nz\n\" clip-path=\"url(#p34f15d4daf)\" style=\"fill: #1f77b4; opacity: 0.5\"/>\n   </g>\n   <g id=\"patch_24\">\n    <path d=\"M -1460.497975 282.799219 \nL -1452.007075 282.799219 \nL -1452.007075 282.799219 \nL -1460.497975 282.799219 \nz\n\" clip-path=\"url(#p34f15d4daf)\" style=\"fill: #1f77b4; opacity: 0.5\"/>\n   </g>\n   <g id=\"patch_25\">\n    <path d=\"M -1452.007075 282.799219 \nL -1443.516175 282.799219 \nL -1443.516175 282.799219 \nL -1452.007075 282.799219 \nz\n\" clip-path=\"url(#p34f15d4daf)\" style=\"fill: #1f77b4; opacity: 0.5\"/>\n   </g>\n   <g id=\"patch_26\">\n    <path d=\"M -1443.516175 282.799219 \nL -1435.025275 282.799219 \nL -1435.025275 282.799219 \nL -1443.516175 282.799219 \nz\n\" clip-path=\"url(#p34f15d4daf)\" style=\"fill: #1f77b4; opacity: 0.5\"/>\n   </g>\n   <g id=\"patch_27\">\n    <path d=\"M -1435.025275 282.799219 \nL -1426.534375 282.799219 \nL -1426.534375 282.799219 \nL -1435.025275 282.799219 \nz\n\" clip-path=\"url(#p34f15d4daf)\" style=\"fill: #1f77b4; opacity: 0.5\"/>\n   </g>\n   <g id=\"patch_28\">\n    <path d=\"M -1426.534375 282.799219 \nL -1418.043475 282.799219 \nL -1418.043475 282.799219 \nL -1426.534375 282.799219 \nz\n\" clip-path=\"url(#p34f15d4daf)\" style=\"fill: #1f77b4; opacity: 0.5\"/>\n   </g>\n   <g id=\"patch_29\">\n    <path d=\"M -1418.043475 282.799219 \nL -1409.552575 282.799219 \nL -1409.552575 282.799219 \nL -1418.043475 282.799219 \nz\n\" clip-path=\"url(#p34f15d4daf)\" style=\"fill: #1f77b4; opacity: 0.5\"/>\n   </g>\n   <g id=\"patch_30\">\n    <path d=\"M -1409.552575 282.799219 \nL -1401.061675 282.799219 \nL -1401.061675 282.799219 \nL -1409.552575 282.799219 \nz\n\" clip-path=\"url(#p34f15d4daf)\" style=\"fill: #1f77b4; opacity: 0.5\"/>\n   </g>\n   <g id=\"patch_31\">\n    <path d=\"M -1401.061675 282.799219 \nL -1392.570775 282.799219 \nL -1392.570775 282.799219 \nL -1401.061675 282.799219 \nz\n\" clip-path=\"url(#p34f15d4daf)\" style=\"fill: #1f77b4; opacity: 0.5\"/>\n   </g>\n   <g id=\"patch_32\">\n    <path d=\"M -1392.570775 282.799219 \nL -1384.079875 282.799219 \nL -1384.079875 282.799219 \nL -1392.570775 282.799219 \nz\n\" clip-path=\"url(#p34f15d4daf)\" style=\"fill: #1f77b4; opacity: 0.5\"/>\n   </g>\n   <g id=\"patch_33\">\n    <path d=\"M -1384.079875 282.799219 \nL -1375.588975 282.799219 \nL -1375.588975 282.799219 \nL -1384.079875 282.799219 \nz\n\" clip-path=\"url(#p34f15d4daf)\" style=\"fill: #1f77b4; opacity: 0.5\"/>\n   </g>\n   <g id=\"patch_34\">\n    <path d=\"M -1375.588975 282.799219 \nL -1367.098075 282.799219 \nL -1367.098075 282.799219 \nL -1375.588975 282.799219 \nz\n\" clip-path=\"url(#p34f15d4daf)\" style=\"fill: #1f77b4; opacity: 0.5\"/>\n   </g>\n   <g id=\"patch_35\">\n    <path d=\"M -1367.098075 282.799219 \nL -1358.607175 282.799219 \nL -1358.607175 282.799219 \nL -1367.098075 282.799219 \nz\n\" clip-path=\"url(#p34f15d4daf)\" style=\"fill: #1f77b4; opacity: 0.5\"/>\n   </g>\n   <g id=\"patch_36\">\n    <path d=\"M -1358.607175 282.799219 \nL -1350.116275 282.799219 \nL -1350.116275 282.799219 \nL -1358.607175 282.799219 \nz\n\" clip-path=\"url(#p34f15d4daf)\" style=\"fill: #1f77b4; opacity: 0.5\"/>\n   </g>\n   <g id=\"patch_37\">\n    <path d=\"M -1350.116275 282.799219 \nL -1341.625375 282.799219 \nL -1341.625375 282.799219 \nL -1350.116275 282.799219 \nz\n\" clip-path=\"url(#p34f15d4daf)\" style=\"fill: #1f77b4; opacity: 0.5\"/>\n   </g>\n   <g id=\"patch_38\">\n    <path d=\"M -1341.625375 282.799219 \nL -1333.134475 282.799219 \nL -1333.134475 282.799219 \nL -1341.625375 282.799219 \nz\n\" clip-path=\"url(#p34f15d4daf)\" style=\"fill: #1f77b4; opacity: 0.5\"/>\n   </g>\n   <g id=\"patch_39\">\n    <path d=\"M -1333.134475 282.799219 \nL -1324.643575 282.799219 \nL -1324.643575 282.799219 \nL -1333.134475 282.799219 \nz\n\" clip-path=\"url(#p34f15d4daf)\" style=\"fill: #1f77b4; opacity: 0.5\"/>\n   </g>\n   <g id=\"patch_40\">\n    <path d=\"M -1324.643575 282.799219 \nL -1316.152675 282.799219 \nL -1316.152675 282.799219 \nL -1324.643575 282.799219 \nz\n\" clip-path=\"url(#p34f15d4daf)\" style=\"fill: #1f77b4; opacity: 0.5\"/>\n   </g>\n   <g id=\"patch_41\">\n    <path d=\"M -1316.152675 282.799219 \nL -1307.661775 282.799219 \nL -1307.661775 282.799219 \nL -1316.152675 282.799219 \nz\n\" clip-path=\"url(#p34f15d4daf)\" style=\"fill: #1f77b4; opacity: 0.5\"/>\n   </g>\n   <g id=\"patch_42\">\n    <path d=\"M -1307.661775 282.799219 \nL -1299.170875 282.799219 \nL -1299.170875 282.799219 \nL -1307.661775 282.799219 \nz\n\" clip-path=\"url(#p34f15d4daf)\" style=\"fill: #1f77b4; opacity: 0.5\"/>\n   </g>\n   <g id=\"patch_43\">\n    <path d=\"M -1299.170875 282.799219 \nL -1290.679975 282.799219 \nL -1290.679975 282.799219 \nL -1299.170875 282.799219 \nz\n\" clip-path=\"url(#p34f15d4daf)\" style=\"fill: #1f77b4; opacity: 0.5\"/>\n   </g>\n   <g id=\"patch_44\">\n    <path d=\"M -1290.679975 282.799219 \nL -1282.189075 282.799219 \nL -1282.189075 282.799219 \nL -1290.679975 282.799219 \nz\n\" clip-path=\"url(#p34f15d4daf)\" style=\"fill: #1f77b4; opacity: 0.5\"/>\n   </g>\n   <g id=\"patch_45\">\n    <path d=\"M -1282.189075 282.799219 \nL -1273.698175 282.799219 \nL -1273.698175 282.799219 \nL -1282.189075 282.799219 \nz\n\" clip-path=\"url(#p34f15d4daf)\" style=\"fill: #1f77b4; opacity: 0.5\"/>\n   </g>\n   <g id=\"patch_46\">\n    <path d=\"M -1273.698175 282.799219 \nL -1265.207275 282.799219 \nL -1265.207275 282.799219 \nL -1273.698175 282.799219 \nz\n\" clip-path=\"url(#p34f15d4daf)\" style=\"fill: #1f77b4; opacity: 0.5\"/>\n   </g>\n   <g id=\"patch_47\">\n    <path d=\"M -1265.207275 282.799219 \nL -1256.716375 282.799219 \nL -1256.716375 282.799219 \nL -1265.207275 282.799219 \nz\n\" clip-path=\"url(#p34f15d4daf)\" style=\"fill: #1f77b4; opacity: 0.5\"/>\n   </g>\n   <g id=\"patch_48\">\n    <path d=\"M -1256.716375 282.799219 \nL -1248.225475 282.799219 \nL -1248.225475 282.799219 \nL -1256.716375 282.799219 \nz\n\" clip-path=\"url(#p34f15d4daf)\" style=\"fill: #1f77b4; opacity: 0.5\"/>\n   </g>\n   <g id=\"patch_49\">\n    <path d=\"M -1248.225475 282.799219 \nL -1239.734575 282.799219 \nL -1239.734575 282.799219 \nL -1248.225475 282.799219 \nz\n\" clip-path=\"url(#p34f15d4daf)\" style=\"fill: #1f77b4; opacity: 0.5\"/>\n   </g>\n   <g id=\"patch_50\">\n    <path d=\"M -1239.734575 282.799219 \nL -1231.243675 282.799219 \nL -1231.243675 282.799219 \nL -1239.734575 282.799219 \nz\n\" clip-path=\"url(#p34f15d4daf)\" style=\"fill: #1f77b4; opacity: 0.5\"/>\n   </g>\n   <g id=\"patch_51\">\n    <path d=\"M -1231.243675 282.799219 \nL -1222.752775 282.799219 \nL -1222.752775 282.799219 \nL -1231.243675 282.799219 \nz\n\" clip-path=\"url(#p34f15d4daf)\" style=\"fill: #1f77b4; opacity: 0.5\"/>\n   </g>\n   <g id=\"patch_52\">\n    <path d=\"M -1222.752775 282.799219 \nL -1214.261875 282.799219 \nL -1214.261875 282.799219 \nL -1222.752775 282.799219 \nz\n\" clip-path=\"url(#p34f15d4daf)\" style=\"fill: #1f77b4; opacity: 0.5\"/>\n   </g>\n   <g id=\"patch_53\">\n    <path d=\"M -1214.261875 282.799219 \nL -1205.770975 282.799219 \nL -1205.770975 282.799219 \nL -1214.261875 282.799219 \nz\n\" clip-path=\"url(#p34f15d4daf)\" style=\"fill: #1f77b4; opacity: 0.5\"/>\n   </g>\n   <g id=\"patch_54\">\n    <path d=\"M -1205.770975 282.799219 \nL -1197.280075 282.799219 \nL -1197.280075 282.799219 \nL -1205.770975 282.799219 \nz\n\" clip-path=\"url(#p34f15d4daf)\" style=\"fill: #1f77b4; opacity: 0.5\"/>\n   </g>\n   <g id=\"patch_55\">\n    <path d=\"M -1197.280075 282.799219 \nL -1188.789175 282.799219 \nL -1188.789175 282.799219 \nL -1197.280075 282.799219 \nz\n\" clip-path=\"url(#p34f15d4daf)\" style=\"fill: #1f77b4; opacity: 0.5\"/>\n   </g>\n   <g id=\"patch_56\">\n    <path d=\"M -1188.789175 282.799219 \nL -1180.298275 282.799219 \nL -1180.298275 282.799219 \nL -1188.789175 282.799219 \nz\n\" clip-path=\"url(#p34f15d4daf)\" style=\"fill: #1f77b4; opacity: 0.5\"/>\n   </g>\n   <g id=\"patch_57\">\n    <path d=\"M -1180.298275 282.799219 \nL -1171.807375 282.799219 \nL -1171.807375 282.799219 \nL -1180.298275 282.799219 \nz\n\" clip-path=\"url(#p34f15d4daf)\" style=\"fill: #1f77b4; opacity: 0.5\"/>\n   </g>\n   <g id=\"patch_58\">\n    <path d=\"M -1171.807375 282.799219 \nL -1163.316475 282.799219 \nL -1163.316475 282.799219 \nL -1171.807375 282.799219 \nz\n\" clip-path=\"url(#p34f15d4daf)\" style=\"fill: #1f77b4; opacity: 0.5\"/>\n   </g>\n   <g id=\"patch_59\">\n    <path d=\"M -1163.316475 282.799219 \nL -1154.825575 282.799219 \nL -1154.825575 282.799219 \nL -1163.316475 282.799219 \nz\n\" clip-path=\"url(#p34f15d4daf)\" style=\"fill: #1f77b4; opacity: 0.5\"/>\n   </g>\n   <g id=\"patch_60\">\n    <path d=\"M -1154.825575 282.799219 \nL -1146.334675 282.799219 \nL -1146.334675 282.799219 \nL -1154.825575 282.799219 \nz\n\" clip-path=\"url(#p34f15d4daf)\" style=\"fill: #1f77b4; opacity: 0.5\"/>\n   </g>\n   <g id=\"patch_61\">\n    <path d=\"M -1146.334675 282.799219 \nL -1137.843775 282.799219 \nL -1137.843775 282.799219 \nL -1146.334675 282.799219 \nz\n\" clip-path=\"url(#p34f15d4daf)\" style=\"fill: #1f77b4; opacity: 0.5\"/>\n   </g>\n   <g id=\"patch_62\">\n    <path d=\"M -1137.843775 282.799219 \nL -1129.352875 282.799219 \nL -1129.352875 282.799219 \nL -1137.843775 282.799219 \nz\n\" clip-path=\"url(#p34f15d4daf)\" style=\"fill: #1f77b4; opacity: 0.5\"/>\n   </g>\n   <g id=\"patch_63\">\n    <path d=\"M -1129.352875 282.799219 \nL -1120.861975 282.799219 \nL -1120.861975 282.799219 \nL -1129.352875 282.799219 \nz\n\" clip-path=\"url(#p34f15d4daf)\" style=\"fill: #1f77b4; opacity: 0.5\"/>\n   </g>\n   <g id=\"patch_64\">\n    <path d=\"M -1120.861975 282.799219 \nL -1112.371075 282.799219 \nL -1112.371075 282.799219 \nL -1120.861975 282.799219 \nz\n\" clip-path=\"url(#p34f15d4daf)\" style=\"fill: #1f77b4; opacity: 0.5\"/>\n   </g>\n   <g id=\"patch_65\">\n    <path d=\"M -1112.371075 282.799219 \nL -1103.880175 282.799219 \nL -1103.880175 282.799219 \nL -1112.371075 282.799219 \nz\n\" clip-path=\"url(#p34f15d4daf)\" style=\"fill: #1f77b4; opacity: 0.5\"/>\n   </g>\n   <g id=\"patch_66\">\n    <path d=\"M -1103.880175 282.799219 \nL -1095.389275 282.799219 \nL -1095.389275 282.799219 \nL -1103.880175 282.799219 \nz\n\" clip-path=\"url(#p34f15d4daf)\" style=\"fill: #1f77b4; opacity: 0.5\"/>\n   </g>\n   <g id=\"patch_67\">\n    <path d=\"M -1095.389275 282.799219 \nL -1086.898375 282.799219 \nL -1086.898375 282.799219 \nL -1095.389275 282.799219 \nz\n\" clip-path=\"url(#p34f15d4daf)\" style=\"fill: #1f77b4; opacity: 0.5\"/>\n   </g>\n   <g id=\"patch_68\">\n    <path d=\"M -1086.898375 282.799219 \nL -1078.407475 282.799219 \nL -1078.407475 282.799219 \nL -1086.898375 282.799219 \nz\n\" clip-path=\"url(#p34f15d4daf)\" style=\"fill: #1f77b4; opacity: 0.5\"/>\n   </g>\n   <g id=\"patch_69\">\n    <path d=\"M -1078.407475 282.799219 \nL -1069.916575 282.799219 \nL -1069.916575 282.799219 \nL -1078.407475 282.799219 \nz\n\" clip-path=\"url(#p34f15d4daf)\" style=\"fill: #1f77b4; opacity: 0.5\"/>\n   </g>\n   <g id=\"patch_70\">\n    <path d=\"M -1069.916575 282.799219 \nL -1061.425675 282.799219 \nL -1061.425675 282.799219 \nL -1069.916575 282.799219 \nz\n\" clip-path=\"url(#p34f15d4daf)\" style=\"fill: #1f77b4; opacity: 0.5\"/>\n   </g>\n   <g id=\"patch_71\">\n    <path d=\"M -1061.425675 282.799219 \nL -1052.934775 282.799219 \nL -1052.934775 282.799219 \nL -1061.425675 282.799219 \nz\n\" clip-path=\"url(#p34f15d4daf)\" style=\"fill: #1f77b4; opacity: 0.5\"/>\n   </g>\n   <g id=\"patch_72\">\n    <path d=\"M -1052.934775 282.799219 \nL -1044.443875 282.799219 \nL -1044.443875 282.799219 \nL -1052.934775 282.799219 \nz\n\" clip-path=\"url(#p34f15d4daf)\" style=\"fill: #1f77b4; opacity: 0.5\"/>\n   </g>\n   <g id=\"patch_73\">\n    <path d=\"M -1044.443875 282.799219 \nL -1035.952975 282.799219 \nL -1035.952975 282.799219 \nL -1044.443875 282.799219 \nz\n\" clip-path=\"url(#p34f15d4daf)\" style=\"fill: #1f77b4; opacity: 0.5\"/>\n   </g>\n   <g id=\"patch_74\">\n    <path d=\"M -1035.952975 282.799219 \nL -1027.462075 282.799219 \nL -1027.462075 282.799219 \nL -1035.952975 282.799219 \nz\n\" clip-path=\"url(#p34f15d4daf)\" style=\"fill: #1f77b4; opacity: 0.5\"/>\n   </g>\n   <g id=\"patch_75\">\n    <path d=\"M -1027.462075 282.799219 \nL -1018.971175 282.799219 \nL -1018.971175 282.799219 \nL -1027.462075 282.799219 \nz\n\" clip-path=\"url(#p34f15d4daf)\" style=\"fill: #1f77b4; opacity: 0.5\"/>\n   </g>\n   <g id=\"patch_76\">\n    <path d=\"M -1018.971175 282.799219 \nL -1010.480275 282.799219 \nL -1010.480275 282.799219 \nL -1018.971175 282.799219 \nz\n\" clip-path=\"url(#p34f15d4daf)\" style=\"fill: #1f77b4; opacity: 0.5\"/>\n   </g>\n   <g id=\"patch_77\">\n    <path d=\"M -1010.480275 282.799219 \nL -1001.989375 282.799219 \nL -1001.989375 282.799219 \nL -1010.480275 282.799219 \nz\n\" clip-path=\"url(#p34f15d4daf)\" style=\"fill: #1f77b4; opacity: 0.5\"/>\n   </g>\n   <g id=\"patch_78\">\n    <path d=\"M -1001.989375 282.799219 \nL -993.498475 282.799219 \nL -993.498475 282.799219 \nL -1001.989375 282.799219 \nz\n\" clip-path=\"url(#p34f15d4daf)\" style=\"fill: #1f77b4; opacity: 0.5\"/>\n   </g>\n   <g id=\"patch_79\">\n    <path d=\"M -993.498475 282.799219 \nL -985.007575 282.799219 \nL -985.007575 282.799219 \nL -993.498475 282.799219 \nz\n\" clip-path=\"url(#p34f15d4daf)\" style=\"fill: #1f77b4; opacity: 0.5\"/>\n   </g>\n   <g id=\"patch_80\">\n    <path d=\"M -985.007575 282.799219 \nL -976.516675 282.799219 \nL -976.516675 282.799219 \nL -985.007575 282.799219 \nz\n\" clip-path=\"url(#p34f15d4daf)\" style=\"fill: #1f77b4; opacity: 0.5\"/>\n   </g>\n   <g id=\"patch_81\">\n    <path d=\"M -976.516675 282.799219 \nL -968.025775 282.799219 \nL -968.025775 282.799219 \nL -976.516675 282.799219 \nz\n\" clip-path=\"url(#p34f15d4daf)\" style=\"fill: #1f77b4; opacity: 0.5\"/>\n   </g>\n   <g id=\"patch_82\">\n    <path d=\"M -968.025775 282.799219 \nL -959.534875 282.799219 \nL -959.534875 282.799219 \nL -968.025775 282.799219 \nz\n\" clip-path=\"url(#p34f15d4daf)\" style=\"fill: #1f77b4; opacity: 0.5\"/>\n   </g>\n   <g id=\"patch_83\">\n    <path d=\"M -959.534875 282.799219 \nL -951.043975 282.799219 \nL -951.043975 282.799219 \nL -959.534875 282.799219 \nz\n\" clip-path=\"url(#p34f15d4daf)\" style=\"fill: #1f77b4; opacity: 0.5\"/>\n   </g>\n   <g id=\"patch_84\">\n    <path d=\"M -951.043975 282.799219 \nL -942.553075 282.799219 \nL -942.553075 282.799219 \nL -951.043975 282.799219 \nz\n\" clip-path=\"url(#p34f15d4daf)\" style=\"fill: #1f77b4; opacity: 0.5\"/>\n   </g>\n   <g id=\"patch_85\">\n    <path d=\"M -942.553075 282.799219 \nL -934.062175 282.799219 \nL -934.062175 282.799219 \nL -942.553075 282.799219 \nz\n\" clip-path=\"url(#p34f15d4daf)\" style=\"fill: #1f77b4; opacity: 0.5\"/>\n   </g>\n   <g id=\"patch_86\">\n    <path d=\"M -934.062175 282.799219 \nL -925.571275 282.799219 \nL -925.571275 282.799219 \nL -934.062175 282.799219 \nz\n\" clip-path=\"url(#p34f15d4daf)\" style=\"fill: #1f77b4; opacity: 0.5\"/>\n   </g>\n   <g id=\"patch_87\">\n    <path d=\"M -925.571275 282.799219 \nL -917.080375 282.799219 \nL -917.080375 282.799219 \nL -925.571275 282.799219 \nz\n\" clip-path=\"url(#p34f15d4daf)\" style=\"fill: #1f77b4; opacity: 0.5\"/>\n   </g>\n   <g id=\"patch_88\">\n    <path d=\"M -917.080375 282.799219 \nL -908.589475 282.799219 \nL -908.589475 282.799219 \nL -917.080375 282.799219 \nz\n\" clip-path=\"url(#p34f15d4daf)\" style=\"fill: #1f77b4; opacity: 0.5\"/>\n   </g>\n   <g id=\"patch_89\">\n    <path d=\"M -908.589475 282.799219 \nL -900.098575 282.799219 \nL -900.098575 282.799219 \nL -908.589475 282.799219 \nz\n\" clip-path=\"url(#p34f15d4daf)\" style=\"fill: #1f77b4; opacity: 0.5\"/>\n   </g>\n   <g id=\"patch_90\">\n    <path d=\"M -900.098575 282.799219 \nL -891.607675 282.799219 \nL -891.607675 282.799219 \nL -900.098575 282.799219 \nz\n\" clip-path=\"url(#p34f15d4daf)\" style=\"fill: #1f77b4; opacity: 0.5\"/>\n   </g>\n   <g id=\"patch_91\">\n    <path d=\"M -891.607675 282.799219 \nL -883.116775 282.799219 \nL -883.116775 282.799219 \nL -891.607675 282.799219 \nz\n\" clip-path=\"url(#p34f15d4daf)\" style=\"fill: #1f77b4; opacity: 0.5\"/>\n   </g>\n   <g id=\"patch_92\">\n    <path d=\"M -883.116775 282.799219 \nL -874.625875 282.799219 \nL -874.625875 282.799219 \nL -883.116775 282.799219 \nz\n\" clip-path=\"url(#p34f15d4daf)\" style=\"fill: #1f77b4; opacity: 0.5\"/>\n   </g>\n   <g id=\"patch_93\">\n    <path d=\"M -874.625875 282.799219 \nL -866.134975 282.799219 \nL -866.134975 282.799219 \nL -874.625875 282.799219 \nz\n\" clip-path=\"url(#p34f15d4daf)\" style=\"fill: #1f77b4; opacity: 0.5\"/>\n   </g>\n   <g id=\"patch_94\">\n    <path d=\"M -866.134975 282.799219 \nL -857.644075 282.799219 \nL -857.644075 282.799219 \nL -866.134975 282.799219 \nz\n\" clip-path=\"url(#p34f15d4daf)\" style=\"fill: #1f77b4; opacity: 0.5\"/>\n   </g>\n   <g id=\"patch_95\">\n    <path d=\"M -857.644075 282.799219 \nL -849.153175 282.799219 \nL -849.153175 282.799219 \nL -857.644075 282.799219 \nz\n\" clip-path=\"url(#p34f15d4daf)\" style=\"fill: #1f77b4; opacity: 0.5\"/>\n   </g>\n   <g id=\"patch_96\">\n    <path d=\"M -849.153175 282.799219 \nL -840.662275 282.799219 \nL -840.662275 282.799219 \nL -849.153175 282.799219 \nz\n\" clip-path=\"url(#p34f15d4daf)\" style=\"fill: #1f77b4; opacity: 0.5\"/>\n   </g>\n   <g id=\"patch_97\">\n    <path d=\"M -840.662275 282.799219 \nL -832.171375 282.799219 \nL -832.171375 282.799219 \nL -840.662275 282.799219 \nz\n\" clip-path=\"url(#p34f15d4daf)\" style=\"fill: #1f77b4; opacity: 0.5\"/>\n   </g>\n   <g id=\"patch_98\">\n    <path d=\"M -832.171375 282.799219 \nL -823.680475 282.799219 \nL -823.680475 282.799219 \nL -832.171375 282.799219 \nz\n\" clip-path=\"url(#p34f15d4daf)\" style=\"fill: #1f77b4; opacity: 0.5\"/>\n   </g>\n   <g id=\"patch_99\">\n    <path d=\"M -823.680475 282.799219 \nL -815.189575 282.799219 \nL -815.189575 282.799219 \nL -823.680475 282.799219 \nz\n\" clip-path=\"url(#p34f15d4daf)\" style=\"fill: #1f77b4; opacity: 0.5\"/>\n   </g>\n   <g id=\"patch_100\">\n    <path d=\"M -815.189575 282.799219 \nL -806.698675 282.799219 \nL -806.698675 282.799219 \nL -815.189575 282.799219 \nz\n\" clip-path=\"url(#p34f15d4daf)\" style=\"fill: #1f77b4; opacity: 0.5\"/>\n   </g>\n   <g id=\"patch_101\">\n    <path d=\"M -806.698675 282.799219 \nL -798.207775 282.799219 \nL -798.207775 282.799219 \nL -806.698675 282.799219 \nz\n\" clip-path=\"url(#p34f15d4daf)\" style=\"fill: #1f77b4; opacity: 0.5\"/>\n   </g>\n   <g id=\"patch_102\">\n    <path d=\"M -798.207775 282.799219 \nL -789.716875 282.799219 \nL -789.716875 282.799219 \nL -798.207775 282.799219 \nz\n\" clip-path=\"url(#p34f15d4daf)\" style=\"fill: #1f77b4; opacity: 0.5\"/>\n   </g>\n   <g id=\"patch_103\">\n    <path d=\"M -789.716875 282.799219 \nL -781.225975 282.799219 \nL -781.225975 282.799219 \nL -789.716875 282.799219 \nz\n\" clip-path=\"url(#p34f15d4daf)\" style=\"fill: #1f77b4; opacity: 0.5\"/>\n   </g>\n   <g id=\"patch_104\">\n    <path d=\"M -781.225975 282.799219 \nL -772.735075 282.799219 \nL -772.735075 282.799219 \nL -781.225975 282.799219 \nz\n\" clip-path=\"url(#p34f15d4daf)\" style=\"fill: #1f77b4; opacity: 0.5\"/>\n   </g>\n   <g id=\"patch_105\">\n    <path d=\"M -772.735075 282.799219 \nL -764.244175 282.799219 \nL -764.244175 282.799219 \nL -772.735075 282.799219 \nz\n\" clip-path=\"url(#p34f15d4daf)\" style=\"fill: #1f77b4; opacity: 0.5\"/>\n   </g>\n   <g id=\"patch_106\">\n    <path d=\"M -764.244175 282.799219 \nL -755.753275 282.799219 \nL -755.753275 282.799219 \nL -764.244175 282.799219 \nz\n\" clip-path=\"url(#p34f15d4daf)\" style=\"fill: #1f77b4; opacity: 0.5\"/>\n   </g>\n   <g id=\"patch_107\">\n    <path d=\"M -755.753275 282.799219 \nL -747.262375 282.799219 \nL -747.262375 282.799219 \nL -755.753275 282.799219 \nz\n\" clip-path=\"url(#p34f15d4daf)\" style=\"fill: #1f77b4; opacity: 0.5\"/>\n   </g>\n   <g id=\"patch_108\">\n    <path d=\"M -747.262375 282.799219 \nL -738.771475 282.799219 \nL -738.771475 282.799219 \nL -747.262375 282.799219 \nz\n\" clip-path=\"url(#p34f15d4daf)\" style=\"fill: #1f77b4; opacity: 0.5\"/>\n   </g>\n   <g id=\"patch_109\">\n    <path d=\"M -738.771475 282.799219 \nL -730.280575 282.799219 \nL -730.280575 282.799219 \nL -738.771475 282.799219 \nz\n\" clip-path=\"url(#p34f15d4daf)\" style=\"fill: #1f77b4; opacity: 0.5\"/>\n   </g>\n   <g id=\"patch_110\">\n    <path d=\"M -730.280575 282.799219 \nL -721.789675 282.799219 \nL -721.789675 282.799219 \nL -730.280575 282.799219 \nz\n\" clip-path=\"url(#p34f15d4daf)\" style=\"fill: #1f77b4; opacity: 0.5\"/>\n   </g>\n   <g id=\"patch_111\">\n    <path d=\"M -721.789675 282.799219 \nL -713.298775 282.799219 \nL -713.298775 282.799219 \nL -721.789675 282.799219 \nz\n\" clip-path=\"url(#p34f15d4daf)\" style=\"fill: #1f77b4; opacity: 0.5\"/>\n   </g>\n   <g id=\"patch_112\">\n    <path d=\"M -713.298775 282.799219 \nL -704.807875 282.799219 \nL -704.807875 282.799219 \nL -713.298775 282.799219 \nz\n\" clip-path=\"url(#p34f15d4daf)\" style=\"fill: #1f77b4; opacity: 0.5\"/>\n   </g>\n   <g id=\"patch_113\">\n    <path d=\"M -704.807875 282.799219 \nL -696.316975 282.799219 \nL -696.316975 282.799219 \nL -704.807875 282.799219 \nz\n\" clip-path=\"url(#p34f15d4daf)\" style=\"fill: #1f77b4; opacity: 0.5\"/>\n   </g>\n   <g id=\"patch_114\">\n    <path d=\"M -696.316975 282.799219 \nL -687.826075 282.799219 \nL -687.826075 282.799219 \nL -696.316975 282.799219 \nz\n\" clip-path=\"url(#p34f15d4daf)\" style=\"fill: #1f77b4; opacity: 0.5\"/>\n   </g>\n   <g id=\"patch_115\">\n    <path d=\"M -687.826075 282.799219 \nL -679.335175 282.799219 \nL -679.335175 282.799219 \nL -687.826075 282.799219 \nz\n\" clip-path=\"url(#p34f15d4daf)\" style=\"fill: #1f77b4; opacity: 0.5\"/>\n   </g>\n   <g id=\"patch_116\">\n    <path d=\"M -679.335175 282.799219 \nL -670.844275 282.799219 \nL -670.844275 282.799219 \nL -679.335175 282.799219 \nz\n\" clip-path=\"url(#p34f15d4daf)\" style=\"fill: #1f77b4; opacity: 0.5\"/>\n   </g>\n   <g id=\"patch_117\">\n    <path d=\"M -670.844275 282.799219 \nL -662.353375 282.799219 \nL -662.353375 282.799219 \nL -670.844275 282.799219 \nz\n\" clip-path=\"url(#p34f15d4daf)\" style=\"fill: #1f77b4; opacity: 0.5\"/>\n   </g>\n   <g id=\"patch_118\">\n    <path d=\"M -662.353375 282.799219 \nL -653.862475 282.799219 \nL -653.862475 282.799219 \nL -662.353375 282.799219 \nz\n\" clip-path=\"url(#p34f15d4daf)\" style=\"fill: #1f77b4; opacity: 0.5\"/>\n   </g>\n   <g id=\"patch_119\">\n    <path d=\"M -653.862475 282.799219 \nL -645.371575 282.799219 \nL -645.371575 282.799219 \nL -653.862475 282.799219 \nz\n\" clip-path=\"url(#p34f15d4daf)\" style=\"fill: #1f77b4; opacity: 0.5\"/>\n   </g>\n   <g id=\"patch_120\">\n    <path d=\"M -645.371575 282.799219 \nL -636.880675 282.799219 \nL -636.880675 282.527419 \nL -645.371575 282.527419 \nz\n\" clip-path=\"url(#p34f15d4daf)\" style=\"fill: #1f77b4; opacity: 0.5\"/>\n   </g>\n   <g id=\"patch_121\">\n    <path d=\"M -636.880675 282.799219 \nL -628.389775 282.799219 \nL -628.389775 282.799219 \nL -636.880675 282.799219 \nz\n\" clip-path=\"url(#p34f15d4daf)\" style=\"fill: #1f77b4; opacity: 0.5\"/>\n   </g>\n   <g id=\"patch_122\">\n    <path d=\"M -628.389775 282.799219 \nL -619.898875 282.799219 \nL -619.898875 282.799219 \nL -628.389775 282.799219 \nz\n\" clip-path=\"url(#p34f15d4daf)\" style=\"fill: #1f77b4; opacity: 0.5\"/>\n   </g>\n   <g id=\"patch_123\">\n    <path d=\"M -619.898875 282.799219 \nL -611.407975 282.799219 \nL -611.407975 282.799219 \nL -619.898875 282.799219 \nz\n\" clip-path=\"url(#p34f15d4daf)\" style=\"fill: #1f77b4; opacity: 0.5\"/>\n   </g>\n   <g id=\"patch_124\">\n    <path d=\"M -611.407975 282.799219 \nL -602.917075 282.799219 \nL -602.917075 282.799219 \nL -611.407975 282.799219 \nz\n\" clip-path=\"url(#p34f15d4daf)\" style=\"fill: #1f77b4; opacity: 0.5\"/>\n   </g>\n   <g id=\"patch_125\">\n    <path d=\"M -602.917075 282.799219 \nL -594.426175 282.799219 \nL -594.426175 282.527419 \nL -602.917075 282.527419 \nz\n\" clip-path=\"url(#p34f15d4daf)\" style=\"fill: #1f77b4; opacity: 0.5\"/>\n   </g>\n   <g id=\"patch_126\">\n    <path d=\"M -594.426175 282.799219 \nL -585.935275 282.799219 \nL -585.935275 282.799219 \nL -594.426175 282.799219 \nz\n\" clip-path=\"url(#p34f15d4daf)\" style=\"fill: #1f77b4; opacity: 0.5\"/>\n   </g>\n   <g id=\"patch_127\">\n    <path d=\"M -585.935275 282.799219 \nL -577.444375 282.799219 \nL -577.444375 282.799219 \nL -585.935275 282.799219 \nz\n\" clip-path=\"url(#p34f15d4daf)\" style=\"fill: #1f77b4; opacity: 0.5\"/>\n   </g>\n   <g id=\"patch_128\">\n    <path d=\"M -577.444375 282.799219 \nL -568.953475 282.799219 \nL -568.953475 282.799219 \nL -577.444375 282.799219 \nz\n\" clip-path=\"url(#p34f15d4daf)\" style=\"fill: #1f77b4; opacity: 0.5\"/>\n   </g>\n   <g id=\"patch_129\">\n    <path d=\"M -568.953475 282.799219 \nL -560.462575 282.799219 \nL -560.462575 282.799219 \nL -568.953475 282.799219 \nz\n\" clip-path=\"url(#p34f15d4daf)\" style=\"fill: #1f77b4; opacity: 0.5\"/>\n   </g>\n   <g id=\"patch_130\">\n    <path d=\"M -560.462575 282.799219 \nL -551.971675 282.799219 \nL -551.971675 282.799219 \nL -560.462575 282.799219 \nz\n\" clip-path=\"url(#p34f15d4daf)\" style=\"fill: #1f77b4; opacity: 0.5\"/>\n   </g>\n   <g id=\"patch_131\">\n    <path d=\"M -551.971675 282.799219 \nL -543.480775 282.799219 \nL -543.480775 282.799219 \nL -551.971675 282.799219 \nz\n\" clip-path=\"url(#p34f15d4daf)\" style=\"fill: #1f77b4; opacity: 0.5\"/>\n   </g>\n   <g id=\"patch_132\">\n    <path d=\"M -543.480775 282.799219 \nL -534.989875 282.799219 \nL -534.989875 282.799219 \nL -543.480775 282.799219 \nz\n\" clip-path=\"url(#p34f15d4daf)\" style=\"fill: #1f77b4; opacity: 0.5\"/>\n   </g>\n   <g id=\"patch_133\">\n    <path d=\"M -534.989875 282.799219 \nL -526.498975 282.799219 \nL -526.498975 282.799219 \nL -534.989875 282.799219 \nz\n\" clip-path=\"url(#p34f15d4daf)\" style=\"fill: #1f77b4; opacity: 0.5\"/>\n   </g>\n   <g id=\"patch_134\">\n    <path d=\"M -526.498975 282.799219 \nL -518.008075 282.799219 \nL -518.008075 282.799219 \nL -526.498975 282.799219 \nz\n\" clip-path=\"url(#p34f15d4daf)\" style=\"fill: #1f77b4; opacity: 0.5\"/>\n   </g>\n   <g id=\"patch_135\">\n    <path d=\"M -518.008075 282.799219 \nL -509.517175 282.799219 \nL -509.517175 282.799219 \nL -518.008075 282.799219 \nz\n\" clip-path=\"url(#p34f15d4daf)\" style=\"fill: #1f77b4; opacity: 0.5\"/>\n   </g>\n   <g id=\"patch_136\">\n    <path d=\"M -509.517175 282.799219 \nL -501.026275 282.799219 \nL -501.026275 282.799219 \nL -509.517175 282.799219 \nz\n\" clip-path=\"url(#p34f15d4daf)\" style=\"fill: #1f77b4; opacity: 0.5\"/>\n   </g>\n   <g id=\"patch_137\">\n    <path d=\"M -501.026275 282.799219 \nL -492.535375 282.799219 \nL -492.535375 282.799219 \nL -501.026275 282.799219 \nz\n\" clip-path=\"url(#p34f15d4daf)\" style=\"fill: #1f77b4; opacity: 0.5\"/>\n   </g>\n   <g id=\"patch_138\">\n    <path d=\"M -492.535375 282.799219 \nL -484.044475 282.799219 \nL -484.044475 282.799219 \nL -492.535375 282.799219 \nz\n\" clip-path=\"url(#p34f15d4daf)\" style=\"fill: #1f77b4; opacity: 0.5\"/>\n   </g>\n   <g id=\"patch_139\">\n    <path d=\"M -484.044475 282.799219 \nL -475.553575 282.799219 \nL -475.553575 282.799219 \nL -484.044475 282.799219 \nz\n\" clip-path=\"url(#p34f15d4daf)\" style=\"fill: #1f77b4; opacity: 0.5\"/>\n   </g>\n   <g id=\"patch_140\">\n    <path d=\"M -475.553575 282.799219 \nL -467.062675 282.799219 \nL -467.062675 282.799219 \nL -475.553575 282.799219 \nz\n\" clip-path=\"url(#p34f15d4daf)\" style=\"fill: #1f77b4; opacity: 0.5\"/>\n   </g>\n   <g id=\"patch_141\">\n    <path d=\"M -467.062675 282.799219 \nL -458.571775 282.799219 \nL -458.571775 282.799219 \nL -467.062675 282.799219 \nz\n\" clip-path=\"url(#p34f15d4daf)\" style=\"fill: #1f77b4; opacity: 0.5\"/>\n   </g>\n   <g id=\"patch_142\">\n    <path d=\"M -458.571775 282.799219 \nL -450.080875 282.799219 \nL -450.080875 282.799219 \nL -458.571775 282.799219 \nz\n\" clip-path=\"url(#p34f15d4daf)\" style=\"fill: #1f77b4; opacity: 0.5\"/>\n   </g>\n   <g id=\"patch_143\">\n    <path d=\"M -450.080875 282.799219 \nL -441.589975 282.799219 \nL -441.589975 282.799219 \nL -450.080875 282.799219 \nz\n\" clip-path=\"url(#p34f15d4daf)\" style=\"fill: #1f77b4; opacity: 0.5\"/>\n   </g>\n   <g id=\"patch_144\">\n    <path d=\"M -441.589975 282.799219 \nL -433.099075 282.799219 \nL -433.099075 282.799219 \nL -441.589975 282.799219 \nz\n\" clip-path=\"url(#p34f15d4daf)\" style=\"fill: #1f77b4; opacity: 0.5\"/>\n   </g>\n   <g id=\"patch_145\">\n    <path d=\"M -433.099075 282.799219 \nL -424.608175 282.799219 \nL -424.608175 282.799219 \nL -433.099075 282.799219 \nz\n\" clip-path=\"url(#p34f15d4daf)\" style=\"fill: #1f77b4; opacity: 0.5\"/>\n   </g>\n   <g id=\"patch_146\">\n    <path d=\"M -424.608175 282.799219 \nL -416.117275 282.799219 \nL -416.117275 282.527419 \nL -424.608175 282.527419 \nz\n\" clip-path=\"url(#p34f15d4daf)\" style=\"fill: #1f77b4; opacity: 0.5\"/>\n   </g>\n   <g id=\"patch_147\">\n    <path d=\"M -416.117275 282.799219 \nL -407.626375 282.799219 \nL -407.626375 282.799219 \nL -416.117275 282.799219 \nz\n\" clip-path=\"url(#p34f15d4daf)\" style=\"fill: #1f77b4; opacity: 0.5\"/>\n   </g>\n   <g id=\"patch_148\">\n    <path d=\"M -407.626375 282.799219 \nL -399.135475 282.799219 \nL -399.135475 281.983819 \nL -407.626375 281.983819 \nz\n\" clip-path=\"url(#p34f15d4daf)\" style=\"fill: #1f77b4; opacity: 0.5\"/>\n   </g>\n   <g id=\"patch_149\">\n    <path d=\"M -399.135475 282.799219 \nL -390.644575 282.799219 \nL -390.644575 282.527419 \nL -399.135475 282.527419 \nz\n\" clip-path=\"url(#p34f15d4daf)\" style=\"fill: #1f77b4; opacity: 0.5\"/>\n   </g>\n   <g id=\"patch_150\">\n    <path d=\"M -390.644575 282.799219 \nL -382.153675 282.799219 \nL -382.153675 282.799219 \nL -390.644575 282.799219 \nz\n\" clip-path=\"url(#p34f15d4daf)\" style=\"fill: #1f77b4; opacity: 0.5\"/>\n   </g>\n   <g id=\"patch_151\">\n    <path d=\"M -382.153675 282.799219 \nL -373.662775 282.799219 \nL -373.662775 282.799219 \nL -382.153675 282.799219 \nz\n\" clip-path=\"url(#p34f15d4daf)\" style=\"fill: #1f77b4; opacity: 0.5\"/>\n   </g>\n   <g id=\"patch_152\">\n    <path d=\"M -373.662775 282.799219 \nL -365.171875 282.799219 \nL -365.171875 282.799219 \nL -373.662775 282.799219 \nz\n\" clip-path=\"url(#p34f15d4daf)\" style=\"fill: #1f77b4; opacity: 0.5\"/>\n   </g>\n   <g id=\"patch_153\">\n    <path d=\"M -365.171875 282.799219 \nL -356.680975 282.799219 \nL -356.680975 281.983819 \nL -365.171875 281.983819 \nz\n\" clip-path=\"url(#p34f15d4daf)\" style=\"fill: #1f77b4; opacity: 0.5\"/>\n   </g>\n   <g id=\"patch_154\">\n    <path d=\"M -356.680975 282.799219 \nL -348.190075 282.799219 \nL -348.190075 282.255619 \nL -356.680975 282.255619 \nz\n\" clip-path=\"url(#p34f15d4daf)\" style=\"fill: #1f77b4; opacity: 0.5\"/>\n   </g>\n   <g id=\"patch_155\">\n    <path d=\"M -348.190075 282.799219 \nL -339.699175 282.799219 \nL -339.699175 282.799219 \nL -348.190075 282.799219 \nz\n\" clip-path=\"url(#p34f15d4daf)\" style=\"fill: #1f77b4; opacity: 0.5\"/>\n   </g>\n   <g id=\"patch_156\">\n    <path d=\"M -339.699175 282.799219 \nL -331.208275 282.799219 \nL -331.208275 282.527419 \nL -339.699175 282.527419 \nz\n\" clip-path=\"url(#p34f15d4daf)\" style=\"fill: #1f77b4; opacity: 0.5\"/>\n   </g>\n   <g id=\"patch_157\">\n    <path d=\"M -331.208275 282.799219 \nL -322.717375 282.799219 \nL -322.717375 282.799219 \nL -331.208275 282.799219 \nz\n\" clip-path=\"url(#p34f15d4daf)\" style=\"fill: #1f77b4; opacity: 0.5\"/>\n   </g>\n   <g id=\"patch_158\">\n    <path d=\"M -322.717375 282.799219 \nL -314.226475 282.799219 \nL -314.226475 282.799219 \nL -322.717375 282.799219 \nz\n\" clip-path=\"url(#p34f15d4daf)\" style=\"fill: #1f77b4; opacity: 0.5\"/>\n   </g>\n   <g id=\"patch_159\">\n    <path d=\"M -314.226475 282.799219 \nL -305.735575 282.799219 \nL -305.735575 282.799219 \nL -314.226475 282.799219 \nz\n\" clip-path=\"url(#p34f15d4daf)\" style=\"fill: #1f77b4; opacity: 0.5\"/>\n   </g>\n   <g id=\"patch_160\">\n    <path d=\"M -305.735575 282.799219 \nL -297.244675 282.799219 \nL -297.244675 282.799219 \nL -305.735575 282.799219 \nz\n\" clip-path=\"url(#p34f15d4daf)\" style=\"fill: #1f77b4; opacity: 0.5\"/>\n   </g>\n   <g id=\"patch_161\">\n    <path d=\"M -297.244675 282.799219 \nL -288.753775 282.799219 \nL -288.753775 282.799219 \nL -297.244675 282.799219 \nz\n\" clip-path=\"url(#p34f15d4daf)\" style=\"fill: #1f77b4; opacity: 0.5\"/>\n   </g>\n   <g id=\"patch_162\">\n    <path d=\"M -288.753775 282.799219 \nL -280.262875 282.799219 \nL -280.262875 282.799219 \nL -288.753775 282.799219 \nz\n\" clip-path=\"url(#p34f15d4daf)\" style=\"fill: #1f77b4; opacity: 0.5\"/>\n   </g>\n   <g id=\"patch_163\">\n    <path d=\"M -280.262875 282.799219 \nL -271.771975 282.799219 \nL -271.771975 281.712019 \nL -280.262875 281.712019 \nz\n\" clip-path=\"url(#p34f15d4daf)\" style=\"fill: #1f77b4; opacity: 0.5\"/>\n   </g>\n   <g id=\"patch_164\">\n    <path d=\"M -271.771975 282.799219 \nL -263.281075 282.799219 \nL -263.281075 282.799219 \nL -271.771975 282.799219 \nz\n\" clip-path=\"url(#p34f15d4daf)\" style=\"fill: #1f77b4; opacity: 0.5\"/>\n   </g>\n   <g id=\"patch_165\">\n    <path d=\"M -263.281075 282.799219 \nL -254.790175 282.799219 \nL -254.790175 282.527419 \nL -263.281075 282.527419 \nz\n\" clip-path=\"url(#p34f15d4daf)\" style=\"fill: #1f77b4; opacity: 0.5\"/>\n   </g>\n   <g id=\"patch_166\">\n    <path d=\"M -254.790175 282.799219 \nL -246.299275 282.799219 \nL -246.299275 272.742619 \nL -254.790175 272.742619 \nz\n\" clip-path=\"url(#p34f15d4daf)\" style=\"fill: #1f77b4; opacity: 0.5\"/>\n   </g>\n   <g id=\"patch_167\">\n    <path d=\"M -246.299275 282.799219 \nL -237.808375 282.799219 \nL -237.808375 282.799219 \nL -246.299275 282.799219 \nz\n\" clip-path=\"url(#p34f15d4daf)\" style=\"fill: #1f77b4; opacity: 0.5\"/>\n   </g>\n   <g id=\"patch_168\">\n    <path d=\"M -237.808375 282.799219 \nL -229.317475 282.799219 \nL -229.317475 282.527419 \nL -237.808375 282.527419 \nz\n\" clip-path=\"url(#p34f15d4daf)\" style=\"fill: #1f77b4; opacity: 0.5\"/>\n   </g>\n   <g id=\"patch_169\">\n    <path d=\"M -229.317475 282.799219 \nL -220.826575 282.799219 \nL -220.826575 282.527419 \nL -229.317475 282.527419 \nz\n\" clip-path=\"url(#p34f15d4daf)\" style=\"fill: #1f77b4; opacity: 0.5\"/>\n   </g>\n   <g id=\"patch_170\">\n    <path d=\"M -220.826575 282.799219 \nL -212.335675 282.799219 \nL -212.335675 282.527419 \nL -220.826575 282.527419 \nz\n\" clip-path=\"url(#p34f15d4daf)\" style=\"fill: #1f77b4; opacity: 0.5\"/>\n   </g>\n   <g id=\"patch_171\">\n    <path d=\"M -212.335675 282.799219 \nL -203.844775 282.799219 \nL -203.844775 282.799219 \nL -212.335675 282.799219 \nz\n\" clip-path=\"url(#p34f15d4daf)\" style=\"fill: #1f77b4; opacity: 0.5\"/>\n   </g>\n   <g id=\"patch_172\">\n    <path d=\"M -203.844775 282.799219 \nL -195.353875 282.799219 \nL -195.353875 282.799219 \nL -203.844775 282.799219 \nz\n\" clip-path=\"url(#p34f15d4daf)\" style=\"fill: #1f77b4; opacity: 0.5\"/>\n   </g>\n   <g id=\"patch_173\">\n    <path d=\"M -195.353875 282.799219 \nL -186.862975 282.799219 \nL -186.862975 282.799219 \nL -195.353875 282.799219 \nz\n\" clip-path=\"url(#p34f15d4daf)\" style=\"fill: #1f77b4; opacity: 0.5\"/>\n   </g>\n   <g id=\"patch_174\">\n    <path d=\"M -186.862975 282.799219 \nL -178.372075 282.799219 \nL -178.372075 282.799219 \nL -186.862975 282.799219 \nz\n\" clip-path=\"url(#p34f15d4daf)\" style=\"fill: #1f77b4; opacity: 0.5\"/>\n   </g>\n   <g id=\"patch_175\">\n    <path d=\"M -178.372075 282.799219 \nL -169.881175 282.799219 \nL -169.881175 282.799219 \nL -178.372075 282.799219 \nz\n\" clip-path=\"url(#p34f15d4daf)\" style=\"fill: #1f77b4; opacity: 0.5\"/>\n   </g>\n   <g id=\"patch_176\">\n    <path d=\"M -169.881175 282.799219 \nL -161.390275 282.799219 \nL -161.390275 282.799219 \nL -169.881175 282.799219 \nz\n\" clip-path=\"url(#p34f15d4daf)\" style=\"fill: #1f77b4; opacity: 0.5\"/>\n   </g>\n   <g id=\"patch_177\">\n    <path d=\"M -161.390275 282.799219 \nL -152.899375 282.799219 \nL -152.899375 282.799219 \nL -161.390275 282.799219 \nz\n\" clip-path=\"url(#p34f15d4daf)\" style=\"fill: #1f77b4; opacity: 0.5\"/>\n   </g>\n   <g id=\"patch_178\">\n    <path d=\"M -152.899375 282.799219 \nL -144.408475 282.799219 \nL -144.408475 282.799219 \nL -152.899375 282.799219 \nz\n\" clip-path=\"url(#p34f15d4daf)\" style=\"fill: #1f77b4; opacity: 0.5\"/>\n   </g>\n   <g id=\"patch_179\">\n    <path d=\"M -144.408475 282.799219 \nL -135.917575 282.799219 \nL -135.917575 282.799219 \nL -144.408475 282.799219 \nz\n\" clip-path=\"url(#p34f15d4daf)\" style=\"fill: #1f77b4; opacity: 0.5\"/>\n   </g>\n   <g id=\"patch_180\">\n    <path d=\"M -135.917575 282.799219 \nL -127.426675 282.799219 \nL -127.426675 282.527419 \nL -135.917575 282.527419 \nz\n\" clip-path=\"url(#p34f15d4daf)\" style=\"fill: #1f77b4; opacity: 0.5\"/>\n   </g>\n   <g id=\"patch_181\">\n    <path d=\"M -127.426675 282.799219 \nL -118.935775 282.799219 \nL -118.935775 282.527419 \nL -127.426675 282.527419 \nz\n\" clip-path=\"url(#p34f15d4daf)\" style=\"fill: #1f77b4; opacity: 0.5\"/>\n   </g>\n   <g id=\"patch_182\">\n    <path d=\"M -118.935775 282.799219 \nL -110.444875 282.799219 \nL -110.444875 280.896619 \nL -118.935775 280.896619 \nz\n\" clip-path=\"url(#p34f15d4daf)\" style=\"fill: #1f77b4; opacity: 0.5\"/>\n   </g>\n   <g id=\"patch_183\">\n    <path d=\"M -110.444875 282.799219 \nL -101.953975 282.799219 \nL -101.953975 280.081219 \nL -110.444875 280.081219 \nz\n\" clip-path=\"url(#p34f15d4daf)\" style=\"fill: #1f77b4; opacity: 0.5\"/>\n   </g>\n   <g id=\"patch_184\">\n    <path d=\"M -101.953975 282.799219 \nL -93.463075 282.799219 \nL -93.463075 282.799219 \nL -101.953975 282.799219 \nz\n\" clip-path=\"url(#p34f15d4daf)\" style=\"fill: #1f77b4; opacity: 0.5\"/>\n   </g>\n   <g id=\"patch_185\">\n    <path d=\"M -93.463075 282.799219 \nL -84.972175 282.799219 \nL -84.972175 272.470819 \nL -93.463075 272.470819 \nz\n\" clip-path=\"url(#p34f15d4daf)\" style=\"fill: #1f77b4; opacity: 0.5\"/>\n   </g>\n   <g id=\"patch_186\">\n    <path d=\"M -84.972175 282.799219 \nL -76.481275 282.799219 \nL -76.481275 269.481019 \nL -84.972175 269.481019 \nz\n\" clip-path=\"url(#p34f15d4daf)\" style=\"fill: #1f77b4; opacity: 0.5\"/>\n   </g>\n   <g id=\"patch_187\">\n    <path d=\"M -76.481275 282.799219 \nL -67.990375 282.799219 \nL -67.990375 250.455019 \nL -76.481275 250.455019 \nz\n\" clip-path=\"url(#p34f15d4daf)\" style=\"fill: #1f77b4; opacity: 0.5\"/>\n   </g>\n   <g id=\"patch_188\">\n    <path d=\"M -67.990375 282.799219 \nL -59.499475 282.799219 \nL -59.499475 281.168419 \nL -67.990375 281.168419 \nz\n\" clip-path=\"url(#p34f15d4daf)\" style=\"fill: #1f77b4; opacity: 0.5\"/>\n   </g>\n   <g id=\"patch_189\">\n    <path d=\"M -59.499475 282.799219 \nL -51.008575 282.799219 \nL -51.008575 273.829819 \nL -59.499475 273.829819 \nz\n\" clip-path=\"url(#p34f15d4daf)\" style=\"fill: #1f77b4; opacity: 0.5\"/>\n   </g>\n   <g id=\"patch_190\">\n    <path d=\"M -51.008575 282.799219 \nL -42.517675 282.799219 \nL -42.517675 280.896619 \nL -51.008575 280.896619 \nz\n\" clip-path=\"url(#p34f15d4daf)\" style=\"fill: #1f77b4; opacity: 0.5\"/>\n   </g>\n   <g id=\"patch_191\">\n    <path d=\"M -42.517675 282.799219 \nL -34.026775 282.799219 \nL -34.026775 281.168419 \nL -42.517675 281.168419 \nz\n\" clip-path=\"url(#p34f15d4daf)\" style=\"fill: #1f77b4; opacity: 0.5\"/>\n   </g>\n   <g id=\"patch_192\">\n    <path d=\"M -34.026775 282.799219 \nL -25.535875 282.799219 \nL -25.535875 282.527419 \nL -34.026775 282.527419 \nz\n\" clip-path=\"url(#p34f15d4daf)\" style=\"fill: #1f77b4; opacity: 0.5\"/>\n   </g>\n   <g id=\"patch_193\">\n    <path d=\"M -25.535875 282.799219 \nL -17.044975 282.799219 \nL -17.044975 282.527419 \nL -25.535875 282.527419 \nz\n\" clip-path=\"url(#p34f15d4daf)\" style=\"fill: #1f77b4; opacity: 0.5\"/>\n   </g>\n   <g id=\"patch_194\">\n    <path d=\"M -17.044975 282.799219 \nL -8.554075 282.799219 \nL -8.554075 282.799219 \nL -17.044975 282.799219 \nz\n\" clip-path=\"url(#p34f15d4daf)\" style=\"fill: #1f77b4; opacity: 0.5\"/>\n   </g>\n   <g id=\"patch_195\">\n    <path d=\"M -8.554075 282.799219 \nL -0.063175 282.799219 \nL -0.063175 282.799219 \nL -8.554075 282.799219 \nz\n\" clip-path=\"url(#p34f15d4daf)\" style=\"fill: #1f77b4; opacity: 0.5\"/>\n   </g>\n   <g id=\"patch_196\">\n    <path d=\"M -0.063175 282.799219 \nL 8.427725 282.799219 \nL 8.427725 282.799219 \nL -0.063175 282.799219 \nz\n\" clip-path=\"url(#p34f15d4daf)\" style=\"fill: #1f77b4; opacity: 0.5\"/>\n   </g>\n   <g id=\"patch_197\">\n    <path d=\"M 8.427725 282.799219 \nL 16.918625 282.799219 \nL 16.918625 282.255619 \nL 8.427725 282.255619 \nz\n\" clip-path=\"url(#p34f15d4daf)\" style=\"fill: #1f77b4; opacity: 0.5\"/>\n   </g>\n   <g id=\"patch_198\">\n    <path d=\"M 16.918625 282.799219 \nL 25.409525 282.799219 \nL 25.409525 282.799219 \nL 16.918625 282.799219 \nz\n\" clip-path=\"url(#p34f15d4daf)\" style=\"fill: #1f77b4; opacity: 0.5\"/>\n   </g>\n   <g id=\"patch_199\">\n    <path d=\"M 25.409525 282.799219 \nL 33.900425 282.799219 \nL 33.900425 282.799219 \nL 25.409525 282.799219 \nz\n\" clip-path=\"url(#p34f15d4daf)\" style=\"fill: #1f77b4; opacity: 0.5\"/>\n   </g>\n   <g id=\"patch_200\">\n    <path d=\"M 33.900425 282.799219 \nL 42.391325 282.799219 \nL 42.391325 282.799219 \nL 33.900425 282.799219 \nz\n\" clip-path=\"url(#p34f15d4daf)\" style=\"fill: #1f77b4; opacity: 0.5\"/>\n   </g>\n   <g id=\"patch_201\">\n    <path d=\"M 42.391325 282.799219 \nL 50.882225 282.799219 \nL 50.882225 282.799219 \nL 42.391325 282.799219 \nz\n\" clip-path=\"url(#p34f15d4daf)\" style=\"fill: #1f77b4; opacity: 0.5\"/>\n   </g>\n   <g id=\"patch_202\">\n    <path d=\"M 50.882225 282.799219 \nL 59.373125 282.799219 \nL 59.373125 276.819619 \nL 50.882225 276.819619 \nz\n\" clip-path=\"url(#p34f15d4daf)\" style=\"fill: #1f77b4; opacity: 0.5\"/>\n   </g>\n   <g id=\"patch_203\">\n    <path d=\"M 59.373125 282.799219 \nL 67.864025 282.799219 \nL 67.864025 266.219419 \nL 59.373125 266.219419 \nz\n\" clip-path=\"url(#p34f15d4daf)\" style=\"fill: #1f77b4; opacity: 0.5\"/>\n   </g>\n   <g id=\"patch_204\">\n    <path d=\"M 67.864025 282.799219 \nL 76.354925 282.799219 \nL 76.354925 280.081219 \nL 67.864025 280.081219 \nz\n\" clip-path=\"url(#p34f15d4daf)\" style=\"fill: #1f77b4; opacity: 0.5\"/>\n   </g>\n   <g id=\"patch_205\">\n    <path d=\"M 76.354925 282.799219 \nL 84.845825 282.799219 \nL 84.845825 277.906819 \nL 76.354925 277.906819 \nz\n\" clip-path=\"url(#p34f15d4daf)\" style=\"fill: #1f77b4; opacity: 0.5\"/>\n   </g>\n   <g id=\"patch_206\">\n    <path d=\"M 84.845825 282.799219 \nL 93.336725 282.799219 \nL 93.336725 266.763019 \nL 84.845825 266.763019 \nz\n\" clip-path=\"url(#p34f15d4daf)\" style=\"fill: #1f77b4; opacity: 0.5\"/>\n   </g>\n   <g id=\"patch_207\">\n    <path d=\"M 93.336725 282.799219 \nL 101.827625 282.799219 \nL 101.827625 256.162819 \nL 93.336725 256.162819 \nz\n\" clip-path=\"url(#p34f15d4daf)\" style=\"fill: #1f77b4; opacity: 0.5\"/>\n   </g>\n   <g id=\"patch_208\">\n    <path d=\"M 101.827625 282.799219 \nL 110.318525 282.799219 \nL 110.318525 248.824219 \nL 101.827625 248.824219 \nz\n\" clip-path=\"url(#p34f15d4daf)\" style=\"fill: #1f77b4; opacity: 0.5\"/>\n   </g>\n   <g id=\"patch_209\">\n    <path d=\"M 110.318525 282.799219 \nL 118.809425 282.799219 \nL 118.809425 256.978219 \nL 110.318525 256.978219 \nz\n\" clip-path=\"url(#p34f15d4daf)\" style=\"fill: #1f77b4; opacity: 0.5\"/>\n   </g>\n   <g id=\"patch_210\">\n    <path d=\"M 118.809425 282.799219 \nL 127.300325 282.799219 \nL 127.300325 237.952219 \nL 118.809425 237.952219 \nz\n\" clip-path=\"url(#p34f15d4daf)\" style=\"fill: #1f77b4; opacity: 0.5\"/>\n   </g>\n   <g id=\"patch_211\">\n    <path d=\"M 127.300325 282.799219 \nL 135.791225 282.799219 \nL 135.791225 265.132219 \nL 127.300325 265.132219 \nz\n\" clip-path=\"url(#p34f15d4daf)\" style=\"fill: #1f77b4; opacity: 0.5\"/>\n   </g>\n   <g id=\"patch_212\">\n    <path d=\"M 135.791225 282.799219 \nL 144.282125 282.799219 \nL 144.282125 215.121019 \nL 135.791225 215.121019 \nz\n\" clip-path=\"url(#p34f15d4daf)\" style=\"fill: #1f77b4; opacity: 0.5\"/>\n   </g>\n   <g id=\"patch_213\">\n    <path d=\"M 144.282125 282.799219 \nL 152.773025 282.799219 \nL 152.773025 247.737019 \nL 144.282125 247.737019 \nz\n\" clip-path=\"url(#p34f15d4daf)\" style=\"fill: #1f77b4; opacity: 0.5\"/>\n   </g>\n   <g id=\"patch_214\">\n    <path d=\"M 152.773025 282.799219 \nL 161.263925 282.799219 \nL 161.263925 237.952219 \nL 152.773025 237.952219 \nz\n\" clip-path=\"url(#p34f15d4daf)\" style=\"fill: #1f77b4; opacity: 0.5\"/>\n   </g>\n   <g id=\"patch_215\">\n    <path d=\"M 161.263925 282.799219 \nL 169.754825 282.799219 \nL 169.754825 228.711019 \nL 161.263925 228.711019 \nz\n\" clip-path=\"url(#p34f15d4daf)\" style=\"fill: #1f77b4; opacity: 0.5\"/>\n   </g>\n   <g id=\"patch_216\">\n    <path d=\"M 169.754825 282.799219 \nL 178.245725 282.799219 \nL 178.245725 243.660019 \nL 169.754825 243.660019 \nz\n\" clip-path=\"url(#p34f15d4daf)\" style=\"fill: #1f77b4; opacity: 0.5\"/>\n   </g>\n   <g id=\"patch_217\">\n    <path d=\"M 178.245725 282.799219 \nL 186.736625 282.799219 \nL 186.736625 208.054219 \nL 178.245725 208.054219 \nz\n\" clip-path=\"url(#p34f15d4daf)\" style=\"fill: #1f77b4; opacity: 0.5\"/>\n   </g>\n   <g id=\"patch_218\">\n    <path d=\"M 186.736625 282.799219 \nL 195.227525 282.799219 \nL 195.227525 211.044019 \nL 186.736625 211.044019 \nz\n\" clip-path=\"url(#p34f15d4daf)\" style=\"fill: #1f77b4; opacity: 0.5\"/>\n   </g>\n   <g id=\"patch_219\">\n    <path d=\"M 195.227525 282.799219 \nL 203.718425 282.799219 \nL 203.718425 187.669219 \nL 195.227525 187.669219 \nz\n\" clip-path=\"url(#p34f15d4daf)\" style=\"fill: #1f77b4; opacity: 0.5\"/>\n   </g>\n   <g id=\"patch_220\">\n    <path d=\"M 203.718425 282.799219 \nL 212.209325 282.799219 \nL 212.209325 186.310219 \nL 203.718425 186.310219 \nz\n\" clip-path=\"url(#p34f15d4daf)\" style=\"fill: #1f77b4; opacity: 0.5\"/>\n   </g>\n   <g id=\"patch_221\">\n    <path d=\"M 212.209325 282.799219 \nL 220.700225 282.799219 \nL 220.700225 171.633019 \nL 212.209325 171.633019 \nz\n\" clip-path=\"url(#p34f15d4daf)\" style=\"fill: #1f77b4; opacity: 0.5\"/>\n   </g>\n   <g id=\"patch_222\">\n    <path d=\"M 220.700225 282.799219 \nL 229.191125 282.799219 \nL 229.191125 184.679419 \nL 220.700225 184.679419 \nz\n\" clip-path=\"url(#p34f15d4daf)\" style=\"fill: #1f77b4; opacity: 0.5\"/>\n   </g>\n   <g id=\"patch_223\">\n    <path d=\"M 229.191125 282.799219 \nL 237.682025 282.799219 \nL 237.682025 209.685019 \nL 229.191125 209.685019 \nz\n\" clip-path=\"url(#p34f15d4daf)\" style=\"fill: #1f77b4; opacity: 0.5\"/>\n   </g>\n   <g id=\"patch_224\">\n    <path d=\"M 237.682025 282.799219 \nL 246.172925 282.799219 \nL 246.172925 243.931819 \nL 237.682025 243.931819 \nz\n\" clip-path=\"url(#p34f15d4daf)\" style=\"fill: #1f77b4; opacity: 0.5\"/>\n   </g>\n   <g id=\"patch_225\">\n    <path d=\"M 246.172925 282.799219 \nL 254.663825 282.799219 \nL 254.663825 247.465219 \nL 246.172925 247.465219 \nz\n\" clip-path=\"url(#p34f15d4daf)\" style=\"fill: #1f77b4; opacity: 0.5\"/>\n   </g>\n   <g id=\"patch_226\">\n    <path d=\"M 254.663825 282.799219 \nL 263.154725 282.799219 \nL 263.154725 247.737019 \nL 254.663825 247.737019 \nz\n\" clip-path=\"url(#p34f15d4daf)\" style=\"fill: #1f77b4; opacity: 0.5\"/>\n   </g>\n   <g id=\"patch_227\">\n    <path d=\"M 263.154725 282.799219 \nL 271.645625 282.799219 \nL 271.645625 253.716619 \nL 263.154725 253.716619 \nz\n\" clip-path=\"url(#p34f15d4daf)\" style=\"fill: #1f77b4; opacity: 0.5\"/>\n   </g>\n   <g id=\"patch_228\">\n    <path d=\"M 271.645625 282.799219 \nL 280.136525 282.799219 \nL 280.136525 245.290819 \nL 271.645625 245.290819 \nz\n\" clip-path=\"url(#p34f15d4daf)\" style=\"fill: #1f77b4; opacity: 0.5\"/>\n   </g>\n   <g id=\"patch_229\">\n    <path d=\"M 280.136525 282.799219 \nL 288.627425 282.799219 \nL 288.627425 249.911419 \nL 280.136525 249.911419 \nz\n\" clip-path=\"url(#p34f15d4daf)\" style=\"fill: #1f77b4; opacity: 0.5\"/>\n   </g>\n   <g id=\"patch_230\">\n    <path d=\"M 288.627425 282.799219 \nL 297.118325 282.799219 \nL 297.118325 264.588619 \nL 288.627425 264.588619 \nz\n\" clip-path=\"url(#p34f15d4daf)\" style=\"fill: #1f77b4; opacity: 0.5\"/>\n   </g>\n   <g id=\"patch_231\">\n    <path d=\"M 297.118325 282.799219 \nL 305.609225 282.799219 \nL 305.609225 248.824219 \nL 297.118325 248.824219 \nz\n\" clip-path=\"url(#p34f15d4daf)\" style=\"fill: #1f77b4; opacity: 0.5\"/>\n   </g>\n   <g id=\"patch_232\">\n    <path d=\"M 305.609225 282.799219 \nL 314.100125 282.799219 \nL 314.100125 263.773219 \nL 305.609225 263.773219 \nz\n\" clip-path=\"url(#p34f15d4daf)\" style=\"fill: #1f77b4; opacity: 0.5\"/>\n   </g>\n   <g id=\"patch_233\">\n    <path d=\"M 314.100125 282.799219 \nL 322.591025 282.799219 \nL 322.591025 263.501419 \nL 314.100125 263.501419 \nz\n\" clip-path=\"url(#p34f15d4daf)\" style=\"fill: #1f77b4; opacity: 0.5\"/>\n   </g>\n   <g id=\"patch_234\">\n    <path d=\"M 322.591025 282.799219 \nL 331.081925 282.799219 \nL 331.081925 255.075619 \nL 322.591025 255.075619 \nz\n\" clip-path=\"url(#p34f15d4daf)\" style=\"fill: #1f77b4; opacity: 0.5\"/>\n   </g>\n   <g id=\"patch_235\">\n    <path d=\"M 331.081925 282.799219 \nL 339.572825 282.799219 \nL 339.572825 241.213819 \nL 331.081925 241.213819 \nz\n\" clip-path=\"url(#p34f15d4daf)\" style=\"fill: #1f77b4; opacity: 0.5\"/>\n   </g>\n   <g id=\"patch_236\">\n    <path d=\"M 339.572825 282.799219 \nL 348.063725 282.799219 \nL 348.063725 241.757419 \nL 339.572825 241.757419 \nz\n\" clip-path=\"url(#p34f15d4daf)\" style=\"fill: #1f77b4; opacity: 0.5\"/>\n   </g>\n   <g id=\"patch_237\">\n    <path d=\"M 348.063725 282.799219 \nL 356.554625 282.799219 \nL 356.554625 233.875219 \nL 348.063725 233.875219 \nz\n\" clip-path=\"url(#p34f15d4daf)\" style=\"fill: #1f77b4; opacity: 0.5\"/>\n   </g>\n   <g id=\"patch_238\">\n    <path d=\"M 356.554625 282.799219 \nL 365.045525 282.799219 \nL 365.045525 209.685019 \nL 356.554625 209.685019 \nz\n\" clip-path=\"url(#p34f15d4daf)\" style=\"fill: #1f77b4; opacity: 0.5\"/>\n   </g>\n   <g id=\"patch_239\">\n    <path d=\"M 365.045525 282.799219 \nL 373.536425 282.799219 \nL 373.536425 202.074619 \nL 365.045525 202.074619 \nz\n\" clip-path=\"url(#p34f15d4daf)\" style=\"fill: #1f77b4; opacity: 0.5\"/>\n   </g>\n   <g id=\"patch_240\">\n    <path d=\"M 373.536425 282.799219 \nL 382.027325 282.799219 \nL 382.027325 140.647819 \nL 373.536425 140.647819 \nz\n\" clip-path=\"url(#p34f15d4daf)\" style=\"fill: #1f77b4; opacity: 0.5\"/>\n   </g>\n   <g id=\"patch_241\">\n    <path d=\"M 382.027325 282.799219 \nL 390.518225 282.799219 \nL 390.518225 168.099619 \nL 382.027325 168.099619 \nz\n\" clip-path=\"url(#p34f15d4daf)\" style=\"fill: #1f77b4; opacity: 0.5\"/>\n   </g>\n   <g id=\"patch_242\">\n    <path d=\"M 390.518225 282.799219 \nL 399.009125 282.799219 \nL 399.009125 215.121019 \nL 390.518225 215.121019 \nz\n\" clip-path=\"url(#p34f15d4daf)\" style=\"fill: #1f77b4; opacity: 0.5\"/>\n   </g>\n   <g id=\"patch_243\">\n    <path d=\"M 399.009125 282.799219 \nL 407.500025 282.799219 \nL 407.500025 206.423419 \nL 399.009125 206.423419 \nz\n\" clip-path=\"url(#p34f15d4daf)\" style=\"fill: #1f77b4; opacity: 0.5\"/>\n   </g>\n   <g id=\"patch_244\">\n    <path d=\"M 407.500025 282.799219 \nL 415.990925 282.799219 \nL 415.990925 217.023619 \nL 407.500025 217.023619 \nz\n\" clip-path=\"url(#p34f15d4daf)\" style=\"fill: #1f77b4; opacity: 0.5\"/>\n   </g>\n   <g id=\"patch_245\">\n    <path d=\"M 415.990925 282.799219 \nL 424.481825 282.799219 \nL 424.481825 192.833419 \nL 415.990925 192.833419 \nz\n\" clip-path=\"url(#p34f15d4daf)\" style=\"fill: #1f77b4; opacity: 0.5\"/>\n   </g>\n   <g id=\"patch_246\">\n    <path d=\"M 424.481825 282.799219 \nL 432.972725 282.799219 \nL 432.972725 236.321419 \nL 424.481825 236.321419 \nz\n\" clip-path=\"url(#p34f15d4daf)\" style=\"fill: #1f77b4; opacity: 0.5\"/>\n   </g>\n   <g id=\"patch_247\">\n    <path d=\"M 432.972725 282.799219 \nL 441.463625 282.799219 \nL 441.463625 266.491219 \nL 432.972725 266.491219 \nz\n\" clip-path=\"url(#p34f15d4daf)\" style=\"fill: #1f77b4; opacity: 0.5\"/>\n   </g>\n   <g id=\"patch_248\">\n    <path d=\"M 441.463625 282.799219 \nL 449.954525 282.799219 \nL 449.954525 269.752819 \nL 441.463625 269.752819 \nz\n\" clip-path=\"url(#p34f15d4daf)\" style=\"fill: #1f77b4; opacity: 0.5\"/>\n   </g>\n   <g id=\"patch_249\">\n    <path d=\"M 449.954525 282.799219 \nL 458.445425 282.799219 \nL 458.445425 263.773219 \nL 449.954525 263.773219 \nz\n\" clip-path=\"url(#p34f15d4daf)\" style=\"fill: #1f77b4; opacity: 0.5\"/>\n   </g>\n   <g id=\"patch_250\">\n    <path d=\"M 458.445425 282.799219 \nL 466.936325 282.799219 \nL 466.936325 275.188819 \nL 458.445425 275.188819 \nz\n\" clip-path=\"url(#p34f15d4daf)\" style=\"fill: #1f77b4; opacity: 0.5\"/>\n   </g>\n   <g id=\"patch_251\">\n    <path d=\"M 466.936325 282.799219 \nL 475.427225 282.799219 \nL 475.427225 274.101619 \nL 466.936325 274.101619 \nz\n\" clip-path=\"url(#p34f15d4daf)\" style=\"fill: #1f77b4; opacity: 0.5\"/>\n   </g>\n   <g id=\"patch_252\">\n    <path d=\"M 475.427225 282.799219 \nL 483.918125 282.799219 \nL 483.918125 261.870619 \nL 475.427225 261.870619 \nz\n\" clip-path=\"url(#p34f15d4daf)\" style=\"fill: #1f77b4; opacity: 0.5\"/>\n   </g>\n   <g id=\"patch_253\">\n    <path d=\"M 483.918125 282.799219 \nL 492.409025 282.799219 \nL 492.409025 272.742619 \nL 483.918125 272.742619 \nz\n\" clip-path=\"url(#p34f15d4daf)\" style=\"fill: #1f77b4; opacity: 0.5\"/>\n   </g>\n   <g id=\"patch_254\">\n    <path d=\"M 492.409025 282.799219 \nL 500.899925 282.799219 \nL 500.899925 260.511619 \nL 492.409025 260.511619 \nz\n\" clip-path=\"url(#p34f15d4daf)\" style=\"fill: #1f77b4; opacity: 0.5\"/>\n   </g>\n   <g id=\"patch_255\">\n    <path d=\"M 500.899925 282.799219 \nL 509.390825 282.799219 \nL 509.390825 266.763019 \nL 500.899925 266.763019 \nz\n\" clip-path=\"url(#p34f15d4daf)\" style=\"fill: #1f77b4; opacity: 0.5\"/>\n   </g>\n   <g id=\"patch_256\">\n    <path d=\"M 509.390825 282.799219 \nL 517.881725 282.799219 \nL 517.881725 248.008819 \nL 509.390825 248.008819 \nz\n\" clip-path=\"url(#p34f15d4daf)\" style=\"fill: #1f77b4; opacity: 0.5\"/>\n   </g>\n   <g id=\"patch_257\">\n    <path d=\"M 517.881725 282.799219 \nL 526.372625 282.799219 \nL 526.372625 255.075619 \nL 517.881725 255.075619 \nz\n\" clip-path=\"url(#p34f15d4daf)\" style=\"fill: #1f77b4; opacity: 0.5\"/>\n   </g>\n   <g id=\"patch_258\">\n    <path d=\"M 526.372625 282.799219 \nL 534.863525 282.799219 \nL 534.863525 243.116419 \nL 526.372625 243.116419 \nz\n\" clip-path=\"url(#p34f15d4daf)\" style=\"fill: #1f77b4; opacity: 0.5\"/>\n   </g>\n   <g id=\"patch_259\">\n    <path d=\"M 534.863525 282.799219 \nL 543.354425 282.799219 \nL 543.354425 235.506019 \nL 534.863525 235.506019 \nz\n\" clip-path=\"url(#p34f15d4daf)\" style=\"fill: #1f77b4; opacity: 0.5\"/>\n   </g>\n   <g id=\"patch_260\">\n    <path d=\"M 543.354425 282.799219 \nL 551.845325 282.799219 \nL 551.845325 227.895619 \nL 543.354425 227.895619 \nz\n\" clip-path=\"url(#p34f15d4daf)\" style=\"fill: #1f77b4; opacity: 0.5\"/>\n   </g>\n   <g id=\"patch_261\">\n    <path d=\"M 551.845325 282.799219 \nL 560.336225 282.799219 \nL 560.336225 218.382619 \nL 551.845325 218.382619 \nz\n\" clip-path=\"url(#p34f15d4daf)\" style=\"fill: #1f77b4; opacity: 0.5\"/>\n   </g>\n   <g id=\"patch_262\">\n    <path d=\"M 560.336225 282.799219 \nL 568.827125 282.799219 \nL 568.827125 225.177619 \nL 560.336225 225.177619 \nz\n\" clip-path=\"url(#p34f15d4daf)\" style=\"fill: #1f77b4; opacity: 0.5\"/>\n   </g>\n   <g id=\"patch_263\">\n    <path d=\"M 568.827125 282.799219 \nL 577.318025 282.799219 \nL 577.318025 194.736019 \nL 568.827125 194.736019 \nz\n\" clip-path=\"url(#p34f15d4daf)\" style=\"fill: #1f77b4; opacity: 0.5\"/>\n   </g>\n   <g id=\"patch_264\">\n    <path d=\"M 577.318025 282.799219 \nL 585.808925 282.799219 \nL 585.808925 202.074619 \nL 577.318025 202.074619 \nz\n\" clip-path=\"url(#p34f15d4daf)\" style=\"fill: #1f77b4; opacity: 0.5\"/>\n   </g>\n   <g id=\"patch_265\">\n    <path d=\"M 585.808925 282.799219 \nL 594.299825 282.799219 \nL 594.299825 185.223019 \nL 585.808925 185.223019 \nz\n\" clip-path=\"url(#p34f15d4daf)\" style=\"fill: #1f77b4; opacity: 0.5\"/>\n   </g>\n   <g id=\"patch_266\">\n    <path d=\"M 594.299825 282.799219 \nL 602.790725 282.799219 \nL 602.790725 192.018019 \nL 594.299825 192.018019 \nz\n\" clip-path=\"url(#p34f15d4daf)\" style=\"fill: #1f77b4; opacity: 0.5\"/>\n   </g>\n   <g id=\"patch_267\">\n    <path d=\"M 602.790725 282.799219 \nL 611.281625 282.799219 \nL 611.281625 171.633019 \nL 602.790725 171.633019 \nz\n\" clip-path=\"url(#p34f15d4daf)\" style=\"fill: #1f77b4; opacity: 0.5\"/>\n   </g>\n   <g id=\"patch_268\">\n    <path d=\"M 611.281625 282.799219 \nL 619.772525 282.799219 \nL 619.772525 177.069019 \nL 611.281625 177.069019 \nz\n\" clip-path=\"url(#p34f15d4daf)\" style=\"fill: #1f77b4; opacity: 0.5\"/>\n   </g>\n   <g id=\"patch_269\">\n    <path d=\"M 619.772525 282.799219 \nL 628.263425 282.799219 \nL 628.263425 157.227619 \nL 619.772525 157.227619 \nz\n\" clip-path=\"url(#p34f15d4daf)\" style=\"fill: #1f77b4; opacity: 0.5\"/>\n   </g>\n   <g id=\"patch_270\">\n    <path d=\"M 628.263425 282.799219 \nL 636.754325 282.799219 \nL 636.754325 169.730419 \nL 628.263425 169.730419 \nz\n\" clip-path=\"url(#p34f15d4daf)\" style=\"fill: #1f77b4; opacity: 0.5\"/>\n   </g>\n   <g id=\"patch_271\">\n    <path d=\"M 636.754325 282.799219 \nL 645.245225 282.799219 \nL 645.245225 124.339819 \nL 636.754325 124.339819 \nz\n\" clip-path=\"url(#p34f15d4daf)\" style=\"fill: #1f77b4; opacity: 0.5\"/>\n   </g>\n   <g id=\"patch_272\">\n    <path d=\"M 645.245225 282.799219 \nL 653.736125 282.799219 \nL 653.736125 113.467819 \nL 645.245225 113.467819 \nz\n\" clip-path=\"url(#p34f15d4daf)\" style=\"fill: #1f77b4; opacity: 0.5\"/>\n   </g>\n   <g id=\"patch_273\">\n    <path d=\"M 653.736125 282.799219 \nL 662.227025 282.799219 \nL 662.227025 115.642219 \nL 653.736125 115.642219 \nz\n\" clip-path=\"url(#p34f15d4daf)\" style=\"fill: #1f77b4; opacity: 0.5\"/>\n   </g>\n   <g id=\"patch_274\">\n    <path d=\"M 662.227025 282.799219 \nL 670.717925 282.799219 \nL 670.717925 133.037419 \nL 662.227025 133.037419 \nz\n\" clip-path=\"url(#p34f15d4daf)\" style=\"fill: #1f77b4; opacity: 0.5\"/>\n   </g>\n   <g id=\"patch_275\">\n    <path d=\"M 670.717925 282.799219 \nL 679.208825 282.799219 \nL 679.208825 92.267419 \nL 670.717925 92.267419 \nz\n\" clip-path=\"url(#p34f15d4daf)\" style=\"fill: #1f77b4; opacity: 0.5\"/>\n   </g>\n   <g id=\"patch_276\">\n    <path d=\"M 679.208825 282.799219 \nL 687.699725 282.799219 \nL 687.699725 93.626419 \nL 679.208825 93.626419 \nz\n\" clip-path=\"url(#p34f15d4daf)\" style=\"fill: #1f77b4; opacity: 0.5\"/>\n   </g>\n   <g id=\"patch_277\">\n    <path d=\"M 687.699725 282.799219 \nL 696.190625 282.799219 \nL 696.190625 19.153219 \nL 687.699725 19.153219 \nz\n\" clip-path=\"url(#p34f15d4daf)\" style=\"fill: #1f77b4; opacity: 0.5\"/>\n   </g>\n   <g id=\"patch_278\">\n    <path d=\"M 696.190625 282.799219 \nL 704.681525 282.799219 \nL 704.681525 -34.391381 \nL 696.190625 -34.391381 \nz\n\" clip-path=\"url(#p34f15d4daf)\" style=\"fill: #1f77b4; opacity: 0.5\"/>\n   </g>\n   <g id=\"patch_279\">\n    <path d=\"M 704.681525 282.799219 \nL 713.172425 282.799219 \nL 713.172425 -355.930781 \nL 704.681525 -355.930781 \nz\n\" clip-path=\"url(#p34f15d4daf)\" style=\"fill: #1f77b4; opacity: 0.5\"/>\n   </g>\n   <g id=\"patch_280\">\n    <path d=\"M 713.172425 282.799219 \nL 721.663325 282.799219 \nL 721.663325 -395.885381 \nL 713.172425 -395.885381 \nz\n\" clip-path=\"url(#p34f15d4daf)\" style=\"fill: #1f77b4; opacity: 0.5\"/>\n   </g>\n   <g id=\"patch_281\">\n    <path d=\"M 721.663325 282.799219 \nL 730.154225 282.799219 \nL 730.154225 -636.700181 \nL 721.663325 -636.700181 \nz\n\" clip-path=\"url(#p34f15d4daf)\" style=\"fill: #1f77b4; opacity: 0.5\"/>\n   </g>\n   <g id=\"patch_282\">\n    <path d=\"M 730.154225 282.799219 \nL 738.645125 282.799219 \nL 738.645125 -680.188181 \nL 730.154225 -680.188181 \nz\n\" clip-path=\"url(#p34f15d4daf)\" style=\"fill: #1f77b4; opacity: 0.5\"/>\n   </g>\n   <g id=\"patch_283\">\n    <path d=\"M 738.645125 282.799219 \nL 747.136025 282.799219 \nL 747.136025 -665.782781 \nL 738.645125 -665.782781 \nz\n\" clip-path=\"url(#p34f15d4daf)\" style=\"fill: #1f77b4; opacity: 0.5\"/>\n   </g>\n   <g id=\"patch_284\">\n    <path d=\"M 747.136025 282.799219 \nL 755.626925 282.799219 \nL 755.626925 -740.799581 \nL 747.136025 -740.799581 \nz\n\" clip-path=\"url(#p34f15d4daf)\" style=\"fill: #1f77b4; opacity: 0.5\"/>\n   </g>\n   <g id=\"patch_285\">\n    <path d=\"M 755.626925 282.799219 \nL 764.117825 282.799219 \nL 764.117825 -807.390581 \nL 755.626925 -807.390581 \nz\n\" clip-path=\"url(#p34f15d4daf)\" style=\"fill: #1f77b4; opacity: 0.5\"/>\n   </g>\n   <g id=\"patch_286\">\n    <path d=\"M 764.117825 282.799219 \nL 772.608725 282.799219 \nL 772.608725 -1080.821381 \nL 764.117825 -1080.821381 \nz\n\" clip-path=\"url(#p34f15d4daf)\" style=\"fill: #1f77b4; opacity: 0.5\"/>\n   </g>\n   <g id=\"patch_287\">\n    <path d=\"M 772.608725 282.799219 \nL 781.099625 282.799219 \nL 781.099625 -783.200381 \nL 772.608725 -783.200381 \nz\n\" clip-path=\"url(#p34f15d4daf)\" style=\"fill: #1f77b4; opacity: 0.5\"/>\n   </g>\n   <g id=\"patch_288\">\n    <path d=\"M 781.099625 282.799219 \nL 789.590525 282.799219 \nL 789.590525 -576.904181 \nL 781.099625 -576.904181 \nz\n\" clip-path=\"url(#p34f15d4daf)\" style=\"fill: #1f77b4; opacity: 0.5\"/>\n   </g>\n   <g id=\"patch_289\">\n    <path d=\"M 789.590525 282.799219 \nL 798.081425 282.799219 \nL 798.081425 -467.640581 \nL 789.590525 -467.640581 \nz\n\" clip-path=\"url(#p34f15d4daf)\" style=\"fill: #1f77b4; opacity: 0.5\"/>\n   </g>\n   <g id=\"patch_290\">\n    <path d=\"M 798.081425 282.799219 \nL 806.572325 282.799219 \nL 806.572325 -391.536581 \nL 798.081425 -391.536581 \nz\n\" clip-path=\"url(#p34f15d4daf)\" style=\"fill: #1f77b4; opacity: 0.5\"/>\n   </g>\n   <g id=\"patch_291\">\n    <path d=\"M 806.572325 282.799219 \nL 815.063225 282.799219 \nL 815.063225 -306.191381 \nL 806.572325 -306.191381 \nz\n\" clip-path=\"url(#p34f15d4daf)\" style=\"fill: #1f77b4; opacity: 0.5\"/>\n   </g>\n   <g id=\"patch_292\">\n    <path d=\"M 815.063225 282.799219 \nL 823.554125 282.799219 \nL 823.554125 -293.960381 \nL 815.063225 -293.960381 \nz\n\" clip-path=\"url(#p34f15d4daf)\" style=\"fill: #1f77b4; opacity: 0.5\"/>\n   </g>\n   <g id=\"patch_293\">\n    <path d=\"M 823.554125 282.799219 \nL 832.045025 282.799219 \nL 832.045025 -299.124581 \nL 823.554125 -299.124581 \nz\n\" clip-path=\"url(#p34f15d4daf)\" style=\"fill: #1f77b4; opacity: 0.5\"/>\n   </g>\n   <g id=\"patch_294\">\n    <path d=\"M 832.045025 282.799219 \nL 840.535925 282.799219 \nL 840.535925 -390.992981 \nL 832.045025 -390.992981 \nz\n\" clip-path=\"url(#p34f15d4daf)\" style=\"fill: #1f77b4; opacity: 0.5\"/>\n   </g>\n   <g id=\"patch_295\">\n    <path d=\"M 840.535925 282.799219 \nL 849.026825 282.799219 \nL 849.026825 -305.919581 \nL 840.535925 -305.919581 \nz\n\" clip-path=\"url(#p34f15d4daf)\" style=\"fill: #1f77b4; opacity: 0.5\"/>\n   </g>\n   <g id=\"patch_296\">\n    <path d=\"M 849.026825 282.799219 \nL 857.517725 282.799219 \nL 857.517725 -194.209781 \nL 849.026825 -194.209781 \nz\n\" clip-path=\"url(#p34f15d4daf)\" style=\"fill: #1f77b4; opacity: 0.5\"/>\n   </g>\n   <g id=\"patch_297\">\n    <path d=\"M 857.517725 282.799219 \nL 866.008625 282.799219 \nL 866.008625 -105.331181 \nL 857.517725 -105.331181 \nz\n\" clip-path=\"url(#p34f15d4daf)\" style=\"fill: #1f77b4; opacity: 0.5\"/>\n   </g>\n   <g id=\"patch_298\">\n    <path d=\"M 866.008625 282.799219 \nL 874.499525 282.799219 \nL 874.499525 -8.570381 \nL 866.008625 -8.570381 \nz\n\" clip-path=\"url(#p34f15d4daf)\" style=\"fill: #1f77b4; opacity: 0.5\"/>\n   </g>\n   <g id=\"patch_299\">\n    <path d=\"M 874.499525 282.799219 \nL 882.990425 282.799219 \nL 882.990425 59.923219 \nL 874.499525 59.923219 \nz\n\" clip-path=\"url(#p34f15d4daf)\" style=\"fill: #1f77b4; opacity: 0.5\"/>\n   </g>\n   <g id=\"patch_300\">\n    <path d=\"M 882.990425 282.799219 \nL 891.481325 282.799219 \nL 891.481325 127.329619 \nL 882.990425 127.329619 \nz\n\" clip-path=\"url(#p34f15d4daf)\" style=\"fill: #1f77b4; opacity: 0.5\"/>\n   </g>\n   <g id=\"patch_301\">\n    <path d=\"M 891.481325 282.799219 \nL 899.972225 282.799219 \nL 899.972225 196.638619 \nL 891.481325 196.638619 \nz\n\" clip-path=\"url(#p34f15d4daf)\" style=\"fill: #1f77b4; opacity: 0.5\"/>\n   </g>\n   <g id=\"patch_302\">\n    <path d=\"M 899.972225 282.799219 \nL 908.463125 282.799219 \nL 908.463125 236.049619 \nL 899.972225 236.049619 \nz\n\" clip-path=\"url(#p34f15d4daf)\" style=\"fill: #1f77b4; opacity: 0.5\"/>\n   </g>\n   <g id=\"patch_303\">\n    <path d=\"M 81.228125 282.799219 \nL 86.529125 282.799219 \nL 86.529125 282.527419 \nL 81.228125 282.527419 \nz\n\" clip-path=\"url(#p34f15d4daf)\" style=\"fill: #ff7f0e; opacity: 0.8\"/>\n   </g>\n   <g id=\"patch_304\">\n    <path d=\"M 86.529125 282.799219 \nL 91.830125 282.799219 \nL 91.830125 282.255619 \nL 86.529125 282.255619 \nz\n\" clip-path=\"url(#p34f15d4daf)\" style=\"fill: #ff7f0e; opacity: 0.8\"/>\n   </g>\n   <g id=\"patch_305\">\n    <path d=\"M 91.830125 282.799219 \nL 97.131125 282.799219 \nL 97.131125 282.255619 \nL 91.830125 282.255619 \nz\n\" clip-path=\"url(#p34f15d4daf)\" style=\"fill: #ff7f0e; opacity: 0.8\"/>\n   </g>\n   <g id=\"patch_306\">\n    <path d=\"M 97.131125 282.799219 \nL 102.432125 282.799219 \nL 102.432125 279.265819 \nL 97.131125 279.265819 \nz\n\" clip-path=\"url(#p34f15d4daf)\" style=\"fill: #ff7f0e; opacity: 0.8\"/>\n   </g>\n   <g id=\"patch_307\">\n    <path d=\"M 102.432125 282.799219 \nL 107.733125 282.799219 \nL 107.733125 281.983819 \nL 102.432125 281.983819 \nz\n\" clip-path=\"url(#p34f15d4daf)\" style=\"fill: #ff7f0e; opacity: 0.8\"/>\n   </g>\n   <g id=\"patch_308\">\n    <path d=\"M 107.733125 282.799219 \nL 113.034125 282.799219 \nL 113.034125 281.712019 \nL 107.733125 281.712019 \nz\n\" clip-path=\"url(#p34f15d4daf)\" style=\"fill: #ff7f0e; opacity: 0.8\"/>\n   </g>\n   <g id=\"patch_309\">\n    <path d=\"M 113.034125 282.799219 \nL 118.335125 282.799219 \nL 118.335125 280.896619 \nL 113.034125 280.896619 \nz\n\" clip-path=\"url(#p34f15d4daf)\" style=\"fill: #ff7f0e; opacity: 0.8\"/>\n   </g>\n   <g id=\"patch_310\">\n    <path d=\"M 118.335125 282.799219 \nL 123.636125 282.799219 \nL 123.636125 278.178619 \nL 118.335125 278.178619 \nz\n\" clip-path=\"url(#p34f15d4daf)\" style=\"fill: #ff7f0e; opacity: 0.8\"/>\n   </g>\n   <g id=\"patch_311\">\n    <path d=\"M 123.636125 282.799219 \nL 128.937125 282.799219 \nL 128.937125 281.983819 \nL 123.636125 281.983819 \nz\n\" clip-path=\"url(#p34f15d4daf)\" style=\"fill: #ff7f0e; opacity: 0.8\"/>\n   </g>\n   <g id=\"patch_312\">\n    <path d=\"M 128.937125 282.799219 \nL 134.238125 282.799219 \nL 134.238125 281.712019 \nL 128.937125 281.712019 \nz\n\" clip-path=\"url(#p34f15d4daf)\" style=\"fill: #ff7f0e; opacity: 0.8\"/>\n   </g>\n   <g id=\"patch_313\">\n    <path d=\"M 134.238125 282.799219 \nL 139.539125 282.799219 \nL 139.539125 278.450419 \nL 134.238125 278.450419 \nz\n\" clip-path=\"url(#p34f15d4daf)\" style=\"fill: #ff7f0e; opacity: 0.8\"/>\n   </g>\n   <g id=\"patch_314\">\n    <path d=\"M 139.539125 282.799219 \nL 144.840125 282.799219 \nL 144.840125 280.624819 \nL 139.539125 280.624819 \nz\n\" clip-path=\"url(#p34f15d4daf)\" style=\"fill: #ff7f0e; opacity: 0.8\"/>\n   </g>\n   <g id=\"patch_315\">\n    <path d=\"M 144.840125 282.799219 \nL 150.141125 282.799219 \nL 150.141125 282.255619 \nL 144.840125 282.255619 \nz\n\" clip-path=\"url(#p34f15d4daf)\" style=\"fill: #ff7f0e; opacity: 0.8\"/>\n   </g>\n   <g id=\"patch_316\">\n    <path d=\"M 150.141125 282.799219 \nL 155.442125 282.799219 \nL 155.442125 278.994019 \nL 150.141125 278.994019 \nz\n\" clip-path=\"url(#p34f15d4daf)\" style=\"fill: #ff7f0e; opacity: 0.8\"/>\n   </g>\n   <g id=\"patch_317\">\n    <path d=\"M 155.442125 282.799219 \nL 160.743125 282.799219 \nL 160.743125 278.178619 \nL 155.442125 278.178619 \nz\n\" clip-path=\"url(#p34f15d4daf)\" style=\"fill: #ff7f0e; opacity: 0.8\"/>\n   </g>\n   <g id=\"patch_318\">\n    <path d=\"M 160.743125 282.799219 \nL 166.044125 282.799219 \nL 166.044125 279.537619 \nL 160.743125 279.537619 \nz\n\" clip-path=\"url(#p34f15d4daf)\" style=\"fill: #ff7f0e; opacity: 0.8\"/>\n   </g>\n   <g id=\"patch_319\">\n    <path d=\"M 166.044125 282.799219 \nL 171.345125 282.799219 \nL 171.345125 281.712019 \nL 166.044125 281.712019 \nz\n\" clip-path=\"url(#p34f15d4daf)\" style=\"fill: #ff7f0e; opacity: 0.8\"/>\n   </g>\n   <g id=\"patch_320\">\n    <path d=\"M 171.345125 282.799219 \nL 176.646125 282.799219 \nL 176.646125 278.450419 \nL 171.345125 278.450419 \nz\n\" clip-path=\"url(#p34f15d4daf)\" style=\"fill: #ff7f0e; opacity: 0.8\"/>\n   </g>\n   <g id=\"patch_321\">\n    <path d=\"M 176.646125 282.799219 \nL 181.947125 282.799219 \nL 181.947125 277.906819 \nL 176.646125 277.906819 \nz\n\" clip-path=\"url(#p34f15d4daf)\" style=\"fill: #ff7f0e; opacity: 0.8\"/>\n   </g>\n   <g id=\"patch_322\">\n    <path d=\"M 181.947125 282.799219 \nL 187.248125 282.799219 \nL 187.248125 279.265819 \nL 181.947125 279.265819 \nz\n\" clip-path=\"url(#p34f15d4daf)\" style=\"fill: #ff7f0e; opacity: 0.8\"/>\n   </g>\n   <g id=\"patch_323\">\n    <path d=\"M 187.248125 282.799219 \nL 192.549125 282.799219 \nL 192.549125 277.635019 \nL 187.248125 277.635019 \nz\n\" clip-path=\"url(#p34f15d4daf)\" style=\"fill: #ff7f0e; opacity: 0.8\"/>\n   </g>\n   <g id=\"patch_324\">\n    <path d=\"M 192.549125 282.799219 \nL 197.850125 282.799219 \nL 197.850125 271.111819 \nL 192.549125 271.111819 \nz\n\" clip-path=\"url(#p34f15d4daf)\" style=\"fill: #ff7f0e; opacity: 0.8\"/>\n   </g>\n   <g id=\"patch_325\">\n    <path d=\"M 197.850125 282.799219 \nL 203.151125 282.799219 \nL 203.151125 274.373419 \nL 197.850125 274.373419 \nz\n\" clip-path=\"url(#p34f15d4daf)\" style=\"fill: #ff7f0e; opacity: 0.8\"/>\n   </g>\n   <g id=\"patch_326\">\n    <path d=\"M 203.151125 282.799219 \nL 208.452125 282.799219 \nL 208.452125 274.373419 \nL 203.151125 274.373419 \nz\n\" clip-path=\"url(#p34f15d4daf)\" style=\"fill: #ff7f0e; opacity: 0.8\"/>\n   </g>\n   <g id=\"patch_327\">\n    <path d=\"M 208.452125 282.799219 \nL 213.753125 282.799219 \nL 213.753125 277.635019 \nL 208.452125 277.635019 \nz\n\" clip-path=\"url(#p34f15d4daf)\" style=\"fill: #ff7f0e; opacity: 0.8\"/>\n   </g>\n   <g id=\"patch_328\">\n    <path d=\"M 213.753125 282.799219 \nL 219.054125 282.799219 \nL 219.054125 269.209219 \nL 213.753125 269.209219 \nz\n\" clip-path=\"url(#p34f15d4daf)\" style=\"fill: #ff7f0e; opacity: 0.8\"/>\n   </g>\n   <g id=\"patch_329\">\n    <path d=\"M 219.054125 282.799219 \nL 224.355125 282.799219 \nL 224.355125 272.199019 \nL 219.054125 272.199019 \nz\n\" clip-path=\"url(#p34f15d4daf)\" style=\"fill: #ff7f0e; opacity: 0.8\"/>\n   </g>\n   <g id=\"patch_330\">\n    <path d=\"M 224.355125 282.799219 \nL 229.656125 282.799219 \nL 229.656125 269.752819 \nL 224.355125 269.752819 \nz\n\" clip-path=\"url(#p34f15d4daf)\" style=\"fill: #ff7f0e; opacity: 0.8\"/>\n   </g>\n   <g id=\"patch_331\">\n    <path d=\"M 229.656125 282.799219 \nL 234.957125 282.799219 \nL 234.957125 268.937419 \nL 229.656125 268.937419 \nz\n\" clip-path=\"url(#p34f15d4daf)\" style=\"fill: #ff7f0e; opacity: 0.8\"/>\n   </g>\n   <g id=\"patch_332\">\n    <path d=\"M 234.957125 282.799219 \nL 240.258125 282.799219 \nL 240.258125 272.742619 \nL 234.957125 272.742619 \nz\n\" clip-path=\"url(#p34f15d4daf)\" style=\"fill: #ff7f0e; opacity: 0.8\"/>\n   </g>\n   <g id=\"patch_333\">\n    <path d=\"M 240.258125 282.799219 \nL 245.559125 282.799219 \nL 245.559125 271.655419 \nL 240.258125 271.655419 \nz\n\" clip-path=\"url(#p34f15d4daf)\" style=\"fill: #ff7f0e; opacity: 0.8\"/>\n   </g>\n   <g id=\"patch_334\">\n    <path d=\"M 245.559125 282.799219 \nL 250.860125 282.799219 \nL 250.860125 274.645219 \nL 245.559125 274.645219 \nz\n\" clip-path=\"url(#p34f15d4daf)\" style=\"fill: #ff7f0e; opacity: 0.8\"/>\n   </g>\n   <g id=\"patch_335\">\n    <path d=\"M 250.860125 282.799219 \nL 256.161125 282.799219 \nL 256.161125 271.927219 \nL 250.860125 271.927219 \nz\n\" clip-path=\"url(#p34f15d4daf)\" style=\"fill: #ff7f0e; opacity: 0.8\"/>\n   </g>\n   <g id=\"patch_336\">\n    <path d=\"M 256.161125 282.799219 \nL 261.462125 282.799219 \nL 261.462125 277.635019 \nL 256.161125 277.635019 \nz\n\" clip-path=\"url(#p34f15d4daf)\" style=\"fill: #ff7f0e; opacity: 0.8\"/>\n   </g>\n   <g id=\"patch_337\">\n    <path d=\"M 261.462125 282.799219 \nL 266.763125 282.799219 \nL 266.763125 274.373419 \nL 261.462125 274.373419 \nz\n\" clip-path=\"url(#p34f15d4daf)\" style=\"fill: #ff7f0e; opacity: 0.8\"/>\n   </g>\n   <g id=\"patch_338\">\n    <path d=\"M 266.763125 282.799219 \nL 272.064125 282.799219 \nL 272.064125 277.906819 \nL 266.763125 277.906819 \nz\n\" clip-path=\"url(#p34f15d4daf)\" style=\"fill: #ff7f0e; opacity: 0.8\"/>\n   </g>\n   <g id=\"patch_339\">\n    <path d=\"M 272.064125 282.799219 \nL 277.365125 282.799219 \nL 277.365125 277.091419 \nL 272.064125 277.091419 \nz\n\" clip-path=\"url(#p34f15d4daf)\" style=\"fill: #ff7f0e; opacity: 0.8\"/>\n   </g>\n   <g id=\"patch_340\">\n    <path d=\"M 277.365125 282.799219 \nL 282.666125 282.799219 \nL 282.666125 279.809419 \nL 277.365125 279.809419 \nz\n\" clip-path=\"url(#p34f15d4daf)\" style=\"fill: #ff7f0e; opacity: 0.8\"/>\n   </g>\n   <g id=\"patch_341\">\n    <path d=\"M 282.666125 282.799219 \nL 287.967125 282.799219 \nL 287.967125 279.265819 \nL 282.666125 279.265819 \nz\n\" clip-path=\"url(#p34f15d4daf)\" style=\"fill: #ff7f0e; opacity: 0.8\"/>\n   </g>\n   <g id=\"patch_342\">\n    <path d=\"M 287.967125 282.799219 \nL 293.268125 282.799219 \nL 293.268125 279.265819 \nL 287.967125 279.265819 \nz\n\" clip-path=\"url(#p34f15d4daf)\" style=\"fill: #ff7f0e; opacity: 0.8\"/>\n   </g>\n   <g id=\"patch_343\">\n    <path d=\"M 293.268125 282.799219 \nL 298.569125 282.799219 \nL 298.569125 279.809419 \nL 293.268125 279.809419 \nz\n\" clip-path=\"url(#p34f15d4daf)\" style=\"fill: #ff7f0e; opacity: 0.8\"/>\n   </g>\n   <g id=\"patch_344\">\n    <path d=\"M 298.569125 282.799219 \nL 303.870125 282.799219 \nL 303.870125 281.440219 \nL 298.569125 281.440219 \nz\n\" clip-path=\"url(#p34f15d4daf)\" style=\"fill: #ff7f0e; opacity: 0.8\"/>\n   </g>\n   <g id=\"patch_345\">\n    <path d=\"M 303.870125 282.799219 \nL 309.171125 282.799219 \nL 309.171125 278.450419 \nL 303.870125 278.450419 \nz\n\" clip-path=\"url(#p34f15d4daf)\" style=\"fill: #ff7f0e; opacity: 0.8\"/>\n   </g>\n   <g id=\"patch_346\">\n    <path d=\"M 309.171125 282.799219 \nL 314.472125 282.799219 \nL 314.472125 280.081219 \nL 309.171125 280.081219 \nz\n\" clip-path=\"url(#p34f15d4daf)\" style=\"fill: #ff7f0e; opacity: 0.8\"/>\n   </g>\n   <g id=\"patch_347\">\n    <path d=\"M 314.472125 282.799219 \nL 319.773125 282.799219 \nL 319.773125 279.809419 \nL 314.472125 279.809419 \nz\n\" clip-path=\"url(#p34f15d4daf)\" style=\"fill: #ff7f0e; opacity: 0.8\"/>\n   </g>\n   <g id=\"patch_348\">\n    <path d=\"M 319.773125 282.799219 \nL 325.074125 282.799219 \nL 325.074125 281.440219 \nL 319.773125 281.440219 \nz\n\" clip-path=\"url(#p34f15d4daf)\" style=\"fill: #ff7f0e; opacity: 0.8\"/>\n   </g>\n   <g id=\"patch_349\">\n    <path d=\"M 325.074125 282.799219 \nL 330.375125 282.799219 \nL 330.375125 278.450419 \nL 325.074125 278.450419 \nz\n\" clip-path=\"url(#p34f15d4daf)\" style=\"fill: #ff7f0e; opacity: 0.8\"/>\n   </g>\n   <g id=\"patch_350\">\n    <path d=\"M 330.375125 282.799219 \nL 335.676125 282.799219 \nL 335.676125 278.994019 \nL 330.375125 278.994019 \nz\n\" clip-path=\"url(#p34f15d4daf)\" style=\"fill: #ff7f0e; opacity: 0.8\"/>\n   </g>\n   <g id=\"patch_351\">\n    <path d=\"M 335.676125 282.799219 \nL 340.977125 282.799219 \nL 340.977125 277.363219 \nL 335.676125 277.363219 \nz\n\" clip-path=\"url(#p34f15d4daf)\" style=\"fill: #ff7f0e; opacity: 0.8\"/>\n   </g>\n   <g id=\"patch_352\">\n    <path d=\"M 340.977125 282.799219 \nL 346.278125 282.799219 \nL 346.278125 280.896619 \nL 340.977125 280.896619 \nz\n\" clip-path=\"url(#p34f15d4daf)\" style=\"fill: #ff7f0e; opacity: 0.8\"/>\n   </g>\n   <g id=\"patch_353\">\n    <path d=\"M 346.278125 282.799219 \nL 351.579125 282.799219 \nL 351.579125 279.809419 \nL 346.278125 279.809419 \nz\n\" clip-path=\"url(#p34f15d4daf)\" style=\"fill: #ff7f0e; opacity: 0.8\"/>\n   </g>\n   <g id=\"patch_354\">\n    <path d=\"M 351.579125 282.799219 \nL 356.880125 282.799219 \nL 356.880125 278.450419 \nL 351.579125 278.450419 \nz\n\" clip-path=\"url(#p34f15d4daf)\" style=\"fill: #ff7f0e; opacity: 0.8\"/>\n   </g>\n   <g id=\"patch_355\">\n    <path d=\"M 356.880125 282.799219 \nL 362.181125 282.799219 \nL 362.181125 271.927219 \nL 356.880125 271.927219 \nz\n\" clip-path=\"url(#p34f15d4daf)\" style=\"fill: #ff7f0e; opacity: 0.8\"/>\n   </g>\n   <g id=\"patch_356\">\n    <path d=\"M 362.181125 282.799219 \nL 367.482125 282.799219 \nL 367.482125 264.316819 \nL 362.181125 264.316819 \nz\n\" clip-path=\"url(#p34f15d4daf)\" style=\"fill: #ff7f0e; opacity: 0.8\"/>\n   </g>\n   <g id=\"patch_357\">\n    <path d=\"M 367.482125 282.799219 \nL 372.783125 282.799219 \nL 372.783125 269.481019 \nL 367.482125 269.481019 \nz\n\" clip-path=\"url(#p34f15d4daf)\" style=\"fill: #ff7f0e; opacity: 0.8\"/>\n   </g>\n   <g id=\"patch_358\">\n    <path d=\"M 372.783125 282.799219 \nL 378.084125 282.799219 \nL 378.084125 250.726819 \nL 372.783125 250.726819 \nz\n\" clip-path=\"url(#p34f15d4daf)\" style=\"fill: #ff7f0e; opacity: 0.8\"/>\n   </g>\n   <g id=\"patch_359\">\n    <path d=\"M 378.084125 282.799219 \nL 383.385125 282.799219 \nL 383.385125 253.716619 \nL 378.084125 253.716619 \nz\n\" clip-path=\"url(#p34f15d4daf)\" style=\"fill: #ff7f0e; opacity: 0.8\"/>\n   </g>\n   <g id=\"patch_360\">\n    <path d=\"M 383.385125 282.799219 \nL 388.686125 282.799219 \nL 388.686125 258.065419 \nL 383.385125 258.065419 \nz\n\" clip-path=\"url(#p34f15d4daf)\" style=\"fill: #ff7f0e; opacity: 0.8\"/>\n   </g>\n   <g id=\"patch_361\">\n    <path d=\"M 388.686125 282.799219 \nL 393.987125 282.799219 \nL 393.987125 274.917019 \nL 388.686125 274.917019 \nz\n\" clip-path=\"url(#p34f15d4daf)\" style=\"fill: #ff7f0e; opacity: 0.8\"/>\n   </g>\n   <g id=\"patch_362\">\n    <path d=\"M 393.987125 282.799219 \nL 399.288125 282.799219 \nL 399.288125 276.819619 \nL 393.987125 276.819619 \nz\n\" clip-path=\"url(#p34f15d4daf)\" style=\"fill: #ff7f0e; opacity: 0.8\"/>\n   </g>\n   <g id=\"patch_363\">\n    <path d=\"M 399.288125 282.799219 \nL 404.589125 282.799219 \nL 404.589125 271.927219 \nL 399.288125 271.927219 \nz\n\" clip-path=\"url(#p34f15d4daf)\" style=\"fill: #ff7f0e; opacity: 0.8\"/>\n   </g>\n   <g id=\"patch_364\">\n    <path d=\"M 404.589125 282.799219 \nL 409.890125 282.799219 \nL 409.890125 273.286219 \nL 404.589125 273.286219 \nz\n\" clip-path=\"url(#p34f15d4daf)\" style=\"fill: #ff7f0e; opacity: 0.8\"/>\n   </g>\n   <g id=\"patch_365\">\n    <path d=\"M 409.890125 282.799219 \nL 415.191125 282.799219 \nL 415.191125 274.917019 \nL 409.890125 274.917019 \nz\n\" clip-path=\"url(#p34f15d4daf)\" style=\"fill: #ff7f0e; opacity: 0.8\"/>\n   </g>\n   <g id=\"patch_366\">\n    <path d=\"M 415.191125 282.799219 \nL 420.492125 282.799219 \nL 420.492125 271.383619 \nL 415.191125 271.383619 \nz\n\" clip-path=\"url(#p34f15d4daf)\" style=\"fill: #ff7f0e; opacity: 0.8\"/>\n   </g>\n   <g id=\"patch_367\">\n    <path d=\"M 420.492125 282.799219 \nL 425.793125 282.799219 \nL 425.793125 276.819619 \nL 420.492125 276.819619 \nz\n\" clip-path=\"url(#p34f15d4daf)\" style=\"fill: #ff7f0e; opacity: 0.8\"/>\n   </g>\n   <g id=\"patch_368\">\n    <path d=\"M 425.793125 282.799219 \nL 431.094125 282.799219 \nL 431.094125 277.363219 \nL 425.793125 277.363219 \nz\n\" clip-path=\"url(#p34f15d4daf)\" style=\"fill: #ff7f0e; opacity: 0.8\"/>\n   </g>\n   <g id=\"patch_369\">\n    <path d=\"M 431.094125 282.799219 \nL 436.395125 282.799219 \nL 436.395125 281.168419 \nL 431.094125 281.168419 \nz\n\" clip-path=\"url(#p34f15d4daf)\" style=\"fill: #ff7f0e; opacity: 0.8\"/>\n   </g>\n   <g id=\"patch_370\">\n    <path d=\"M 436.395125 282.799219 \nL 441.696125 282.799219 \nL 441.696125 280.896619 \nL 436.395125 280.896619 \nz\n\" clip-path=\"url(#p34f15d4daf)\" style=\"fill: #ff7f0e; opacity: 0.8\"/>\n   </g>\n   <g id=\"patch_371\">\n    <path d=\"M 441.696125 282.799219 \nL 446.997125 282.799219 \nL 446.997125 278.994019 \nL 441.696125 278.994019 \nz\n\" clip-path=\"url(#p34f15d4daf)\" style=\"fill: #ff7f0e; opacity: 0.8\"/>\n   </g>\n   <g id=\"patch_372\">\n    <path d=\"M 446.997125 282.799219 \nL 452.298125 282.799219 \nL 452.298125 280.353019 \nL 446.997125 280.353019 \nz\n\" clip-path=\"url(#p34f15d4daf)\" style=\"fill: #ff7f0e; opacity: 0.8\"/>\n   </g>\n   <g id=\"patch_373\">\n    <path d=\"M 452.298125 282.799219 \nL 457.599125 282.799219 \nL 457.599125 281.712019 \nL 452.298125 281.712019 \nz\n\" clip-path=\"url(#p34f15d4daf)\" style=\"fill: #ff7f0e; opacity: 0.8\"/>\n   </g>\n   <g id=\"patch_374\">\n    <path d=\"M 457.599125 282.799219 \nL 462.900125 282.799219 \nL 462.900125 280.081219 \nL 457.599125 280.081219 \nz\n\" clip-path=\"url(#p34f15d4daf)\" style=\"fill: #ff7f0e; opacity: 0.8\"/>\n   </g>\n   <g id=\"patch_375\">\n    <path d=\"M 462.900125 282.799219 \nL 468.201125 282.799219 \nL 468.201125 282.255619 \nL 462.900125 282.255619 \nz\n\" clip-path=\"url(#p34f15d4daf)\" style=\"fill: #ff7f0e; opacity: 0.8\"/>\n   </g>\n   <g id=\"patch_376\">\n    <path d=\"M 468.201125 282.799219 \nL 473.502125 282.799219 \nL 473.502125 281.983819 \nL 468.201125 281.983819 \nz\n\" clip-path=\"url(#p34f15d4daf)\" style=\"fill: #ff7f0e; opacity: 0.8\"/>\n   </g>\n   <g id=\"patch_377\">\n    <path d=\"M 473.502125 282.799219 \nL 478.803125 282.799219 \nL 478.803125 282.799219 \nL 473.502125 282.799219 \nz\n\" clip-path=\"url(#p34f15d4daf)\" style=\"fill: #ff7f0e; opacity: 0.8\"/>\n   </g>\n   <g id=\"patch_378\">\n    <path d=\"M 478.803125 282.799219 \nL 484.104125 282.799219 \nL 484.104125 281.712019 \nL 478.803125 281.712019 \nz\n\" clip-path=\"url(#p34f15d4daf)\" style=\"fill: #ff7f0e; opacity: 0.8\"/>\n   </g>\n   <g id=\"patch_379\">\n    <path d=\"M 484.104125 282.799219 \nL 489.405125 282.799219 \nL 489.405125 281.712019 \nL 484.104125 281.712019 \nz\n\" clip-path=\"url(#p34f15d4daf)\" style=\"fill: #ff7f0e; opacity: 0.8\"/>\n   </g>\n   <g id=\"patch_380\">\n    <path d=\"M 489.405125 282.799219 \nL 494.706125 282.799219 \nL 494.706125 280.353019 \nL 489.405125 280.353019 \nz\n\" clip-path=\"url(#p34f15d4daf)\" style=\"fill: #ff7f0e; opacity: 0.8\"/>\n   </g>\n   <g id=\"patch_381\">\n    <path d=\"M 494.706125 282.799219 \nL 500.007125 282.799219 \nL 500.007125 280.081219 \nL 494.706125 280.081219 \nz\n\" clip-path=\"url(#p34f15d4daf)\" style=\"fill: #ff7f0e; opacity: 0.8\"/>\n   </g>\n   <g id=\"patch_382\">\n    <path d=\"M 500.007125 282.799219 \nL 505.308125 282.799219 \nL 505.308125 280.896619 \nL 500.007125 280.896619 \nz\n\" clip-path=\"url(#p34f15d4daf)\" style=\"fill: #ff7f0e; opacity: 0.8\"/>\n   </g>\n   <g id=\"patch_383\">\n    <path d=\"M 505.308125 282.799219 \nL 510.609125 282.799219 \nL 510.609125 279.537619 \nL 505.308125 279.537619 \nz\n\" clip-path=\"url(#p34f15d4daf)\" style=\"fill: #ff7f0e; opacity: 0.8\"/>\n   </g>\n   <g id=\"patch_384\">\n    <path d=\"M 510.609125 282.799219 \nL 515.910125 282.799219 \nL 515.910125 278.450419 \nL 510.609125 278.450419 \nz\n\" clip-path=\"url(#p34f15d4daf)\" style=\"fill: #ff7f0e; opacity: 0.8\"/>\n   </g>\n   <g id=\"patch_385\">\n    <path d=\"M 515.910125 282.799219 \nL 521.211125 282.799219 \nL 521.211125 279.537619 \nL 515.910125 279.537619 \nz\n\" clip-path=\"url(#p34f15d4daf)\" style=\"fill: #ff7f0e; opacity: 0.8\"/>\n   </g>\n   <g id=\"patch_386\">\n    <path d=\"M 521.211125 282.799219 \nL 526.512125 282.799219 \nL 526.512125 278.994019 \nL 521.211125 278.994019 \nz\n\" clip-path=\"url(#p34f15d4daf)\" style=\"fill: #ff7f0e; opacity: 0.8\"/>\n   </g>\n   <g id=\"patch_387\">\n    <path d=\"M 526.512125 282.799219 \nL 531.813125 282.799219 \nL 531.813125 277.635019 \nL 526.512125 277.635019 \nz\n\" clip-path=\"url(#p34f15d4daf)\" style=\"fill: #ff7f0e; opacity: 0.8\"/>\n   </g>\n   <g id=\"patch_388\">\n    <path d=\"M 531.813125 282.799219 \nL 537.114125 282.799219 \nL 537.114125 276.276019 \nL 531.813125 276.276019 \nz\n\" clip-path=\"url(#p34f15d4daf)\" style=\"fill: #ff7f0e; opacity: 0.8\"/>\n   </g>\n   <g id=\"patch_389\">\n    <path d=\"M 537.114125 282.799219 \nL 542.415125 282.799219 \nL 542.415125 271.383619 \nL 537.114125 271.383619 \nz\n\" clip-path=\"url(#p34f15d4daf)\" style=\"fill: #ff7f0e; opacity: 0.8\"/>\n   </g>\n   <g id=\"patch_390\">\n    <path d=\"M 542.415125 282.799219 \nL 547.716125 282.799219 \nL 547.716125 276.276019 \nL 542.415125 276.276019 \nz\n\" clip-path=\"url(#p34f15d4daf)\" style=\"fill: #ff7f0e; opacity: 0.8\"/>\n   </g>\n   <g id=\"patch_391\">\n    <path d=\"M 547.716125 282.799219 \nL 553.017125 282.799219 \nL 553.017125 271.111819 \nL 547.716125 271.111819 \nz\n\" clip-path=\"url(#p34f15d4daf)\" style=\"fill: #ff7f0e; opacity: 0.8\"/>\n   </g>\n   <g id=\"patch_392\">\n    <path d=\"M 553.017125 282.799219 \nL 558.318125 282.799219 \nL 558.318125 263.229619 \nL 553.017125 263.229619 \nz\n\" clip-path=\"url(#p34f15d4daf)\" style=\"fill: #ff7f0e; opacity: 0.8\"/>\n   </g>\n   <g id=\"patch_393\">\n    <path d=\"M 558.318125 282.799219 \nL 563.619125 282.799219 \nL 563.619125 261.327019 \nL 558.318125 261.327019 \nz\n\" clip-path=\"url(#p34f15d4daf)\" style=\"fill: #ff7f0e; opacity: 0.8\"/>\n   </g>\n   <g id=\"patch_394\">\n    <path d=\"M 563.619125 282.799219 \nL 568.920125 282.799219 \nL 568.920125 259.152619 \nL 563.619125 259.152619 \nz\n\" clip-path=\"url(#p34f15d4daf)\" style=\"fill: #ff7f0e; opacity: 0.8\"/>\n   </g>\n   <g id=\"patch_395\">\n    <path d=\"M 568.920125 282.799219 \nL 574.221125 282.799219 \nL 574.221125 248.552419 \nL 568.920125 248.552419 \nz\n\" clip-path=\"url(#p34f15d4daf)\" style=\"fill: #ff7f0e; opacity: 0.8\"/>\n   </g>\n   <g id=\"patch_396\">\n    <path d=\"M 574.221125 282.799219 \nL 579.522125 282.799219 \nL 579.522125 256.434619 \nL 574.221125 256.434619 \nz\n\" clip-path=\"url(#p34f15d4daf)\" style=\"fill: #ff7f0e; opacity: 0.8\"/>\n   </g>\n   <g id=\"patch_397\">\n    <path d=\"M 579.522125 282.799219 \nL 584.823125 282.799219 \nL 584.823125 256.434619 \nL 579.522125 256.434619 \nz\n\" clip-path=\"url(#p34f15d4daf)\" style=\"fill: #ff7f0e; opacity: 0.8\"/>\n   </g>\n   <g id=\"patch_398\">\n    <path d=\"M 584.823125 282.799219 \nL 590.124125 282.799219 \nL 590.124125 243.116419 \nL 584.823125 243.116419 \nz\n\" clip-path=\"url(#p34f15d4daf)\" style=\"fill: #ff7f0e; opacity: 0.8\"/>\n   </g>\n   <g id=\"patch_399\">\n    <path d=\"M 590.124125 282.799219 \nL 595.425125 282.799219 \nL 595.425125 240.398419 \nL 590.124125 240.398419 \nz\n\" clip-path=\"url(#p34f15d4daf)\" style=\"fill: #ff7f0e; opacity: 0.8\"/>\n   </g>\n   <g id=\"patch_400\">\n    <path d=\"M 595.425125 282.799219 \nL 600.726125 282.799219 \nL 600.726125 248.280619 \nL 595.425125 248.280619 \nz\n\" clip-path=\"url(#p34f15d4daf)\" style=\"fill: #ff7f0e; opacity: 0.8\"/>\n   </g>\n   <g id=\"patch_401\">\n    <path d=\"M 600.726125 282.799219 \nL 606.027125 282.799219 \nL 606.027125 244.203619 \nL 600.726125 244.203619 \nz\n\" clip-path=\"url(#p34f15d4daf)\" style=\"fill: #ff7f0e; opacity: 0.8\"/>\n   </g>\n   <g id=\"patch_402\">\n    <path d=\"M 606.027125 282.799219 \nL 611.328125 282.799219 \nL 611.328125 250.455019 \nL 606.027125 250.455019 \nz\n\" clip-path=\"url(#p34f15d4daf)\" style=\"fill: #ff7f0e; opacity: 0.8\"/>\n   </g>\n   <g id=\"matplotlib.axis_1\">\n    <g id=\"xtick_1\">\n     <g id=\"line2d_1\">\n      <defs>\n       <path id=\"m1463f59f4c\" d=\"M 0 0 \nL 0 3.5 \n\" style=\"stroke: #000000; stroke-width: 0.8\"/>\n      </defs>\n      <g>\n       <use xlink:href=\"#m1463f59f4c\" x=\"53.328125\" y=\"282.799219\" style=\"stroke: #000000; stroke-width: 0.8\"/>\n      </g>\n     </g>\n     <g id=\"text_1\">\n      <!-- 1400 -->\n      <g transform=\"translate(40.603125 297.397656)scale(0.1 -0.1)\">\n       <defs>\n        <path id=\"DejaVuSans-31\" d=\"M 794 531 \nL 1825 531 \nL 1825 4091 \nL 703 3866 \nL 703 4441 \nL 1819 4666 \nL 2450 4666 \nL 2450 531 \nL 3481 531 \nL 3481 0 \nL 794 0 \nL 794 531 \nz\n\" transform=\"scale(0.015625)\"/>\n        <path id=\"DejaVuSans-34\" d=\"M 2419 4116 \nL 825 1625 \nL 2419 1625 \nL 2419 4116 \nz\nM 2253 4666 \nL 3047 4666 \nL 3047 1625 \nL 3713 1625 \nL 3713 1100 \nL 3047 1100 \nL 3047 0 \nL 2419 0 \nL 2419 1100 \nL 313 1100 \nL 313 1709 \nL 2253 4666 \nz\n\" transform=\"scale(0.015625)\"/>\n        <path id=\"DejaVuSans-30\" d=\"M 2034 4250 \nQ 1547 4250 1301 3770 \nQ 1056 3291 1056 2328 \nQ 1056 1369 1301 889 \nQ 1547 409 2034 409 \nQ 2525 409 2770 889 \nQ 3016 1369 3016 2328 \nQ 3016 3291 2770 3770 \nQ 2525 4250 2034 4250 \nz\nM 2034 4750 \nQ 2819 4750 3233 4129 \nQ 3647 3509 3647 2328 \nQ 3647 1150 3233 529 \nQ 2819 -91 2034 -91 \nQ 1250 -91 836 529 \nQ 422 1150 422 2328 \nQ 422 3509 836 4129 \nQ 1250 4750 2034 4750 \nz\n\" transform=\"scale(0.015625)\"/>\n       </defs>\n       <use xlink:href=\"#DejaVuSans-31\"/>\n       <use xlink:href=\"#DejaVuSans-34\" x=\"63.623047\"/>\n       <use xlink:href=\"#DejaVuSans-30\" x=\"127.246094\"/>\n       <use xlink:href=\"#DejaVuSans-30\" x=\"190.869141\"/>\n      </g>\n     </g>\n    </g>\n    <g id=\"xtick_2\">\n     <g id=\"line2d_2\">\n      <g>\n       <use xlink:href=\"#m1463f59f4c\" x=\"123.078125\" y=\"282.799219\" style=\"stroke: #000000; stroke-width: 0.8\"/>\n      </g>\n     </g>\n     <g id=\"text_2\">\n      <!-- 1450 -->\n      <g transform=\"translate(110.353125 297.397656)scale(0.1 -0.1)\">\n       <defs>\n        <path id=\"DejaVuSans-35\" d=\"M 691 4666 \nL 3169 4666 \nL 3169 4134 \nL 1269 4134 \nL 1269 2991 \nQ 1406 3038 1543 3061 \nQ 1681 3084 1819 3084 \nQ 2600 3084 3056 2656 \nQ 3513 2228 3513 1497 \nQ 3513 744 3044 326 \nQ 2575 -91 1722 -91 \nQ 1428 -91 1123 -41 \nQ 819 9 494 109 \nL 494 744 \nQ 775 591 1075 516 \nQ 1375 441 1709 441 \nQ 2250 441 2565 725 \nQ 2881 1009 2881 1497 \nQ 2881 1984 2565 2268 \nQ 2250 2553 1709 2553 \nQ 1456 2553 1204 2497 \nQ 953 2441 691 2322 \nL 691 4666 \nz\n\" transform=\"scale(0.015625)\"/>\n       </defs>\n       <use xlink:href=\"#DejaVuSans-31\"/>\n       <use xlink:href=\"#DejaVuSans-34\" x=\"63.623047\"/>\n       <use xlink:href=\"#DejaVuSans-35\" x=\"127.246094\"/>\n       <use xlink:href=\"#DejaVuSans-30\" x=\"190.869141\"/>\n      </g>\n     </g>\n    </g>\n    <g id=\"xtick_3\">\n     <g id=\"line2d_3\">\n      <g>\n       <use xlink:href=\"#m1463f59f4c\" x=\"192.828125\" y=\"282.799219\" style=\"stroke: #000000; stroke-width: 0.8\"/>\n      </g>\n     </g>\n     <g id=\"text_3\">\n      <!-- 1500 -->\n      <g transform=\"translate(180.103125 297.397656)scale(0.1 -0.1)\">\n       <use xlink:href=\"#DejaVuSans-31\"/>\n       <use xlink:href=\"#DejaVuSans-35\" x=\"63.623047\"/>\n       <use xlink:href=\"#DejaVuSans-30\" x=\"127.246094\"/>\n       <use xlink:href=\"#DejaVuSans-30\" x=\"190.869141\"/>\n      </g>\n     </g>\n    </g>\n    <g id=\"xtick_4\">\n     <g id=\"line2d_4\">\n      <g>\n       <use xlink:href=\"#m1463f59f4c\" x=\"262.578125\" y=\"282.799219\" style=\"stroke: #000000; stroke-width: 0.8\"/>\n      </g>\n     </g>\n     <g id=\"text_4\">\n      <!-- 1550 -->\n      <g transform=\"translate(249.853125 297.397656)scale(0.1 -0.1)\">\n       <use xlink:href=\"#DejaVuSans-31\"/>\n       <use xlink:href=\"#DejaVuSans-35\" x=\"63.623047\"/>\n       <use xlink:href=\"#DejaVuSans-35\" x=\"127.246094\"/>\n       <use xlink:href=\"#DejaVuSans-30\" x=\"190.869141\"/>\n      </g>\n     </g>\n    </g>\n    <g id=\"xtick_5\">\n     <g id=\"line2d_5\">\n      <g>\n       <use xlink:href=\"#m1463f59f4c\" x=\"332.328125\" y=\"282.799219\" style=\"stroke: #000000; stroke-width: 0.8\"/>\n      </g>\n     </g>\n     <g id=\"text_5\">\n      <!-- 1600 -->\n      <g transform=\"translate(319.603125 297.397656)scale(0.1 -0.1)\">\n       <defs>\n        <path id=\"DejaVuSans-36\" d=\"M 2113 2584 \nQ 1688 2584 1439 2293 \nQ 1191 2003 1191 1497 \nQ 1191 994 1439 701 \nQ 1688 409 2113 409 \nQ 2538 409 2786 701 \nQ 3034 994 3034 1497 \nQ 3034 2003 2786 2293 \nQ 2538 2584 2113 2584 \nz\nM 3366 4563 \nL 3366 3988 \nQ 3128 4100 2886 4159 \nQ 2644 4219 2406 4219 \nQ 1781 4219 1451 3797 \nQ 1122 3375 1075 2522 \nQ 1259 2794 1537 2939 \nQ 1816 3084 2150 3084 \nQ 2853 3084 3261 2657 \nQ 3669 2231 3669 1497 \nQ 3669 778 3244 343 \nQ 2819 -91 2113 -91 \nQ 1303 -91 875 529 \nQ 447 1150 447 2328 \nQ 447 3434 972 4092 \nQ 1497 4750 2381 4750 \nQ 2619 4750 2861 4703 \nQ 3103 4656 3366 4563 \nz\n\" transform=\"scale(0.015625)\"/>\n       </defs>\n       <use xlink:href=\"#DejaVuSans-31\"/>\n       <use xlink:href=\"#DejaVuSans-36\" x=\"63.623047\"/>\n       <use xlink:href=\"#DejaVuSans-30\" x=\"127.246094\"/>\n       <use xlink:href=\"#DejaVuSans-30\" x=\"190.869141\"/>\n      </g>\n     </g>\n    </g>\n    <g id=\"xtick_6\">\n     <g id=\"line2d_6\">\n      <g>\n       <use xlink:href=\"#m1463f59f4c\" x=\"402.078125\" y=\"282.799219\" style=\"stroke: #000000; stroke-width: 0.8\"/>\n      </g>\n     </g>\n     <g id=\"text_6\">\n      <!-- 1650 -->\n      <g transform=\"translate(389.353125 297.397656)scale(0.1 -0.1)\">\n       <use xlink:href=\"#DejaVuSans-31\"/>\n       <use xlink:href=\"#DejaVuSans-36\" x=\"63.623047\"/>\n       <use xlink:href=\"#DejaVuSans-35\" x=\"127.246094\"/>\n       <use xlink:href=\"#DejaVuSans-30\" x=\"190.869141\"/>\n      </g>\n     </g>\n    </g>\n    <g id=\"xtick_7\">\n     <g id=\"line2d_7\">\n      <g>\n       <use xlink:href=\"#m1463f59f4c\" x=\"471.828125\" y=\"282.799219\" style=\"stroke: #000000; stroke-width: 0.8\"/>\n      </g>\n     </g>\n     <g id=\"text_7\">\n      <!-- 1700 -->\n      <g transform=\"translate(459.103125 297.397656)scale(0.1 -0.1)\">\n       <defs>\n        <path id=\"DejaVuSans-37\" d=\"M 525 4666 \nL 3525 4666 \nL 3525 4397 \nL 1831 0 \nL 1172 0 \nL 2766 4134 \nL 525 4134 \nL 525 4666 \nz\n\" transform=\"scale(0.015625)\"/>\n       </defs>\n       <use xlink:href=\"#DejaVuSans-31\"/>\n       <use xlink:href=\"#DejaVuSans-37\" x=\"63.623047\"/>\n       <use xlink:href=\"#DejaVuSans-30\" x=\"127.246094\"/>\n       <use xlink:href=\"#DejaVuSans-30\" x=\"190.869141\"/>\n      </g>\n     </g>\n    </g>\n    <g id=\"xtick_8\">\n     <g id=\"line2d_8\">\n      <g>\n       <use xlink:href=\"#m1463f59f4c\" x=\"541.578125\" y=\"282.799219\" style=\"stroke: #000000; stroke-width: 0.8\"/>\n      </g>\n     </g>\n     <g id=\"text_8\">\n      <!-- 1750 -->\n      <g transform=\"translate(528.853125 297.397656)scale(0.1 -0.1)\">\n       <use xlink:href=\"#DejaVuSans-31\"/>\n       <use xlink:href=\"#DejaVuSans-37\" x=\"63.623047\"/>\n       <use xlink:href=\"#DejaVuSans-35\" x=\"127.246094\"/>\n       <use xlink:href=\"#DejaVuSans-30\" x=\"190.869141\"/>\n      </g>\n     </g>\n    </g>\n    <g id=\"xtick_9\">\n     <g id=\"line2d_9\">\n      <g>\n       <use xlink:href=\"#m1463f59f4c\" x=\"611.328125\" y=\"282.799219\" style=\"stroke: #000000; stroke-width: 0.8\"/>\n      </g>\n     </g>\n     <g id=\"text_9\">\n      <!-- 1800 -->\n      <g transform=\"translate(598.603125 297.397656)scale(0.1 -0.1)\">\n       <defs>\n        <path id=\"DejaVuSans-38\" d=\"M 2034 2216 \nQ 1584 2216 1326 1975 \nQ 1069 1734 1069 1313 \nQ 1069 891 1326 650 \nQ 1584 409 2034 409 \nQ 2484 409 2743 651 \nQ 3003 894 3003 1313 \nQ 3003 1734 2745 1975 \nQ 2488 2216 2034 2216 \nz\nM 1403 2484 \nQ 997 2584 770 2862 \nQ 544 3141 544 3541 \nQ 544 4100 942 4425 \nQ 1341 4750 2034 4750 \nQ 2731 4750 3128 4425 \nQ 3525 4100 3525 3541 \nQ 3525 3141 3298 2862 \nQ 3072 2584 2669 2484 \nQ 3125 2378 3379 2068 \nQ 3634 1759 3634 1313 \nQ 3634 634 3220 271 \nQ 2806 -91 2034 -91 \nQ 1263 -91 848 271 \nQ 434 634 434 1313 \nQ 434 1759 690 2068 \nQ 947 2378 1403 2484 \nz\nM 1172 3481 \nQ 1172 3119 1398 2916 \nQ 1625 2713 2034 2713 \nQ 2441 2713 2670 2916 \nQ 2900 3119 2900 3481 \nQ 2900 3844 2670 4047 \nQ 2441 4250 2034 4250 \nQ 1625 4250 1398 4047 \nQ 1172 3844 1172 3481 \nz\n\" transform=\"scale(0.015625)\"/>\n       </defs>\n       <use xlink:href=\"#DejaVuSans-31\"/>\n       <use xlink:href=\"#DejaVuSans-38\" x=\"63.623047\"/>\n       <use xlink:href=\"#DejaVuSans-30\" x=\"127.246094\"/>\n       <use xlink:href=\"#DejaVuSans-30\" x=\"190.869141\"/>\n      </g>\n     </g>\n    </g>\n    <g id=\"text_10\">\n     <!-- Year -->\n     <g transform=\"translate(321.740625 311.075781)scale(0.1 -0.1)\">\n      <defs>\n       <path id=\"DejaVuSans-59\" d=\"M -13 4666 \nL 666 4666 \nL 1959 2747 \nL 3244 4666 \nL 3922 4666 \nL 2272 2222 \nL 2272 0 \nL 1638 0 \nL 1638 2222 \nL -13 4666 \nz\n\" transform=\"scale(0.015625)\"/>\n       <path id=\"DejaVuSans-65\" d=\"M 3597 1894 \nL 3597 1613 \nL 953 1613 \nQ 991 1019 1311 708 \nQ 1631 397 2203 397 \nQ 2534 397 2845 478 \nQ 3156 559 3463 722 \nL 3463 178 \nQ 3153 47 2828 -22 \nQ 2503 -91 2169 -91 \nQ 1331 -91 842 396 \nQ 353 884 353 1716 \nQ 353 2575 817 3079 \nQ 1281 3584 2069 3584 \nQ 2775 3584 3186 3129 \nQ 3597 2675 3597 1894 \nz\nM 3022 2063 \nQ 3016 2534 2758 2815 \nQ 2500 3097 2075 3097 \nQ 1594 3097 1305 2825 \nQ 1016 2553 972 2059 \nL 3022 2063 \nz\n\" transform=\"scale(0.015625)\"/>\n       <path id=\"DejaVuSans-61\" d=\"M 2194 1759 \nQ 1497 1759 1228 1600 \nQ 959 1441 959 1056 \nQ 959 750 1161 570 \nQ 1363 391 1709 391 \nQ 2188 391 2477 730 \nQ 2766 1069 2766 1631 \nL 2766 1759 \nL 2194 1759 \nz\nM 3341 1997 \nL 3341 0 \nL 2766 0 \nL 2766 531 \nQ 2569 213 2275 61 \nQ 1981 -91 1556 -91 \nQ 1019 -91 701 211 \nQ 384 513 384 1019 \nQ 384 1609 779 1909 \nQ 1175 2209 1959 2209 \nL 2766 2209 \nL 2766 2266 \nQ 2766 2663 2505 2880 \nQ 2244 3097 1772 3097 \nQ 1472 3097 1187 3025 \nQ 903 2953 641 2809 \nL 641 3341 \nQ 956 3463 1253 3523 \nQ 1550 3584 1831 3584 \nQ 2591 3584 2966 3190 \nQ 3341 2797 3341 1997 \nz\n\" transform=\"scale(0.015625)\"/>\n       <path id=\"DejaVuSans-72\" d=\"M 2631 2963 \nQ 2534 3019 2420 3045 \nQ 2306 3072 2169 3072 \nQ 1681 3072 1420 2755 \nQ 1159 2438 1159 1844 \nL 1159 0 \nL 581 0 \nL 581 3500 \nL 1159 3500 \nL 1159 2956 \nQ 1341 3275 1631 3429 \nQ 1922 3584 2338 3584 \nQ 2397 3584 2469 3576 \nQ 2541 3569 2628 3553 \nL 2631 2963 \nz\n\" transform=\"scale(0.015625)\"/>\n      </defs>\n      <use xlink:href=\"#DejaVuSans-59\"/>\n      <use xlink:href=\"#DejaVuSans-65\" x=\"47.833984\"/>\n      <use xlink:href=\"#DejaVuSans-61\" x=\"109.357422\"/>\n      <use xlink:href=\"#DejaVuSans-72\" x=\"170.636719\"/>\n     </g>\n    </g>\n   </g>\n   <g id=\"matplotlib.axis_2\">\n    <g id=\"ytick_1\">\n     <g id=\"line2d_10\">\n      <defs>\n       <path id=\"m5ef7219edf\" d=\"M 0 0 \nL -3.5 0 \n\" style=\"stroke: #000000; stroke-width: 0.8\"/>\n      </defs>\n      <g>\n       <use xlink:href=\"#m5ef7219edf\" x=\"53.328125\" y=\"282.799219\" style=\"stroke: #000000; stroke-width: 0.8\"/>\n      </g>\n     </g>\n     <g id=\"text_11\">\n      <!-- 0 -->\n      <g transform=\"translate(39.965625 286.598437)scale(0.1 -0.1)\">\n       <use xlink:href=\"#DejaVuSans-30\"/>\n      </g>\n     </g>\n    </g>\n    <g id=\"ytick_2\">\n     <g id=\"line2d_11\">\n      <g>\n       <use xlink:href=\"#m5ef7219edf\" x=\"53.328125\" y=\"228.439219\" style=\"stroke: #000000; stroke-width: 0.8\"/>\n      </g>\n     </g>\n     <g id=\"text_12\">\n      <!-- 200 -->\n      <g transform=\"translate(27.240625 232.238437)scale(0.1 -0.1)\">\n       <defs>\n        <path id=\"DejaVuSans-32\" d=\"M 1228 531 \nL 3431 531 \nL 3431 0 \nL 469 0 \nL 469 531 \nQ 828 903 1448 1529 \nQ 2069 2156 2228 2338 \nQ 2531 2678 2651 2914 \nQ 2772 3150 2772 3378 \nQ 2772 3750 2511 3984 \nQ 2250 4219 1831 4219 \nQ 1534 4219 1204 4116 \nQ 875 4013 500 3803 \nL 500 4441 \nQ 881 4594 1212 4672 \nQ 1544 4750 1819 4750 \nQ 2544 4750 2975 4387 \nQ 3406 4025 3406 3419 \nQ 3406 3131 3298 2873 \nQ 3191 2616 2906 2266 \nQ 2828 2175 2409 1742 \nQ 1991 1309 1228 531 \nz\n\" transform=\"scale(0.015625)\"/>\n       </defs>\n       <use xlink:href=\"#DejaVuSans-32\"/>\n       <use xlink:href=\"#DejaVuSans-30\" x=\"63.623047\"/>\n       <use xlink:href=\"#DejaVuSans-30\" x=\"127.246094\"/>\n      </g>\n     </g>\n    </g>\n    <g id=\"ytick_3\">\n     <g id=\"line2d_12\">\n      <g>\n       <use xlink:href=\"#m5ef7219edf\" x=\"53.328125\" y=\"174.079219\" style=\"stroke: #000000; stroke-width: 0.8\"/>\n      </g>\n     </g>\n     <g id=\"text_13\">\n      <!-- 400 -->\n      <g transform=\"translate(27.240625 177.878437)scale(0.1 -0.1)\">\n       <use xlink:href=\"#DejaVuSans-34\"/>\n       <use xlink:href=\"#DejaVuSans-30\" x=\"63.623047\"/>\n       <use xlink:href=\"#DejaVuSans-30\" x=\"127.246094\"/>\n      </g>\n     </g>\n    </g>\n    <g id=\"ytick_4\">\n     <g id=\"line2d_13\">\n      <g>\n       <use xlink:href=\"#m5ef7219edf\" x=\"53.328125\" y=\"119.719219\" style=\"stroke: #000000; stroke-width: 0.8\"/>\n      </g>\n     </g>\n     <g id=\"text_14\">\n      <!-- 600 -->\n      <g transform=\"translate(27.240625 123.518438)scale(0.1 -0.1)\">\n       <use xlink:href=\"#DejaVuSans-36\"/>\n       <use xlink:href=\"#DejaVuSans-30\" x=\"63.623047\"/>\n       <use xlink:href=\"#DejaVuSans-30\" x=\"127.246094\"/>\n      </g>\n     </g>\n    </g>\n    <g id=\"ytick_5\">\n     <g id=\"line2d_14\">\n      <g>\n       <use xlink:href=\"#m5ef7219edf\" x=\"53.328125\" y=\"65.359219\" style=\"stroke: #000000; stroke-width: 0.8\"/>\n      </g>\n     </g>\n     <g id=\"text_15\">\n      <!-- 800 -->\n      <g transform=\"translate(27.240625 69.158437)scale(0.1 -0.1)\">\n       <use xlink:href=\"#DejaVuSans-38\"/>\n       <use xlink:href=\"#DejaVuSans-30\" x=\"63.623047\"/>\n       <use xlink:href=\"#DejaVuSans-30\" x=\"127.246094\"/>\n      </g>\n     </g>\n    </g>\n    <g id=\"ytick_6\">\n     <g id=\"line2d_15\">\n      <g>\n       <use xlink:href=\"#m5ef7219edf\" x=\"53.328125\" y=\"10.999219\" style=\"stroke: #000000; stroke-width: 0.8\"/>\n      </g>\n     </g>\n     <g id=\"text_16\">\n      <!-- 1000 -->\n      <g transform=\"translate(20.878125 14.798437)scale(0.1 -0.1)\">\n       <use xlink:href=\"#DejaVuSans-31\"/>\n       <use xlink:href=\"#DejaVuSans-30\" x=\"63.623047\"/>\n       <use xlink:href=\"#DejaVuSans-30\" x=\"127.246094\"/>\n       <use xlink:href=\"#DejaVuSans-30\" x=\"190.869141\"/>\n      </g>\n     </g>\n    </g>\n    <g id=\"text_17\">\n     <!-- Count -->\n     <g transform=\"translate(14.798438 161.747656)rotate(-90)scale(0.1 -0.1)\">\n      <defs>\n       <path id=\"DejaVuSans-43\" d=\"M 4122 4306 \nL 4122 3641 \nQ 3803 3938 3442 4084 \nQ 3081 4231 2675 4231 \nQ 1875 4231 1450 3742 \nQ 1025 3253 1025 2328 \nQ 1025 1406 1450 917 \nQ 1875 428 2675 428 \nQ 3081 428 3442 575 \nQ 3803 722 4122 1019 \nL 4122 359 \nQ 3791 134 3420 21 \nQ 3050 -91 2638 -91 \nQ 1578 -91 968 557 \nQ 359 1206 359 2328 \nQ 359 3453 968 4101 \nQ 1578 4750 2638 4750 \nQ 3056 4750 3426 4639 \nQ 3797 4528 4122 4306 \nz\n\" transform=\"scale(0.015625)\"/>\n       <path id=\"DejaVuSans-6f\" d=\"M 1959 3097 \nQ 1497 3097 1228 2736 \nQ 959 2375 959 1747 \nQ 959 1119 1226 758 \nQ 1494 397 1959 397 \nQ 2419 397 2687 759 \nQ 2956 1122 2956 1747 \nQ 2956 2369 2687 2733 \nQ 2419 3097 1959 3097 \nz\nM 1959 3584 \nQ 2709 3584 3137 3096 \nQ 3566 2609 3566 1747 \nQ 3566 888 3137 398 \nQ 2709 -91 1959 -91 \nQ 1206 -91 779 398 \nQ 353 888 353 1747 \nQ 353 2609 779 3096 \nQ 1206 3584 1959 3584 \nz\n\" transform=\"scale(0.015625)\"/>\n       <path id=\"DejaVuSans-75\" d=\"M 544 1381 \nL 544 3500 \nL 1119 3500 \nL 1119 1403 \nQ 1119 906 1312 657 \nQ 1506 409 1894 409 \nQ 2359 409 2629 706 \nQ 2900 1003 2900 1516 \nL 2900 3500 \nL 3475 3500 \nL 3475 0 \nL 2900 0 \nL 2900 538 \nQ 2691 219 2414 64 \nQ 2138 -91 1772 -91 \nQ 1169 -91 856 284 \nQ 544 659 544 1381 \nz\nM 1991 3584 \nL 1991 3584 \nz\n\" transform=\"scale(0.015625)\"/>\n       <path id=\"DejaVuSans-6e\" d=\"M 3513 2113 \nL 3513 0 \nL 2938 0 \nL 2938 2094 \nQ 2938 2591 2744 2837 \nQ 2550 3084 2163 3084 \nQ 1697 3084 1428 2787 \nQ 1159 2491 1159 1978 \nL 1159 0 \nL 581 0 \nL 581 3500 \nL 1159 3500 \nL 1159 2956 \nQ 1366 3272 1645 3428 \nQ 1925 3584 2291 3584 \nQ 2894 3584 3203 3211 \nQ 3513 2838 3513 2113 \nz\n\" transform=\"scale(0.015625)\"/>\n       <path id=\"DejaVuSans-74\" d=\"M 1172 4494 \nL 1172 3500 \nL 2356 3500 \nL 2356 3053 \nL 1172 3053 \nL 1172 1153 \nQ 1172 725 1289 603 \nQ 1406 481 1766 481 \nL 2356 481 \nL 2356 0 \nL 1766 0 \nQ 1100 0 847 248 \nQ 594 497 594 1153 \nL 594 3053 \nL 172 3053 \nL 172 3500 \nL 594 3500 \nL 594 4494 \nL 1172 4494 \nz\n\" transform=\"scale(0.015625)\"/>\n      </defs>\n      <use xlink:href=\"#DejaVuSans-43\"/>\n      <use xlink:href=\"#DejaVuSans-6f\" x=\"69.824219\"/>\n      <use xlink:href=\"#DejaVuSans-75\" x=\"131.005859\"/>\n      <use xlink:href=\"#DejaVuSans-6e\" x=\"194.384766\"/>\n      <use xlink:href=\"#DejaVuSans-74\" x=\"257.763672\"/>\n     </g>\n    </g>\n   </g>\n   <g id=\"patch_403\">\n    <path d=\"M 53.328125 282.799219 \nL 53.328125 10.999219 \n\" style=\"fill: none; stroke: #000000; stroke-width: 0.8; stroke-linejoin: miter; stroke-linecap: square\"/>\n   </g>\n   <g id=\"patch_404\">\n    <path d=\"M 611.328125 282.799219 \nL 611.328125 10.999219 \n\" style=\"fill: none; stroke: #000000; stroke-width: 0.8; stroke-linejoin: miter; stroke-linecap: square\"/>\n   </g>\n   <g id=\"patch_405\">\n    <path d=\"M 53.328125 282.799219 \nL 611.328125 282.799219 \n\" style=\"fill: none; stroke: #000000; stroke-width: 0.8; stroke-linejoin: miter; stroke-linecap: square\"/>\n   </g>\n   <g id=\"patch_406\">\n    <path d=\"M 53.328125 10.999219 \nL 611.328125 10.999219 \n\" style=\"fill: none; stroke: #000000; stroke-width: 0.8; stroke-linejoin: miter; stroke-linecap: square\"/>\n   </g>\n   <g id=\"legend_1\">\n    <g id=\"patch_407\">\n     <path d=\"M 500.703125 48.355469 \nL 604.328125 48.355469 \nQ 606.328125 48.355469 606.328125 46.355469 \nL 606.328125 17.999219 \nQ 606.328125 15.999219 604.328125 15.999219 \nL 500.703125 15.999219 \nQ 498.703125 15.999219 498.703125 17.999219 \nL 498.703125 46.355469 \nQ 498.703125 48.355469 500.703125 48.355469 \nz\n\" style=\"fill: #ffffff; opacity: 0.8; stroke: #cccccc; stroke-linejoin: miter\"/>\n    </g>\n    <g id=\"patch_408\">\n     <path d=\"M 502.703125 27.597656 \nL 522.703125 27.597656 \nL 522.703125 20.597656 \nL 502.703125 20.597656 \nz\n\" style=\"fill: #1f77b4; opacity: 0.5\"/>\n    </g>\n    <g id=\"text_18\">\n     <!-- All paintings -->\n     <g transform=\"translate(530.703125 27.597656)scale(0.1 -0.1)\">\n      <defs>\n       <path id=\"DejaVuSans-41\" d=\"M 2188 4044 \nL 1331 1722 \nL 3047 1722 \nL 2188 4044 \nz\nM 1831 4666 \nL 2547 4666 \nL 4325 0 \nL 3669 0 \nL 3244 1197 \nL 1141 1197 \nL 716 0 \nL 50 0 \nL 1831 4666 \nz\n\" transform=\"scale(0.015625)\"/>\n       <path id=\"DejaVuSans-6c\" d=\"M 603 4863 \nL 1178 4863 \nL 1178 0 \nL 603 0 \nL 603 4863 \nz\n\" transform=\"scale(0.015625)\"/>\n       <path id=\"DejaVuSans-20\" transform=\"scale(0.015625)\"/>\n       <path id=\"DejaVuSans-70\" d=\"M 1159 525 \nL 1159 -1331 \nL 581 -1331 \nL 581 3500 \nL 1159 3500 \nL 1159 2969 \nQ 1341 3281 1617 3432 \nQ 1894 3584 2278 3584 \nQ 2916 3584 3314 3078 \nQ 3713 2572 3713 1747 \nQ 3713 922 3314 415 \nQ 2916 -91 2278 -91 \nQ 1894 -91 1617 61 \nQ 1341 213 1159 525 \nz\nM 3116 1747 \nQ 3116 2381 2855 2742 \nQ 2594 3103 2138 3103 \nQ 1681 3103 1420 2742 \nQ 1159 2381 1159 1747 \nQ 1159 1113 1420 752 \nQ 1681 391 2138 391 \nQ 2594 391 2855 752 \nQ 3116 1113 3116 1747 \nz\n\" transform=\"scale(0.015625)\"/>\n       <path id=\"DejaVuSans-69\" d=\"M 603 3500 \nL 1178 3500 \nL 1178 0 \nL 603 0 \nL 603 3500 \nz\nM 603 4863 \nL 1178 4863 \nL 1178 4134 \nL 603 4134 \nL 603 4863 \nz\n\" transform=\"scale(0.015625)\"/>\n       <path id=\"DejaVuSans-67\" d=\"M 2906 1791 \nQ 2906 2416 2648 2759 \nQ 2391 3103 1925 3103 \nQ 1463 3103 1205 2759 \nQ 947 2416 947 1791 \nQ 947 1169 1205 825 \nQ 1463 481 1925 481 \nQ 2391 481 2648 825 \nQ 2906 1169 2906 1791 \nz\nM 3481 434 \nQ 3481 -459 3084 -895 \nQ 2688 -1331 1869 -1331 \nQ 1566 -1331 1297 -1286 \nQ 1028 -1241 775 -1147 \nL 775 -588 \nQ 1028 -725 1275 -790 \nQ 1522 -856 1778 -856 \nQ 2344 -856 2625 -561 \nQ 2906 -266 2906 331 \nL 2906 616 \nQ 2728 306 2450 153 \nQ 2172 0 1784 0 \nQ 1141 0 747 490 \nQ 353 981 353 1791 \nQ 353 2603 747 3093 \nQ 1141 3584 1784 3584 \nQ 2172 3584 2450 3431 \nQ 2728 3278 2906 2969 \nL 2906 3500 \nL 3481 3500 \nL 3481 434 \nz\n\" transform=\"scale(0.015625)\"/>\n       <path id=\"DejaVuSans-73\" d=\"M 2834 3397 \nL 2834 2853 \nQ 2591 2978 2328 3040 \nQ 2066 3103 1784 3103 \nQ 1356 3103 1142 2972 \nQ 928 2841 928 2578 \nQ 928 2378 1081 2264 \nQ 1234 2150 1697 2047 \nL 1894 2003 \nQ 2506 1872 2764 1633 \nQ 3022 1394 3022 966 \nQ 3022 478 2636 193 \nQ 2250 -91 1575 -91 \nQ 1294 -91 989 -36 \nQ 684 19 347 128 \nL 347 722 \nQ 666 556 975 473 \nQ 1284 391 1588 391 \nQ 1994 391 2212 530 \nQ 2431 669 2431 922 \nQ 2431 1156 2273 1281 \nQ 2116 1406 1581 1522 \nL 1381 1569 \nQ 847 1681 609 1914 \nQ 372 2147 372 2553 \nQ 372 3047 722 3315 \nQ 1072 3584 1716 3584 \nQ 2034 3584 2315 3537 \nQ 2597 3491 2834 3397 \nz\n\" transform=\"scale(0.015625)\"/>\n      </defs>\n      <use xlink:href=\"#DejaVuSans-41\"/>\n      <use xlink:href=\"#DejaVuSans-6c\" x=\"68.408203\"/>\n      <use xlink:href=\"#DejaVuSans-6c\" x=\"96.191406\"/>\n      <use xlink:href=\"#DejaVuSans-20\" x=\"123.974609\"/>\n      <use xlink:href=\"#DejaVuSans-70\" x=\"155.761719\"/>\n      <use xlink:href=\"#DejaVuSans-61\" x=\"219.238281\"/>\n      <use xlink:href=\"#DejaVuSans-69\" x=\"280.517578\"/>\n      <use xlink:href=\"#DejaVuSans-6e\" x=\"308.300781\"/>\n      <use xlink:href=\"#DejaVuSans-74\" x=\"371.679688\"/>\n      <use xlink:href=\"#DejaVuSans-69\" x=\"410.888672\"/>\n      <use xlink:href=\"#DejaVuSans-6e\" x=\"438.671875\"/>\n      <use xlink:href=\"#DejaVuSans-67\" x=\"502.050781\"/>\n      <use xlink:href=\"#DejaVuSans-73\" x=\"565.527344\"/>\n     </g>\n    </g>\n    <g id=\"patch_409\">\n     <path d=\"M 502.703125 42.275781 \nL 522.703125 42.275781 \nL 522.703125 35.275781 \nL 502.703125 35.275781 \nz\n\" style=\"fill: #ff7f0e; opacity: 0.8\"/>\n    </g>\n    <g id=\"text_19\">\n     <!-- (Self-)Portraits -->\n     <g transform=\"translate(530.703125 42.275781)scale(0.1 -0.1)\">\n      <defs>\n       <path id=\"DejaVuSans-28\" d=\"M 1984 4856 \nQ 1566 4138 1362 3434 \nQ 1159 2731 1159 2009 \nQ 1159 1288 1364 580 \nQ 1569 -128 1984 -844 \nL 1484 -844 \nQ 1016 -109 783 600 \nQ 550 1309 550 2009 \nQ 550 2706 781 3412 \nQ 1013 4119 1484 4856 \nL 1984 4856 \nz\n\" transform=\"scale(0.015625)\"/>\n       <path id=\"DejaVuSans-53\" d=\"M 3425 4513 \nL 3425 3897 \nQ 3066 4069 2747 4153 \nQ 2428 4238 2131 4238 \nQ 1616 4238 1336 4038 \nQ 1056 3838 1056 3469 \nQ 1056 3159 1242 3001 \nQ 1428 2844 1947 2747 \nL 2328 2669 \nQ 3034 2534 3370 2195 \nQ 3706 1856 3706 1288 \nQ 3706 609 3251 259 \nQ 2797 -91 1919 -91 \nQ 1588 -91 1214 -16 \nQ 841 59 441 206 \nL 441 856 \nQ 825 641 1194 531 \nQ 1563 422 1919 422 \nQ 2459 422 2753 634 \nQ 3047 847 3047 1241 \nQ 3047 1584 2836 1778 \nQ 2625 1972 2144 2069 \nL 1759 2144 \nQ 1053 2284 737 2584 \nQ 422 2884 422 3419 \nQ 422 4038 858 4394 \nQ 1294 4750 2059 4750 \nQ 2388 4750 2728 4690 \nQ 3069 4631 3425 4513 \nz\n\" transform=\"scale(0.015625)\"/>\n       <path id=\"DejaVuSans-66\" d=\"M 2375 4863 \nL 2375 4384 \nL 1825 4384 \nQ 1516 4384 1395 4259 \nQ 1275 4134 1275 3809 \nL 1275 3500 \nL 2222 3500 \nL 2222 3053 \nL 1275 3053 \nL 1275 0 \nL 697 0 \nL 697 3053 \nL 147 3053 \nL 147 3500 \nL 697 3500 \nL 697 3744 \nQ 697 4328 969 4595 \nQ 1241 4863 1831 4863 \nL 2375 4863 \nz\n\" transform=\"scale(0.015625)\"/>\n       <path id=\"DejaVuSans-2d\" d=\"M 313 2009 \nL 1997 2009 \nL 1997 1497 \nL 313 1497 \nL 313 2009 \nz\n\" transform=\"scale(0.015625)\"/>\n       <path id=\"DejaVuSans-29\" d=\"M 513 4856 \nL 1013 4856 \nQ 1481 4119 1714 3412 \nQ 1947 2706 1947 2009 \nQ 1947 1309 1714 600 \nQ 1481 -109 1013 -844 \nL 513 -844 \nQ 928 -128 1133 580 \nQ 1338 1288 1338 2009 \nQ 1338 2731 1133 3434 \nQ 928 4138 513 4856 \nz\n\" transform=\"scale(0.015625)\"/>\n       <path id=\"DejaVuSans-50\" d=\"M 1259 4147 \nL 1259 2394 \nL 2053 2394 \nQ 2494 2394 2734 2622 \nQ 2975 2850 2975 3272 \nQ 2975 3691 2734 3919 \nQ 2494 4147 2053 4147 \nL 1259 4147 \nz\nM 628 4666 \nL 2053 4666 \nQ 2838 4666 3239 4311 \nQ 3641 3956 3641 3272 \nQ 3641 2581 3239 2228 \nQ 2838 1875 2053 1875 \nL 1259 1875 \nL 1259 0 \nL 628 0 \nL 628 4666 \nz\n\" transform=\"scale(0.015625)\"/>\n      </defs>\n      <use xlink:href=\"#DejaVuSans-28\"/>\n      <use xlink:href=\"#DejaVuSans-53\" x=\"39.013672\"/>\n      <use xlink:href=\"#DejaVuSans-65\" x=\"102.490234\"/>\n      <use xlink:href=\"#DejaVuSans-6c\" x=\"164.013672\"/>\n      <use xlink:href=\"#DejaVuSans-66\" x=\"191.796875\"/>\n      <use xlink:href=\"#DejaVuSans-2d\" x=\"221.501953\"/>\n      <use xlink:href=\"#DejaVuSans-29\" x=\"257.585938\"/>\n      <use xlink:href=\"#DejaVuSans-50\" x=\"296.599609\"/>\n      <use xlink:href=\"#DejaVuSans-6f\" x=\"353.277344\"/>\n      <use xlink:href=\"#DejaVuSans-72\" x=\"414.458984\"/>\n      <use xlink:href=\"#DejaVuSans-74\" x=\"455.572266\"/>\n      <use xlink:href=\"#DejaVuSans-72\" x=\"494.78125\"/>\n      <use xlink:href=\"#DejaVuSans-61\" x=\"535.894531\"/>\n      <use xlink:href=\"#DejaVuSans-69\" x=\"597.173828\"/>\n      <use xlink:href=\"#DejaVuSans-74\" x=\"624.957031\"/>\n      <use xlink:href=\"#DejaVuSans-73\" x=\"664.166016\"/>\n     </g>\n    </g>\n   </g>\n  </g>\n </g>\n <defs>\n  <clipPath id=\"p34f15d4daf\">\n   <rect x=\"53.328125\" y=\"10.999219\" width=\"558\" height=\"271.8\"/>\n  </clipPath>\n </defs>\n</svg>\n",
      "text/plain": [
       "<Figure size 720x360 with 1 Axes>"
      ]
     },
     "metadata": {
      "needs_background": "light"
     },
     "output_type": "display_data"
    }
   ],
   "source": [
    "plt.figure(figsize=(10,5))\n",
    "plt.hist(all_data_info.date, bins=300, alpha=0.5)\n",
    "plt.hist(portrait_info.date, bins=100, alpha=0.8)\n",
    "plt.xlim(1400,1800)\n",
    "plt.ylim(0,1000)#\n",
    "plt.xlabel('Year')\n",
    "plt.ylabel('Count')\n",
    "plt.legend(['All paintings','(Self-)Portraits'])\n",
    "plt.savefig('date2.png')\n",
    "plt.show()"
   ]
  },
  {
   "cell_type": "markdown",
   "metadata": {},
   "source": [
    "#### Year Distribution of Styles"
   ]
  },
  {
   "cell_type": "code",
   "execution_count": 113,
   "metadata": {},
   "outputs": [
    {
     "data": {
      "image/png": "[encoded data removed]",
      "image/svg+xml": "<?xml version=\"1.0\" encoding=\"utf-8\" standalone=\"no\"?>\n<!DOCTYPE svg PUBLIC \"-//W3C//DTD SVG 1.1//EN\"\n  \"http://www.w3.org/Graphics/SVG/1.1/DTD/svg11.dtd\">\n<svg xmlns:xlink=\"http://www.w3.org/1999/xlink\" width=\"612.165625pt\" height=\"316.55625pt\" viewBox=\"0 0 612.165625 316.55625\" xmlns=\"http://www.w3.org/2000/svg\" version=\"1.1\">\n <metadata>\n  <rdf:RDF xmlns:dc=\"http://purl.org/dc/elements/1.1/\" xmlns:cc=\"http://creativecommons.org/ns#\" xmlns:rdf=\"http://www.w3.org/1999/02/22-rdf-syntax-ns#\">\n   <cc:Work>\n    <dc:type rdf:resource=\"http://purl.org/dc/dcmitype/StillImage\"/>\n    <dc:date>2022-06-05T19:00:17.727893</dc:date>\n    <dc:format>image/svg+xml</dc:format>\n    <dc:creator>\n     <cc:Agent>\n      <dc:title>Matplotlib v3.5.1, https://matplotlib.org/</dc:title>\n     </cc:Agent>\n    </dc:creator>\n   </cc:Work>\n  </rdf:RDF>\n </metadata>\n <defs>\n  <style type=\"text/css\">*{stroke-linejoin: round; stroke-linecap: butt}</style>\n </defs>\n <g id=\"figure_1\">\n  <g id=\"patch_1\">\n   <path d=\"M 0 316.55625 \nL 612.165625 316.55625 \nL 612.165625 0 \nL 0 0 \nL 0 316.55625 \nz\n\" style=\"fill: none\"/>\n  </g>\n  <g id=\"axes_1\">\n   <g id=\"patch_2\">\n    <path d=\"M 46.965625 279 \nL 604.965625 279 \nL 604.965625 7.2 \nL 46.965625 7.2 \nz\n\" style=\"fill: #ffffff\"/>\n   </g>\n   <g id=\"patch_3\">\n    <path d=\"M 271.12533 279 \nL 301.561694 279 \nL 301.561694 269.307111 \nL 271.12533 269.307111 \nz\n\" clip-path=\"url(#pe18aea6426)\" style=\"fill: #1f77b4; opacity: 0.5\"/>\n   </g>\n   <g id=\"patch_4\">\n    <path d=\"M 301.561694 279 \nL 331.998057 279 \nL 331.998057 245.930145 \nL 301.561694 245.930145 \nz\n\" clip-path=\"url(#pe18aea6426)\" style=\"fill: #1f77b4; opacity: 0.5\"/>\n   </g>\n   <g id=\"patch_5\">\n    <path d=\"M 331.998057 279 \nL 362.434421 279 \nL 362.434421 20.142857 \nL 331.998057 20.142857 \nz\n\" clip-path=\"url(#pe18aea6426)\" style=\"fill: #1f77b4; opacity: 0.5\"/>\n   </g>\n   <g id=\"patch_6\">\n    <path d=\"M 362.434421 279 \nL 392.870785 279 \nL 392.870785 174.658905 \nL 362.434421 174.658905 \nz\n\" clip-path=\"url(#pe18aea6426)\" style=\"fill: #1f77b4; opacity: 0.5\"/>\n   </g>\n   <g id=\"patch_7\">\n    <path d=\"M 392.870785 279 \nL 423.307148 279 \nL 423.307148 235.667086 \nL 392.870785 235.667086 \nz\n\" clip-path=\"url(#pe18aea6426)\" style=\"fill: #1f77b4; opacity: 0.5\"/>\n   </g>\n   <g id=\"patch_8\">\n    <path d=\"M 423.307148 279 \nL 453.743512 279 \nL 453.743512 266.456262 \nL 423.307148 266.456262 \nz\n\" clip-path=\"url(#pe18aea6426)\" style=\"fill: #1f77b4; opacity: 0.5\"/>\n   </g>\n   <g id=\"patch_9\">\n    <path d=\"M 453.743512 279 \nL 484.179876 279 \nL 484.179876 266.456262 \nL 453.743512 266.456262 \nz\n\" clip-path=\"url(#pe18aea6426)\" style=\"fill: #1f77b4; opacity: 0.5\"/>\n   </g>\n   <g id=\"patch_10\">\n    <path d=\"M 484.179876 279 \nL 514.616239 279 \nL 514.616239 271.587791 \nL 484.179876 271.587791 \nz\n\" clip-path=\"url(#pe18aea6426)\" style=\"fill: #1f77b4; opacity: 0.5\"/>\n   </g>\n   <g id=\"patch_11\">\n    <path d=\"M 514.616239 279 \nL 545.052603 279 \nL 545.052603 261.894902 \nL 514.616239 261.894902 \nz\n\" clip-path=\"url(#pe18aea6426)\" style=\"fill: #1f77b4; opacity: 0.5\"/>\n   </g>\n   <g id=\"patch_12\">\n    <path d=\"M 545.052603 279 \nL 575.488967 279 \nL 575.488967 267.596602 \nL 545.052603 267.596602 \nz\n\" clip-path=\"url(#pe18aea6426)\" style=\"fill: #1f77b4; opacity: 0.5\"/>\n   </g>\n   <g id=\"patch_13\">\n    <path d=\"M 147.734667 279 \nL 156.372013 279 \nL 156.372013 276.14915 \nL 147.734667 276.14915 \nz\n\" clip-path=\"url(#pe18aea6426)\" style=\"fill: #ff7f0e; opacity: 0.5\"/>\n   </g>\n   <g id=\"patch_14\">\n    <path d=\"M 156.372013 279 \nL 165.00936 279 \nL 165.00936 272.157961 \nL 156.372013 272.157961 \nz\n\" clip-path=\"url(#pe18aea6426)\" style=\"fill: #ff7f0e; opacity: 0.5\"/>\n   </g>\n   <g id=\"patch_15\">\n    <path d=\"M 165.00936 279 \nL 173.646706 279 \nL 173.646706 259.614223 \nL 165.00936 259.614223 \nz\n\" clip-path=\"url(#pe18aea6426)\" style=\"fill: #ff7f0e; opacity: 0.5\"/>\n   </g>\n   <g id=\"patch_16\">\n    <path d=\"M 173.646706 279 \nL 182.284053 279 \nL 182.284053 256.763373 \nL 173.646706 256.763373 \nz\n\" clip-path=\"url(#pe18aea6426)\" style=\"fill: #ff7f0e; opacity: 0.5\"/>\n   </g>\n   <g id=\"patch_17\">\n    <path d=\"M 182.284053 279 \nL 190.921399 279 \nL 190.921399 265.886092 \nL 182.284053 265.886092 \nz\n\" clip-path=\"url(#pe18aea6426)\" style=\"fill: #ff7f0e; opacity: 0.5\"/>\n   </g>\n   <g id=\"patch_18\">\n    <path d=\"M 190.921399 279 \nL 199.558745 279 \nL 199.558745 270.447451 \nL 190.921399 270.447451 \nz\n\" clip-path=\"url(#pe18aea6426)\" style=\"fill: #ff7f0e; opacity: 0.5\"/>\n   </g>\n   <g id=\"patch_19\">\n    <path d=\"M 199.558745 279 \nL 208.196092 279 \nL 208.196092 272.157961 \nL 199.558745 272.157961 \nz\n\" clip-path=\"url(#pe18aea6426)\" style=\"fill: #ff7f0e; opacity: 0.5\"/>\n   </g>\n   <g id=\"patch_20\">\n    <path d=\"M 208.196092 279 \nL 216.833438 279 \nL 216.833438 271.017621 \nL 208.196092 271.017621 \nz\n\" clip-path=\"url(#pe18aea6426)\" style=\"fill: #ff7f0e; opacity: 0.5\"/>\n   </g>\n   <g id=\"patch_21\">\n    <path d=\"M 216.833438 279 \nL 225.470785 279 \nL 225.470785 271.017621 \nL 216.833438 271.017621 \nz\n\" clip-path=\"url(#pe18aea6426)\" style=\"fill: #ff7f0e; opacity: 0.5\"/>\n   </g>\n   <g id=\"patch_22\">\n    <path d=\"M 225.470785 279 \nL 234.108131 279 \nL 234.108131 275.008811 \nL 225.470785 275.008811 \nz\n\" clip-path=\"url(#pe18aea6426)\" style=\"fill: #ff7f0e; opacity: 0.5\"/>\n   </g>\n   <g id=\"patch_23\">\n    <path d=\"M 175.154814 279 \nL 189.961694 279 \nL 189.961694 278.42983 \nL 175.154814 278.42983 \nz\n\" clip-path=\"url(#pe18aea6426)\" style=\"fill: #2ca02c; opacity: 0.5\"/>\n   </g>\n   <g id=\"patch_24\">\n    <path d=\"M 189.961694 279 \nL 204.768573 279 \nL 204.768573 273.298301 \nL 189.961694 273.298301 \nz\n\" clip-path=\"url(#pe18aea6426)\" style=\"fill: #2ca02c; opacity: 0.5\"/>\n   </g>\n   <g id=\"patch_25\">\n    <path d=\"M 204.768573 279 \nL 219.575453 279 \nL 219.575453 265.886092 \nL 204.768573 265.886092 \nz\n\" clip-path=\"url(#pe18aea6426)\" style=\"fill: #2ca02c; opacity: 0.5\"/>\n   </g>\n   <g id=\"patch_26\">\n    <path d=\"M 219.575453 279 \nL 234.382333 279 \nL 234.382333 253.912524 \nL 219.575453 253.912524 \nz\n\" clip-path=\"url(#pe18aea6426)\" style=\"fill: #2ca02c; opacity: 0.5\"/>\n   </g>\n   <g id=\"patch_27\">\n    <path d=\"M 234.382333 279 \nL 249.189212 279 \nL 249.189212 249.351164 \nL 234.382333 249.351164 \nz\n\" clip-path=\"url(#pe18aea6426)\" style=\"fill: #2ca02c; opacity: 0.5\"/>\n   </g>\n   <g id=\"patch_28\">\n    <path d=\"M 249.189212 279 \nL 263.996092 279 \nL 263.996092 258.473883 \nL 249.189212 258.473883 \nz\n\" clip-path=\"url(#pe18aea6426)\" style=\"fill: #2ca02c; opacity: 0.5\"/>\n   </g>\n   <g id=\"patch_29\">\n    <path d=\"M 263.996092 279 \nL 278.802971 279 \nL 278.802971 256.763373 \nL 263.996092 256.763373 \nz\n\" clip-path=\"url(#pe18aea6426)\" style=\"fill: #2ca02c; opacity: 0.5\"/>\n   </g>\n   <g id=\"patch_30\">\n    <path d=\"M 278.802971 279 \nL 293.609851 279 \nL 293.609851 268.736941 \nL 278.802971 268.736941 \nz\n\" clip-path=\"url(#pe18aea6426)\" style=\"fill: #2ca02c; opacity: 0.5\"/>\n   </g>\n   <g id=\"patch_31\">\n    <path d=\"M 293.609851 279 \nL 308.416731 279 \nL 308.416731 269.307111 \nL 293.609851 269.307111 \nz\n\" clip-path=\"url(#pe18aea6426)\" style=\"fill: #2ca02c; opacity: 0.5\"/>\n   </g>\n   <g id=\"patch_32\">\n    <path d=\"M 308.416731 279 \nL 323.22361 279 \nL 323.22361 269.877281 \nL 308.416731 269.877281 \nz\n\" clip-path=\"url(#pe18aea6426)\" style=\"fill: #2ca02c; opacity: 0.5\"/>\n   </g>\n   <g id=\"patch_33\">\n    <path d=\"M 516.53565 279 \nL 522.842283 279 \nL 522.842283 273.868471 \nL 516.53565 273.868471 \nz\n\" clip-path=\"url(#pe18aea6426)\" style=\"fill: #d62728; opacity: 0.5\"/>\n   </g>\n   <g id=\"patch_34\">\n    <path d=\"M 522.842283 279 \nL 529.148917 279 \nL 529.148917 267.596602 \nL 522.842283 267.596602 \nz\n\" clip-path=\"url(#pe18aea6426)\" style=\"fill: #d62728; opacity: 0.5\"/>\n   </g>\n   <g id=\"patch_35\">\n    <path d=\"M 529.148917 279 \nL 535.455551 279 \nL 535.455551 263.035242 \nL 529.148917 263.035242 \nz\n\" clip-path=\"url(#pe18aea6426)\" style=\"fill: #d62728; opacity: 0.5\"/>\n   </g>\n   <g id=\"patch_36\">\n    <path d=\"M 535.455551 279 \nL 541.762185 279 \nL 541.762185 256.193203 \nL 535.455551 256.193203 \nz\n\" clip-path=\"url(#pe18aea6426)\" style=\"fill: #d62728; opacity: 0.5\"/>\n   </g>\n   <g id=\"patch_37\">\n    <path d=\"M 541.762185 279 \nL 548.068819 279 \nL 548.068819 268.736941 \nL 541.762185 268.736941 \nz\n\" clip-path=\"url(#pe18aea6426)\" style=\"fill: #d62728; opacity: 0.5\"/>\n   </g>\n   <g id=\"patch_38\">\n    <path d=\"M 548.068819 279 \nL 554.375453 279 \nL 554.375453 269.877281 \nL 548.068819 269.877281 \nz\n\" clip-path=\"url(#pe18aea6426)\" style=\"fill: #d62728; opacity: 0.5\"/>\n   </g>\n   <g id=\"patch_39\">\n    <path d=\"M 554.375453 279 \nL 560.682087 279 \nL 560.682087 263.605412 \nL 554.375453 263.605412 \nz\n\" clip-path=\"url(#pe18aea6426)\" style=\"fill: #d62728; opacity: 0.5\"/>\n   </g>\n   <g id=\"patch_40\">\n    <path d=\"M 560.682087 279 \nL 566.988721 279 \nL 566.988721 272.157961 \nL 560.682087 272.157961 \nz\n\" clip-path=\"url(#pe18aea6426)\" style=\"fill: #d62728; opacity: 0.5\"/>\n   </g>\n   <g id=\"patch_41\">\n    <path d=\"M 566.988721 279 \nL 573.295355 279 \nL 573.295355 267.596602 \nL 566.988721 267.596602 \nz\n\" clip-path=\"url(#pe18aea6426)\" style=\"fill: #d62728; opacity: 0.5\"/>\n   </g>\n   <g id=\"patch_42\">\n    <path d=\"M 573.295355 279 \nL 579.601989 279 \nL 579.601989 271.587791 \nL 573.295355 271.587791 \nz\n\" clip-path=\"url(#pe18aea6426)\" style=\"fill: #d62728; opacity: 0.5\"/>\n   </g>\n   <g id=\"patch_43\">\n    <path d=\"M 72.329261 279 \nL 99.475207 279 \nL 99.475207 267.026432 \nL 72.329261 267.026432 \nz\n\" clip-path=\"url(#pe18aea6426)\" style=\"fill: #9467bd; opacity: 0.5\"/>\n   </g>\n   <g id=\"patch_44\">\n    <path d=\"M 99.475207 279 \nL 126.621153 279 \nL 126.621153 268.166772 \nL 99.475207 268.166772 \nz\n\" clip-path=\"url(#pe18aea6426)\" style=\"fill: #9467bd; opacity: 0.5\"/>\n   </g>\n   <g id=\"patch_45\">\n    <path d=\"M 126.621153 279 \nL 153.767099 279 \nL 153.767099 260.754563 \nL 126.621153 260.754563 \nz\n\" clip-path=\"url(#pe18aea6426)\" style=\"fill: #9467bd; opacity: 0.5\"/>\n   </g>\n   <g id=\"patch_46\">\n    <path d=\"M 153.767099 279 \nL 180.913045 279 \nL 180.913045 248.210824 \nL 153.767099 248.210824 \nz\n\" clip-path=\"url(#pe18aea6426)\" style=\"fill: #9467bd; opacity: 0.5\"/>\n   </g>\n   <g id=\"patch_47\">\n    <path d=\"M 180.913045 279 \nL 208.058991 279 \nL 208.058991 209.43927 \nL 180.913045 209.43927 \nz\n\" clip-path=\"url(#pe18aea6426)\" style=\"fill: #9467bd; opacity: 0.5\"/>\n   </g>\n   <g id=\"patch_48\">\n    <path d=\"M 208.058991 279 \nL 235.204937 279 \nL 235.204937 226.544368 \nL 208.058991 226.544368 \nz\n\" clip-path=\"url(#pe18aea6426)\" style=\"fill: #9467bd; opacity: 0.5\"/>\n   </g>\n   <g id=\"patch_49\">\n    <path d=\"M 235.204937 279 \nL 262.350883 279 \nL 262.350883 275.57898 \nL 235.204937 275.57898 \nz\n\" clip-path=\"url(#pe18aea6426)\" style=\"fill: #9467bd; opacity: 0.5\"/>\n   </g>\n   <g id=\"patch_50\">\n    <path d=\"M 262.350883 279 \nL 289.496829 279 \nL 289.496829 279 \nL 262.350883 279 \nz\n\" clip-path=\"url(#pe18aea6426)\" style=\"fill: #9467bd; opacity: 0.5\"/>\n   </g>\n   <g id=\"patch_51\">\n    <path d=\"M 289.496829 279 \nL 316.642775 279 \nL 316.642775 277.85966 \nL 289.496829 277.85966 \nz\n\" clip-path=\"url(#pe18aea6426)\" style=\"fill: #9467bd; opacity: 0.5\"/>\n   </g>\n   <g id=\"patch_52\">\n    <path d=\"M 316.642775 279 \nL 343.788721 279 \nL 343.788721 278.42983 \nL 316.642775 278.42983 \nz\n\" clip-path=\"url(#pe18aea6426)\" style=\"fill: #9467bd; opacity: 0.5\"/>\n   </g>\n   <g id=\"patch_53\">\n    <path d=\"M 453.469311 279 \nL 466.082578 279 \nL 466.082578 273.868471 \nL 453.469311 273.868471 \nz\n\" clip-path=\"url(#pe18aea6426)\" style=\"fill: #8c564b; opacity: 0.5\"/>\n   </g>\n   <g id=\"patch_54\">\n    <path d=\"M 466.082578 279 \nL 478.695846 279 \nL 478.695846 273.868471 \nL 466.082578 273.868471 \nz\n\" clip-path=\"url(#pe18aea6426)\" style=\"fill: #8c564b; opacity: 0.5\"/>\n   </g>\n   <g id=\"patch_55\">\n    <path d=\"M 478.695846 279 \nL 491.309114 279 \nL 491.309114 262.465072 \nL 478.695846 262.465072 \nz\n\" clip-path=\"url(#pe18aea6426)\" style=\"fill: #8c564b; opacity: 0.5\"/>\n   </g>\n   <g id=\"patch_56\">\n    <path d=\"M 491.309114 279 \nL 503.922382 279 \nL 503.922382 257.903713 \nL 491.309114 257.903713 \nz\n\" clip-path=\"url(#pe18aea6426)\" style=\"fill: #8c564b; opacity: 0.5\"/>\n   </g>\n   <g id=\"patch_57\">\n    <path d=\"M 503.922382 279 \nL 516.53565 279 \nL 516.53565 244.219635 \nL 503.922382 244.219635 \nz\n\" clip-path=\"url(#pe18aea6426)\" style=\"fill: #8c564b; opacity: 0.5\"/>\n   </g>\n   <g id=\"patch_58\">\n    <path d=\"M 516.53565 279 \nL 529.148917 279 \nL 529.148917 211.71995 \nL 516.53565 211.71995 \nz\n\" clip-path=\"url(#pe18aea6426)\" style=\"fill: #8c564b; opacity: 0.5\"/>\n   </g>\n   <g id=\"patch_59\">\n    <path d=\"M 529.148917 279 \nL 541.762185 279 \nL 541.762185 202.597231 \nL 529.148917 202.597231 \nz\n\" clip-path=\"url(#pe18aea6426)\" style=\"fill: #8c564b; opacity: 0.5\"/>\n   </g>\n   <g id=\"patch_60\">\n    <path d=\"M 541.762185 279 \nL 554.375453 279 \nL 554.375453 170.667716 \nL 541.762185 170.667716 \nz\n\" clip-path=\"url(#pe18aea6426)\" style=\"fill: #8c564b; opacity: 0.5\"/>\n   </g>\n   <g id=\"patch_61\">\n    <path d=\"M 554.375453 279 \nL 566.988721 279 \nL 566.988721 134.747011 \nL 554.375453 134.747011 \nz\n\" clip-path=\"url(#pe18aea6426)\" style=\"fill: #8c564b; opacity: 0.5\"/>\n   </g>\n   <g id=\"patch_62\">\n    <path d=\"M 566.988721 279 \nL 579.601989 279 \nL 579.601989 190.623663 \nL 566.988721 190.623663 \nz\n\" clip-path=\"url(#pe18aea6426)\" style=\"fill: #8c564b; opacity: 0.5\"/>\n   </g>\n   <g id=\"patch_63\">\n    <path d=\"M 515.164642 279 \nL 521.608377 279 \nL 521.608377 278.42983 \nL 515.164642 278.42983 \nz\n\" clip-path=\"url(#pe18aea6426)\" style=\"fill: #e377c2; opacity: 0.5\"/>\n   </g>\n   <g id=\"patch_64\">\n    <path d=\"M 521.608377 279 \nL 528.052111 279 \nL 528.052111 279 \nL 521.608377 279 \nz\n\" clip-path=\"url(#pe18aea6426)\" style=\"fill: #e377c2; opacity: 0.5\"/>\n   </g>\n   <g id=\"patch_65\">\n    <path d=\"M 528.052111 279 \nL 534.495846 279 \nL 534.495846 276.14915 \nL 528.052111 276.14915 \nz\n\" clip-path=\"url(#pe18aea6426)\" style=\"fill: #e377c2; opacity: 0.5\"/>\n   </g>\n   <g id=\"patch_66\">\n    <path d=\"M 534.495846 279 \nL 540.939581 279 \nL 540.939581 275.57898 \nL 534.495846 275.57898 \nz\n\" clip-path=\"url(#pe18aea6426)\" style=\"fill: #e377c2; opacity: 0.5\"/>\n   </g>\n   <g id=\"patch_67\">\n    <path d=\"M 540.939581 279 \nL 547.383315 279 \nL 547.383315 273.868471 \nL 540.939581 273.868471 \nz\n\" clip-path=\"url(#pe18aea6426)\" style=\"fill: #e377c2; opacity: 0.5\"/>\n   </g>\n   <g id=\"patch_68\">\n    <path d=\"M 547.383315 279 \nL 553.82705 279 \nL 553.82705 273.298301 \nL 547.383315 273.298301 \nz\n\" clip-path=\"url(#pe18aea6426)\" style=\"fill: #e377c2; opacity: 0.5\"/>\n   </g>\n   <g id=\"patch_69\">\n    <path d=\"M 553.82705 279 \nL 560.270785 279 \nL 560.270785 265.315922 \nL 553.82705 265.315922 \nz\n\" clip-path=\"url(#pe18aea6426)\" style=\"fill: #e377c2; opacity: 0.5\"/>\n   </g>\n   <g id=\"patch_70\">\n    <path d=\"M 560.270785 279 \nL 566.714519 279 \nL 566.714519 261.894902 \nL 560.270785 261.894902 \nz\n\" clip-path=\"url(#pe18aea6426)\" style=\"fill: #e377c2; opacity: 0.5\"/>\n   </g>\n   <g id=\"patch_71\">\n    <path d=\"M 566.714519 279 \nL 573.158254 279 \nL 573.158254 257.903713 \nL 566.714519 257.903713 \nz\n\" clip-path=\"url(#pe18aea6426)\" style=\"fill: #e377c2; opacity: 0.5\"/>\n   </g>\n   <g id=\"patch_72\">\n    <path d=\"M 573.158254 279 \nL 579.601989 279 \nL 579.601989 244.219635 \nL 573.158254 244.219635 \nz\n\" clip-path=\"url(#pe18aea6426)\" style=\"fill: #e377c2; opacity: 0.5\"/>\n   </g>\n   <g id=\"matplotlib.axis_1\">\n    <g id=\"xtick_1\">\n     <g id=\"line2d_1\">\n      <defs>\n       <path id=\"mb1cc116b8f\" d=\"M 0 0 \nL 0 3.5 \n\" style=\"stroke: #000000; stroke-width: 0.8\"/>\n      </defs>\n      <g>\n       <use xlink:href=\"#mb1cc116b8f\" x=\"99.749409\" y=\"279\" style=\"stroke: #000000; stroke-width: 0.8\"/>\n      </g>\n     </g>\n     <g id=\"text_1\">\n      <!-- 1450 -->\n      <g transform=\"translate(87.024409 293.598437)scale(0.1 -0.1)\">\n       <defs>\n        <path id=\"DejaVuSans-31\" d=\"M 794 531 \nL 1825 531 \nL 1825 4091 \nL 703 3866 \nL 703 4441 \nL 1819 4666 \nL 2450 4666 \nL 2450 531 \nL 3481 531 \nL 3481 0 \nL 794 0 \nL 794 531 \nz\n\" transform=\"scale(0.015625)\"/>\n        <path id=\"DejaVuSans-34\" d=\"M 2419 4116 \nL 825 1625 \nL 2419 1625 \nL 2419 4116 \nz\nM 2253 4666 \nL 3047 4666 \nL 3047 1625 \nL 3713 1625 \nL 3713 1100 \nL 3047 1100 \nL 3047 0 \nL 2419 0 \nL 2419 1100 \nL 313 1100 \nL 313 1709 \nL 2253 4666 \nz\n\" transform=\"scale(0.015625)\"/>\n        <path id=\"DejaVuSans-35\" d=\"M 691 4666 \nL 3169 4666 \nL 3169 4134 \nL 1269 4134 \nL 1269 2991 \nQ 1406 3038 1543 3061 \nQ 1681 3084 1819 3084 \nQ 2600 3084 3056 2656 \nQ 3513 2228 3513 1497 \nQ 3513 744 3044 326 \nQ 2575 -91 1722 -91 \nQ 1428 -91 1123 -41 \nQ 819 9 494 109 \nL 494 744 \nQ 775 591 1075 516 \nQ 1375 441 1709 441 \nQ 2250 441 2565 725 \nQ 2881 1009 2881 1497 \nQ 2881 1984 2565 2268 \nQ 2250 2553 1709 2553 \nQ 1456 2553 1204 2497 \nQ 953 2441 691 2322 \nL 691 4666 \nz\n\" transform=\"scale(0.015625)\"/>\n        <path id=\"DejaVuSans-30\" d=\"M 2034 4250 \nQ 1547 4250 1301 3770 \nQ 1056 3291 1056 2328 \nQ 1056 1369 1301 889 \nQ 1547 409 2034 409 \nQ 2525 409 2770 889 \nQ 3016 1369 3016 2328 \nQ 3016 3291 2770 3770 \nQ 2525 4250 2034 4250 \nz\nM 2034 4750 \nQ 2819 4750 3233 4129 \nQ 3647 3509 3647 2328 \nQ 3647 1150 3233 529 \nQ 2819 -91 2034 -91 \nQ 1250 -91 836 529 \nQ 422 1150 422 2328 \nQ 422 3509 836 4129 \nQ 1250 4750 2034 4750 \nz\n\" transform=\"scale(0.015625)\"/>\n       </defs>\n       <use xlink:href=\"#DejaVuSans-31\"/>\n       <use xlink:href=\"#DejaVuSans-34\" x=\"63.623047\"/>\n       <use xlink:href=\"#DejaVuSans-35\" x=\"127.246094\"/>\n       <use xlink:href=\"#DejaVuSans-30\" x=\"190.869141\"/>\n      </g>\n     </g>\n    </g>\n    <g id=\"xtick_2\">\n     <g id=\"line2d_2\">\n      <g>\n       <use xlink:href=\"#mb1cc116b8f\" x=\"168.299777\" y=\"279\" style=\"stroke: #000000; stroke-width: 0.8\"/>\n      </g>\n     </g>\n     <g id=\"text_2\">\n      <!-- 1500 -->\n      <g transform=\"translate(155.574777 293.598437)scale(0.1 -0.1)\">\n       <use xlink:href=\"#DejaVuSans-31\"/>\n       <use xlink:href=\"#DejaVuSans-35\" x=\"63.623047\"/>\n       <use xlink:href=\"#DejaVuSans-30\" x=\"127.246094\"/>\n       <use xlink:href=\"#DejaVuSans-30\" x=\"190.869141\"/>\n      </g>\n     </g>\n    </g>\n    <g id=\"xtick_3\">\n     <g id=\"line2d_3\">\n      <g>\n       <use xlink:href=\"#mb1cc116b8f\" x=\"236.850146\" y=\"279\" style=\"stroke: #000000; stroke-width: 0.8\"/>\n      </g>\n     </g>\n     <g id=\"text_3\">\n      <!-- 1550 -->\n      <g transform=\"translate(224.125146 293.598437)scale(0.1 -0.1)\">\n       <use xlink:href=\"#DejaVuSans-31\"/>\n       <use xlink:href=\"#DejaVuSans-35\" x=\"63.623047\"/>\n       <use xlink:href=\"#DejaVuSans-35\" x=\"127.246094\"/>\n       <use xlink:href=\"#DejaVuSans-30\" x=\"190.869141\"/>\n      </g>\n     </g>\n    </g>\n    <g id=\"xtick_4\">\n     <g id=\"line2d_4\">\n      <g>\n       <use xlink:href=\"#mb1cc116b8f\" x=\"305.400514\" y=\"279\" style=\"stroke: #000000; stroke-width: 0.8\"/>\n      </g>\n     </g>\n     <g id=\"text_4\">\n      <!-- 1600 -->\n      <g transform=\"translate(292.675514 293.598437)scale(0.1 -0.1)\">\n       <defs>\n        <path id=\"DejaVuSans-36\" d=\"M 2113 2584 \nQ 1688 2584 1439 2293 \nQ 1191 2003 1191 1497 \nQ 1191 994 1439 701 \nQ 1688 409 2113 409 \nQ 2538 409 2786 701 \nQ 3034 994 3034 1497 \nQ 3034 2003 2786 2293 \nQ 2538 2584 2113 2584 \nz\nM 3366 4563 \nL 3366 3988 \nQ 3128 4100 2886 4159 \nQ 2644 4219 2406 4219 \nQ 1781 4219 1451 3797 \nQ 1122 3375 1075 2522 \nQ 1259 2794 1537 2939 \nQ 1816 3084 2150 3084 \nQ 2853 3084 3261 2657 \nQ 3669 2231 3669 1497 \nQ 3669 778 3244 343 \nQ 2819 -91 2113 -91 \nQ 1303 -91 875 529 \nQ 447 1150 447 2328 \nQ 447 3434 972 4092 \nQ 1497 4750 2381 4750 \nQ 2619 4750 2861 4703 \nQ 3103 4656 3366 4563 \nz\n\" transform=\"scale(0.015625)\"/>\n       </defs>\n       <use xlink:href=\"#DejaVuSans-31\"/>\n       <use xlink:href=\"#DejaVuSans-36\" x=\"63.623047\"/>\n       <use xlink:href=\"#DejaVuSans-30\" x=\"127.246094\"/>\n       <use xlink:href=\"#DejaVuSans-30\" x=\"190.869141\"/>\n      </g>\n     </g>\n    </g>\n    <g id=\"xtick_5\">\n     <g id=\"line2d_5\">\n      <g>\n       <use xlink:href=\"#mb1cc116b8f\" x=\"373.950883\" y=\"279\" style=\"stroke: #000000; stroke-width: 0.8\"/>\n      </g>\n     </g>\n     <g id=\"text_5\">\n      <!-- 1650 -->\n      <g transform=\"translate(361.225883 293.598437)scale(0.1 -0.1)\">\n       <use xlink:href=\"#DejaVuSans-31\"/>\n       <use xlink:href=\"#DejaVuSans-36\" x=\"63.623047\"/>\n       <use xlink:href=\"#DejaVuSans-35\" x=\"127.246094\"/>\n       <use xlink:href=\"#DejaVuSans-30\" x=\"190.869141\"/>\n      </g>\n     </g>\n    </g>\n    <g id=\"xtick_6\">\n     <g id=\"line2d_6\">\n      <g>\n       <use xlink:href=\"#mb1cc116b8f\" x=\"442.501252\" y=\"279\" style=\"stroke: #000000; stroke-width: 0.8\"/>\n      </g>\n     </g>\n     <g id=\"text_6\">\n      <!-- 1700 -->\n      <g transform=\"translate(429.776252 293.598437)scale(0.1 -0.1)\">\n       <defs>\n        <path id=\"DejaVuSans-37\" d=\"M 525 4666 \nL 3525 4666 \nL 3525 4397 \nL 1831 0 \nL 1172 0 \nL 2766 4134 \nL 525 4134 \nL 525 4666 \nz\n\" transform=\"scale(0.015625)\"/>\n       </defs>\n       <use xlink:href=\"#DejaVuSans-31\"/>\n       <use xlink:href=\"#DejaVuSans-37\" x=\"63.623047\"/>\n       <use xlink:href=\"#DejaVuSans-30\" x=\"127.246094\"/>\n       <use xlink:href=\"#DejaVuSans-30\" x=\"190.869141\"/>\n      </g>\n     </g>\n    </g>\n    <g id=\"xtick_7\">\n     <g id=\"line2d_7\">\n      <g>\n       <use xlink:href=\"#mb1cc116b8f\" x=\"511.05162\" y=\"279\" style=\"stroke: #000000; stroke-width: 0.8\"/>\n      </g>\n     </g>\n     <g id=\"text_7\">\n      <!-- 1750 -->\n      <g transform=\"translate(498.32662 293.598437)scale(0.1 -0.1)\">\n       <use xlink:href=\"#DejaVuSans-31\"/>\n       <use xlink:href=\"#DejaVuSans-37\" x=\"63.623047\"/>\n       <use xlink:href=\"#DejaVuSans-35\" x=\"127.246094\"/>\n       <use xlink:href=\"#DejaVuSans-30\" x=\"190.869141\"/>\n      </g>\n     </g>\n    </g>\n    <g id=\"xtick_8\">\n     <g id=\"line2d_8\">\n      <g>\n       <use xlink:href=\"#mb1cc116b8f\" x=\"579.601989\" y=\"279\" style=\"stroke: #000000; stroke-width: 0.8\"/>\n      </g>\n     </g>\n     <g id=\"text_8\">\n      <!-- 1800 -->\n      <g transform=\"translate(566.876989 293.598437)scale(0.1 -0.1)\">\n       <defs>\n        <path id=\"DejaVuSans-38\" d=\"M 2034 2216 \nQ 1584 2216 1326 1975 \nQ 1069 1734 1069 1313 \nQ 1069 891 1326 650 \nQ 1584 409 2034 409 \nQ 2484 409 2743 651 \nQ 3003 894 3003 1313 \nQ 3003 1734 2745 1975 \nQ 2488 2216 2034 2216 \nz\nM 1403 2484 \nQ 997 2584 770 2862 \nQ 544 3141 544 3541 \nQ 544 4100 942 4425 \nQ 1341 4750 2034 4750 \nQ 2731 4750 3128 4425 \nQ 3525 4100 3525 3541 \nQ 3525 3141 3298 2862 \nQ 3072 2584 2669 2484 \nQ 3125 2378 3379 2068 \nQ 3634 1759 3634 1313 \nQ 3634 634 3220 271 \nQ 2806 -91 2034 -91 \nQ 1263 -91 848 271 \nQ 434 634 434 1313 \nQ 434 1759 690 2068 \nQ 947 2378 1403 2484 \nz\nM 1172 3481 \nQ 1172 3119 1398 2916 \nQ 1625 2713 2034 2713 \nQ 2441 2713 2670 2916 \nQ 2900 3119 2900 3481 \nQ 2900 3844 2670 4047 \nQ 2441 4250 2034 4250 \nQ 1625 4250 1398 4047 \nQ 1172 3844 1172 3481 \nz\n\" transform=\"scale(0.015625)\"/>\n       </defs>\n       <use xlink:href=\"#DejaVuSans-31\"/>\n       <use xlink:href=\"#DejaVuSans-38\" x=\"63.623047\"/>\n       <use xlink:href=\"#DejaVuSans-30\" x=\"127.246094\"/>\n       <use xlink:href=\"#DejaVuSans-30\" x=\"190.869141\"/>\n      </g>\n     </g>\n    </g>\n    <g id=\"text_9\">\n     <!-- Year -->\n     <g transform=\"translate(315.378125 307.276562)scale(0.1 -0.1)\">\n      <defs>\n       <path id=\"DejaVuSans-59\" d=\"M -13 4666 \nL 666 4666 \nL 1959 2747 \nL 3244 4666 \nL 3922 4666 \nL 2272 2222 \nL 2272 0 \nL 1638 0 \nL 1638 2222 \nL -13 4666 \nz\n\" transform=\"scale(0.015625)\"/>\n       <path id=\"DejaVuSans-65\" d=\"M 3597 1894 \nL 3597 1613 \nL 953 1613 \nQ 991 1019 1311 708 \nQ 1631 397 2203 397 \nQ 2534 397 2845 478 \nQ 3156 559 3463 722 \nL 3463 178 \nQ 3153 47 2828 -22 \nQ 2503 -91 2169 -91 \nQ 1331 -91 842 396 \nQ 353 884 353 1716 \nQ 353 2575 817 3079 \nQ 1281 3584 2069 3584 \nQ 2775 3584 3186 3129 \nQ 3597 2675 3597 1894 \nz\nM 3022 2063 \nQ 3016 2534 2758 2815 \nQ 2500 3097 2075 3097 \nQ 1594 3097 1305 2825 \nQ 1016 2553 972 2059 \nL 3022 2063 \nz\n\" transform=\"scale(0.015625)\"/>\n       <path id=\"DejaVuSans-61\" d=\"M 2194 1759 \nQ 1497 1759 1228 1600 \nQ 959 1441 959 1056 \nQ 959 750 1161 570 \nQ 1363 391 1709 391 \nQ 2188 391 2477 730 \nQ 2766 1069 2766 1631 \nL 2766 1759 \nL 2194 1759 \nz\nM 3341 1997 \nL 3341 0 \nL 2766 0 \nL 2766 531 \nQ 2569 213 2275 61 \nQ 1981 -91 1556 -91 \nQ 1019 -91 701 211 \nQ 384 513 384 1019 \nQ 384 1609 779 1909 \nQ 1175 2209 1959 2209 \nL 2766 2209 \nL 2766 2266 \nQ 2766 2663 2505 2880 \nQ 2244 3097 1772 3097 \nQ 1472 3097 1187 3025 \nQ 903 2953 641 2809 \nL 641 3341 \nQ 956 3463 1253 3523 \nQ 1550 3584 1831 3584 \nQ 2591 3584 2966 3190 \nQ 3341 2797 3341 1997 \nz\n\" transform=\"scale(0.015625)\"/>\n       <path id=\"DejaVuSans-72\" d=\"M 2631 2963 \nQ 2534 3019 2420 3045 \nQ 2306 3072 2169 3072 \nQ 1681 3072 1420 2755 \nQ 1159 2438 1159 1844 \nL 1159 0 \nL 581 0 \nL 581 3500 \nL 1159 3500 \nL 1159 2956 \nQ 1341 3275 1631 3429 \nQ 1922 3584 2338 3584 \nQ 2397 3584 2469 3576 \nQ 2541 3569 2628 3553 \nL 2631 2963 \nz\n\" transform=\"scale(0.015625)\"/>\n      </defs>\n      <use xlink:href=\"#DejaVuSans-59\"/>\n      <use xlink:href=\"#DejaVuSans-65\" x=\"47.833984\"/>\n      <use xlink:href=\"#DejaVuSans-61\" x=\"109.357422\"/>\n      <use xlink:href=\"#DejaVuSans-72\" x=\"170.636719\"/>\n     </g>\n    </g>\n   </g>\n   <g id=\"matplotlib.axis_2\">\n    <g id=\"ytick_1\">\n     <g id=\"line2d_9\">\n      <defs>\n       <path id=\"m2ce62a37f4\" d=\"M 0 0 \nL -3.5 0 \n\" style=\"stroke: #000000; stroke-width: 0.8\"/>\n      </defs>\n      <g>\n       <use xlink:href=\"#m2ce62a37f4\" x=\"46.965625\" y=\"279\" style=\"stroke: #000000; stroke-width: 0.8\"/>\n      </g>\n     </g>\n     <g id=\"text_10\">\n      <!-- 0 -->\n      <g transform=\"translate(33.603125 282.799219)scale(0.1 -0.1)\">\n       <use xlink:href=\"#DejaVuSans-30\"/>\n      </g>\n     </g>\n    </g>\n    <g id=\"ytick_2\">\n     <g id=\"line2d_10\">\n      <g>\n       <use xlink:href=\"#m2ce62a37f4\" x=\"46.965625\" y=\"221.983008\" style=\"stroke: #000000; stroke-width: 0.8\"/>\n      </g>\n     </g>\n     <g id=\"text_11\">\n      <!-- 100 -->\n      <g transform=\"translate(20.878125 225.782227)scale(0.1 -0.1)\">\n       <use xlink:href=\"#DejaVuSans-31\"/>\n       <use xlink:href=\"#DejaVuSans-30\" x=\"63.623047\"/>\n       <use xlink:href=\"#DejaVuSans-30\" x=\"127.246094\"/>\n      </g>\n     </g>\n    </g>\n    <g id=\"ytick_3\">\n     <g id=\"line2d_11\">\n      <g>\n       <use xlink:href=\"#m2ce62a37f4\" x=\"46.965625\" y=\"164.966016\" style=\"stroke: #000000; stroke-width: 0.8\"/>\n      </g>\n     </g>\n     <g id=\"text_12\">\n      <!-- 200 -->\n      <g transform=\"translate(20.878125 168.765235)scale(0.1 -0.1)\">\n       <defs>\n        <path id=\"DejaVuSans-32\" d=\"M 1228 531 \nL 3431 531 \nL 3431 0 \nL 469 0 \nL 469 531 \nQ 828 903 1448 1529 \nQ 2069 2156 2228 2338 \nQ 2531 2678 2651 2914 \nQ 2772 3150 2772 3378 \nQ 2772 3750 2511 3984 \nQ 2250 4219 1831 4219 \nQ 1534 4219 1204 4116 \nQ 875 4013 500 3803 \nL 500 4441 \nQ 881 4594 1212 4672 \nQ 1544 4750 1819 4750 \nQ 2544 4750 2975 4387 \nQ 3406 4025 3406 3419 \nQ 3406 3131 3298 2873 \nQ 3191 2616 2906 2266 \nQ 2828 2175 2409 1742 \nQ 1991 1309 1228 531 \nz\n\" transform=\"scale(0.015625)\"/>\n       </defs>\n       <use xlink:href=\"#DejaVuSans-32\"/>\n       <use xlink:href=\"#DejaVuSans-30\" x=\"63.623047\"/>\n       <use xlink:href=\"#DejaVuSans-30\" x=\"127.246094\"/>\n      </g>\n     </g>\n    </g>\n    <g id=\"ytick_4\">\n     <g id=\"line2d_12\">\n      <g>\n       <use xlink:href=\"#m2ce62a37f4\" x=\"46.965625\" y=\"107.949025\" style=\"stroke: #000000; stroke-width: 0.8\"/>\n      </g>\n     </g>\n     <g id=\"text_13\">\n      <!-- 300 -->\n      <g transform=\"translate(20.878125 111.748243)scale(0.1 -0.1)\">\n       <defs>\n        <path id=\"DejaVuSans-33\" d=\"M 2597 2516 \nQ 3050 2419 3304 2112 \nQ 3559 1806 3559 1356 \nQ 3559 666 3084 287 \nQ 2609 -91 1734 -91 \nQ 1441 -91 1130 -33 \nQ 819 25 488 141 \nL 488 750 \nQ 750 597 1062 519 \nQ 1375 441 1716 441 \nQ 2309 441 2620 675 \nQ 2931 909 2931 1356 \nQ 2931 1769 2642 2001 \nQ 2353 2234 1838 2234 \nL 1294 2234 \nL 1294 2753 \nL 1863 2753 \nQ 2328 2753 2575 2939 \nQ 2822 3125 2822 3475 \nQ 2822 3834 2567 4026 \nQ 2313 4219 1838 4219 \nQ 1578 4219 1281 4162 \nQ 984 4106 628 3988 \nL 628 4550 \nQ 988 4650 1302 4700 \nQ 1616 4750 1894 4750 \nQ 2613 4750 3031 4423 \nQ 3450 4097 3450 3541 \nQ 3450 3153 3228 2886 \nQ 3006 2619 2597 2516 \nz\n\" transform=\"scale(0.015625)\"/>\n       </defs>\n       <use xlink:href=\"#DejaVuSans-33\"/>\n       <use xlink:href=\"#DejaVuSans-30\" x=\"63.623047\"/>\n       <use xlink:href=\"#DejaVuSans-30\" x=\"127.246094\"/>\n      </g>\n     </g>\n    </g>\n    <g id=\"ytick_5\">\n     <g id=\"line2d_13\">\n      <g>\n       <use xlink:href=\"#m2ce62a37f4\" x=\"46.965625\" y=\"50.932033\" style=\"stroke: #000000; stroke-width: 0.8\"/>\n      </g>\n     </g>\n     <g id=\"text_14\">\n      <!-- 400 -->\n      <g transform=\"translate(20.878125 54.731251)scale(0.1 -0.1)\">\n       <use xlink:href=\"#DejaVuSans-34\"/>\n       <use xlink:href=\"#DejaVuSans-30\" x=\"63.623047\"/>\n       <use xlink:href=\"#DejaVuSans-30\" x=\"127.246094\"/>\n      </g>\n     </g>\n    </g>\n    <g id=\"text_15\">\n     <!-- Count -->\n     <g transform=\"translate(14.798437 157.948437)rotate(-90)scale(0.1 -0.1)\">\n      <defs>\n       <path id=\"DejaVuSans-43\" d=\"M 4122 4306 \nL 4122 3641 \nQ 3803 3938 3442 4084 \nQ 3081 4231 2675 4231 \nQ 1875 4231 1450 3742 \nQ 1025 3253 1025 2328 \nQ 1025 1406 1450 917 \nQ 1875 428 2675 428 \nQ 3081 428 3442 575 \nQ 3803 722 4122 1019 \nL 4122 359 \nQ 3791 134 3420 21 \nQ 3050 -91 2638 -91 \nQ 1578 -91 968 557 \nQ 359 1206 359 2328 \nQ 359 3453 968 4101 \nQ 1578 4750 2638 4750 \nQ 3056 4750 3426 4639 \nQ 3797 4528 4122 4306 \nz\n\" transform=\"scale(0.015625)\"/>\n       <path id=\"DejaVuSans-6f\" d=\"M 1959 3097 \nQ 1497 3097 1228 2736 \nQ 959 2375 959 1747 \nQ 959 1119 1226 758 \nQ 1494 397 1959 397 \nQ 2419 397 2687 759 \nQ 2956 1122 2956 1747 \nQ 2956 2369 2687 2733 \nQ 2419 3097 1959 3097 \nz\nM 1959 3584 \nQ 2709 3584 3137 3096 \nQ 3566 2609 3566 1747 \nQ 3566 888 3137 398 \nQ 2709 -91 1959 -91 \nQ 1206 -91 779 398 \nQ 353 888 353 1747 \nQ 353 2609 779 3096 \nQ 1206 3584 1959 3584 \nz\n\" transform=\"scale(0.015625)\"/>\n       <path id=\"DejaVuSans-75\" d=\"M 544 1381 \nL 544 3500 \nL 1119 3500 \nL 1119 1403 \nQ 1119 906 1312 657 \nQ 1506 409 1894 409 \nQ 2359 409 2629 706 \nQ 2900 1003 2900 1516 \nL 2900 3500 \nL 3475 3500 \nL 3475 0 \nL 2900 0 \nL 2900 538 \nQ 2691 219 2414 64 \nQ 2138 -91 1772 -91 \nQ 1169 -91 856 284 \nQ 544 659 544 1381 \nz\nM 1991 3584 \nL 1991 3584 \nz\n\" transform=\"scale(0.015625)\"/>\n       <path id=\"DejaVuSans-6e\" d=\"M 3513 2113 \nL 3513 0 \nL 2938 0 \nL 2938 2094 \nQ 2938 2591 2744 2837 \nQ 2550 3084 2163 3084 \nQ 1697 3084 1428 2787 \nQ 1159 2491 1159 1978 \nL 1159 0 \nL 581 0 \nL 581 3500 \nL 1159 3500 \nL 1159 2956 \nQ 1366 3272 1645 3428 \nQ 1925 3584 2291 3584 \nQ 2894 3584 3203 3211 \nQ 3513 2838 3513 2113 \nz\n\" transform=\"scale(0.015625)\"/>\n       <path id=\"DejaVuSans-74\" d=\"M 1172 4494 \nL 1172 3500 \nL 2356 3500 \nL 2356 3053 \nL 1172 3053 \nL 1172 1153 \nQ 1172 725 1289 603 \nQ 1406 481 1766 481 \nL 2356 481 \nL 2356 0 \nL 1766 0 \nQ 1100 0 847 248 \nQ 594 497 594 1153 \nL 594 3053 \nL 172 3053 \nL 172 3500 \nL 594 3500 \nL 594 4494 \nL 1172 4494 \nz\n\" transform=\"scale(0.015625)\"/>\n      </defs>\n      <use xlink:href=\"#DejaVuSans-43\"/>\n      <use xlink:href=\"#DejaVuSans-6f\" x=\"69.824219\"/>\n      <use xlink:href=\"#DejaVuSans-75\" x=\"131.005859\"/>\n      <use xlink:href=\"#DejaVuSans-6e\" x=\"194.384766\"/>\n      <use xlink:href=\"#DejaVuSans-74\" x=\"257.763672\"/>\n     </g>\n    </g>\n   </g>\n   <g id=\"patch_73\">\n    <path d=\"M 46.965625 279 \nL 46.965625 7.2 \n\" style=\"fill: none; stroke: #000000; stroke-width: 0.8; stroke-linejoin: miter; stroke-linecap: square\"/>\n   </g>\n   <g id=\"patch_74\">\n    <path d=\"M 604.965625 279 \nL 604.965625 7.2 \n\" style=\"fill: none; stroke: #000000; stroke-width: 0.8; stroke-linejoin: miter; stroke-linecap: square\"/>\n   </g>\n   <g id=\"patch_75\">\n    <path d=\"M 46.965625 279 \nL 604.965625 279 \n\" style=\"fill: none; stroke: #000000; stroke-width: 0.8; stroke-linejoin: miter; stroke-linecap: square\"/>\n   </g>\n   <g id=\"patch_76\">\n    <path d=\"M 46.965625 7.2 \nL 604.965625 7.2 \n\" style=\"fill: none; stroke: #000000; stroke-width: 0.8; stroke-linejoin: miter; stroke-linecap: square\"/>\n   </g>\n   <g id=\"legend_1\">\n    <g id=\"patch_77\">\n     <path d=\"M 412.178125 117.946875 \nL 597.965625 117.946875 \nQ 599.965625 117.946875 599.965625 115.946875 \nL 599.965625 14.2 \nQ 599.965625 12.2 597.965625 12.2 \nL 412.178125 12.2 \nQ 410.178125 12.2 410.178125 14.2 \nL 410.178125 115.946875 \nQ 410.178125 117.946875 412.178125 117.946875 \nz\n\" style=\"fill: #ffffff; opacity: 0.8; stroke: #cccccc; stroke-linejoin: miter\"/>\n    </g>\n    <g id=\"patch_78\">\n     <path d=\"M 414.178125 23.798438 \nL 434.178125 23.798438 \nL 434.178125 16.798438 \nL 414.178125 16.798438 \nz\n\" style=\"fill: #1f77b4; opacity: 0.5\"/>\n    </g>\n    <g id=\"text_16\">\n     <!-- Baroque -->\n     <g transform=\"translate(442.178125 23.798438)scale(0.1 -0.1)\">\n      <defs>\n       <path id=\"DejaVuSans-42\" d=\"M 1259 2228 \nL 1259 519 \nL 2272 519 \nQ 2781 519 3026 730 \nQ 3272 941 3272 1375 \nQ 3272 1813 3026 2020 \nQ 2781 2228 2272 2228 \nL 1259 2228 \nz\nM 1259 4147 \nL 1259 2741 \nL 2194 2741 \nQ 2656 2741 2882 2914 \nQ 3109 3088 3109 3444 \nQ 3109 3797 2882 3972 \nQ 2656 4147 2194 4147 \nL 1259 4147 \nz\nM 628 4666 \nL 2241 4666 \nQ 2963 4666 3353 4366 \nQ 3744 4066 3744 3513 \nQ 3744 3084 3544 2831 \nQ 3344 2578 2956 2516 \nQ 3422 2416 3680 2098 \nQ 3938 1781 3938 1306 \nQ 3938 681 3513 340 \nQ 3088 0 2303 0 \nL 628 0 \nL 628 4666 \nz\n\" transform=\"scale(0.015625)\"/>\n       <path id=\"DejaVuSans-71\" d=\"M 947 1747 \nQ 947 1113 1208 752 \nQ 1469 391 1925 391 \nQ 2381 391 2643 752 \nQ 2906 1113 2906 1747 \nQ 2906 2381 2643 2742 \nQ 2381 3103 1925 3103 \nQ 1469 3103 1208 2742 \nQ 947 2381 947 1747 \nz\nM 2906 525 \nQ 2725 213 2448 61 \nQ 2172 -91 1784 -91 \nQ 1150 -91 751 415 \nQ 353 922 353 1747 \nQ 353 2572 751 3078 \nQ 1150 3584 1784 3584 \nQ 2172 3584 2448 3432 \nQ 2725 3281 2906 2969 \nL 2906 3500 \nL 3481 3500 \nL 3481 -1331 \nL 2906 -1331 \nL 2906 525 \nz\n\" transform=\"scale(0.015625)\"/>\n      </defs>\n      <use xlink:href=\"#DejaVuSans-42\"/>\n      <use xlink:href=\"#DejaVuSans-61\" x=\"68.603516\"/>\n      <use xlink:href=\"#DejaVuSans-72\" x=\"129.882812\"/>\n      <use xlink:href=\"#DejaVuSans-6f\" x=\"168.746094\"/>\n      <use xlink:href=\"#DejaVuSans-71\" x=\"229.927734\"/>\n      <use xlink:href=\"#DejaVuSans-75\" x=\"293.404297\"/>\n      <use xlink:href=\"#DejaVuSans-65\" x=\"356.783203\"/>\n     </g>\n    </g>\n    <g id=\"patch_79\">\n     <path d=\"M 414.178125 38.476563 \nL 434.178125 38.476563 \nL 434.178125 31.476563 \nL 414.178125 31.476563 \nz\n\" style=\"fill: #ff7f0e; opacity: 0.5\"/>\n    </g>\n    <g id=\"text_17\">\n     <!-- High Renaissance -->\n     <g transform=\"translate(442.178125 38.476563)scale(0.1 -0.1)\">\n      <defs>\n       <path id=\"DejaVuSans-48\" d=\"M 628 4666 \nL 1259 4666 \nL 1259 2753 \nL 3553 2753 \nL 3553 4666 \nL 4184 4666 \nL 4184 0 \nL 3553 0 \nL 3553 2222 \nL 1259 2222 \nL 1259 0 \nL 628 0 \nL 628 4666 \nz\n\" transform=\"scale(0.015625)\"/>\n       <path id=\"DejaVuSans-69\" d=\"M 603 3500 \nL 1178 3500 \nL 1178 0 \nL 603 0 \nL 603 3500 \nz\nM 603 4863 \nL 1178 4863 \nL 1178 4134 \nL 603 4134 \nL 603 4863 \nz\n\" transform=\"scale(0.015625)\"/>\n       <path id=\"DejaVuSans-67\" d=\"M 2906 1791 \nQ 2906 2416 2648 2759 \nQ 2391 3103 1925 3103 \nQ 1463 3103 1205 2759 \nQ 947 2416 947 1791 \nQ 947 1169 1205 825 \nQ 1463 481 1925 481 \nQ 2391 481 2648 825 \nQ 2906 1169 2906 1791 \nz\nM 3481 434 \nQ 3481 -459 3084 -895 \nQ 2688 -1331 1869 -1331 \nQ 1566 -1331 1297 -1286 \nQ 1028 -1241 775 -1147 \nL 775 -588 \nQ 1028 -725 1275 -790 \nQ 1522 -856 1778 -856 \nQ 2344 -856 2625 -561 \nQ 2906 -266 2906 331 \nL 2906 616 \nQ 2728 306 2450 153 \nQ 2172 0 1784 0 \nQ 1141 0 747 490 \nQ 353 981 353 1791 \nQ 353 2603 747 3093 \nQ 1141 3584 1784 3584 \nQ 2172 3584 2450 3431 \nQ 2728 3278 2906 2969 \nL 2906 3500 \nL 3481 3500 \nL 3481 434 \nz\n\" transform=\"scale(0.015625)\"/>\n       <path id=\"DejaVuSans-68\" d=\"M 3513 2113 \nL 3513 0 \nL 2938 0 \nL 2938 2094 \nQ 2938 2591 2744 2837 \nQ 2550 3084 2163 3084 \nQ 1697 3084 1428 2787 \nQ 1159 2491 1159 1978 \nL 1159 0 \nL 581 0 \nL 581 4863 \nL 1159 4863 \nL 1159 2956 \nQ 1366 3272 1645 3428 \nQ 1925 3584 2291 3584 \nQ 2894 3584 3203 3211 \nQ 3513 2838 3513 2113 \nz\n\" transform=\"scale(0.015625)\"/>\n       <path id=\"DejaVuSans-20\" transform=\"scale(0.015625)\"/>\n       <path id=\"DejaVuSans-52\" d=\"M 2841 2188 \nQ 3044 2119 3236 1894 \nQ 3428 1669 3622 1275 \nL 4263 0 \nL 3584 0 \nL 2988 1197 \nQ 2756 1666 2539 1819 \nQ 2322 1972 1947 1972 \nL 1259 1972 \nL 1259 0 \nL 628 0 \nL 628 4666 \nL 2053 4666 \nQ 2853 4666 3247 4331 \nQ 3641 3997 3641 3322 \nQ 3641 2881 3436 2590 \nQ 3231 2300 2841 2188 \nz\nM 1259 4147 \nL 1259 2491 \nL 2053 2491 \nQ 2509 2491 2742 2702 \nQ 2975 2913 2975 3322 \nQ 2975 3731 2742 3939 \nQ 2509 4147 2053 4147 \nL 1259 4147 \nz\n\" transform=\"scale(0.015625)\"/>\n       <path id=\"DejaVuSans-73\" d=\"M 2834 3397 \nL 2834 2853 \nQ 2591 2978 2328 3040 \nQ 2066 3103 1784 3103 \nQ 1356 3103 1142 2972 \nQ 928 2841 928 2578 \nQ 928 2378 1081 2264 \nQ 1234 2150 1697 2047 \nL 1894 2003 \nQ 2506 1872 2764 1633 \nQ 3022 1394 3022 966 \nQ 3022 478 2636 193 \nQ 2250 -91 1575 -91 \nQ 1294 -91 989 -36 \nQ 684 19 347 128 \nL 347 722 \nQ 666 556 975 473 \nQ 1284 391 1588 391 \nQ 1994 391 2212 530 \nQ 2431 669 2431 922 \nQ 2431 1156 2273 1281 \nQ 2116 1406 1581 1522 \nL 1381 1569 \nQ 847 1681 609 1914 \nQ 372 2147 372 2553 \nQ 372 3047 722 3315 \nQ 1072 3584 1716 3584 \nQ 2034 3584 2315 3537 \nQ 2597 3491 2834 3397 \nz\n\" transform=\"scale(0.015625)\"/>\n       <path id=\"DejaVuSans-63\" d=\"M 3122 3366 \nL 3122 2828 \nQ 2878 2963 2633 3030 \nQ 2388 3097 2138 3097 \nQ 1578 3097 1268 2742 \nQ 959 2388 959 1747 \nQ 959 1106 1268 751 \nQ 1578 397 2138 397 \nQ 2388 397 2633 464 \nQ 2878 531 3122 666 \nL 3122 134 \nQ 2881 22 2623 -34 \nQ 2366 -91 2075 -91 \nQ 1284 -91 818 406 \nQ 353 903 353 1747 \nQ 353 2603 823 3093 \nQ 1294 3584 2113 3584 \nQ 2378 3584 2631 3529 \nQ 2884 3475 3122 3366 \nz\n\" transform=\"scale(0.015625)\"/>\n      </defs>\n      <use xlink:href=\"#DejaVuSans-48\"/>\n      <use xlink:href=\"#DejaVuSans-69\" x=\"75.195312\"/>\n      <use xlink:href=\"#DejaVuSans-67\" x=\"102.978516\"/>\n      <use xlink:href=\"#DejaVuSans-68\" x=\"166.455078\"/>\n      <use xlink:href=\"#DejaVuSans-20\" x=\"229.833984\"/>\n      <use xlink:href=\"#DejaVuSans-52\" x=\"261.621094\"/>\n      <use xlink:href=\"#DejaVuSans-65\" x=\"326.603516\"/>\n      <use xlink:href=\"#DejaVuSans-6e\" x=\"388.126953\"/>\n      <use xlink:href=\"#DejaVuSans-61\" x=\"451.505859\"/>\n      <use xlink:href=\"#DejaVuSans-69\" x=\"512.785156\"/>\n      <use xlink:href=\"#DejaVuSans-73\" x=\"540.568359\"/>\n      <use xlink:href=\"#DejaVuSans-73\" x=\"592.667969\"/>\n      <use xlink:href=\"#DejaVuSans-61\" x=\"644.767578\"/>\n      <use xlink:href=\"#DejaVuSans-6e\" x=\"706.046875\"/>\n      <use xlink:href=\"#DejaVuSans-63\" x=\"769.425781\"/>\n      <use xlink:href=\"#DejaVuSans-65\" x=\"824.40625\"/>\n     </g>\n    </g>\n    <g id=\"patch_80\">\n     <path d=\"M 414.178125 53.154688 \nL 434.178125 53.154688 \nL 434.178125 46.154688 \nL 414.178125 46.154688 \nz\n\" style=\"fill: #2ca02c; opacity: 0.5\"/>\n    </g>\n    <g id=\"text_18\">\n     <!-- Mannerism (Late Renaissance) -->\n     <g transform=\"translate(442.178125 53.154688)scale(0.1 -0.1)\">\n      <defs>\n       <path id=\"DejaVuSans-4d\" d=\"M 628 4666 \nL 1569 4666 \nL 2759 1491 \nL 3956 4666 \nL 4897 4666 \nL 4897 0 \nL 4281 0 \nL 4281 4097 \nL 3078 897 \nL 2444 897 \nL 1241 4097 \nL 1241 0 \nL 628 0 \nL 628 4666 \nz\n\" transform=\"scale(0.015625)\"/>\n       <path id=\"DejaVuSans-6d\" d=\"M 3328 2828 \nQ 3544 3216 3844 3400 \nQ 4144 3584 4550 3584 \nQ 5097 3584 5394 3201 \nQ 5691 2819 5691 2113 \nL 5691 0 \nL 5113 0 \nL 5113 2094 \nQ 5113 2597 4934 2840 \nQ 4756 3084 4391 3084 \nQ 3944 3084 3684 2787 \nQ 3425 2491 3425 1978 \nL 3425 0 \nL 2847 0 \nL 2847 2094 \nQ 2847 2600 2669 2842 \nQ 2491 3084 2119 3084 \nQ 1678 3084 1418 2786 \nQ 1159 2488 1159 1978 \nL 1159 0 \nL 581 0 \nL 581 3500 \nL 1159 3500 \nL 1159 2956 \nQ 1356 3278 1631 3431 \nQ 1906 3584 2284 3584 \nQ 2666 3584 2933 3390 \nQ 3200 3197 3328 2828 \nz\n\" transform=\"scale(0.015625)\"/>\n       <path id=\"DejaVuSans-28\" d=\"M 1984 4856 \nQ 1566 4138 1362 3434 \nQ 1159 2731 1159 2009 \nQ 1159 1288 1364 580 \nQ 1569 -128 1984 -844 \nL 1484 -844 \nQ 1016 -109 783 600 \nQ 550 1309 550 2009 \nQ 550 2706 781 3412 \nQ 1013 4119 1484 4856 \nL 1984 4856 \nz\n\" transform=\"scale(0.015625)\"/>\n       <path id=\"DejaVuSans-4c\" d=\"M 628 4666 \nL 1259 4666 \nL 1259 531 \nL 3531 531 \nL 3531 0 \nL 628 0 \nL 628 4666 \nz\n\" transform=\"scale(0.015625)\"/>\n       <path id=\"DejaVuSans-29\" d=\"M 513 4856 \nL 1013 4856 \nQ 1481 4119 1714 3412 \nQ 1947 2706 1947 2009 \nQ 1947 1309 1714 600 \nQ 1481 -109 1013 -844 \nL 513 -844 \nQ 928 -128 1133 580 \nQ 1338 1288 1338 2009 \nQ 1338 2731 1133 3434 \nQ 928 4138 513 4856 \nz\n\" transform=\"scale(0.015625)\"/>\n      </defs>\n      <use xlink:href=\"#DejaVuSans-4d\"/>\n      <use xlink:href=\"#DejaVuSans-61\" x=\"86.279297\"/>\n      <use xlink:href=\"#DejaVuSans-6e\" x=\"147.558594\"/>\n      <use xlink:href=\"#DejaVuSans-6e\" x=\"210.9375\"/>\n      <use xlink:href=\"#DejaVuSans-65\" x=\"274.316406\"/>\n      <use xlink:href=\"#DejaVuSans-72\" x=\"335.839844\"/>\n      <use xlink:href=\"#DejaVuSans-69\" x=\"376.953125\"/>\n      <use xlink:href=\"#DejaVuSans-73\" x=\"404.736328\"/>\n      <use xlink:href=\"#DejaVuSans-6d\" x=\"456.835938\"/>\n      <use xlink:href=\"#DejaVuSans-20\" x=\"554.248047\"/>\n      <use xlink:href=\"#DejaVuSans-28\" x=\"586.035156\"/>\n      <use xlink:href=\"#DejaVuSans-4c\" x=\"625.048828\"/>\n      <use xlink:href=\"#DejaVuSans-61\" x=\"680.761719\"/>\n      <use xlink:href=\"#DejaVuSans-74\" x=\"742.041016\"/>\n      <use xlink:href=\"#DejaVuSans-65\" x=\"781.25\"/>\n      <use xlink:href=\"#DejaVuSans-20\" x=\"842.773438\"/>\n      <use xlink:href=\"#DejaVuSans-52\" x=\"874.560547\"/>\n      <use xlink:href=\"#DejaVuSans-65\" x=\"939.542969\"/>\n      <use xlink:href=\"#DejaVuSans-6e\" x=\"1001.066406\"/>\n      <use xlink:href=\"#DejaVuSans-61\" x=\"1064.445312\"/>\n      <use xlink:href=\"#DejaVuSans-69\" x=\"1125.724609\"/>\n      <use xlink:href=\"#DejaVuSans-73\" x=\"1153.507812\"/>\n      <use xlink:href=\"#DejaVuSans-73\" x=\"1205.607422\"/>\n      <use xlink:href=\"#DejaVuSans-61\" x=\"1257.707031\"/>\n      <use xlink:href=\"#DejaVuSans-6e\" x=\"1318.986328\"/>\n      <use xlink:href=\"#DejaVuSans-63\" x=\"1382.365234\"/>\n      <use xlink:href=\"#DejaVuSans-65\" x=\"1437.345703\"/>\n      <use xlink:href=\"#DejaVuSans-29\" x=\"1498.869141\"/>\n     </g>\n    </g>\n    <g id=\"patch_81\">\n     <path d=\"M 414.178125 67.832813 \nL 434.178125 67.832813 \nL 434.178125 60.832813 \nL 414.178125 60.832813 \nz\n\" style=\"fill: #d62728; opacity: 0.5\"/>\n    </g>\n    <g id=\"text_19\">\n     <!-- Neoclassicism -->\n     <g transform=\"translate(442.178125 67.832813)scale(0.1 -0.1)\">\n      <defs>\n       <path id=\"DejaVuSans-4e\" d=\"M 628 4666 \nL 1478 4666 \nL 3547 763 \nL 3547 4666 \nL 4159 4666 \nL 4159 0 \nL 3309 0 \nL 1241 3903 \nL 1241 0 \nL 628 0 \nL 628 4666 \nz\n\" transform=\"scale(0.015625)\"/>\n       <path id=\"DejaVuSans-6c\" d=\"M 603 4863 \nL 1178 4863 \nL 1178 0 \nL 603 0 \nL 603 4863 \nz\n\" transform=\"scale(0.015625)\"/>\n      </defs>\n      <use xlink:href=\"#DejaVuSans-4e\"/>\n      <use xlink:href=\"#DejaVuSans-65\" x=\"74.804688\"/>\n      <use xlink:href=\"#DejaVuSans-6f\" x=\"136.328125\"/>\n      <use xlink:href=\"#DejaVuSans-63\" x=\"197.509766\"/>\n      <use xlink:href=\"#DejaVuSans-6c\" x=\"252.490234\"/>\n      <use xlink:href=\"#DejaVuSans-61\" x=\"280.273438\"/>\n      <use xlink:href=\"#DejaVuSans-73\" x=\"341.552734\"/>\n      <use xlink:href=\"#DejaVuSans-73\" x=\"393.652344\"/>\n      <use xlink:href=\"#DejaVuSans-69\" x=\"445.751953\"/>\n      <use xlink:href=\"#DejaVuSans-63\" x=\"473.535156\"/>\n      <use xlink:href=\"#DejaVuSans-69\" x=\"528.515625\"/>\n      <use xlink:href=\"#DejaVuSans-73\" x=\"556.298828\"/>\n      <use xlink:href=\"#DejaVuSans-6d\" x=\"608.398438\"/>\n     </g>\n    </g>\n    <g id=\"patch_82\">\n     <path d=\"M 414.178125 82.510938 \nL 434.178125 82.510938 \nL 434.178125 75.510938 \nL 414.178125 75.510938 \nz\n\" style=\"fill: #9467bd; opacity: 0.5\"/>\n    </g>\n    <g id=\"text_20\">\n     <!-- Northern Renaissance -->\n     <g transform=\"translate(442.178125 82.510938)scale(0.1 -0.1)\">\n      <use xlink:href=\"#DejaVuSans-4e\"/>\n      <use xlink:href=\"#DejaVuSans-6f\" x=\"74.804688\"/>\n      <use xlink:href=\"#DejaVuSans-72\" x=\"135.986328\"/>\n      <use xlink:href=\"#DejaVuSans-74\" x=\"177.099609\"/>\n      <use xlink:href=\"#DejaVuSans-68\" x=\"216.308594\"/>\n      <use xlink:href=\"#DejaVuSans-65\" x=\"279.6875\"/>\n      <use xlink:href=\"#DejaVuSans-72\" x=\"341.210938\"/>\n      <use xlink:href=\"#DejaVuSans-6e\" x=\"380.574219\"/>\n      <use xlink:href=\"#DejaVuSans-20\" x=\"443.953125\"/>\n      <use xlink:href=\"#DejaVuSans-52\" x=\"475.740234\"/>\n      <use xlink:href=\"#DejaVuSans-65\" x=\"540.722656\"/>\n      <use xlink:href=\"#DejaVuSans-6e\" x=\"602.246094\"/>\n      <use xlink:href=\"#DejaVuSans-61\" x=\"665.625\"/>\n      <use xlink:href=\"#DejaVuSans-69\" x=\"726.904297\"/>\n      <use xlink:href=\"#DejaVuSans-73\" x=\"754.6875\"/>\n      <use xlink:href=\"#DejaVuSans-73\" x=\"806.787109\"/>\n      <use xlink:href=\"#DejaVuSans-61\" x=\"858.886719\"/>\n      <use xlink:href=\"#DejaVuSans-6e\" x=\"920.166016\"/>\n      <use xlink:href=\"#DejaVuSans-63\" x=\"983.544922\"/>\n      <use xlink:href=\"#DejaVuSans-65\" x=\"1038.525391\"/>\n     </g>\n    </g>\n    <g id=\"patch_83\">\n     <path d=\"M 414.178125 97.189063 \nL 434.178125 97.189063 \nL 434.178125 90.189063 \nL 414.178125 90.189063 \nz\n\" style=\"fill: #8c564b; opacity: 0.5\"/>\n    </g>\n    <g id=\"text_21\">\n     <!-- Rococo -->\n     <g transform=\"translate(442.178125 97.189063)scale(0.1 -0.1)\">\n      <use xlink:href=\"#DejaVuSans-52\"/>\n      <use xlink:href=\"#DejaVuSans-6f\" x=\"64.982422\"/>\n      <use xlink:href=\"#DejaVuSans-63\" x=\"126.164062\"/>\n      <use xlink:href=\"#DejaVuSans-6f\" x=\"181.144531\"/>\n      <use xlink:href=\"#DejaVuSans-63\" x=\"242.326172\"/>\n      <use xlink:href=\"#DejaVuSans-6f\" x=\"297.306641\"/>\n     </g>\n    </g>\n    <g id=\"patch_84\">\n     <path d=\"M 414.178125 111.867188 \nL 434.178125 111.867188 \nL 434.178125 104.867188 \nL 414.178125 104.867188 \nz\n\" style=\"fill: #e377c2; opacity: 0.5\"/>\n    </g>\n    <g id=\"text_22\">\n     <!-- Romanticism -->\n     <g transform=\"translate(442.178125 111.867188)scale(0.1 -0.1)\">\n      <use xlink:href=\"#DejaVuSans-52\"/>\n      <use xlink:href=\"#DejaVuSans-6f\" x=\"64.982422\"/>\n      <use xlink:href=\"#DejaVuSans-6d\" x=\"126.164062\"/>\n      <use xlink:href=\"#DejaVuSans-61\" x=\"223.576172\"/>\n      <use xlink:href=\"#DejaVuSans-6e\" x=\"284.855469\"/>\n      <use xlink:href=\"#DejaVuSans-74\" x=\"348.234375\"/>\n      <use xlink:href=\"#DejaVuSans-69\" x=\"387.443359\"/>\n      <use xlink:href=\"#DejaVuSans-63\" x=\"415.226562\"/>\n      <use xlink:href=\"#DejaVuSans-69\" x=\"470.207031\"/>\n      <use xlink:href=\"#DejaVuSans-73\" x=\"497.990234\"/>\n      <use xlink:href=\"#DejaVuSans-6d\" x=\"550.089844\"/>\n     </g>\n    </g>\n   </g>\n  </g>\n </g>\n <defs>\n  <clipPath id=\"pe18aea6426\">\n   <rect x=\"46.965625\" y=\"7.2\" width=\"558\" height=\"271.8\"/>\n  </clipPath>\n </defs>\n</svg>\n",
      "text/plain": [
       "<Figure size 720x360 with 1 Axes>"
      ]
     },
     "metadata": {
      "needs_background": "light"
     },
     "output_type": "display_data"
    }
   ],
   "source": [
    "plt.figure(figsize=(10,5))\n",
    "plt.hist(portrait_info[portrait_info[\"style\"]==\"Baroque\"].date, alpha=0.5)\n",
    "plt.hist(portrait_info[portrait_info[\"style\"]==\"High Renaissance\"].date,alpha=0.5)\n",
    "plt.hist(portrait_info[portrait_info[\"style\"]==\"Mannerism (Late Renaissance)\"].date, alpha=0.5)\n",
    "plt.hist(portrait_info[portrait_info[\"style\"]==\"Neoclassicism\"].date, alpha=0.5)\n",
    "plt.hist(portrait_info[portrait_info[\"style\"]==\"Northern Renaissance\"].date, alpha=0.5)\n",
    "plt.hist(portrait_info[portrait_info[\"style\"]==\"Rococo\"].date, alpha=0.5)\n",
    "plt.hist(portrait_info[portrait_info[\"style\"]==\"Romanticism\"].date, alpha=0.5)\n",
    "plt.legend(['Baroque', 'High Renaissance', 'Mannerism (Late Renaissance)','Neoclassicism', 'Northern Renaissance', 'Rococo', 'Romanticism'])\n",
    "plt.xlabel('Year')\n",
    "plt.ylabel('Count')\n",
    "plt.savefig('styledate1.png')\n",
    "plt.show()"
   ]
  },
  {
   "cell_type": "markdown",
   "metadata": {},
   "source": [
    "### Portraits Containing dogs"
   ]
  },
  {
   "cell_type": "code",
   "execution_count": 81,
   "metadata": {},
   "outputs": [],
   "source": [
    "with open('../data/files_containing_dogs_filtered.txt', 'r') as file_in:\n",
    "    painting_list = []\n",
    "    for line in file_in:\n",
    "        painting_list.append(line[:-1])"
   ]
  },
  {
   "cell_type": "markdown",
   "metadata": {},
   "source": [
    "#### Styles Distribution"
   ]
  },
  {
   "cell_type": "code",
   "execution_count": 111,
   "metadata": {},
   "outputs": [
    {
     "data": {
      "application/vnd.plotly.v1+json": {
       "config": {
        "plotlyServerURL": "https://plot.ly"
       },
       "data": [
        {
         "branchvalues": "total",
         "domain": {
          "x": [
           0,
           1
          ],
          "y": [
           0,
           1
          ]
         },
         "hovertemplate": "labels=%{label}<br>artist=%{value}<br>parent=%{parent}<br>id=%{id}<extra></extra>",
         "ids": [
          "Baroque",
          "High Renaissance",
          "Mannerism (Late Renaissance)",
          "Neoclassicism",
          "Northern Renaissance",
          "Rococo",
          "Romanticism"
         ],
         "labels": [
          "Baroque",
          "High Renaissance",
          "Mannerism (Late Renaissance)",
          "Neoclassicism",
          "Northern Renaissance",
          "Rococo",
          "Romanticism"
         ],
         "name": "",
         "parents": [
          "",
          "",
          "",
          "",
          "",
          "",
          ""
         ],
         "type": "treemap",
         "values": [
          20,
          3,
          10,
          6,
          4,
          52,
          8
         ]
        }
       ],
       "layout": {
        "font": {
         "color": "RebeccaPurple",
         "family": "Courier New, monospace",
         "size": 100
        },
        "height": 800,
        "legend": {
         "tracegroupgap": 0
        },
        "margin": {
         "t": 60
        },
        "template": {
         "data": {
          "bar": [
           {
            "error_x": {
             "color": "#2a3f5f"
            },
            "error_y": {
             "color": "#2a3f5f"
            },
            "marker": {
             "line": {
              "color": "#E5ECF6",
              "width": 0.5
             },
             "pattern": {
              "fillmode": "overlay",
              "size": 10,
              "solidity": 0.2
             }
            },
            "type": "bar"
           }
          ],
          "barpolar": [
           {
            "marker": {
             "line": {
              "color": "#E5ECF6",
              "width": 0.5
             },
             "pattern": {
              "fillmode": "overlay",
              "size": 10,
              "solidity": 0.2
             }
            },
            "type": "barpolar"
           }
          ],
          "carpet": [
           {
            "aaxis": {
             "endlinecolor": "#2a3f5f",
             "gridcolor": "white",
             "linecolor": "white",
             "minorgridcolor": "white",
             "startlinecolor": "#2a3f5f"
            },
            "baxis": {
             "endlinecolor": "#2a3f5f",
             "gridcolor": "white",
             "linecolor": "white",
             "minorgridcolor": "white",
             "startlinecolor": "#2a3f5f"
            },
            "type": "carpet"
           }
          ],
          "choropleth": [
           {
            "colorbar": {
             "outlinewidth": 0,
             "ticks": ""
            },
            "type": "choropleth"
           }
          ],
          "contour": [
           {
            "colorbar": {
             "outlinewidth": 0,
             "ticks": ""
            },
            "colorscale": [
             [
              0,
              "#0d0887"
             ],
             [
              0.1111111111111111,
              "#46039f"
             ],
             [
              0.2222222222222222,
              "#7201a8"
             ],
             [
              0.3333333333333333,
              "#9c179e"
             ],
             [
              0.4444444444444444,
              "#bd3786"
             ],
             [
              0.5555555555555556,
              "#d8576b"
             ],
             [
              0.6666666666666666,
              "#ed7953"
             ],
             [
              0.7777777777777778,
              "#fb9f3a"
             ],
             [
              0.8888888888888888,
              "#fdca26"
             ],
             [
              1,
              "#f0f921"
             ]
            ],
            "type": "contour"
           }
          ],
          "contourcarpet": [
           {
            "colorbar": {
             "outlinewidth": 0,
             "ticks": ""
            },
            "type": "contourcarpet"
           }
          ],
          "heatmap": [
           {
            "colorbar": {
             "outlinewidth": 0,
             "ticks": ""
            },
            "colorscale": [
             [
              0,
              "#0d0887"
             ],
             [
              0.1111111111111111,
              "#46039f"
             ],
             [
              0.2222222222222222,
              "#7201a8"
             ],
             [
              0.3333333333333333,
              "#9c179e"
             ],
             [
              0.4444444444444444,
              "#bd3786"
             ],
             [
              0.5555555555555556,
              "#d8576b"
             ],
             [
              0.6666666666666666,
              "#ed7953"
             ],
             [
              0.7777777777777778,
              "#fb9f3a"
             ],
             [
              0.8888888888888888,
              "#fdca26"
             ],
             [
              1,
              "#f0f921"
             ]
            ],
            "type": "heatmap"
           }
          ],
          "heatmapgl": [
           {
            "colorbar": {
             "outlinewidth": 0,
             "ticks": ""
            },
            "colorscale": [
             [
              0,
              "#0d0887"
             ],
             [
              0.1111111111111111,
              "#46039f"
             ],
             [
              0.2222222222222222,
              "#7201a8"
             ],
             [
              0.3333333333333333,
              "#9c179e"
             ],
             [
              0.4444444444444444,
              "#bd3786"
             ],
             [
              0.5555555555555556,
              "#d8576b"
             ],
             [
              0.6666666666666666,
              "#ed7953"
             ],
             [
              0.7777777777777778,
              "#fb9f3a"
             ],
             [
              0.8888888888888888,
              "#fdca26"
             ],
             [
              1,
              "#f0f921"
             ]
            ],
            "type": "heatmapgl"
           }
          ],
          "histogram": [
           {
            "marker": {
             "pattern": {
              "fillmode": "overlay",
              "size": 10,
              "solidity": 0.2
             }
            },
            "type": "histogram"
           }
          ],
          "histogram2d": [
           {
            "colorbar": {
             "outlinewidth": 0,
             "ticks": ""
            },
            "colorscale": [
             [
              0,
              "#0d0887"
             ],
             [
              0.1111111111111111,
              "#46039f"
             ],
             [
              0.2222222222222222,
              "#7201a8"
             ],
             [
              0.3333333333333333,
              "#9c179e"
             ],
             [
              0.4444444444444444,
              "#bd3786"
             ],
             [
              0.5555555555555556,
              "#d8576b"
             ],
             [
              0.6666666666666666,
              "#ed7953"
             ],
             [
              0.7777777777777778,
              "#fb9f3a"
             ],
             [
              0.8888888888888888,
              "#fdca26"
             ],
             [
              1,
              "#f0f921"
             ]
            ],
            "type": "histogram2d"
           }
          ],
          "histogram2dcontour": [
           {
            "colorbar": {
             "outlinewidth": 0,
             "ticks": ""
            },
            "colorscale": [
             [
              0,
              "#0d0887"
             ],
             [
              0.1111111111111111,
              "#46039f"
             ],
             [
              0.2222222222222222,
              "#7201a8"
             ],
             [
              0.3333333333333333,
              "#9c179e"
             ],
             [
              0.4444444444444444,
              "#bd3786"
             ],
             [
              0.5555555555555556,
              "#d8576b"
             ],
             [
              0.6666666666666666,
              "#ed7953"
             ],
             [
              0.7777777777777778,
              "#fb9f3a"
             ],
             [
              0.8888888888888888,
              "#fdca26"
             ],
             [
              1,
              "#f0f921"
             ]
            ],
            "type": "histogram2dcontour"
           }
          ],
          "mesh3d": [
           {
            "colorbar": {
             "outlinewidth": 0,
             "ticks": ""
            },
            "type": "mesh3d"
           }
          ],
          "parcoords": [
           {
            "line": {
             "colorbar": {
              "outlinewidth": 0,
              "ticks": ""
             }
            },
            "type": "parcoords"
           }
          ],
          "pie": [
           {
            "automargin": true,
            "type": "pie"
           }
          ],
          "scatter": [
           {
            "fillpattern": {
             "fillmode": "overlay",
             "size": 10,
             "solidity": 0.2
            },
            "type": "scatter"
           }
          ],
          "scatter3d": [
           {
            "line": {
             "colorbar": {
              "outlinewidth": 0,
              "ticks": ""
             }
            },
            "marker": {
             "colorbar": {
              "outlinewidth": 0,
              "ticks": ""
             }
            },
            "type": "scatter3d"
           }
          ],
          "scattercarpet": [
           {
            "marker": {
             "colorbar": {
              "outlinewidth": 0,
              "ticks": ""
             }
            },
            "type": "scattercarpet"
           }
          ],
          "scattergeo": [
           {
            "marker": {
             "colorbar": {
              "outlinewidth": 0,
              "ticks": ""
             }
            },
            "type": "scattergeo"
           }
          ],
          "scattergl": [
           {
            "marker": {
             "colorbar": {
              "outlinewidth": 0,
              "ticks": ""
             }
            },
            "type": "scattergl"
           }
          ],
          "scattermapbox": [
           {
            "marker": {
             "colorbar": {
              "outlinewidth": 0,
              "ticks": ""
             }
            },
            "type": "scattermapbox"
           }
          ],
          "scatterpolar": [
           {
            "marker": {
             "colorbar": {
              "outlinewidth": 0,
              "ticks": ""
             }
            },
            "type": "scatterpolar"
           }
          ],
          "scatterpolargl": [
           {
            "marker": {
             "colorbar": {
              "outlinewidth": 0,
              "ticks": ""
             }
            },
            "type": "scatterpolargl"
           }
          ],
          "scatterternary": [
           {
            "marker": {
             "colorbar": {
              "outlinewidth": 0,
              "ticks": ""
             }
            },
            "type": "scatterternary"
           }
          ],
          "surface": [
           {
            "colorbar": {
             "outlinewidth": 0,
             "ticks": ""
            },
            "colorscale": [
             [
              0,
              "#0d0887"
             ],
             [
              0.1111111111111111,
              "#46039f"
             ],
             [
              0.2222222222222222,
              "#7201a8"
             ],
             [
              0.3333333333333333,
              "#9c179e"
             ],
             [
              0.4444444444444444,
              "#bd3786"
             ],
             [
              0.5555555555555556,
              "#d8576b"
             ],
             [
              0.6666666666666666,
              "#ed7953"
             ],
             [
              0.7777777777777778,
              "#fb9f3a"
             ],
             [
              0.8888888888888888,
              "#fdca26"
             ],
             [
              1,
              "#f0f921"
             ]
            ],
            "type": "surface"
           }
          ],
          "table": [
           {
            "cells": {
             "fill": {
              "color": "#EBF0F8"
             },
             "line": {
              "color": "white"
             }
            },
            "header": {
             "fill": {
              "color": "#C8D4E3"
             },
             "line": {
              "color": "white"
             }
            },
            "type": "table"
           }
          ]
         },
         "layout": {
          "annotationdefaults": {
           "arrowcolor": "#2a3f5f",
           "arrowhead": 0,
           "arrowwidth": 1
          },
          "autotypenumbers": "strict",
          "coloraxis": {
           "colorbar": {
            "outlinewidth": 0,
            "ticks": ""
           }
          },
          "colorscale": {
           "diverging": [
            [
             0,
             "#8e0152"
            ],
            [
             0.1,
             "#c51b7d"
            ],
            [
             0.2,
             "#de77ae"
            ],
            [
             0.3,
             "#f1b6da"
            ],
            [
             0.4,
             "#fde0ef"
            ],
            [
             0.5,
             "#f7f7f7"
            ],
            [
             0.6,
             "#e6f5d0"
            ],
            [
             0.7,
             "#b8e186"
            ],
            [
             0.8,
             "#7fbc41"
            ],
            [
             0.9,
             "#4d9221"
            ],
            [
             1,
             "#276419"
            ]
           ],
           "sequential": [
            [
             0,
             "#0d0887"
            ],
            [
             0.1111111111111111,
             "#46039f"
            ],
            [
             0.2222222222222222,
             "#7201a8"
            ],
            [
             0.3333333333333333,
             "#9c179e"
            ],
            [
             0.4444444444444444,
             "#bd3786"
            ],
            [
             0.5555555555555556,
             "#d8576b"
            ],
            [
             0.6666666666666666,
             "#ed7953"
            ],
            [
             0.7777777777777778,
             "#fb9f3a"
            ],
            [
             0.8888888888888888,
             "#fdca26"
            ],
            [
             1,
             "#f0f921"
            ]
           ],
           "sequentialminus": [
            [
             0,
             "#0d0887"
            ],
            [
             0.1111111111111111,
             "#46039f"
            ],
            [
             0.2222222222222222,
             "#7201a8"
            ],
            [
             0.3333333333333333,
             "#9c179e"
            ],
            [
             0.4444444444444444,
             "#bd3786"
            ],
            [
             0.5555555555555556,
             "#d8576b"
            ],
            [
             0.6666666666666666,
             "#ed7953"
            ],
            [
             0.7777777777777778,
             "#fb9f3a"
            ],
            [
             0.8888888888888888,
             "#fdca26"
            ],
            [
             1,
             "#f0f921"
            ]
           ]
          },
          "colorway": [
           "#636efa",
           "#EF553B",
           "#00cc96",
           "#ab63fa",
           "#FFA15A",
           "#19d3f3",
           "#FF6692",
           "#B6E880",
           "#FF97FF",
           "#FECB52"
          ],
          "font": {
           "color": "#2a3f5f"
          },
          "geo": {
           "bgcolor": "white",
           "lakecolor": "white",
           "landcolor": "#E5ECF6",
           "showlakes": true,
           "showland": true,
           "subunitcolor": "white"
          },
          "hoverlabel": {
           "align": "left"
          },
          "hovermode": "closest",
          "mapbox": {
           "style": "light"
          },
          "paper_bgcolor": "white",
          "plot_bgcolor": "#E5ECF6",
          "polar": {
           "angularaxis": {
            "gridcolor": "white",
            "linecolor": "white",
            "ticks": ""
           },
           "bgcolor": "#E5ECF6",
           "radialaxis": {
            "gridcolor": "white",
            "linecolor": "white",
            "ticks": ""
           }
          },
          "scene": {
           "xaxis": {
            "backgroundcolor": "#E5ECF6",
            "gridcolor": "white",
            "gridwidth": 2,
            "linecolor": "white",
            "showbackground": true,
            "ticks": "",
            "zerolinecolor": "white"
           },
           "yaxis": {
            "backgroundcolor": "#E5ECF6",
            "gridcolor": "white",
            "gridwidth": 2,
            "linecolor": "white",
            "showbackground": true,
            "ticks": "",
            "zerolinecolor": "white"
           },
           "zaxis": {
            "backgroundcolor": "#E5ECF6",
            "gridcolor": "white",
            "gridwidth": 2,
            "linecolor": "white",
            "showbackground": true,
            "ticks": "",
            "zerolinecolor": "white"
           }
          },
          "shapedefaults": {
           "line": {
            "color": "#2a3f5f"
           }
          },
          "ternary": {
           "aaxis": {
            "gridcolor": "white",
            "linecolor": "white",
            "ticks": ""
           },
           "baxis": {
            "gridcolor": "white",
            "linecolor": "white",
            "ticks": ""
           },
           "bgcolor": "#E5ECF6",
           "caxis": {
            "gridcolor": "white",
            "linecolor": "white",
            "ticks": ""
           }
          },
          "title": {
           "x": 0.05
          },
          "xaxis": {
           "automargin": true,
           "gridcolor": "white",
           "linecolor": "white",
           "ticks": "",
           "title": {
            "standoff": 15
           },
           "zerolinecolor": "white",
           "zerolinewidth": 2
          },
          "yaxis": {
           "automargin": true,
           "gridcolor": "white",
           "linecolor": "white",
           "ticks": "",
           "title": {
            "standoff": 15
           },
           "zerolinecolor": "white",
           "zerolinewidth": 2
          }
         }
        },
        "width": 800
       }
      }
     },
     "metadata": {},
     "output_type": "display_data"
    }
   ],
   "source": [
    "dog_info = portrait_info[portrait_info[\"new_filename\"].isin(painting_list)]\n",
    "sytle_dist = dog_info.groupby('style').count()[['artist']]\n",
    "sytle_dist.reset_index(inplace=True)\n",
    "fig3 = px.treemap(sytle_dist, path=['style'], values = 'artist', width=800, height=800)\n",
    "\n",
    "fig3.update_layout(\n",
    "    font=dict(\n",
    "        family=\"Courier New, monospace\",\n",
    "        size=100,\n",
    "        color=\"RebeccaPurple\"\n",
    "    )\n",
    ")\n",
    "fig3.show()\n"
   ]
  },
  {
   "cell_type": "markdown",
   "metadata": {},
   "source": [
    "#### Year Distribution of Portraits with Dogs"
   ]
  },
  {
   "cell_type": "code",
   "execution_count": 99,
   "metadata": {},
   "outputs": [
    {
     "data": {
      "image/png": "[encoded data removed]",
      "image/svg+xml": "<?xml version=\"1.0\" encoding=\"utf-8\" standalone=\"no\"?>\n<!DOCTYPE svg PUBLIC \"-//W3C//DTD SVG 1.1//EN\"\n  \"http://www.w3.org/Graphics/SVG/1.1/DTD/svg11.dtd\">\n<svg xmlns:xlink=\"http://www.w3.org/1999/xlink\" width=\"623.403125pt\" height=\"316.55625pt\" viewBox=\"0 0 623.403125 316.55625\" xmlns=\"http://www.w3.org/2000/svg\" version=\"1.1\">\n <metadata>\n  <rdf:RDF xmlns:dc=\"http://purl.org/dc/elements/1.1/\" xmlns:cc=\"http://creativecommons.org/ns#\" xmlns:rdf=\"http://www.w3.org/1999/02/22-rdf-syntax-ns#\">\n   <cc:Work>\n    <dc:type rdf:resource=\"http://purl.org/dc/dcmitype/StillImage\"/>\n    <dc:date>2022-06-05T18:25:36.238857</dc:date>\n    <dc:format>image/svg+xml</dc:format>\n    <dc:creator>\n     <cc:Agent>\n      <dc:title>Matplotlib v3.5.1, https://matplotlib.org/</dc:title>\n     </cc:Agent>\n    </dc:creator>\n   </cc:Work>\n  </rdf:RDF>\n </metadata>\n <defs>\n  <style type=\"text/css\">*{stroke-linejoin: round; stroke-linecap: butt}</style>\n </defs>\n <g id=\"figure_1\">\n  <g id=\"patch_1\">\n   <path d=\"M 0 316.55625 \nL 623.403125 316.55625 \nL 623.403125 0 \nL 0 0 \nL 0 316.55625 \nz\n\" style=\"fill: none\"/>\n  </g>\n  <g id=\"axes_1\">\n   <g id=\"patch_2\">\n    <path d=\"M 45.478125 279 \nL 603.478125 279 \nL 603.478125 7.2 \nL 45.478125 7.2 \nz\n\" style=\"fill: #ffffff\"/>\n   </g>\n   <g id=\"patch_3\">\n    <path d=\"M 73.378125 112932.797335 \nL 78.679125 112932.797335 \nL 78.679125 266.645455 \nL 73.378125 266.645455 \nz\n\" clip-path=\"url(#p90f363854a)\" style=\"fill: #1f77b4; opacity: 0.5\"/>\n   </g>\n   <g id=\"patch_4\">\n    <path d=\"M 78.679125 112932.797335 \nL 83.980125 112932.797335 \nL 83.980125 232.729563 \nL 78.679125 232.729563 \nz\n\" clip-path=\"url(#p90f363854a)\" style=\"fill: #1f77b4; opacity: 0.5\"/>\n   </g>\n   <g id=\"patch_5\">\n    <path d=\"M 83.980125 112932.797335 \nL 89.281125 112932.797335 \nL 89.281125 232.729563 \nL 83.980125 232.729563 \nz\n\" clip-path=\"url(#p90f363854a)\" style=\"fill: #1f77b4; opacity: 0.5\"/>\n   </g>\n   <g id=\"patch_6\">\n    <path d=\"M 89.281125 112932.797335 \nL 94.582125 112932.797335 \nL 94.582125 141.141744 \nL 89.281125 141.141744 \nz\n\" clip-path=\"url(#p90f363854a)\" style=\"fill: #1f77b4; opacity: 0.5\"/>\n   </g>\n   <g id=\"patch_7\">\n    <path d=\"M 94.582125 112932.797335 \nL 99.883125 112932.797335 \nL 99.883125 212.890039 \nL 94.582125 212.890039 \nz\n\" clip-path=\"url(#p90f363854a)\" style=\"fill: #1f77b4; opacity: 0.5\"/>\n   </g>\n   <g id=\"patch_8\">\n    <path d=\"M 99.883125 112932.797335 \nL 105.184125 112932.797335 \nL 105.184125 198.813672 \nL 99.883125 198.813672 \nz\n\" clip-path=\"url(#p90f363854a)\" style=\"fill: #1f77b4; opacity: 0.5\"/>\n   </g>\n   <g id=\"patch_9\">\n    <path d=\"M 105.184125 112932.797335 \nL 110.485125 112932.797335 \nL 110.485125 171.43151 \nL 105.184125 171.43151 \nz\n\" clip-path=\"url(#p90f363854a)\" style=\"fill: #1f77b4; opacity: 0.5\"/>\n   </g>\n   <g id=\"patch_10\">\n    <path d=\"M 110.485125 112932.797335 \nL 115.786125 112932.797335 \nL 115.786125 128.015509 \nL 110.485125 128.015509 \nz\n\" clip-path=\"url(#p90f363854a)\" style=\"fill: #1f77b4; opacity: 0.5\"/>\n   </g>\n   <g id=\"patch_11\">\n    <path d=\"M 115.786125 112932.797335 \nL 121.087125 112932.797335 \nL 121.087125 212.890039 \nL 115.786125 212.890039 \nz\n\" clip-path=\"url(#p90f363854a)\" style=\"fill: #1f77b4; opacity: 0.5\"/>\n   </g>\n   <g id=\"patch_12\">\n    <path d=\"M 121.087125 112932.797335 \nL 126.388125 112932.797335 \nL 126.388125 198.813672 \nL 121.087125 198.813672 \nz\n\" clip-path=\"url(#p90f363854a)\" style=\"fill: #1f77b4; opacity: 0.5\"/>\n   </g>\n   <g id=\"patch_13\">\n    <path d=\"M 126.388125 112932.797335 \nL 131.689125 112932.797335 \nL 131.689125 130.98189 \nL 126.388125 130.98189 \nz\n\" clip-path=\"url(#p90f363854a)\" style=\"fill: #1f77b4; opacity: 0.5\"/>\n   </g>\n   <g id=\"patch_14\">\n    <path d=\"M 131.689125 112932.797335 \nL 136.990125 112932.797335 \nL 136.990125 164.897781 \nL 131.689125 164.897781 \nz\n\" clip-path=\"url(#p90f363854a)\" style=\"fill: #1f77b4; opacity: 0.5\"/>\n   </g>\n   <g id=\"patch_15\">\n    <path d=\"M 136.990125 112932.797335 \nL 142.291125 112932.797335 \nL 142.291125 232.729563 \nL 136.990125 232.729563 \nz\n\" clip-path=\"url(#p90f363854a)\" style=\"fill: #1f77b4; opacity: 0.5\"/>\n   </g>\n   <g id=\"patch_16\">\n    <path d=\"M 142.291125 112932.797335 \nL 147.592125 112932.797335 \nL 147.592125 137.515619 \nL 142.291125 137.515619 \nz\n\" clip-path=\"url(#p90f363854a)\" style=\"fill: #1f77b4; opacity: 0.5\"/>\n   </g>\n   <g id=\"patch_17\">\n    <path d=\"M 147.592125 112932.797335 \nL 152.893125 112932.797335 \nL 152.893125 128.015509 \nL 147.592125 128.015509 \nz\n\" clip-path=\"url(#p90f363854a)\" style=\"fill: #1f77b4; opacity: 0.5\"/>\n   </g>\n   <g id=\"patch_18\">\n    <path d=\"M 152.893125 112932.797335 \nL 158.194125 112932.797335 \nL 158.194125 145.058256 \nL 152.893125 145.058256 \nz\n\" clip-path=\"url(#p90f363854a)\" style=\"fill: #1f77b4; opacity: 0.5\"/>\n   </g>\n   <g id=\"patch_19\">\n    <path d=\"M 158.194125 112932.797335 \nL 163.495125 112932.797335 \nL 163.495125 198.813672 \nL 158.194125 198.813672 \nz\n\" clip-path=\"url(#p90f363854a)\" style=\"fill: #1f77b4; opacity: 0.5\"/>\n   </g>\n   <g id=\"patch_20\">\n    <path d=\"M 163.495125 112932.797335 \nL 168.796125 112932.797335 \nL 168.796125 130.98189 \nL 163.495125 130.98189 \nz\n\" clip-path=\"url(#p90f363854a)\" style=\"fill: #1f77b4; opacity: 0.5\"/>\n   </g>\n   <g id=\"patch_21\">\n    <path d=\"M 168.796125 112932.797335 \nL 174.097125 112932.797335 \nL 174.097125 125.218732 \nL 168.796125 125.218732 \nz\n\" clip-path=\"url(#p90f363854a)\" style=\"fill: #1f77b4; opacity: 0.5\"/>\n   </g>\n   <g id=\"patch_22\">\n    <path d=\"M 174.097125 112932.797335 \nL 179.398125 112932.797335 \nL 179.398125 141.141744 \nL 174.097125 141.141744 \nz\n\" clip-path=\"url(#p90f363854a)\" style=\"fill: #1f77b4; opacity: 0.5\"/>\n   </g>\n   <g id=\"patch_23\">\n    <path d=\"M 179.398125 112932.797335 \nL 184.699125 112932.797335 \nL 184.699125 122.573207 \nL 179.398125 122.573207 \nz\n\" clip-path=\"url(#p90f363854a)\" style=\"fill: #1f77b4; opacity: 0.5\"/>\n   </g>\n   <g id=\"patch_24\">\n    <path d=\"M 184.699125 112932.797335 \nL 190.000125 112932.797335 \nL 190.000125 82.608849 \nL 184.699125 82.608849 \nz\n\" clip-path=\"url(#p90f363854a)\" style=\"fill: #1f77b4; opacity: 0.5\"/>\n   </g>\n   <g id=\"patch_25\">\n    <path d=\"M 190.000125 112932.797335 \nL 195.301125 112932.797335 \nL 195.301125 98.619471 \nL 190.000125 98.619471 \nz\n\" clip-path=\"url(#p90f363854a)\" style=\"fill: #1f77b4; opacity: 0.5\"/>\n   </g>\n   <g id=\"patch_26\">\n    <path d=\"M 195.301125 112932.797335 \nL 200.602125 112932.797335 \nL 200.602125 98.619471 \nL 195.301125 98.619471 \nz\n\" clip-path=\"url(#p90f363854a)\" style=\"fill: #1f77b4; opacity: 0.5\"/>\n   </g>\n   <g id=\"patch_27\">\n    <path d=\"M 200.602125 112932.797335 \nL 205.903125 112932.797335 \nL 205.903125 122.573207 \nL 200.602125 122.573207 \nz\n\" clip-path=\"url(#p90f363854a)\" style=\"fill: #1f77b4; opacity: 0.5\"/>\n   </g>\n   <g id=\"patch_28\">\n    <path d=\"M 205.903125 112932.797335 \nL 211.204125 112932.797335 \nL 211.204125 75.229042 \nL 205.903125 75.229042 \nz\n\" clip-path=\"url(#p90f363854a)\" style=\"fill: #1f77b4; opacity: 0.5\"/>\n   </g>\n   <g id=\"patch_29\">\n    <path d=\"M 211.204125 112932.797335 \nL 216.505125 112932.797335 \nL 216.505125 87.386328 \nL 211.204125 87.386328 \nz\n\" clip-path=\"url(#p90f363854a)\" style=\"fill: #1f77b4; opacity: 0.5\"/>\n   </g>\n   <g id=\"patch_30\">\n    <path d=\"M 216.505125 112932.797335 \nL 221.806125 112932.797335 \nL 221.806125 77.226474 \nL 216.505125 77.226474 \nz\n\" clip-path=\"url(#p90f363854a)\" style=\"fill: #1f77b4; opacity: 0.5\"/>\n   </g>\n   <g id=\"patch_31\">\n    <path d=\"M 221.806125 112932.797335 \nL 227.107125 112932.797335 \nL 227.107125 74.260094 \nL 221.806125 74.260094 \nz\n\" clip-path=\"url(#p90f363854a)\" style=\"fill: #1f77b4; opacity: 0.5\"/>\n   </g>\n   <g id=\"patch_32\">\n    <path d=\"M 227.107125 112932.797335 \nL 232.408125 112932.797335 \nL 232.408125 89.962201 \nL 227.107125 89.962201 \nz\n\" clip-path=\"url(#p90f363854a)\" style=\"fill: #1f77b4; opacity: 0.5\"/>\n   </g>\n   <g id=\"patch_33\">\n    <path d=\"M 232.408125 112932.797335 \nL 237.709125 112932.797335 \nL 237.709125 84.939304 \nL 232.408125 84.939304 \nz\n\" clip-path=\"url(#p90f363854a)\" style=\"fill: #1f77b4; opacity: 0.5\"/>\n   </g>\n   <g id=\"patch_34\">\n    <path d=\"M 237.709125 112932.797335 \nL 243.010125 112932.797335 \nL 243.010125 100.223887 \nL 237.709125 100.223887 \nz\n\" clip-path=\"url(#p90f363854a)\" style=\"fill: #1f77b4; opacity: 0.5\"/>\n   </g>\n   <g id=\"patch_35\">\n    <path d=\"M 243.010125 112932.797335 \nL 248.311125 112932.797335 \nL 248.311125 86.14752 \nL 243.010125 86.14752 \nz\n\" clip-path=\"url(#p90f363854a)\" style=\"fill: #1f77b4; opacity: 0.5\"/>\n   </g>\n   <g id=\"patch_36\">\n    <path d=\"M 248.311125 112932.797335 \nL 253.612125 112932.797335 \nL 253.612125 122.573207 \nL 248.311125 122.573207 \nz\n\" clip-path=\"url(#p90f363854a)\" style=\"fill: #1f77b4; opacity: 0.5\"/>\n   </g>\n   <g id=\"patch_37\">\n    <path d=\"M 253.612125 112932.797335 \nL 258.913125 112932.797335 \nL 258.913125 98.619471 \nL 253.612125 98.619471 \nz\n\" clip-path=\"url(#p90f363854a)\" style=\"fill: #1f77b4; opacity: 0.5\"/>\n   </g>\n   <g id=\"patch_38\">\n    <path d=\"M 258.913125 112932.797335 \nL 264.214125 112932.797335 \nL 264.214125 125.218732 \nL 258.913125 125.218732 \nz\n\" clip-path=\"url(#p90f363854a)\" style=\"fill: #1f77b4; opacity: 0.5\"/>\n   </g>\n   <g id=\"patch_39\">\n    <path d=\"M 264.214125 112932.797335 \nL 269.515125 112932.797335 \nL 269.515125 117.676095 \nL 264.214125 117.676095 \nz\n\" clip-path=\"url(#p90f363854a)\" style=\"fill: #1f77b4; opacity: 0.5\"/>\n   </g>\n   <g id=\"patch_40\">\n    <path d=\"M 269.515125 112932.797335 \nL 274.816125 112932.797335 \nL 274.816125 149.315748 \nL 269.515125 149.315748 \nz\n\" clip-path=\"url(#p90f363854a)\" style=\"fill: #1f77b4; opacity: 0.5\"/>\n   </g>\n   <g id=\"patch_41\">\n    <path d=\"M 274.816125 112932.797335 \nL 280.117125 112932.797335 \nL 280.117125 141.141744 \nL 274.816125 141.141744 \nz\n\" clip-path=\"url(#p90f363854a)\" style=\"fill: #1f77b4; opacity: 0.5\"/>\n   </g>\n   <g id=\"patch_42\">\n    <path d=\"M 280.117125 112932.797335 \nL 285.418125 112932.797335 \nL 285.418125 141.141744 \nL 280.117125 141.141744 \nz\n\" clip-path=\"url(#p90f363854a)\" style=\"fill: #1f77b4; opacity: 0.5\"/>\n   </g>\n   <g id=\"patch_43\">\n    <path d=\"M 285.418125 112932.797335 \nL 290.719125 112932.797335 \nL 290.719125 149.315748 \nL 285.418125 149.315748 \nz\n\" clip-path=\"url(#p90f363854a)\" style=\"fill: #1f77b4; opacity: 0.5\"/>\n   </g>\n   <g id=\"patch_44\">\n    <path d=\"M 290.719125 112932.797335 \nL 296.020125 112932.797335 \nL 296.020125 187.895194 \nL 290.719125 187.895194 \nz\n\" clip-path=\"url(#p90f363854a)\" style=\"fill: #1f77b4; opacity: 0.5\"/>\n   </g>\n   <g id=\"patch_45\">\n    <path d=\"M 296.020125 112932.797335 \nL 301.321125 112932.797335 \nL 301.321125 130.98189 \nL 296.020125 130.98189 \nz\n\" clip-path=\"url(#p90f363854a)\" style=\"fill: #1f77b4; opacity: 0.5\"/>\n   </g>\n   <g id=\"patch_46\">\n    <path d=\"M 301.321125 112932.797335 \nL 306.622125 112932.797335 \nL 306.622125 153.979303 \nL 301.321125 153.979303 \nz\n\" clip-path=\"url(#p90f363854a)\" style=\"fill: #1f77b4; opacity: 0.5\"/>\n   </g>\n   <g id=\"patch_47\">\n    <path d=\"M 306.622125 112932.797335 \nL 311.923125 112932.797335 \nL 311.923125 149.315748 \nL 306.622125 149.315748 \nz\n\" clip-path=\"url(#p90f363854a)\" style=\"fill: #1f77b4; opacity: 0.5\"/>\n   </g>\n   <g id=\"patch_48\">\n    <path d=\"M 311.923125 112932.797335 \nL 317.224125 112932.797335 \nL 317.224125 187.895194 \nL 311.923125 187.895194 \nz\n\" clip-path=\"url(#p90f363854a)\" style=\"fill: #1f77b4; opacity: 0.5\"/>\n   </g>\n   <g id=\"patch_49\">\n    <path d=\"M 317.224125 112932.797335 \nL 322.525125 112932.797335 \nL 322.525125 130.98189 \nL 317.224125 130.98189 \nz\n\" clip-path=\"url(#p90f363854a)\" style=\"fill: #1f77b4; opacity: 0.5\"/>\n   </g>\n   <g id=\"patch_50\">\n    <path d=\"M 322.525125 112932.797335 \nL 327.826125 112932.797335 \nL 327.826125 137.515619 \nL 322.525125 137.515619 \nz\n\" clip-path=\"url(#p90f363854a)\" style=\"fill: #1f77b4; opacity: 0.5\"/>\n   </g>\n   <g id=\"patch_51\">\n    <path d=\"M 327.826125 112932.797335 \nL 333.127125 112932.797335 \nL 333.127125 120.063411 \nL 327.826125 120.063411 \nz\n\" clip-path=\"url(#p90f363854a)\" style=\"fill: #1f77b4; opacity: 0.5\"/>\n   </g>\n   <g id=\"patch_52\">\n    <path d=\"M 333.127125 112932.797335 \nL 338.428125 112932.797335 \nL 338.428125 171.43151 \nL 333.127125 171.43151 \nz\n\" clip-path=\"url(#p90f363854a)\" style=\"fill: #1f77b4; opacity: 0.5\"/>\n   </g>\n   <g id=\"patch_53\">\n    <path d=\"M 338.428125 112932.797335 \nL 343.729125 112932.797335 \nL 343.729125 149.315748 \nL 338.428125 149.315748 \nz\n\" clip-path=\"url(#p90f363854a)\" style=\"fill: #1f77b4; opacity: 0.5\"/>\n   </g>\n   <g id=\"patch_54\">\n    <path d=\"M 343.729125 112932.797335 \nL 349.030125 112932.797335 \nL 349.030125 130.98189 \nL 343.729125 130.98189 \nz\n\" clip-path=\"url(#p90f363854a)\" style=\"fill: #1f77b4; opacity: 0.5\"/>\n   </g>\n   <g id=\"patch_55\">\n    <path d=\"M 349.030125 112932.797335 \nL 354.331125 112932.797335 \nL 354.331125 86.14752 \nL 349.030125 86.14752 \nz\n\" clip-path=\"url(#p90f363854a)\" style=\"fill: #1f77b4; opacity: 0.5\"/>\n   </g>\n   <g id=\"patch_56\">\n    <path d=\"M 354.331125 112932.797335 \nL 359.632125 112932.797335 \nL 359.632125 60.183727 \nL 354.331125 60.183727 \nz\n\" clip-path=\"url(#p90f363854a)\" style=\"fill: #1f77b4; opacity: 0.5\"/>\n   </g>\n   <g id=\"patch_57\">\n    <path d=\"M 359.632125 112932.797335 \nL 364.933125 112932.797335 \nL 364.933125 76.217566 \nL 359.632125 76.217566 \nz\n\" clip-path=\"url(#p90f363854a)\" style=\"fill: #1f77b4; opacity: 0.5\"/>\n   </g>\n   <g id=\"patch_58\">\n    <path d=\"M 364.933125 112932.797335 \nL 370.234125 112932.797335 \nL 370.234125 33.214482 \nL 364.933125 33.214482 \nz\n\" clip-path=\"url(#p90f363854a)\" style=\"fill: #1f77b4; opacity: 0.5\"/>\n   </g>\n   <g id=\"patch_59\">\n    <path d=\"M 370.234125 112932.797335 \nL 375.535125 112932.797335 \nL 375.535125 38.002594 \nL 370.234125 38.002594 \nz\n\" clip-path=\"url(#p90f363854a)\" style=\"fill: #1f77b4; opacity: 0.5\"/>\n   </g>\n   <g id=\"patch_60\">\n    <path d=\"M 375.535125 112932.797335 \nL 380.836125 112932.797335 \nL 380.836125 45.927799 \nL 375.535125 45.927799 \nz\n\" clip-path=\"url(#p90f363854a)\" style=\"fill: #1f77b4; opacity: 0.5\"/>\n   </g>\n   <g id=\"patch_61\">\n    <path d=\"M 380.836125 112932.797335 \nL 386.137125 112932.797335 \nL 386.137125 101.8827 \nL 380.836125 101.8827 \nz\n\" clip-path=\"url(#p90f363854a)\" style=\"fill: #1f77b4; opacity: 0.5\"/>\n   </g>\n   <g id=\"patch_62\">\n    <path d=\"M 386.137125 112932.797335 \nL 391.438125 112932.797335 \nL 391.438125 115.399857 \nL 386.137125 115.399857 \nz\n\" clip-path=\"url(#p90f363854a)\" style=\"fill: #1f77b4; opacity: 0.5\"/>\n   </g>\n   <g id=\"patch_63\">\n    <path d=\"M 391.438125 112932.797335 \nL 396.739125 112932.797335 \nL 396.739125 86.14752 \nL 391.438125 86.14752 \nz\n\" clip-path=\"url(#p90f363854a)\" style=\"fill: #1f77b4; opacity: 0.5\"/>\n   </g>\n   <g id=\"patch_64\">\n    <path d=\"M 396.739125 112932.797335 \nL 402.040125 112932.797335 \nL 402.040125 92.68125 \nL 396.739125 92.68125 \nz\n\" clip-path=\"url(#p90f363854a)\" style=\"fill: #1f77b4; opacity: 0.5\"/>\n   </g>\n   <g id=\"patch_65\">\n    <path d=\"M 402.040125 112932.797335 \nL 407.341125 112932.797335 \nL 407.341125 101.8827 \nL 402.040125 101.8827 \nz\n\" clip-path=\"url(#p90f363854a)\" style=\"fill: #1f77b4; opacity: 0.5\"/>\n   </g>\n   <g id=\"patch_66\">\n    <path d=\"M 407.341125 112932.797335 \nL 412.642125 112932.797335 \nL 412.642125 83.760203 \nL 407.341125 83.760203 \nz\n\" clip-path=\"url(#p90f363854a)\" style=\"fill: #1f77b4; opacity: 0.5\"/>\n   </g>\n   <g id=\"patch_67\">\n    <path d=\"M 412.642125 112932.797335 \nL 417.943125 112932.797335 \nL 417.943125 115.399857 \nL 412.642125 115.399857 \nz\n\" clip-path=\"url(#p90f363854a)\" style=\"fill: #1f77b4; opacity: 0.5\"/>\n   </g>\n   <g id=\"patch_68\">\n    <path d=\"M 417.943125 112932.797335 \nL 423.244125 112932.797335 \nL 423.244125 120.063411 \nL 417.943125 120.063411 \nz\n\" clip-path=\"url(#p90f363854a)\" style=\"fill: #1f77b4; opacity: 0.5\"/>\n   </g>\n   <g id=\"patch_69\">\n    <path d=\"M 423.244125 112932.797335 \nL 428.545125 112932.797335 \nL 428.545125 178.974148 \nL 423.244125 178.974148 \nz\n\" clip-path=\"url(#p90f363854a)\" style=\"fill: #1f77b4; opacity: 0.5\"/>\n   </g>\n   <g id=\"patch_70\">\n    <path d=\"M 428.545125 112932.797335 \nL 433.846125 112932.797335 \nL 433.846125 171.43151 \nL 428.545125 171.43151 \nz\n\" clip-path=\"url(#p90f363854a)\" style=\"fill: #1f77b4; opacity: 0.5\"/>\n   </g>\n   <g id=\"patch_71\">\n    <path d=\"M 433.846125 112932.797335 \nL 439.147125 112932.797335 \nL 439.147125 137.515619 \nL 433.846125 137.515619 \nz\n\" clip-path=\"url(#p90f363854a)\" style=\"fill: #1f77b4; opacity: 0.5\"/>\n   </g>\n   <g id=\"patch_72\">\n    <path d=\"M 439.147125 112932.797335 \nL 444.448125 112932.797335 \nL 444.448125 159.134623 \nL 439.147125 159.134623 \nz\n\" clip-path=\"url(#p90f363854a)\" style=\"fill: #1f77b4; opacity: 0.5\"/>\n   </g>\n   <g id=\"patch_73\">\n    <path d=\"M 444.448125 112932.797335 \nL 449.749125 112932.797335 \nL 449.749125 198.813672 \nL 444.448125 198.813672 \nz\n\" clip-path=\"url(#p90f363854a)\" style=\"fill: #1f77b4; opacity: 0.5\"/>\n   </g>\n   <g id=\"patch_74\">\n    <path d=\"M 449.749125 112932.797335 \nL 455.050125 112932.797335 \nL 455.050125 153.979303 \nL 449.749125 153.979303 \nz\n\" clip-path=\"url(#p90f363854a)\" style=\"fill: #1f77b4; opacity: 0.5\"/>\n   </g>\n   <g id=\"patch_75\">\n    <path d=\"M 455.050125 112932.797335 \nL 460.351125 112932.797335 \nL 460.351125 232.729563 \nL 455.050125 232.729563 \nz\n\" clip-path=\"url(#p90f363854a)\" style=\"fill: #1f77b4; opacity: 0.5\"/>\n   </g>\n   <g id=\"patch_76\">\n    <path d=\"M 460.351125 112932.797335 \nL 465.652125 112932.797335 \nL 465.652125 212.890039 \nL 460.351125 212.890039 \nz\n\" clip-path=\"url(#p90f363854a)\" style=\"fill: #1f77b4; opacity: 0.5\"/>\n   </g>\n   <g id=\"patch_77\">\n    <path d=\"M 465.652125 112932.797335 \nL 470.953125 112932.797335 \nL 470.953125 112932.797335 \nL 465.652125 112932.797335 \nz\n\" clip-path=\"url(#p90f363854a)\" style=\"fill: #1f77b4; opacity: 0.5\"/>\n   </g>\n   <g id=\"patch_78\">\n    <path d=\"M 470.953125 112932.797335 \nL 476.254125 112932.797335 \nL 476.254125 198.813672 \nL 470.953125 198.813672 \nz\n\" clip-path=\"url(#p90f363854a)\" style=\"fill: #1f77b4; opacity: 0.5\"/>\n   </g>\n   <g id=\"patch_79\">\n    <path d=\"M 476.254125 112932.797335 \nL 481.555125 112932.797335 \nL 481.555125 198.813672 \nL 476.254125 198.813672 \nz\n\" clip-path=\"url(#p90f363854a)\" style=\"fill: #1f77b4; opacity: 0.5\"/>\n   </g>\n   <g id=\"patch_80\">\n    <path d=\"M 481.555125 112932.797335 \nL 486.856125 112932.797335 \nL 486.856125 159.134623 \nL 481.555125 159.134623 \nz\n\" clip-path=\"url(#p90f363854a)\" style=\"fill: #1f77b4; opacity: 0.5\"/>\n   </g>\n   <g id=\"patch_81\">\n    <path d=\"M 486.856125 112932.797335 \nL 492.157125 112932.797335 \nL 492.157125 153.979303 \nL 486.856125 153.979303 \nz\n\" clip-path=\"url(#p90f363854a)\" style=\"fill: #1f77b4; opacity: 0.5\"/>\n   </g>\n   <g id=\"patch_82\">\n    <path d=\"M 492.157125 112932.797335 \nL 497.458125 112932.797335 \nL 497.458125 171.43151 \nL 492.157125 171.43151 \nz\n\" clip-path=\"url(#p90f363854a)\" style=\"fill: #1f77b4; opacity: 0.5\"/>\n   </g>\n   <g id=\"patch_83\">\n    <path d=\"M 497.458125 112932.797335 \nL 502.759125 112932.797335 \nL 502.759125 145.058256 \nL 497.458125 145.058256 \nz\n\" clip-path=\"url(#p90f363854a)\" style=\"fill: #1f77b4; opacity: 0.5\"/>\n   </g>\n   <g id=\"patch_84\">\n    <path d=\"M 502.759125 112932.797335 \nL 508.060125 112932.797335 \nL 508.060125 130.98189 \nL 502.759125 130.98189 \nz\n\" clip-path=\"url(#p90f363854a)\" style=\"fill: #1f77b4; opacity: 0.5\"/>\n   </g>\n   <g id=\"patch_85\">\n    <path d=\"M 508.060125 112932.797335 \nL 513.361125 112932.797335 \nL 513.361125 145.058256 \nL 508.060125 145.058256 \nz\n\" clip-path=\"url(#p90f363854a)\" style=\"fill: #1f77b4; opacity: 0.5\"/>\n   </g>\n   <g id=\"patch_86\">\n    <path d=\"M 513.361125 112932.797335 \nL 518.662125 112932.797335 \nL 518.662125 137.515619 \nL 513.361125 137.515619 \nz\n\" clip-path=\"url(#p90f363854a)\" style=\"fill: #1f77b4; opacity: 0.5\"/>\n   </g>\n   <g id=\"patch_87\">\n    <path d=\"M 518.662125 112932.797335 \nL 523.963125 112932.797335 \nL 523.963125 122.573207 \nL 518.662125 122.573207 \nz\n\" clip-path=\"url(#p90f363854a)\" style=\"fill: #1f77b4; opacity: 0.5\"/>\n   </g>\n   <g id=\"patch_88\">\n    <path d=\"M 523.963125 112932.797335 \nL 529.264125 112932.797335 \nL 529.264125 111.142365 \nL 523.963125 111.142365 \nz\n\" clip-path=\"url(#p90f363854a)\" style=\"fill: #1f77b4; opacity: 0.5\"/>\n   </g>\n   <g id=\"patch_89\">\n    <path d=\"M 529.264125 112932.797335 \nL 534.565125 112932.797335 \nL 534.565125 83.760203 \nL 529.264125 83.760203 \nz\n\" clip-path=\"url(#p90f363854a)\" style=\"fill: #1f77b4; opacity: 0.5\"/>\n   </g>\n   <g id=\"patch_90\">\n    <path d=\"M 534.565125 112932.797335 \nL 539.866125 112932.797335 \nL 539.866125 111.142365 \nL 534.565125 111.142365 \nz\n\" clip-path=\"url(#p90f363854a)\" style=\"fill: #1f77b4; opacity: 0.5\"/>\n   </g>\n   <g id=\"patch_91\">\n    <path d=\"M 539.866125 112932.797335 \nL 545.167125 112932.797335 \nL 545.167125 82.608849 \nL 539.866125 82.608849 \nz\n\" clip-path=\"url(#p90f363854a)\" style=\"fill: #1f77b4; opacity: 0.5\"/>\n   </g>\n   <g id=\"patch_92\">\n    <path d=\"M 545.167125 112932.797335 \nL 550.468125 112932.797335 \nL 550.468125 57.386949 \nL 545.167125 57.386949 \nz\n\" clip-path=\"url(#p90f363854a)\" style=\"fill: #1f77b4; opacity: 0.5\"/>\n   </g>\n   <g id=\"patch_93\">\n    <path d=\"M 550.468125 112932.797335 \nL 555.769125 112932.797335 \nL 555.769125 52.847112 \nL 550.468125 52.847112 \nz\n\" clip-path=\"url(#p90f363854a)\" style=\"fill: #1f77b4; opacity: 0.5\"/>\n   </g>\n   <g id=\"patch_94\">\n    <path d=\"M 555.769125 112932.797335 \nL 561.070125 112932.797335 \nL 561.070125 48.127284 \nL 555.769125 48.127284 \nz\n\" clip-path=\"url(#p90f363854a)\" style=\"fill: #1f77b4; opacity: 0.5\"/>\n   </g>\n   <g id=\"patch_95\">\n    <path d=\"M 561.070125 112932.797335 \nL 566.371125 112932.797335 \nL 566.371125 30.004788 \nL 561.070125 30.004788 \nz\n\" clip-path=\"url(#p90f363854a)\" style=\"fill: #1f77b4; opacity: 0.5\"/>\n   </g>\n   <g id=\"patch_96\">\n    <path d=\"M 566.371125 112932.797335 \nL 571.672125 112932.797335 \nL 571.672125 42.803529 \nL 566.371125 42.803529 \nz\n\" clip-path=\"url(#p90f363854a)\" style=\"fill: #1f77b4; opacity: 0.5\"/>\n   </g>\n   <g id=\"patch_97\">\n    <path d=\"M 571.672125 112932.797335 \nL 576.973125 112932.797335 \nL 576.973125 42.803529 \nL 571.672125 42.803529 \nz\n\" clip-path=\"url(#p90f363854a)\" style=\"fill: #1f77b4; opacity: 0.5\"/>\n   </g>\n   <g id=\"patch_98\">\n    <path d=\"M 576.973125 112932.797335 \nL 582.274125 112932.797335 \nL 582.274125 22.796147 \nL 576.973125 22.796147 \nz\n\" clip-path=\"url(#p90f363854a)\" style=\"fill: #1f77b4; opacity: 0.5\"/>\n   </g>\n   <g id=\"patch_99\">\n    <path d=\"M 582.274125 112932.797335 \nL 587.575125 112932.797335 \nL 587.575125 19.554545 \nL 582.274125 19.554545 \nz\n\" clip-path=\"url(#p90f363854a)\" style=\"fill: #1f77b4; opacity: 0.5\"/>\n   </g>\n   <g id=\"patch_100\">\n    <path d=\"M 587.575125 112932.797335 \nL 592.876125 112932.797335 \nL 592.876125 29.617985 \nL 587.575125 29.617985 \nz\n\" clip-path=\"url(#p90f363854a)\" style=\"fill: #1f77b4; opacity: 0.5\"/>\n   </g>\n   <g id=\"patch_101\">\n    <path d=\"M 592.876125 112932.797335 \nL 598.177125 112932.797335 \nL 598.177125 24.155409 \nL 592.876125 24.155409 \nz\n\" clip-path=\"url(#p90f363854a)\" style=\"fill: #1f77b4; opacity: 0.5\"/>\n   </g>\n   <g id=\"patch_102\">\n    <path d=\"M 598.177125 112932.797335 \nL 603.478125 112932.797335 \nL 603.478125 32.801565 \nL 598.177125 32.801565 \nz\n\" clip-path=\"url(#p90f363854a)\" style=\"fill: #1f77b4; opacity: 0.5\"/>\n   </g>\n   <g id=\"patch_103\">\n    <path d=\"M 92.908125 112932.797335 \nL 97.999875 112932.797335 \nL 97.999875 266.645455 \nL 92.908125 266.645455 \nz\n\" clip-path=\"url(#p90f363854a)\" style=\"fill: #ff7f0e; opacity: 0.8\"/>\n   </g>\n   <g id=\"patch_104\">\n    <path d=\"M 97.999875 112932.797335 \nL 103.091625 112932.797335 \nL 103.091625 112932.797335 \nL 97.999875 112932.797335 \nz\n\" clip-path=\"url(#p90f363854a)\" style=\"fill: #ff7f0e; opacity: 0.8\"/>\n   </g>\n   <g id=\"patch_105\">\n    <path d=\"M 103.091625 112932.797335 \nL 108.183375 112932.797335 \nL 108.183375 112932.797335 \nL 103.091625 112932.797335 \nz\n\" clip-path=\"url(#p90f363854a)\" style=\"fill: #ff7f0e; opacity: 0.8\"/>\n   </g>\n   <g id=\"patch_106\">\n    <path d=\"M 108.183375 112932.797335 \nL 113.275125 112932.797335 \nL 113.275125 112932.797335 \nL 108.183375 112932.797335 \nz\n\" clip-path=\"url(#p90f363854a)\" style=\"fill: #ff7f0e; opacity: 0.8\"/>\n   </g>\n   <g id=\"patch_107\">\n    <path d=\"M 113.275125 112932.797335 \nL 118.366875 112932.797335 \nL 118.366875 112932.797335 \nL 113.275125 112932.797335 \nz\n\" clip-path=\"url(#p90f363854a)\" style=\"fill: #ff7f0e; opacity: 0.8\"/>\n   </g>\n   <g id=\"patch_108\">\n    <path d=\"M 118.366875 112932.797335 \nL 123.458625 112932.797335 \nL 123.458625 112932.797335 \nL 118.366875 112932.797335 \nz\n\" clip-path=\"url(#p90f363854a)\" style=\"fill: #ff7f0e; opacity: 0.8\"/>\n   </g>\n   <g id=\"patch_109\">\n    <path d=\"M 123.458625 112932.797335 \nL 128.550375 112932.797335 \nL 128.550375 112932.797335 \nL 123.458625 112932.797335 \nz\n\" clip-path=\"url(#p90f363854a)\" style=\"fill: #ff7f0e; opacity: 0.8\"/>\n   </g>\n   <g id=\"patch_110\">\n    <path d=\"M 128.550375 112932.797335 \nL 133.642125 112932.797335 \nL 133.642125 112932.797335 \nL 128.550375 112932.797335 \nz\n\" clip-path=\"url(#p90f363854a)\" style=\"fill: #ff7f0e; opacity: 0.8\"/>\n   </g>\n   <g id=\"patch_111\">\n    <path d=\"M 133.642125 112932.797335 \nL 138.733875 112932.797335 \nL 138.733875 112932.797335 \nL 133.642125 112932.797335 \nz\n\" clip-path=\"url(#p90f363854a)\" style=\"fill: #ff7f0e; opacity: 0.8\"/>\n   </g>\n   <g id=\"patch_112\">\n    <path d=\"M 138.733875 112932.797335 \nL 143.825625 112932.797335 \nL 143.825625 112932.797335 \nL 138.733875 112932.797335 \nz\n\" clip-path=\"url(#p90f363854a)\" style=\"fill: #ff7f0e; opacity: 0.8\"/>\n   </g>\n   <g id=\"patch_113\">\n    <path d=\"M 143.825625 112932.797335 \nL 148.917375 112932.797335 \nL 148.917375 112932.797335 \nL 143.825625 112932.797335 \nz\n\" clip-path=\"url(#p90f363854a)\" style=\"fill: #ff7f0e; opacity: 0.8\"/>\n   </g>\n   <g id=\"patch_114\">\n    <path d=\"M 148.917375 112932.797335 \nL 154.009125 112932.797335 \nL 154.009125 112932.797335 \nL 148.917375 112932.797335 \nz\n\" clip-path=\"url(#p90f363854a)\" style=\"fill: #ff7f0e; opacity: 0.8\"/>\n   </g>\n   <g id=\"patch_115\">\n    <path d=\"M 154.009125 112932.797335 \nL 159.100875 112932.797335 \nL 159.100875 112932.797335 \nL 154.009125 112932.797335 \nz\n\" clip-path=\"url(#p90f363854a)\" style=\"fill: #ff7f0e; opacity: 0.8\"/>\n   </g>\n   <g id=\"patch_116\">\n    <path d=\"M 159.100875 112932.797335 \nL 164.192625 112932.797335 \nL 164.192625 266.645455 \nL 159.100875 266.645455 \nz\n\" clip-path=\"url(#p90f363854a)\" style=\"fill: #ff7f0e; opacity: 0.8\"/>\n   </g>\n   <g id=\"patch_117\">\n    <path d=\"M 164.192625 112932.797335 \nL 169.284375 112932.797335 \nL 169.284375 112932.797335 \nL 164.192625 112932.797335 \nz\n\" clip-path=\"url(#p90f363854a)\" style=\"fill: #ff7f0e; opacity: 0.8\"/>\n   </g>\n   <g id=\"patch_118\">\n    <path d=\"M 169.284375 112932.797335 \nL 174.376125 112932.797335 \nL 174.376125 112932.797335 \nL 169.284375 112932.797335 \nz\n\" clip-path=\"url(#p90f363854a)\" style=\"fill: #ff7f0e; opacity: 0.8\"/>\n   </g>\n   <g id=\"patch_119\">\n    <path d=\"M 174.376125 112932.797335 \nL 179.467875 112932.797335 \nL 179.467875 112932.797335 \nL 174.376125 112932.797335 \nz\n\" clip-path=\"url(#p90f363854a)\" style=\"fill: #ff7f0e; opacity: 0.8\"/>\n   </g>\n   <g id=\"patch_120\">\n    <path d=\"M 179.467875 112932.797335 \nL 184.559625 112932.797335 \nL 184.559625 112932.797335 \nL 179.467875 112932.797335 \nz\n\" clip-path=\"url(#p90f363854a)\" style=\"fill: #ff7f0e; opacity: 0.8\"/>\n   </g>\n   <g id=\"patch_121\">\n    <path d=\"M 184.559625 112932.797335 \nL 189.651375 112932.797335 \nL 189.651375 266.645455 \nL 184.559625 266.645455 \nz\n\" clip-path=\"url(#p90f363854a)\" style=\"fill: #ff7f0e; opacity: 0.8\"/>\n   </g>\n   <g id=\"patch_122\">\n    <path d=\"M 189.651375 112932.797335 \nL 194.743125 112932.797335 \nL 194.743125 112932.797335 \nL 189.651375 112932.797335 \nz\n\" clip-path=\"url(#p90f363854a)\" style=\"fill: #ff7f0e; opacity: 0.8\"/>\n   </g>\n   <g id=\"patch_123\">\n    <path d=\"M 194.743125 112932.797335 \nL 199.834875 112932.797335 \nL 199.834875 112932.797335 \nL 194.743125 112932.797335 \nz\n\" clip-path=\"url(#p90f363854a)\" style=\"fill: #ff7f0e; opacity: 0.8\"/>\n   </g>\n   <g id=\"patch_124\">\n    <path d=\"M 199.834875 112932.797335 \nL 204.926625 112932.797335 \nL 204.926625 266.645455 \nL 199.834875 266.645455 \nz\n\" clip-path=\"url(#p90f363854a)\" style=\"fill: #ff7f0e; opacity: 0.8\"/>\n   </g>\n   <g id=\"patch_125\">\n    <path d=\"M 204.926625 112932.797335 \nL 210.018375 112932.797335 \nL 210.018375 112932.797335 \nL 204.926625 112932.797335 \nz\n\" clip-path=\"url(#p90f363854a)\" style=\"fill: #ff7f0e; opacity: 0.8\"/>\n   </g>\n   <g id=\"patch_126\">\n    <path d=\"M 210.018375 112932.797335 \nL 215.110125 112932.797335 \nL 215.110125 112932.797335 \nL 210.018375 112932.797335 \nz\n\" clip-path=\"url(#p90f363854a)\" style=\"fill: #ff7f0e; opacity: 0.8\"/>\n   </g>\n   <g id=\"patch_127\">\n    <path d=\"M 215.110125 112932.797335 \nL 220.201875 112932.797335 \nL 220.201875 232.729563 \nL 215.110125 232.729563 \nz\n\" clip-path=\"url(#p90f363854a)\" style=\"fill: #ff7f0e; opacity: 0.8\"/>\n   </g>\n   <g id=\"patch_128\">\n    <path d=\"M 220.201875 112932.797335 \nL 225.293625 112932.797335 \nL 225.293625 112932.797335 \nL 220.201875 112932.797335 \nz\n\" clip-path=\"url(#p90f363854a)\" style=\"fill: #ff7f0e; opacity: 0.8\"/>\n   </g>\n   <g id=\"patch_129\">\n    <path d=\"M 225.293625 112932.797335 \nL 230.385375 112932.797335 \nL 230.385375 266.645455 \nL 225.293625 266.645455 \nz\n\" clip-path=\"url(#p90f363854a)\" style=\"fill: #ff7f0e; opacity: 0.8\"/>\n   </g>\n   <g id=\"patch_130\">\n    <path d=\"M 230.385375 112932.797335 \nL 235.477125 112932.797335 \nL 235.477125 212.890039 \nL 230.385375 212.890039 \nz\n\" clip-path=\"url(#p90f363854a)\" style=\"fill: #ff7f0e; opacity: 0.8\"/>\n   </g>\n   <g id=\"patch_131\">\n    <path d=\"M 235.477125 112932.797335 \nL 240.568875 112932.797335 \nL 240.568875 266.645455 \nL 235.477125 266.645455 \nz\n\" clip-path=\"url(#p90f363854a)\" style=\"fill: #ff7f0e; opacity: 0.8\"/>\n   </g>\n   <g id=\"patch_132\">\n    <path d=\"M 240.568875 112932.797335 \nL 245.660625 112932.797335 \nL 245.660625 266.645455 \nL 240.568875 266.645455 \nz\n\" clip-path=\"url(#p90f363854a)\" style=\"fill: #ff7f0e; opacity: 0.8\"/>\n   </g>\n   <g id=\"patch_133\">\n    <path d=\"M 245.660625 112932.797335 \nL 250.752375 112932.797335 \nL 250.752375 112932.797335 \nL 245.660625 112932.797335 \nz\n\" clip-path=\"url(#p90f363854a)\" style=\"fill: #ff7f0e; opacity: 0.8\"/>\n   </g>\n   <g id=\"patch_134\">\n    <path d=\"M 250.752375 112932.797335 \nL 255.844125 112932.797335 \nL 255.844125 112932.797335 \nL 250.752375 112932.797335 \nz\n\" clip-path=\"url(#p90f363854a)\" style=\"fill: #ff7f0e; opacity: 0.8\"/>\n   </g>\n   <g id=\"patch_135\">\n    <path d=\"M 255.844125 112932.797335 \nL 260.935875 112932.797335 \nL 260.935875 266.645455 \nL 255.844125 266.645455 \nz\n\" clip-path=\"url(#p90f363854a)\" style=\"fill: #ff7f0e; opacity: 0.8\"/>\n   </g>\n   <g id=\"patch_136\">\n    <path d=\"M 260.935875 112932.797335 \nL 266.027625 112932.797335 \nL 266.027625 266.645455 \nL 260.935875 266.645455 \nz\n\" clip-path=\"url(#p90f363854a)\" style=\"fill: #ff7f0e; opacity: 0.8\"/>\n   </g>\n   <g id=\"patch_137\">\n    <path d=\"M 266.027625 112932.797335 \nL 271.119375 112932.797335 \nL 271.119375 266.645455 \nL 266.027625 266.645455 \nz\n\" clip-path=\"url(#p90f363854a)\" style=\"fill: #ff7f0e; opacity: 0.8\"/>\n   </g>\n   <g id=\"patch_138\">\n    <path d=\"M 271.119375 112932.797335 \nL 276.211125 112932.797335 \nL 276.211125 112932.797335 \nL 271.119375 112932.797335 \nz\n\" clip-path=\"url(#p90f363854a)\" style=\"fill: #ff7f0e; opacity: 0.8\"/>\n   </g>\n   <g id=\"patch_139\">\n    <path d=\"M 276.211125 112932.797335 \nL 281.302875 112932.797335 \nL 281.302875 112932.797335 \nL 276.211125 112932.797335 \nz\n\" clip-path=\"url(#p90f363854a)\" style=\"fill: #ff7f0e; opacity: 0.8\"/>\n   </g>\n   <g id=\"patch_140\">\n    <path d=\"M 281.302875 112932.797335 \nL 286.394625 112932.797335 \nL 286.394625 112932.797335 \nL 281.302875 112932.797335 \nz\n\" clip-path=\"url(#p90f363854a)\" style=\"fill: #ff7f0e; opacity: 0.8\"/>\n   </g>\n   <g id=\"patch_141\">\n    <path d=\"M 286.394625 112932.797335 \nL 291.486375 112932.797335 \nL 291.486375 112932.797335 \nL 286.394625 112932.797335 \nz\n\" clip-path=\"url(#p90f363854a)\" style=\"fill: #ff7f0e; opacity: 0.8\"/>\n   </g>\n   <g id=\"patch_142\">\n    <path d=\"M 291.486375 112932.797335 \nL 296.578125 112932.797335 \nL 296.578125 112932.797335 \nL 291.486375 112932.797335 \nz\n\" clip-path=\"url(#p90f363854a)\" style=\"fill: #ff7f0e; opacity: 0.8\"/>\n   </g>\n   <g id=\"patch_143\">\n    <path d=\"M 296.578125 112932.797335 \nL 301.669875 112932.797335 \nL 301.669875 112932.797335 \nL 296.578125 112932.797335 \nz\n\" clip-path=\"url(#p90f363854a)\" style=\"fill: #ff7f0e; opacity: 0.8\"/>\n   </g>\n   <g id=\"patch_144\">\n    <path d=\"M 301.669875 112932.797335 \nL 306.761625 112932.797335 \nL 306.761625 112932.797335 \nL 301.669875 112932.797335 \nz\n\" clip-path=\"url(#p90f363854a)\" style=\"fill: #ff7f0e; opacity: 0.8\"/>\n   </g>\n   <g id=\"patch_145\">\n    <path d=\"M 306.761625 112932.797335 \nL 311.853375 112932.797335 \nL 311.853375 266.645455 \nL 306.761625 266.645455 \nz\n\" clip-path=\"url(#p90f363854a)\" style=\"fill: #ff7f0e; opacity: 0.8\"/>\n   </g>\n   <g id=\"patch_146\">\n    <path d=\"M 311.853375 112932.797335 \nL 316.945125 112932.797335 \nL 316.945125 112932.797335 \nL 311.853375 112932.797335 \nz\n\" clip-path=\"url(#p90f363854a)\" style=\"fill: #ff7f0e; opacity: 0.8\"/>\n   </g>\n   <g id=\"patch_147\">\n    <path d=\"M 316.945125 112932.797335 \nL 322.036875 112932.797335 \nL 322.036875 266.645455 \nL 316.945125 266.645455 \nz\n\" clip-path=\"url(#p90f363854a)\" style=\"fill: #ff7f0e; opacity: 0.8\"/>\n   </g>\n   <g id=\"patch_148\">\n    <path d=\"M 322.036875 112932.797335 \nL 327.128625 112932.797335 \nL 327.128625 112932.797335 \nL 322.036875 112932.797335 \nz\n\" clip-path=\"url(#p90f363854a)\" style=\"fill: #ff7f0e; opacity: 0.8\"/>\n   </g>\n   <g id=\"patch_149\">\n    <path d=\"M 327.128625 112932.797335 \nL 332.220375 112932.797335 \nL 332.220375 112932.797335 \nL 327.128625 112932.797335 \nz\n\" clip-path=\"url(#p90f363854a)\" style=\"fill: #ff7f0e; opacity: 0.8\"/>\n   </g>\n   <g id=\"patch_150\">\n    <path d=\"M 332.220375 112932.797335 \nL 337.312125 112932.797335 \nL 337.312125 266.645455 \nL 332.220375 266.645455 \nz\n\" clip-path=\"url(#p90f363854a)\" style=\"fill: #ff7f0e; opacity: 0.8\"/>\n   </g>\n   <g id=\"patch_151\">\n    <path d=\"M 337.312125 112932.797335 \nL 342.403875 112932.797335 \nL 342.403875 112932.797335 \nL 337.312125 112932.797335 \nz\n\" clip-path=\"url(#p90f363854a)\" style=\"fill: #ff7f0e; opacity: 0.8\"/>\n   </g>\n   <g id=\"patch_152\">\n    <path d=\"M 342.403875 112932.797335 \nL 347.495625 112932.797335 \nL 347.495625 112932.797335 \nL 342.403875 112932.797335 \nz\n\" clip-path=\"url(#p90f363854a)\" style=\"fill: #ff7f0e; opacity: 0.8\"/>\n   </g>\n   <g id=\"patch_153\">\n    <path d=\"M 347.495625 112932.797335 \nL 352.587375 112932.797335 \nL 352.587375 112932.797335 \nL 347.495625 112932.797335 \nz\n\" clip-path=\"url(#p90f363854a)\" style=\"fill: #ff7f0e; opacity: 0.8\"/>\n   </g>\n   <g id=\"patch_154\">\n    <path d=\"M 352.587375 112932.797335 \nL 357.679125 112932.797335 \nL 357.679125 266.645455 \nL 352.587375 266.645455 \nz\n\" clip-path=\"url(#p90f363854a)\" style=\"fill: #ff7f0e; opacity: 0.8\"/>\n   </g>\n   <g id=\"patch_155\">\n    <path d=\"M 357.679125 112932.797335 \nL 362.770875 112932.797335 \nL 362.770875 112932.797335 \nL 357.679125 112932.797335 \nz\n\" clip-path=\"url(#p90f363854a)\" style=\"fill: #ff7f0e; opacity: 0.8\"/>\n   </g>\n   <g id=\"patch_156\">\n    <path d=\"M 362.770875 112932.797335 \nL 367.862625 112932.797335 \nL 367.862625 232.729563 \nL 362.770875 232.729563 \nz\n\" clip-path=\"url(#p90f363854a)\" style=\"fill: #ff7f0e; opacity: 0.8\"/>\n   </g>\n   <g id=\"patch_157\">\n    <path d=\"M 367.862625 112932.797335 \nL 372.954375 112932.797335 \nL 372.954375 198.813672 \nL 367.862625 198.813672 \nz\n\" clip-path=\"url(#p90f363854a)\" style=\"fill: #ff7f0e; opacity: 0.8\"/>\n   </g>\n   <g id=\"patch_158\">\n    <path d=\"M 372.954375 112932.797335 \nL 378.046125 112932.797335 \nL 378.046125 212.890039 \nL 372.954375 212.890039 \nz\n\" clip-path=\"url(#p90f363854a)\" style=\"fill: #ff7f0e; opacity: 0.8\"/>\n   </g>\n   <g id=\"patch_159\">\n    <path d=\"M 378.046125 112932.797335 \nL 383.137875 112932.797335 \nL 383.137875 232.729563 \nL 378.046125 232.729563 \nz\n\" clip-path=\"url(#p90f363854a)\" style=\"fill: #ff7f0e; opacity: 0.8\"/>\n   </g>\n   <g id=\"patch_160\">\n    <path d=\"M 383.137875 112932.797335 \nL 388.229625 112932.797335 \nL 388.229625 112932.797335 \nL 383.137875 112932.797335 \nz\n\" clip-path=\"url(#p90f363854a)\" style=\"fill: #ff7f0e; opacity: 0.8\"/>\n   </g>\n   <g id=\"patch_161\">\n    <path d=\"M 388.229625 112932.797335 \nL 393.321375 112932.797335 \nL 393.321375 112932.797335 \nL 388.229625 112932.797335 \nz\n\" clip-path=\"url(#p90f363854a)\" style=\"fill: #ff7f0e; opacity: 0.8\"/>\n   </g>\n   <g id=\"patch_162\">\n    <path d=\"M 393.321375 112932.797335 \nL 398.413125 112932.797335 \nL 398.413125 112932.797335 \nL 393.321375 112932.797335 \nz\n\" clip-path=\"url(#p90f363854a)\" style=\"fill: #ff7f0e; opacity: 0.8\"/>\n   </g>\n   <g id=\"patch_163\">\n    <path d=\"M 398.413125 112932.797335 \nL 403.504875 112932.797335 \nL 403.504875 266.645455 \nL 398.413125 266.645455 \nz\n\" clip-path=\"url(#p90f363854a)\" style=\"fill: #ff7f0e; opacity: 0.8\"/>\n   </g>\n   <g id=\"patch_164\">\n    <path d=\"M 403.504875 112932.797335 \nL 408.596625 112932.797335 \nL 408.596625 232.729563 \nL 403.504875 232.729563 \nz\n\" clip-path=\"url(#p90f363854a)\" style=\"fill: #ff7f0e; opacity: 0.8\"/>\n   </g>\n   <g id=\"patch_165\">\n    <path d=\"M 408.596625 112932.797335 \nL 413.688375 112932.797335 \nL 413.688375 266.645455 \nL 408.596625 266.645455 \nz\n\" clip-path=\"url(#p90f363854a)\" style=\"fill: #ff7f0e; opacity: 0.8\"/>\n   </g>\n   <g id=\"patch_166\">\n    <path d=\"M 413.688375 112932.797335 \nL 418.780125 112932.797335 \nL 418.780125 112932.797335 \nL 413.688375 112932.797335 \nz\n\" clip-path=\"url(#p90f363854a)\" style=\"fill: #ff7f0e; opacity: 0.8\"/>\n   </g>\n   <g id=\"patch_167\">\n    <path d=\"M 418.780125 112932.797335 \nL 423.871875 112932.797335 \nL 423.871875 266.645455 \nL 418.780125 266.645455 \nz\n\" clip-path=\"url(#p90f363854a)\" style=\"fill: #ff7f0e; opacity: 0.8\"/>\n   </g>\n   <g id=\"patch_168\">\n    <path d=\"M 423.871875 112932.797335 \nL 428.963625 112932.797335 \nL 428.963625 112932.797335 \nL 423.871875 112932.797335 \nz\n\" clip-path=\"url(#p90f363854a)\" style=\"fill: #ff7f0e; opacity: 0.8\"/>\n   </g>\n   <g id=\"patch_169\">\n    <path d=\"M 428.963625 112932.797335 \nL 434.055375 112932.797335 \nL 434.055375 112932.797335 \nL 428.963625 112932.797335 \nz\n\" clip-path=\"url(#p90f363854a)\" style=\"fill: #ff7f0e; opacity: 0.8\"/>\n   </g>\n   <g id=\"patch_170\">\n    <path d=\"M 434.055375 112932.797335 \nL 439.147125 112932.797335 \nL 439.147125 112932.797335 \nL 434.055375 112932.797335 \nz\n\" clip-path=\"url(#p90f363854a)\" style=\"fill: #ff7f0e; opacity: 0.8\"/>\n   </g>\n   <g id=\"patch_171\">\n    <path d=\"M 439.147125 112932.797335 \nL 444.238875 112932.797335 \nL 444.238875 112932.797335 \nL 439.147125 112932.797335 \nz\n\" clip-path=\"url(#p90f363854a)\" style=\"fill: #ff7f0e; opacity: 0.8\"/>\n   </g>\n   <g id=\"patch_172\">\n    <path d=\"M 444.238875 112932.797335 \nL 449.330625 112932.797335 \nL 449.330625 112932.797335 \nL 444.238875 112932.797335 \nz\n\" clip-path=\"url(#p90f363854a)\" style=\"fill: #ff7f0e; opacity: 0.8\"/>\n   </g>\n   <g id=\"patch_173\">\n    <path d=\"M 449.330625 112932.797335 \nL 454.422375 112932.797335 \nL 454.422375 112932.797335 \nL 449.330625 112932.797335 \nz\n\" clip-path=\"url(#p90f363854a)\" style=\"fill: #ff7f0e; opacity: 0.8\"/>\n   </g>\n   <g id=\"patch_174\">\n    <path d=\"M 454.422375 112932.797335 \nL 459.514125 112932.797335 \nL 459.514125 112932.797335 \nL 454.422375 112932.797335 \nz\n\" clip-path=\"url(#p90f363854a)\" style=\"fill: #ff7f0e; opacity: 0.8\"/>\n   </g>\n   <g id=\"patch_175\">\n    <path d=\"M 459.514125 112932.797335 \nL 464.605875 112932.797335 \nL 464.605875 112932.797335 \nL 459.514125 112932.797335 \nz\n\" clip-path=\"url(#p90f363854a)\" style=\"fill: #ff7f0e; opacity: 0.8\"/>\n   </g>\n   <g id=\"patch_176\">\n    <path d=\"M 464.605875 112932.797335 \nL 469.697625 112932.797335 \nL 469.697625 112932.797335 \nL 464.605875 112932.797335 \nz\n\" clip-path=\"url(#p90f363854a)\" style=\"fill: #ff7f0e; opacity: 0.8\"/>\n   </g>\n   <g id=\"patch_177\">\n    <path d=\"M 469.697625 112932.797335 \nL 474.789375 112932.797335 \nL 474.789375 266.645455 \nL 469.697625 266.645455 \nz\n\" clip-path=\"url(#p90f363854a)\" style=\"fill: #ff7f0e; opacity: 0.8\"/>\n   </g>\n   <g id=\"patch_178\">\n    <path d=\"M 474.789375 112932.797335 \nL 479.881125 112932.797335 \nL 479.881125 112932.797335 \nL 474.789375 112932.797335 \nz\n\" clip-path=\"url(#p90f363854a)\" style=\"fill: #ff7f0e; opacity: 0.8\"/>\n   </g>\n   <g id=\"patch_179\">\n    <path d=\"M 479.881125 112932.797335 \nL 484.972875 112932.797335 \nL 484.972875 112932.797335 \nL 479.881125 112932.797335 \nz\n\" clip-path=\"url(#p90f363854a)\" style=\"fill: #ff7f0e; opacity: 0.8\"/>\n   </g>\n   <g id=\"patch_180\">\n    <path d=\"M 484.972875 112932.797335 \nL 490.064625 112932.797335 \nL 490.064625 112932.797335 \nL 484.972875 112932.797335 \nz\n\" clip-path=\"url(#p90f363854a)\" style=\"fill: #ff7f0e; opacity: 0.8\"/>\n   </g>\n   <g id=\"patch_181\">\n    <path d=\"M 490.064625 112932.797335 \nL 495.156375 112932.797335 \nL 495.156375 112932.797335 \nL 490.064625 112932.797335 \nz\n\" clip-path=\"url(#p90f363854a)\" style=\"fill: #ff7f0e; opacity: 0.8\"/>\n   </g>\n   <g id=\"patch_182\">\n    <path d=\"M 495.156375 112932.797335 \nL 500.248125 112932.797335 \nL 500.248125 112932.797335 \nL 495.156375 112932.797335 \nz\n\" clip-path=\"url(#p90f363854a)\" style=\"fill: #ff7f0e; opacity: 0.8\"/>\n   </g>\n   <g id=\"patch_183\">\n    <path d=\"M 500.248125 112932.797335 \nL 505.339875 112932.797335 \nL 505.339875 232.729563 \nL 500.248125 232.729563 \nz\n\" clip-path=\"url(#p90f363854a)\" style=\"fill: #ff7f0e; opacity: 0.8\"/>\n   </g>\n   <g id=\"patch_184\">\n    <path d=\"M 505.339875 112932.797335 \nL 510.431625 112932.797335 \nL 510.431625 112932.797335 \nL 505.339875 112932.797335 \nz\n\" clip-path=\"url(#p90f363854a)\" style=\"fill: #ff7f0e; opacity: 0.8\"/>\n   </g>\n   <g id=\"patch_185\">\n    <path d=\"M 510.431625 112932.797335 \nL 515.523375 112932.797335 \nL 515.523375 112932.797335 \nL 510.431625 112932.797335 \nz\n\" clip-path=\"url(#p90f363854a)\" style=\"fill: #ff7f0e; opacity: 0.8\"/>\n   </g>\n   <g id=\"patch_186\">\n    <path d=\"M 515.523375 112932.797335 \nL 520.615125 112932.797335 \nL 520.615125 212.890039 \nL 515.523375 212.890039 \nz\n\" clip-path=\"url(#p90f363854a)\" style=\"fill: #ff7f0e; opacity: 0.8\"/>\n   </g>\n   <g id=\"patch_187\">\n    <path d=\"M 520.615125 112932.797335 \nL 525.706875 112932.797335 \nL 525.706875 112932.797335 \nL 520.615125 112932.797335 \nz\n\" clip-path=\"url(#p90f363854a)\" style=\"fill: #ff7f0e; opacity: 0.8\"/>\n   </g>\n   <g id=\"patch_188\">\n    <path d=\"M 525.706875 112932.797335 \nL 530.798625 112932.797335 \nL 530.798625 232.729563 \nL 525.706875 232.729563 \nz\n\" clip-path=\"url(#p90f363854a)\" style=\"fill: #ff7f0e; opacity: 0.8\"/>\n   </g>\n   <g id=\"patch_189\">\n    <path d=\"M 530.798625 112932.797335 \nL 535.890375 112932.797335 \nL 535.890375 198.813672 \nL 530.798625 198.813672 \nz\n\" clip-path=\"url(#p90f363854a)\" style=\"fill: #ff7f0e; opacity: 0.8\"/>\n   </g>\n   <g id=\"patch_190\">\n    <path d=\"M 535.890375 112932.797335 \nL 540.982125 112932.797335 \nL 540.982125 212.890039 \nL 535.890375 212.890039 \nz\n\" clip-path=\"url(#p90f363854a)\" style=\"fill: #ff7f0e; opacity: 0.8\"/>\n   </g>\n   <g id=\"patch_191\">\n    <path d=\"M 540.982125 112932.797335 \nL 546.073875 112932.797335 \nL 546.073875 232.729563 \nL 540.982125 232.729563 \nz\n\" clip-path=\"url(#p90f363854a)\" style=\"fill: #ff7f0e; opacity: 0.8\"/>\n   </g>\n   <g id=\"patch_192\">\n    <path d=\"M 546.073875 112932.797335 \nL 551.165625 112932.797335 \nL 551.165625 178.974148 \nL 546.073875 178.974148 \nz\n\" clip-path=\"url(#p90f363854a)\" style=\"fill: #ff7f0e; opacity: 0.8\"/>\n   </g>\n   <g id=\"patch_193\">\n    <path d=\"M 551.165625 112932.797335 \nL 556.257375 112932.797335 \nL 556.257375 198.813672 \nL 551.165625 198.813672 \nz\n\" clip-path=\"url(#p90f363854a)\" style=\"fill: #ff7f0e; opacity: 0.8\"/>\n   </g>\n   <g id=\"patch_194\">\n    <path d=\"M 556.257375 112932.797335 \nL 561.349125 112932.797335 \nL 561.349125 232.729563 \nL 556.257375 232.729563 \nz\n\" clip-path=\"url(#p90f363854a)\" style=\"fill: #ff7f0e; opacity: 0.8\"/>\n   </g>\n   <g id=\"patch_195\">\n    <path d=\"M 561.349125 112932.797335 \nL 566.440875 112932.797335 \nL 566.440875 198.813672 \nL 561.349125 198.813672 \nz\n\" clip-path=\"url(#p90f363854a)\" style=\"fill: #ff7f0e; opacity: 0.8\"/>\n   </g>\n   <g id=\"patch_196\">\n    <path d=\"M 566.440875 112932.797335 \nL 571.532625 112932.797335 \nL 571.532625 187.895194 \nL 566.440875 187.895194 \nz\n\" clip-path=\"url(#p90f363854a)\" style=\"fill: #ff7f0e; opacity: 0.8\"/>\n   </g>\n   <g id=\"patch_197\">\n    <path d=\"M 571.532625 112932.797335 \nL 576.624375 112932.797335 \nL 576.624375 159.134623 \nL 571.532625 159.134623 \nz\n\" clip-path=\"url(#p90f363854a)\" style=\"fill: #ff7f0e; opacity: 0.8\"/>\n   </g>\n   <g id=\"patch_198\">\n    <path d=\"M 576.624375 112932.797335 \nL 581.716125 112932.797335 \nL 581.716125 178.974148 \nL 576.624375 178.974148 \nz\n\" clip-path=\"url(#p90f363854a)\" style=\"fill: #ff7f0e; opacity: 0.8\"/>\n   </g>\n   <g id=\"patch_199\">\n    <path d=\"M 581.716125 112932.797335 \nL 586.807875 112932.797335 \nL 586.807875 159.134623 \nL 581.716125 159.134623 \nz\n\" clip-path=\"url(#p90f363854a)\" style=\"fill: #ff7f0e; opacity: 0.8\"/>\n   </g>\n   <g id=\"patch_200\">\n    <path d=\"M 586.807875 112932.797335 \nL 591.899625 112932.797335 \nL 591.899625 232.729563 \nL 586.807875 232.729563 \nz\n\" clip-path=\"url(#p90f363854a)\" style=\"fill: #ff7f0e; opacity: 0.8\"/>\n   </g>\n   <g id=\"patch_201\">\n    <path d=\"M 591.899625 112932.797335 \nL 596.991375 112932.797335 \nL 596.991375 212.890039 \nL 591.899625 212.890039 \nz\n\" clip-path=\"url(#p90f363854a)\" style=\"fill: #ff7f0e; opacity: 0.8\"/>\n   </g>\n   <g id=\"patch_202\">\n    <path d=\"M 596.991375 112932.797335 \nL 602.083125 112932.797335 \nL 602.083125 266.645455 \nL 596.991375 266.645455 \nz\n\" clip-path=\"url(#p90f363854a)\" style=\"fill: #ff7f0e; opacity: 0.8\"/>\n   </g>\n   <g id=\"matplotlib.axis_1\">\n    <g id=\"xtick_1\">\n     <g id=\"line2d_1\">\n      <defs>\n       <path id=\"m561894f006\" d=\"M 0 0 \nL 0 3.5 \n\" style=\"stroke: #000000; stroke-width: 0.8\"/>\n      </defs>\n      <g>\n       <use xlink:href=\"#m561894f006\" x=\"45.478125\" y=\"279\" style=\"stroke: #000000; stroke-width: 0.8\"/>\n      </g>\n     </g>\n     <g id=\"text_1\">\n      <!-- 1400 -->\n      <g transform=\"translate(32.753125 293.598437)scale(0.1 -0.1)\">\n       <defs>\n        <path id=\"DejaVuSans-31\" d=\"M 794 531 \nL 1825 531 \nL 1825 4091 \nL 703 3866 \nL 703 4441 \nL 1819 4666 \nL 2450 4666 \nL 2450 531 \nL 3481 531 \nL 3481 0 \nL 794 0 \nL 794 531 \nz\n\" transform=\"scale(0.015625)\"/>\n        <path id=\"DejaVuSans-34\" d=\"M 2419 4116 \nL 825 1625 \nL 2419 1625 \nL 2419 4116 \nz\nM 2253 4666 \nL 3047 4666 \nL 3047 1625 \nL 3713 1625 \nL 3713 1100 \nL 3047 1100 \nL 3047 0 \nL 2419 0 \nL 2419 1100 \nL 313 1100 \nL 313 1709 \nL 2253 4666 \nz\n\" transform=\"scale(0.015625)\"/>\n        <path id=\"DejaVuSans-30\" d=\"M 2034 4250 \nQ 1547 4250 1301 3770 \nQ 1056 3291 1056 2328 \nQ 1056 1369 1301 889 \nQ 1547 409 2034 409 \nQ 2525 409 2770 889 \nQ 3016 1369 3016 2328 \nQ 3016 3291 2770 3770 \nQ 2525 4250 2034 4250 \nz\nM 2034 4750 \nQ 2819 4750 3233 4129 \nQ 3647 3509 3647 2328 \nQ 3647 1150 3233 529 \nQ 2819 -91 2034 -91 \nQ 1250 -91 836 529 \nQ 422 1150 422 2328 \nQ 422 3509 836 4129 \nQ 1250 4750 2034 4750 \nz\n\" transform=\"scale(0.015625)\"/>\n       </defs>\n       <use xlink:href=\"#DejaVuSans-31\"/>\n       <use xlink:href=\"#DejaVuSans-34\" x=\"63.623047\"/>\n       <use xlink:href=\"#DejaVuSans-30\" x=\"127.246094\"/>\n       <use xlink:href=\"#DejaVuSans-30\" x=\"190.869141\"/>\n      </g>\n     </g>\n    </g>\n    <g id=\"xtick_2\">\n     <g id=\"line2d_2\">\n      <g>\n       <use xlink:href=\"#m561894f006\" x=\"115.228125\" y=\"279\" style=\"stroke: #000000; stroke-width: 0.8\"/>\n      </g>\n     </g>\n     <g id=\"text_2\">\n      <!-- 1450 -->\n      <g transform=\"translate(102.503125 293.598437)scale(0.1 -0.1)\">\n       <defs>\n        <path id=\"DejaVuSans-35\" d=\"M 691 4666 \nL 3169 4666 \nL 3169 4134 \nL 1269 4134 \nL 1269 2991 \nQ 1406 3038 1543 3061 \nQ 1681 3084 1819 3084 \nQ 2600 3084 3056 2656 \nQ 3513 2228 3513 1497 \nQ 3513 744 3044 326 \nQ 2575 -91 1722 -91 \nQ 1428 -91 1123 -41 \nQ 819 9 494 109 \nL 494 744 \nQ 775 591 1075 516 \nQ 1375 441 1709 441 \nQ 2250 441 2565 725 \nQ 2881 1009 2881 1497 \nQ 2881 1984 2565 2268 \nQ 2250 2553 1709 2553 \nQ 1456 2553 1204 2497 \nQ 953 2441 691 2322 \nL 691 4666 \nz\n\" transform=\"scale(0.015625)\"/>\n       </defs>\n       <use xlink:href=\"#DejaVuSans-31\"/>\n       <use xlink:href=\"#DejaVuSans-34\" x=\"63.623047\"/>\n       <use xlink:href=\"#DejaVuSans-35\" x=\"127.246094\"/>\n       <use xlink:href=\"#DejaVuSans-30\" x=\"190.869141\"/>\n      </g>\n     </g>\n    </g>\n    <g id=\"xtick_3\">\n     <g id=\"line2d_3\">\n      <g>\n       <use xlink:href=\"#m561894f006\" x=\"184.978125\" y=\"279\" style=\"stroke: #000000; stroke-width: 0.8\"/>\n      </g>\n     </g>\n     <g id=\"text_3\">\n      <!-- 1500 -->\n      <g transform=\"translate(172.253125 293.598437)scale(0.1 -0.1)\">\n       <use xlink:href=\"#DejaVuSans-31\"/>\n       <use xlink:href=\"#DejaVuSans-35\" x=\"63.623047\"/>\n       <use xlink:href=\"#DejaVuSans-30\" x=\"127.246094\"/>\n       <use xlink:href=\"#DejaVuSans-30\" x=\"190.869141\"/>\n      </g>\n     </g>\n    </g>\n    <g id=\"xtick_4\">\n     <g id=\"line2d_4\">\n      <g>\n       <use xlink:href=\"#m561894f006\" x=\"254.728125\" y=\"279\" style=\"stroke: #000000; stroke-width: 0.8\"/>\n      </g>\n     </g>\n     <g id=\"text_4\">\n      <!-- 1550 -->\n      <g transform=\"translate(242.003125 293.598437)scale(0.1 -0.1)\">\n       <use xlink:href=\"#DejaVuSans-31\"/>\n       <use xlink:href=\"#DejaVuSans-35\" x=\"63.623047\"/>\n       <use xlink:href=\"#DejaVuSans-35\" x=\"127.246094\"/>\n       <use xlink:href=\"#DejaVuSans-30\" x=\"190.869141\"/>\n      </g>\n     </g>\n    </g>\n    <g id=\"xtick_5\">\n     <g id=\"line2d_5\">\n      <g>\n       <use xlink:href=\"#m561894f006\" x=\"324.478125\" y=\"279\" style=\"stroke: #000000; stroke-width: 0.8\"/>\n      </g>\n     </g>\n     <g id=\"text_5\">\n      <!-- 1600 -->\n      <g transform=\"translate(311.753125 293.598437)scale(0.1 -0.1)\">\n       <defs>\n        <path id=\"DejaVuSans-36\" d=\"M 2113 2584 \nQ 1688 2584 1439 2293 \nQ 1191 2003 1191 1497 \nQ 1191 994 1439 701 \nQ 1688 409 2113 409 \nQ 2538 409 2786 701 \nQ 3034 994 3034 1497 \nQ 3034 2003 2786 2293 \nQ 2538 2584 2113 2584 \nz\nM 3366 4563 \nL 3366 3988 \nQ 3128 4100 2886 4159 \nQ 2644 4219 2406 4219 \nQ 1781 4219 1451 3797 \nQ 1122 3375 1075 2522 \nQ 1259 2794 1537 2939 \nQ 1816 3084 2150 3084 \nQ 2853 3084 3261 2657 \nQ 3669 2231 3669 1497 \nQ 3669 778 3244 343 \nQ 2819 -91 2113 -91 \nQ 1303 -91 875 529 \nQ 447 1150 447 2328 \nQ 447 3434 972 4092 \nQ 1497 4750 2381 4750 \nQ 2619 4750 2861 4703 \nQ 3103 4656 3366 4563 \nz\n\" transform=\"scale(0.015625)\"/>\n       </defs>\n       <use xlink:href=\"#DejaVuSans-31\"/>\n       <use xlink:href=\"#DejaVuSans-36\" x=\"63.623047\"/>\n       <use xlink:href=\"#DejaVuSans-30\" x=\"127.246094\"/>\n       <use xlink:href=\"#DejaVuSans-30\" x=\"190.869141\"/>\n      </g>\n     </g>\n    </g>\n    <g id=\"xtick_6\">\n     <g id=\"line2d_6\">\n      <g>\n       <use xlink:href=\"#m561894f006\" x=\"394.228125\" y=\"279\" style=\"stroke: #000000; stroke-width: 0.8\"/>\n      </g>\n     </g>\n     <g id=\"text_6\">\n      <!-- 1650 -->\n      <g transform=\"translate(381.503125 293.598437)scale(0.1 -0.1)\">\n       <use xlink:href=\"#DejaVuSans-31\"/>\n       <use xlink:href=\"#DejaVuSans-36\" x=\"63.623047\"/>\n       <use xlink:href=\"#DejaVuSans-35\" x=\"127.246094\"/>\n       <use xlink:href=\"#DejaVuSans-30\" x=\"190.869141\"/>\n      </g>\n     </g>\n    </g>\n    <g id=\"xtick_7\">\n     <g id=\"line2d_7\">\n      <g>\n       <use xlink:href=\"#m561894f006\" x=\"463.978125\" y=\"279\" style=\"stroke: #000000; stroke-width: 0.8\"/>\n      </g>\n     </g>\n     <g id=\"text_7\">\n      <!-- 1700 -->\n      <g transform=\"translate(451.253125 293.598437)scale(0.1 -0.1)\">\n       <defs>\n        <path id=\"DejaVuSans-37\" d=\"M 525 4666 \nL 3525 4666 \nL 3525 4397 \nL 1831 0 \nL 1172 0 \nL 2766 4134 \nL 525 4134 \nL 525 4666 \nz\n\" transform=\"scale(0.015625)\"/>\n       </defs>\n       <use xlink:href=\"#DejaVuSans-31\"/>\n       <use xlink:href=\"#DejaVuSans-37\" x=\"63.623047\"/>\n       <use xlink:href=\"#DejaVuSans-30\" x=\"127.246094\"/>\n       <use xlink:href=\"#DejaVuSans-30\" x=\"190.869141\"/>\n      </g>\n     </g>\n    </g>\n    <g id=\"xtick_8\">\n     <g id=\"line2d_8\">\n      <g>\n       <use xlink:href=\"#m561894f006\" x=\"533.728125\" y=\"279\" style=\"stroke: #000000; stroke-width: 0.8\"/>\n      </g>\n     </g>\n     <g id=\"text_8\">\n      <!-- 1750 -->\n      <g transform=\"translate(521.003125 293.598437)scale(0.1 -0.1)\">\n       <use xlink:href=\"#DejaVuSans-31\"/>\n       <use xlink:href=\"#DejaVuSans-37\" x=\"63.623047\"/>\n       <use xlink:href=\"#DejaVuSans-35\" x=\"127.246094\"/>\n       <use xlink:href=\"#DejaVuSans-30\" x=\"190.869141\"/>\n      </g>\n     </g>\n    </g>\n    <g id=\"xtick_9\">\n     <g id=\"line2d_9\">\n      <g>\n       <use xlink:href=\"#m561894f006\" x=\"603.478125\" y=\"279\" style=\"stroke: #000000; stroke-width: 0.8\"/>\n      </g>\n     </g>\n     <g id=\"text_9\">\n      <!-- 1800 -->\n      <g transform=\"translate(590.753125 293.598437)scale(0.1 -0.1)\">\n       <defs>\n        <path id=\"DejaVuSans-38\" d=\"M 2034 2216 \nQ 1584 2216 1326 1975 \nQ 1069 1734 1069 1313 \nQ 1069 891 1326 650 \nQ 1584 409 2034 409 \nQ 2484 409 2743 651 \nQ 3003 894 3003 1313 \nQ 3003 1734 2745 1975 \nQ 2488 2216 2034 2216 \nz\nM 1403 2484 \nQ 997 2584 770 2862 \nQ 544 3141 544 3541 \nQ 544 4100 942 4425 \nQ 1341 4750 2034 4750 \nQ 2731 4750 3128 4425 \nQ 3525 4100 3525 3541 \nQ 3525 3141 3298 2862 \nQ 3072 2584 2669 2484 \nQ 3125 2378 3379 2068 \nQ 3634 1759 3634 1313 \nQ 3634 634 3220 271 \nQ 2806 -91 2034 -91 \nQ 1263 -91 848 271 \nQ 434 634 434 1313 \nQ 434 1759 690 2068 \nQ 947 2378 1403 2484 \nz\nM 1172 3481 \nQ 1172 3119 1398 2916 \nQ 1625 2713 2034 2713 \nQ 2441 2713 2670 2916 \nQ 2900 3119 2900 3481 \nQ 2900 3844 2670 4047 \nQ 2441 4250 2034 4250 \nQ 1625 4250 1398 4047 \nQ 1172 3844 1172 3481 \nz\n\" transform=\"scale(0.015625)\"/>\n       </defs>\n       <use xlink:href=\"#DejaVuSans-31\"/>\n       <use xlink:href=\"#DejaVuSans-38\" x=\"63.623047\"/>\n       <use xlink:href=\"#DejaVuSans-30\" x=\"127.246094\"/>\n       <use xlink:href=\"#DejaVuSans-30\" x=\"190.869141\"/>\n      </g>\n     </g>\n    </g>\n    <g id=\"text_10\">\n     <!-- Year -->\n     <g transform=\"translate(313.890625 307.276562)scale(0.1 -0.1)\">\n      <defs>\n       <path id=\"DejaVuSans-59\" d=\"M -13 4666 \nL 666 4666 \nL 1959 2747 \nL 3244 4666 \nL 3922 4666 \nL 2272 2222 \nL 2272 0 \nL 1638 0 \nL 1638 2222 \nL -13 4666 \nz\n\" transform=\"scale(0.015625)\"/>\n       <path id=\"DejaVuSans-65\" d=\"M 3597 1894 \nL 3597 1613 \nL 953 1613 \nQ 991 1019 1311 708 \nQ 1631 397 2203 397 \nQ 2534 397 2845 478 \nQ 3156 559 3463 722 \nL 3463 178 \nQ 3153 47 2828 -22 \nQ 2503 -91 2169 -91 \nQ 1331 -91 842 396 \nQ 353 884 353 1716 \nQ 353 2575 817 3079 \nQ 1281 3584 2069 3584 \nQ 2775 3584 3186 3129 \nQ 3597 2675 3597 1894 \nz\nM 3022 2063 \nQ 3016 2534 2758 2815 \nQ 2500 3097 2075 3097 \nQ 1594 3097 1305 2825 \nQ 1016 2553 972 2059 \nL 3022 2063 \nz\n\" transform=\"scale(0.015625)\"/>\n       <path id=\"DejaVuSans-61\" d=\"M 2194 1759 \nQ 1497 1759 1228 1600 \nQ 959 1441 959 1056 \nQ 959 750 1161 570 \nQ 1363 391 1709 391 \nQ 2188 391 2477 730 \nQ 2766 1069 2766 1631 \nL 2766 1759 \nL 2194 1759 \nz\nM 3341 1997 \nL 3341 0 \nL 2766 0 \nL 2766 531 \nQ 2569 213 2275 61 \nQ 1981 -91 1556 -91 \nQ 1019 -91 701 211 \nQ 384 513 384 1019 \nQ 384 1609 779 1909 \nQ 1175 2209 1959 2209 \nL 2766 2209 \nL 2766 2266 \nQ 2766 2663 2505 2880 \nQ 2244 3097 1772 3097 \nQ 1472 3097 1187 3025 \nQ 903 2953 641 2809 \nL 641 3341 \nQ 956 3463 1253 3523 \nQ 1550 3584 1831 3584 \nQ 2591 3584 2966 3190 \nQ 3341 2797 3341 1997 \nz\n\" transform=\"scale(0.015625)\"/>\n       <path id=\"DejaVuSans-72\" d=\"M 2631 2963 \nQ 2534 3019 2420 3045 \nQ 2306 3072 2169 3072 \nQ 1681 3072 1420 2755 \nQ 1159 2438 1159 1844 \nL 1159 0 \nL 581 0 \nL 581 3500 \nL 1159 3500 \nL 1159 2956 \nQ 1341 3275 1631 3429 \nQ 1922 3584 2338 3584 \nQ 2397 3584 2469 3576 \nQ 2541 3569 2628 3553 \nL 2631 2963 \nz\n\" transform=\"scale(0.015625)\"/>\n      </defs>\n      <use xlink:href=\"#DejaVuSans-59\"/>\n      <use xlink:href=\"#DejaVuSans-65\" x=\"47.833984\"/>\n      <use xlink:href=\"#DejaVuSans-61\" x=\"109.357422\"/>\n      <use xlink:href=\"#DejaVuSans-72\" x=\"170.636719\"/>\n     </g>\n    </g>\n   </g>\n   <g id=\"matplotlib.axis_2\">\n    <g id=\"ytick_1\">\n     <g id=\"line2d_10\">\n      <defs>\n       <path id=\"m3ba12339ab\" d=\"M 0 0 \nL -3.5 0 \n\" style=\"stroke: #000000; stroke-width: 0.8\"/>\n      </defs>\n      <g>\n       <use xlink:href=\"#m3ba12339ab\" x=\"45.478125\" y=\"266.645455\" style=\"stroke: #000000; stroke-width: 0.8\"/>\n      </g>\n     </g>\n     <g id=\"text_11\">\n      <!-- $\\mathdefault{10^{0}}$ -->\n      <g transform=\"translate(20.878125 270.444673)scale(0.1 -0.1)\">\n       <use xlink:href=\"#DejaVuSans-31\" transform=\"translate(0 0.765625)\"/>\n       <use xlink:href=\"#DejaVuSans-30\" transform=\"translate(63.623047 0.765625)\"/>\n       <use xlink:href=\"#DejaVuSans-30\" transform=\"translate(128.203125 39.046875)scale(0.7)\"/>\n      </g>\n     </g>\n    </g>\n    <g id=\"ytick_2\">\n     <g id=\"line2d_11\">\n      <g>\n       <use xlink:href=\"#m3ba12339ab\" x=\"45.478125\" y=\"153.979303\" style=\"stroke: #000000; stroke-width: 0.8\"/>\n      </g>\n     </g>\n     <g id=\"text_12\">\n      <!-- $\\mathdefault{10^{1}}$ -->\n      <g transform=\"translate(20.878125 157.778521)scale(0.1 -0.1)\">\n       <use xlink:href=\"#DejaVuSans-31\" transform=\"translate(0 0.684375)\"/>\n       <use xlink:href=\"#DejaVuSans-30\" transform=\"translate(63.623047 0.684375)\"/>\n       <use xlink:href=\"#DejaVuSans-31\" transform=\"translate(128.203125 38.965625)scale(0.7)\"/>\n      </g>\n     </g>\n    </g>\n    <g id=\"ytick_3\">\n     <g id=\"line2d_12\">\n      <g>\n       <use xlink:href=\"#m3ba12339ab\" x=\"45.478125\" y=\"41.313151\" style=\"stroke: #000000; stroke-width: 0.8\"/>\n      </g>\n     </g>\n     <g id=\"text_13\">\n      <!-- $\\mathdefault{10^{2}}$ -->\n      <g transform=\"translate(20.878125 45.11237)scale(0.1 -0.1)\">\n       <defs>\n        <path id=\"DejaVuSans-32\" d=\"M 1228 531 \nL 3431 531 \nL 3431 0 \nL 469 0 \nL 469 531 \nQ 828 903 1448 1529 \nQ 2069 2156 2228 2338 \nQ 2531 2678 2651 2914 \nQ 2772 3150 2772 3378 \nQ 2772 3750 2511 3984 \nQ 2250 4219 1831 4219 \nQ 1534 4219 1204 4116 \nQ 875 4013 500 3803 \nL 500 4441 \nQ 881 4594 1212 4672 \nQ 1544 4750 1819 4750 \nQ 2544 4750 2975 4387 \nQ 3406 4025 3406 3419 \nQ 3406 3131 3298 2873 \nQ 3191 2616 2906 2266 \nQ 2828 2175 2409 1742 \nQ 1991 1309 1228 531 \nz\n\" transform=\"scale(0.015625)\"/>\n       </defs>\n       <use xlink:href=\"#DejaVuSans-31\" transform=\"translate(0 0.765625)\"/>\n       <use xlink:href=\"#DejaVuSans-30\" transform=\"translate(63.623047 0.765625)\"/>\n       <use xlink:href=\"#DejaVuSans-32\" transform=\"translate(128.203125 39.046875)scale(0.7)\"/>\n      </g>\n     </g>\n    </g>\n    <g id=\"ytick_4\">\n     <g id=\"line2d_13\">\n      <defs>\n       <path id=\"m114b2835a1\" d=\"M 0 0 \nL -2 0 \n\" style=\"stroke: #000000; stroke-width: 0.6\"/>\n      </defs>\n      <g>\n       <use xlink:href=\"#m114b2835a1\" x=\"45.478125\" y=\"277.563933\" style=\"stroke: #000000; stroke-width: 0.6\"/>\n      </g>\n     </g>\n    </g>\n    <g id=\"ytick_5\">\n     <g id=\"line2d_14\">\n      <g>\n       <use xlink:href=\"#m114b2835a1\" x=\"45.478125\" y=\"271.800775\" style=\"stroke: #000000; stroke-width: 0.6\"/>\n      </g>\n     </g>\n    </g>\n    <g id=\"ytick_6\">\n     <g id=\"line2d_15\">\n      <g>\n       <use xlink:href=\"#m114b2835a1\" x=\"45.478125\" y=\"232.729563\" style=\"stroke: #000000; stroke-width: 0.6\"/>\n      </g>\n     </g>\n    </g>\n    <g id=\"ytick_7\">\n     <g id=\"line2d_16\">\n      <g>\n       <use xlink:href=\"#m114b2835a1\" x=\"45.478125\" y=\"212.890039\" style=\"stroke: #000000; stroke-width: 0.6\"/>\n      </g>\n     </g>\n    </g>\n    <g id=\"ytick_8\">\n     <g id=\"line2d_17\">\n      <g>\n       <use xlink:href=\"#m114b2835a1\" x=\"45.478125\" y=\"198.813672\" style=\"stroke: #000000; stroke-width: 0.6\"/>\n      </g>\n     </g>\n    </g>\n    <g id=\"ytick_9\">\n     <g id=\"line2d_18\">\n      <g>\n       <use xlink:href=\"#m114b2835a1\" x=\"45.478125\" y=\"187.895194\" style=\"stroke: #000000; stroke-width: 0.6\"/>\n      </g>\n     </g>\n    </g>\n    <g id=\"ytick_10\">\n     <g id=\"line2d_19\">\n      <g>\n       <use xlink:href=\"#m114b2835a1\" x=\"45.478125\" y=\"178.974148\" style=\"stroke: #000000; stroke-width: 0.6\"/>\n      </g>\n     </g>\n    </g>\n    <g id=\"ytick_11\">\n     <g id=\"line2d_20\">\n      <g>\n       <use xlink:href=\"#m114b2835a1\" x=\"45.478125\" y=\"171.43151\" style=\"stroke: #000000; stroke-width: 0.6\"/>\n      </g>\n     </g>\n    </g>\n    <g id=\"ytick_12\">\n     <g id=\"line2d_21\">\n      <g>\n       <use xlink:href=\"#m114b2835a1\" x=\"45.478125\" y=\"164.897781\" style=\"stroke: #000000; stroke-width: 0.6\"/>\n      </g>\n     </g>\n    </g>\n    <g id=\"ytick_13\">\n     <g id=\"line2d_22\">\n      <g>\n       <use xlink:href=\"#m114b2835a1\" x=\"45.478125\" y=\"159.134623\" style=\"stroke: #000000; stroke-width: 0.6\"/>\n      </g>\n     </g>\n    </g>\n    <g id=\"ytick_14\">\n     <g id=\"line2d_23\">\n      <g>\n       <use xlink:href=\"#m114b2835a1\" x=\"45.478125\" y=\"120.063411\" style=\"stroke: #000000; stroke-width: 0.6\"/>\n      </g>\n     </g>\n    </g>\n    <g id=\"ytick_15\">\n     <g id=\"line2d_24\">\n      <g>\n       <use xlink:href=\"#m114b2835a1\" x=\"45.478125\" y=\"100.223887\" style=\"stroke: #000000; stroke-width: 0.6\"/>\n      </g>\n     </g>\n    </g>\n    <g id=\"ytick_16\">\n     <g id=\"line2d_25\">\n      <g>\n       <use xlink:href=\"#m114b2835a1\" x=\"45.478125\" y=\"86.14752\" style=\"stroke: #000000; stroke-width: 0.6\"/>\n      </g>\n     </g>\n    </g>\n    <g id=\"ytick_17\">\n     <g id=\"line2d_26\">\n      <g>\n       <use xlink:href=\"#m114b2835a1\" x=\"45.478125\" y=\"75.229042\" style=\"stroke: #000000; stroke-width: 0.6\"/>\n      </g>\n     </g>\n    </g>\n    <g id=\"ytick_18\">\n     <g id=\"line2d_27\">\n      <g>\n       <use xlink:href=\"#m114b2835a1\" x=\"45.478125\" y=\"66.307996\" style=\"stroke: #000000; stroke-width: 0.6\"/>\n      </g>\n     </g>\n    </g>\n    <g id=\"ytick_19\">\n     <g id=\"line2d_28\">\n      <g>\n       <use xlink:href=\"#m114b2835a1\" x=\"45.478125\" y=\"58.765359\" style=\"stroke: #000000; stroke-width: 0.6\"/>\n      </g>\n     </g>\n    </g>\n    <g id=\"ytick_20\">\n     <g id=\"line2d_29\">\n      <g>\n       <use xlink:href=\"#m114b2835a1\" x=\"45.478125\" y=\"52.231629\" style=\"stroke: #000000; stroke-width: 0.6\"/>\n      </g>\n     </g>\n    </g>\n    <g id=\"ytick_21\">\n     <g id=\"line2d_30\">\n      <g>\n       <use xlink:href=\"#m114b2835a1\" x=\"45.478125\" y=\"46.468471\" style=\"stroke: #000000; stroke-width: 0.6\"/>\n      </g>\n     </g>\n    </g>\n    <g id=\"ytick_22\">\n     <g id=\"line2d_31\">\n      <g>\n       <use xlink:href=\"#m114b2835a1\" x=\"45.478125\" y=\"7.39726\" style=\"stroke: #000000; stroke-width: 0.6\"/>\n      </g>\n     </g>\n    </g>\n    <g id=\"text_14\">\n     <!-- Count -->\n     <g transform=\"translate(14.798437 157.948437)rotate(-90)scale(0.1 -0.1)\">\n      <defs>\n       <path id=\"DejaVuSans-43\" d=\"M 4122 4306 \nL 4122 3641 \nQ 3803 3938 3442 4084 \nQ 3081 4231 2675 4231 \nQ 1875 4231 1450 3742 \nQ 1025 3253 1025 2328 \nQ 1025 1406 1450 917 \nQ 1875 428 2675 428 \nQ 3081 428 3442 575 \nQ 3803 722 4122 1019 \nL 4122 359 \nQ 3791 134 3420 21 \nQ 3050 -91 2638 -91 \nQ 1578 -91 968 557 \nQ 359 1206 359 2328 \nQ 359 3453 968 4101 \nQ 1578 4750 2638 4750 \nQ 3056 4750 3426 4639 \nQ 3797 4528 4122 4306 \nz\n\" transform=\"scale(0.015625)\"/>\n       <path id=\"DejaVuSans-6f\" d=\"M 1959 3097 \nQ 1497 3097 1228 2736 \nQ 959 2375 959 1747 \nQ 959 1119 1226 758 \nQ 1494 397 1959 397 \nQ 2419 397 2687 759 \nQ 2956 1122 2956 1747 \nQ 2956 2369 2687 2733 \nQ 2419 3097 1959 3097 \nz\nM 1959 3584 \nQ 2709 3584 3137 3096 \nQ 3566 2609 3566 1747 \nQ 3566 888 3137 398 \nQ 2709 -91 1959 -91 \nQ 1206 -91 779 398 \nQ 353 888 353 1747 \nQ 353 2609 779 3096 \nQ 1206 3584 1959 3584 \nz\n\" transform=\"scale(0.015625)\"/>\n       <path id=\"DejaVuSans-75\" d=\"M 544 1381 \nL 544 3500 \nL 1119 3500 \nL 1119 1403 \nQ 1119 906 1312 657 \nQ 1506 409 1894 409 \nQ 2359 409 2629 706 \nQ 2900 1003 2900 1516 \nL 2900 3500 \nL 3475 3500 \nL 3475 0 \nL 2900 0 \nL 2900 538 \nQ 2691 219 2414 64 \nQ 2138 -91 1772 -91 \nQ 1169 -91 856 284 \nQ 544 659 544 1381 \nz\nM 1991 3584 \nL 1991 3584 \nz\n\" transform=\"scale(0.015625)\"/>\n       <path id=\"DejaVuSans-6e\" d=\"M 3513 2113 \nL 3513 0 \nL 2938 0 \nL 2938 2094 \nQ 2938 2591 2744 2837 \nQ 2550 3084 2163 3084 \nQ 1697 3084 1428 2787 \nQ 1159 2491 1159 1978 \nL 1159 0 \nL 581 0 \nL 581 3500 \nL 1159 3500 \nL 1159 2956 \nQ 1366 3272 1645 3428 \nQ 1925 3584 2291 3584 \nQ 2894 3584 3203 3211 \nQ 3513 2838 3513 2113 \nz\n\" transform=\"scale(0.015625)\"/>\n       <path id=\"DejaVuSans-74\" d=\"M 1172 4494 \nL 1172 3500 \nL 2356 3500 \nL 2356 3053 \nL 1172 3053 \nL 1172 1153 \nQ 1172 725 1289 603 \nQ 1406 481 1766 481 \nL 2356 481 \nL 2356 0 \nL 1766 0 \nQ 1100 0 847 248 \nQ 594 497 594 1153 \nL 594 3053 \nL 172 3053 \nL 172 3500 \nL 594 3500 \nL 594 4494 \nL 1172 4494 \nz\n\" transform=\"scale(0.015625)\"/>\n      </defs>\n      <use xlink:href=\"#DejaVuSans-43\"/>\n      <use xlink:href=\"#DejaVuSans-6f\" x=\"69.824219\"/>\n      <use xlink:href=\"#DejaVuSans-75\" x=\"131.005859\"/>\n      <use xlink:href=\"#DejaVuSans-6e\" x=\"194.384766\"/>\n      <use xlink:href=\"#DejaVuSans-74\" x=\"257.763672\"/>\n     </g>\n    </g>\n   </g>\n   <g id=\"patch_203\">\n    <path d=\"M 45.478125 279 \nL 45.478125 7.2 \n\" style=\"fill: none; stroke: #000000; stroke-width: 0.8; stroke-linejoin: miter; stroke-linecap: square\"/>\n   </g>\n   <g id=\"patch_204\">\n    <path d=\"M 603.478125 279 \nL 603.478125 7.2 \n\" style=\"fill: none; stroke: #000000; stroke-width: 0.8; stroke-linejoin: miter; stroke-linecap: square\"/>\n   </g>\n   <g id=\"patch_205\">\n    <path d=\"M 45.478125 279 \nL 603.478125 279 \n\" style=\"fill: none; stroke: #000000; stroke-width: 0.8; stroke-linejoin: miter; stroke-linecap: square\"/>\n   </g>\n   <g id=\"patch_206\">\n    <path d=\"M 45.478125 7.2 \nL 603.478125 7.2 \n\" style=\"fill: none; stroke: #000000; stroke-width: 0.8; stroke-linejoin: miter; stroke-linecap: square\"/>\n   </g>\n   <g id=\"legend_1\">\n    <g id=\"patch_207\">\n     <path d=\"M 52.478125 44.55625 \nL 202.489063 44.55625 \nQ 204.489063 44.55625 204.489063 42.55625 \nL 204.489063 14.2 \nQ 204.489063 12.2 202.489063 12.2 \nL 52.478125 12.2 \nQ 50.478125 12.2 50.478125 14.2 \nL 50.478125 42.55625 \nQ 50.478125 44.55625 52.478125 44.55625 \nz\n\" style=\"fill: #ffffff; opacity: 0.8; stroke: #cccccc; stroke-linejoin: miter\"/>\n    </g>\n    <g id=\"patch_208\">\n     <path d=\"M 54.478125 23.798437 \nL 74.478125 23.798437 \nL 74.478125 16.798437 \nL 54.478125 16.798437 \nz\n\" style=\"fill: #1f77b4; opacity: 0.5\"/>\n    </g>\n    <g id=\"text_15\">\n     <!-- (Self-)Portraits -->\n     <g transform=\"translate(82.478125 23.798437)scale(0.1 -0.1)\">\n      <defs>\n       <path id=\"DejaVuSans-28\" d=\"M 1984 4856 \nQ 1566 4138 1362 3434 \nQ 1159 2731 1159 2009 \nQ 1159 1288 1364 580 \nQ 1569 -128 1984 -844 \nL 1484 -844 \nQ 1016 -109 783 600 \nQ 550 1309 550 2009 \nQ 550 2706 781 3412 \nQ 1013 4119 1484 4856 \nL 1984 4856 \nz\n\" transform=\"scale(0.015625)\"/>\n       <path id=\"DejaVuSans-53\" d=\"M 3425 4513 \nL 3425 3897 \nQ 3066 4069 2747 4153 \nQ 2428 4238 2131 4238 \nQ 1616 4238 1336 4038 \nQ 1056 3838 1056 3469 \nQ 1056 3159 1242 3001 \nQ 1428 2844 1947 2747 \nL 2328 2669 \nQ 3034 2534 3370 2195 \nQ 3706 1856 3706 1288 \nQ 3706 609 3251 259 \nQ 2797 -91 1919 -91 \nQ 1588 -91 1214 -16 \nQ 841 59 441 206 \nL 441 856 \nQ 825 641 1194 531 \nQ 1563 422 1919 422 \nQ 2459 422 2753 634 \nQ 3047 847 3047 1241 \nQ 3047 1584 2836 1778 \nQ 2625 1972 2144 2069 \nL 1759 2144 \nQ 1053 2284 737 2584 \nQ 422 2884 422 3419 \nQ 422 4038 858 4394 \nQ 1294 4750 2059 4750 \nQ 2388 4750 2728 4690 \nQ 3069 4631 3425 4513 \nz\n\" transform=\"scale(0.015625)\"/>\n       <path id=\"DejaVuSans-6c\" d=\"M 603 4863 \nL 1178 4863 \nL 1178 0 \nL 603 0 \nL 603 4863 \nz\n\" transform=\"scale(0.015625)\"/>\n       <path id=\"DejaVuSans-66\" d=\"M 2375 4863 \nL 2375 4384 \nL 1825 4384 \nQ 1516 4384 1395 4259 \nQ 1275 4134 1275 3809 \nL 1275 3500 \nL 2222 3500 \nL 2222 3053 \nL 1275 3053 \nL 1275 0 \nL 697 0 \nL 697 3053 \nL 147 3053 \nL 147 3500 \nL 697 3500 \nL 697 3744 \nQ 697 4328 969 4595 \nQ 1241 4863 1831 4863 \nL 2375 4863 \nz\n\" transform=\"scale(0.015625)\"/>\n       <path id=\"DejaVuSans-2d\" d=\"M 313 2009 \nL 1997 2009 \nL 1997 1497 \nL 313 1497 \nL 313 2009 \nz\n\" transform=\"scale(0.015625)\"/>\n       <path id=\"DejaVuSans-29\" d=\"M 513 4856 \nL 1013 4856 \nQ 1481 4119 1714 3412 \nQ 1947 2706 1947 2009 \nQ 1947 1309 1714 600 \nQ 1481 -109 1013 -844 \nL 513 -844 \nQ 928 -128 1133 580 \nQ 1338 1288 1338 2009 \nQ 1338 2731 1133 3434 \nQ 928 4138 513 4856 \nz\n\" transform=\"scale(0.015625)\"/>\n       <path id=\"DejaVuSans-50\" d=\"M 1259 4147 \nL 1259 2394 \nL 2053 2394 \nQ 2494 2394 2734 2622 \nQ 2975 2850 2975 3272 \nQ 2975 3691 2734 3919 \nQ 2494 4147 2053 4147 \nL 1259 4147 \nz\nM 628 4666 \nL 2053 4666 \nQ 2838 4666 3239 4311 \nQ 3641 3956 3641 3272 \nQ 3641 2581 3239 2228 \nQ 2838 1875 2053 1875 \nL 1259 1875 \nL 1259 0 \nL 628 0 \nL 628 4666 \nz\n\" transform=\"scale(0.015625)\"/>\n       <path id=\"DejaVuSans-69\" d=\"M 603 3500 \nL 1178 3500 \nL 1178 0 \nL 603 0 \nL 603 3500 \nz\nM 603 4863 \nL 1178 4863 \nL 1178 4134 \nL 603 4134 \nL 603 4863 \nz\n\" transform=\"scale(0.015625)\"/>\n       <path id=\"DejaVuSans-73\" d=\"M 2834 3397 \nL 2834 2853 \nQ 2591 2978 2328 3040 \nQ 2066 3103 1784 3103 \nQ 1356 3103 1142 2972 \nQ 928 2841 928 2578 \nQ 928 2378 1081 2264 \nQ 1234 2150 1697 2047 \nL 1894 2003 \nQ 2506 1872 2764 1633 \nQ 3022 1394 3022 966 \nQ 3022 478 2636 193 \nQ 2250 -91 1575 -91 \nQ 1294 -91 989 -36 \nQ 684 19 347 128 \nL 347 722 \nQ 666 556 975 473 \nQ 1284 391 1588 391 \nQ 1994 391 2212 530 \nQ 2431 669 2431 922 \nQ 2431 1156 2273 1281 \nQ 2116 1406 1581 1522 \nL 1381 1569 \nQ 847 1681 609 1914 \nQ 372 2147 372 2553 \nQ 372 3047 722 3315 \nQ 1072 3584 1716 3584 \nQ 2034 3584 2315 3537 \nQ 2597 3491 2834 3397 \nz\n\" transform=\"scale(0.015625)\"/>\n      </defs>\n      <use xlink:href=\"#DejaVuSans-28\"/>\n      <use xlink:href=\"#DejaVuSans-53\" x=\"39.013672\"/>\n      <use xlink:href=\"#DejaVuSans-65\" x=\"102.490234\"/>\n      <use xlink:href=\"#DejaVuSans-6c\" x=\"164.013672\"/>\n      <use xlink:href=\"#DejaVuSans-66\" x=\"191.796875\"/>\n      <use xlink:href=\"#DejaVuSans-2d\" x=\"221.501953\"/>\n      <use xlink:href=\"#DejaVuSans-29\" x=\"257.585938\"/>\n      <use xlink:href=\"#DejaVuSans-50\" x=\"296.599609\"/>\n      <use xlink:href=\"#DejaVuSans-6f\" x=\"353.277344\"/>\n      <use xlink:href=\"#DejaVuSans-72\" x=\"414.458984\"/>\n      <use xlink:href=\"#DejaVuSans-74\" x=\"455.572266\"/>\n      <use xlink:href=\"#DejaVuSans-72\" x=\"494.78125\"/>\n      <use xlink:href=\"#DejaVuSans-61\" x=\"535.894531\"/>\n      <use xlink:href=\"#DejaVuSans-69\" x=\"597.173828\"/>\n      <use xlink:href=\"#DejaVuSans-74\" x=\"624.957031\"/>\n      <use xlink:href=\"#DejaVuSans-73\" x=\"664.166016\"/>\n     </g>\n    </g>\n    <g id=\"patch_209\">\n     <path d=\"M 54.478125 38.476562 \nL 74.478125 38.476562 \nL 74.478125 31.476562 \nL 54.478125 31.476562 \nz\n\" style=\"fill: #ff7f0e; opacity: 0.8\"/>\n    </g>\n    <g id=\"text_16\">\n     <!-- (Self-)Portraits with dog -->\n     <g transform=\"translate(82.478125 38.476562)scale(0.1 -0.1)\">\n      <defs>\n       <path id=\"DejaVuSans-20\" transform=\"scale(0.015625)\"/>\n       <path id=\"DejaVuSans-77\" d=\"M 269 3500 \nL 844 3500 \nL 1563 769 \nL 2278 3500 \nL 2956 3500 \nL 3675 769 \nL 4391 3500 \nL 4966 3500 \nL 4050 0 \nL 3372 0 \nL 2619 2869 \nL 1863 0 \nL 1184 0 \nL 269 3500 \nz\n\" transform=\"scale(0.015625)\"/>\n       <path id=\"DejaVuSans-68\" d=\"M 3513 2113 \nL 3513 0 \nL 2938 0 \nL 2938 2094 \nQ 2938 2591 2744 2837 \nQ 2550 3084 2163 3084 \nQ 1697 3084 1428 2787 \nQ 1159 2491 1159 1978 \nL 1159 0 \nL 581 0 \nL 581 4863 \nL 1159 4863 \nL 1159 2956 \nQ 1366 3272 1645 3428 \nQ 1925 3584 2291 3584 \nQ 2894 3584 3203 3211 \nQ 3513 2838 3513 2113 \nz\n\" transform=\"scale(0.015625)\"/>\n       <path id=\"DejaVuSans-64\" d=\"M 2906 2969 \nL 2906 4863 \nL 3481 4863 \nL 3481 0 \nL 2906 0 \nL 2906 525 \nQ 2725 213 2448 61 \nQ 2172 -91 1784 -91 \nQ 1150 -91 751 415 \nQ 353 922 353 1747 \nQ 353 2572 751 3078 \nQ 1150 3584 1784 3584 \nQ 2172 3584 2448 3432 \nQ 2725 3281 2906 2969 \nz\nM 947 1747 \nQ 947 1113 1208 752 \nQ 1469 391 1925 391 \nQ 2381 391 2643 752 \nQ 2906 1113 2906 1747 \nQ 2906 2381 2643 2742 \nQ 2381 3103 1925 3103 \nQ 1469 3103 1208 2742 \nQ 947 2381 947 1747 \nz\n\" transform=\"scale(0.015625)\"/>\n       <path id=\"DejaVuSans-67\" d=\"M 2906 1791 \nQ 2906 2416 2648 2759 \nQ 2391 3103 1925 3103 \nQ 1463 3103 1205 2759 \nQ 947 2416 947 1791 \nQ 947 1169 1205 825 \nQ 1463 481 1925 481 \nQ 2391 481 2648 825 \nQ 2906 1169 2906 1791 \nz\nM 3481 434 \nQ 3481 -459 3084 -895 \nQ 2688 -1331 1869 -1331 \nQ 1566 -1331 1297 -1286 \nQ 1028 -1241 775 -1147 \nL 775 -588 \nQ 1028 -725 1275 -790 \nQ 1522 -856 1778 -856 \nQ 2344 -856 2625 -561 \nQ 2906 -266 2906 331 \nL 2906 616 \nQ 2728 306 2450 153 \nQ 2172 0 1784 0 \nQ 1141 0 747 490 \nQ 353 981 353 1791 \nQ 353 2603 747 3093 \nQ 1141 3584 1784 3584 \nQ 2172 3584 2450 3431 \nQ 2728 3278 2906 2969 \nL 2906 3500 \nL 3481 3500 \nL 3481 434 \nz\n\" transform=\"scale(0.015625)\"/>\n      </defs>\n      <use xlink:href=\"#DejaVuSans-28\"/>\n      <use xlink:href=\"#DejaVuSans-53\" x=\"39.013672\"/>\n      <use xlink:href=\"#DejaVuSans-65\" x=\"102.490234\"/>\n      <use xlink:href=\"#DejaVuSans-6c\" x=\"164.013672\"/>\n      <use xlink:href=\"#DejaVuSans-66\" x=\"191.796875\"/>\n      <use xlink:href=\"#DejaVuSans-2d\" x=\"221.501953\"/>\n      <use xlink:href=\"#DejaVuSans-29\" x=\"257.585938\"/>\n      <use xlink:href=\"#DejaVuSans-50\" x=\"296.599609\"/>\n      <use xlink:href=\"#DejaVuSans-6f\" x=\"353.277344\"/>\n      <use xlink:href=\"#DejaVuSans-72\" x=\"414.458984\"/>\n      <use xlink:href=\"#DejaVuSans-74\" x=\"455.572266\"/>\n      <use xlink:href=\"#DejaVuSans-72\" x=\"494.78125\"/>\n      <use xlink:href=\"#DejaVuSans-61\" x=\"535.894531\"/>\n      <use xlink:href=\"#DejaVuSans-69\" x=\"597.173828\"/>\n      <use xlink:href=\"#DejaVuSans-74\" x=\"624.957031\"/>\n      <use xlink:href=\"#DejaVuSans-73\" x=\"664.166016\"/>\n      <use xlink:href=\"#DejaVuSans-20\" x=\"716.265625\"/>\n      <use xlink:href=\"#DejaVuSans-77\" x=\"748.052734\"/>\n      <use xlink:href=\"#DejaVuSans-69\" x=\"829.839844\"/>\n      <use xlink:href=\"#DejaVuSans-74\" x=\"857.623047\"/>\n      <use xlink:href=\"#DejaVuSans-68\" x=\"896.832031\"/>\n      <use xlink:href=\"#DejaVuSans-20\" x=\"960.210938\"/>\n      <use xlink:href=\"#DejaVuSans-64\" x=\"991.998047\"/>\n      <use xlink:href=\"#DejaVuSans-6f\" x=\"1055.474609\"/>\n      <use xlink:href=\"#DejaVuSans-67\" x=\"1116.65625\"/>\n     </g>\n    </g>\n   </g>\n  </g>\n </g>\n <defs>\n  <clipPath id=\"p90f363854a\">\n   <rect x=\"45.478125\" y=\"7.2\" width=\"558\" height=\"271.8\"/>\n  </clipPath>\n </defs>\n</svg>\n",
      "text/plain": [
       "<Figure size 720x360 with 1 Axes>"
      ]
     },
     "metadata": {
      "needs_background": "light"
     },
     "output_type": "display_data"
    }
   ],
   "source": [
    "plt.figure(figsize=(10,5))\n",
    "plt.hist(portrait_info.date, bins = 100, alpha=0.5)\n",
    "plt.hist(dog_info.date, bins = 100, alpha=0.8)\n",
    "plt.xlim(1400,1800)\n",
    "plt.yscale('log')\n",
    "plt.xlabel('Year')\n",
    "plt.ylabel('Count')\n",
    "plt.legend(['(Self-)Portraits','(Self-)Portraits with dog'])\n",
    "plt.savefig('date3.png')\n",
    "plt.show()"
   ]
  },
  {
   "cell_type": "markdown",
   "metadata": {},
   "source": [
    "#### Year Distribution of Styles"
   ]
  },
  {
   "cell_type": "code",
   "execution_count": 114,
   "metadata": {},
   "outputs": [
    {
     "data": {
      "image/png": "[encoded data removed]",
      "image/svg+xml": "<?xml version=\"1.0\" encoding=\"utf-8\" standalone=\"no\"?>\n<!DOCTYPE svg PUBLIC \"-//W3C//DTD SVG 1.1//EN\"\n  \"http://www.w3.org/Graphics/SVG/1.1/DTD/svg11.dtd\">\n<svg xmlns:xlink=\"http://www.w3.org/1999/xlink\" width=\"605.803125pt\" height=\"316.55625pt\" viewBox=\"0 0 605.803125 316.55625\" xmlns=\"http://www.w3.org/2000/svg\" version=\"1.1\">\n <metadata>\n  <rdf:RDF xmlns:dc=\"http://purl.org/dc/elements/1.1/\" xmlns:cc=\"http://creativecommons.org/ns#\" xmlns:rdf=\"http://www.w3.org/1999/02/22-rdf-syntax-ns#\">\n   <cc:Work>\n    <dc:type rdf:resource=\"http://purl.org/dc/dcmitype/StillImage\"/>\n    <dc:date>2022-06-05T19:00:25.601088</dc:date>\n    <dc:format>image/svg+xml</dc:format>\n    <dc:creator>\n     <cc:Agent>\n      <dc:title>Matplotlib v3.5.1, https://matplotlib.org/</dc:title>\n     </cc:Agent>\n    </dc:creator>\n   </cc:Work>\n  </rdf:RDF>\n </metadata>\n <defs>\n  <style type=\"text/css\">*{stroke-linejoin: round; stroke-linecap: butt}</style>\n </defs>\n <g id=\"figure_1\">\n  <g id=\"patch_1\">\n   <path d=\"M 0 316.55625 \nL 605.803125 316.55625 \nL 605.803125 0 \nL 0 0 \nL 0 316.55625 \nz\n\" style=\"fill: none\"/>\n  </g>\n  <g id=\"axes_1\">\n   <g id=\"patch_2\">\n    <path d=\"M 40.603125 279 \nL 598.603125 279 \nL 598.603125 7.2 \nL 40.603125 7.2 \nz\n\" style=\"fill: #ffffff\"/>\n   </g>\n   <g id=\"patch_3\">\n    <path d=\"M 305.010348 279 \nL 328.914707 279 \nL 328.914707 231.935065 \nL 305.010348 231.935065 \nz\n\" clip-path=\"url(#p4b4116b981)\" style=\"fill: #1f77b4; opacity: 0.5\"/>\n   </g>\n   <g id=\"patch_4\">\n    <path d=\"M 328.914707 279 \nL 352.819065 279 \nL 352.819065 20.142857 \nL 328.914707 20.142857 \nz\n\" clip-path=\"url(#p4b4116b981)\" style=\"fill: #1f77b4; opacity: 0.5\"/>\n   </g>\n   <g id=\"patch_5\">\n    <path d=\"M 352.819065 279 \nL 376.723424 279 \nL 376.723424 255.467532 \nL 352.819065 255.467532 \nz\n\" clip-path=\"url(#p4b4116b981)\" style=\"fill: #1f77b4; opacity: 0.5\"/>\n   </g>\n   <g id=\"patch_6\">\n    <path d=\"M 376.723424 279 \nL 400.627783 279 \nL 400.627783 184.87013 \nL 376.723424 184.87013 \nz\n\" clip-path=\"url(#p4b4116b981)\" style=\"fill: #1f77b4; opacity: 0.5\"/>\n   </g>\n   <g id=\"patch_7\">\n    <path d=\"M 400.627783 279 \nL 424.532141 279 \nL 424.532141 279 \nL 400.627783 279 \nz\n\" clip-path=\"url(#p4b4116b981)\" style=\"fill: #1f77b4; opacity: 0.5\"/>\n   </g>\n   <g id=\"patch_8\">\n    <path d=\"M 424.532141 279 \nL 448.4365 279 \nL 448.4365 255.467532 \nL 424.532141 255.467532 \nz\n\" clip-path=\"url(#p4b4116b981)\" style=\"fill: #1f77b4; opacity: 0.5\"/>\n   </g>\n   <g id=\"patch_9\">\n    <path d=\"M 448.4365 279 \nL 472.340858 279 \nL 472.340858 279 \nL 448.4365 279 \nz\n\" clip-path=\"url(#p4b4116b981)\" style=\"fill: #1f77b4; opacity: 0.5\"/>\n   </g>\n   <g id=\"patch_10\">\n    <path d=\"M 472.340858 279 \nL 496.245217 279 \nL 496.245217 279 \nL 472.340858 279 \nz\n\" clip-path=\"url(#p4b4116b981)\" style=\"fill: #1f77b4; opacity: 0.5\"/>\n   </g>\n   <g id=\"patch_11\">\n    <path d=\"M 496.245217 279 \nL 520.149576 279 \nL 520.149576 279 \nL 496.245217 279 \nz\n\" clip-path=\"url(#p4b4116b981)\" style=\"fill: #1f77b4; opacity: 0.5\"/>\n   </g>\n   <g id=\"patch_12\">\n    <path d=\"M 520.149576 279 \nL 544.053934 279 \nL 544.053934 255.467532 \nL 520.149576 255.467532 \nz\n\" clip-path=\"url(#p4b4116b981)\" style=\"fill: #1f77b4; opacity: 0.5\"/>\n   </g>\n   <g id=\"patch_13\">\n    <path d=\"M 189.65792 279 \nL 191.742602 279 \nL 191.742602 255.467532 \nL 189.65792 255.467532 \nz\n\" clip-path=\"url(#p4b4116b981)\" style=\"fill: #ff7f0e; opacity: 0.5\"/>\n   </g>\n   <g id=\"patch_14\">\n    <path d=\"M 191.742602 279 \nL 193.827284 279 \nL 193.827284 255.467532 \nL 191.742602 255.467532 \nz\n\" clip-path=\"url(#p4b4116b981)\" style=\"fill: #ff7f0e; opacity: 0.5\"/>\n   </g>\n   <g id=\"patch_15\">\n    <path d=\"M 193.827284 279 \nL 195.911967 279 \nL 195.911967 279 \nL 193.827284 279 \nz\n\" clip-path=\"url(#p4b4116b981)\" style=\"fill: #ff7f0e; opacity: 0.5\"/>\n   </g>\n   <g id=\"patch_16\">\n    <path d=\"M 195.911967 279 \nL 197.996649 279 \nL 197.996649 279 \nL 195.911967 279 \nz\n\" clip-path=\"url(#p4b4116b981)\" style=\"fill: #ff7f0e; opacity: 0.5\"/>\n   </g>\n   <g id=\"patch_17\">\n    <path d=\"M 197.996649 279 \nL 200.081332 279 \nL 200.081332 279 \nL 197.996649 279 \nz\n\" clip-path=\"url(#p4b4116b981)\" style=\"fill: #ff7f0e; opacity: 0.5\"/>\n   </g>\n   <g id=\"patch_18\">\n    <path d=\"M 200.081332 279 \nL 202.166014 279 \nL 202.166014 279 \nL 200.081332 279 \nz\n\" clip-path=\"url(#p4b4116b981)\" style=\"fill: #ff7f0e; opacity: 0.5\"/>\n   </g>\n   <g id=\"patch_19\">\n    <path d=\"M 202.166014 279 \nL 204.250697 279 \nL 204.250697 279 \nL 202.166014 279 \nz\n\" clip-path=\"url(#p4b4116b981)\" style=\"fill: #ff7f0e; opacity: 0.5\"/>\n   </g>\n   <g id=\"patch_20\">\n    <path d=\"M 204.250697 279 \nL 206.335379 279 \nL 206.335379 279 \nL 204.250697 279 \nz\n\" clip-path=\"url(#p4b4116b981)\" style=\"fill: #ff7f0e; opacity: 0.5\"/>\n   </g>\n   <g id=\"patch_21\">\n    <path d=\"M 206.335379 279 \nL 208.420061 279 \nL 208.420061 279 \nL 206.335379 279 \nz\n\" clip-path=\"url(#p4b4116b981)\" style=\"fill: #ff7f0e; opacity: 0.5\"/>\n   </g>\n   <g id=\"patch_22\">\n    <path d=\"M 208.420061 279 \nL 210.504744 279 \nL 210.504744 255.467532 \nL 208.420061 255.467532 \nz\n\" clip-path=\"url(#p4b4116b981)\" style=\"fill: #ff7f0e; opacity: 0.5\"/>\n   </g>\n   <g id=\"patch_23\">\n    <path d=\"M 202.166014 279 \nL 210.92168 279 \nL 210.92168 184.87013 \nL 202.166014 184.87013 \nz\n\" clip-path=\"url(#p4b4116b981)\" style=\"fill: #2ca02c; opacity: 0.5\"/>\n   </g>\n   <g id=\"patch_24\">\n    <path d=\"M 210.92168 279 \nL 219.677347 279 \nL 219.677347 255.467532 \nL 210.92168 255.467532 \nz\n\" clip-path=\"url(#p4b4116b981)\" style=\"fill: #2ca02c; opacity: 0.5\"/>\n   </g>\n   <g id=\"patch_25\">\n    <path d=\"M 219.677347 279 \nL 228.433013 279 \nL 228.433013 279 \nL 219.677347 279 \nz\n\" clip-path=\"url(#p4b4116b981)\" style=\"fill: #2ca02c; opacity: 0.5\"/>\n   </g>\n   <g id=\"patch_26\">\n    <path d=\"M 228.433013 279 \nL 237.188679 279 \nL 237.188679 231.935065 \nL 228.433013 231.935065 \nz\n\" clip-path=\"url(#p4b4116b981)\" style=\"fill: #2ca02c; opacity: 0.5\"/>\n   </g>\n   <g id=\"patch_27\">\n    <path d=\"M 237.188679 279 \nL 245.944345 279 \nL 245.944345 255.467532 \nL 237.188679 255.467532 \nz\n\" clip-path=\"url(#p4b4116b981)\" style=\"fill: #2ca02c; opacity: 0.5\"/>\n   </g>\n   <g id=\"patch_28\">\n    <path d=\"M 245.944345 279 \nL 254.700012 279 \nL 254.700012 279 \nL 245.944345 279 \nz\n\" clip-path=\"url(#p4b4116b981)\" style=\"fill: #2ca02c; opacity: 0.5\"/>\n   </g>\n   <g id=\"patch_29\">\n    <path d=\"M 254.700012 279 \nL 263.455678 279 \nL 263.455678 279 \nL 254.700012 279 \nz\n\" clip-path=\"url(#p4b4116b981)\" style=\"fill: #2ca02c; opacity: 0.5\"/>\n   </g>\n   <g id=\"patch_30\">\n    <path d=\"M 263.455678 279 \nL 272.211344 279 \nL 272.211344 279 \nL 263.455678 279 \nz\n\" clip-path=\"url(#p4b4116b981)\" style=\"fill: #2ca02c; opacity: 0.5\"/>\n   </g>\n   <g id=\"patch_31\">\n    <path d=\"M 272.211344 279 \nL 280.96701 279 \nL 280.96701 279 \nL 272.211344 279 \nz\n\" clip-path=\"url(#p4b4116b981)\" style=\"fill: #2ca02c; opacity: 0.5\"/>\n   </g>\n   <g id=\"patch_32\">\n    <path d=\"M 280.96701 279 \nL 289.722677 279 \nL 289.722677 231.935065 \nL 280.96701 231.935065 \nz\n\" clip-path=\"url(#p4b4116b981)\" style=\"fill: #2ca02c; opacity: 0.5\"/>\n   </g>\n   <g id=\"patch_33\">\n    <path d=\"M 513.478592 279 \nL 517.23102 279 \nL 517.23102 255.467532 \nL 513.478592 255.467532 \nz\n\" clip-path=\"url(#p4b4116b981)\" style=\"fill: #d62728; opacity: 0.5\"/>\n   </g>\n   <g id=\"patch_34\">\n    <path d=\"M 517.23102 279 \nL 520.983449 279 \nL 520.983449 279 \nL 517.23102 279 \nz\n\" clip-path=\"url(#p4b4116b981)\" style=\"fill: #d62728; opacity: 0.5\"/>\n   </g>\n   <g id=\"patch_35\">\n    <path d=\"M 520.983449 279 \nL 524.735877 279 \nL 524.735877 279 \nL 520.983449 279 \nz\n\" clip-path=\"url(#p4b4116b981)\" style=\"fill: #d62728; opacity: 0.5\"/>\n   </g>\n   <g id=\"patch_36\">\n    <path d=\"M 524.735877 279 \nL 528.488306 279 \nL 528.488306 279 \nL 524.735877 279 \nz\n\" clip-path=\"url(#p4b4116b981)\" style=\"fill: #d62728; opacity: 0.5\"/>\n   </g>\n   <g id=\"patch_37\">\n    <path d=\"M 528.488306 279 \nL 532.240734 279 \nL 532.240734 255.467532 \nL 528.488306 255.467532 \nz\n\" clip-path=\"url(#p4b4116b981)\" style=\"fill: #d62728; opacity: 0.5\"/>\n   </g>\n   <g id=\"patch_38\">\n    <path d=\"M 532.240734 279 \nL 535.993162 279 \nL 535.993162 279 \nL 532.240734 279 \nz\n\" clip-path=\"url(#p4b4116b981)\" style=\"fill: #d62728; opacity: 0.5\"/>\n   </g>\n   <g id=\"patch_39\">\n    <path d=\"M 535.993162 279 \nL 539.745591 279 \nL 539.745591 279 \nL 535.993162 279 \nz\n\" clip-path=\"url(#p4b4116b981)\" style=\"fill: #d62728; opacity: 0.5\"/>\n   </g>\n   <g id=\"patch_40\">\n    <path d=\"M 539.745591 279 \nL 543.498019 279 \nL 543.498019 279 \nL 539.745591 279 \nz\n\" clip-path=\"url(#p4b4116b981)\" style=\"fill: #d62728; opacity: 0.5\"/>\n   </g>\n   <g id=\"patch_41\">\n    <path d=\"M 543.498019 279 \nL 547.250448 279 \nL 547.250448 255.467532 \nL 543.498019 255.467532 \nz\n\" clip-path=\"url(#p4b4116b981)\" style=\"fill: #d62728; opacity: 0.5\"/>\n   </g>\n   <g id=\"patch_42\">\n    <path d=\"M 547.250448 279 \nL 551.002876 279 \nL 551.002876 208.402597 \nL 547.250448 208.402597 \nz\n\" clip-path=\"url(#p4b4116b981)\" style=\"fill: #d62728; opacity: 0.5\"/>\n   </g>\n   <g id=\"patch_43\">\n    <path d=\"M 65.966761 279 \nL 77.085068 279 \nL 77.085068 255.467532 \nL 65.966761 255.467532 \nz\n\" clip-path=\"url(#p4b4116b981)\" style=\"fill: #9467bd; opacity: 0.5\"/>\n   </g>\n   <g id=\"patch_44\">\n    <path d=\"M 77.085068 279 \nL 88.203374 279 \nL 88.203374 279 \nL 77.085068 279 \nz\n\" clip-path=\"url(#p4b4116b981)\" style=\"fill: #9467bd; opacity: 0.5\"/>\n   </g>\n   <g id=\"patch_45\">\n    <path d=\"M 88.203374 279 \nL 99.32168 279 \nL 99.32168 279 \nL 88.203374 279 \nz\n\" clip-path=\"url(#p4b4116b981)\" style=\"fill: #9467bd; opacity: 0.5\"/>\n   </g>\n   <g id=\"patch_46\">\n    <path d=\"M 99.32168 279 \nL 110.439987 279 \nL 110.439987 279 \nL 99.32168 279 \nz\n\" clip-path=\"url(#p4b4116b981)\" style=\"fill: #9467bd; opacity: 0.5\"/>\n   </g>\n   <g id=\"patch_47\">\n    <path d=\"M 110.439987 279 \nL 121.558293 279 \nL 121.558293 279 \nL 110.439987 279 \nz\n\" clip-path=\"url(#p4b4116b981)\" style=\"fill: #9467bd; opacity: 0.5\"/>\n   </g>\n   <g id=\"patch_48\">\n    <path d=\"M 121.558293 279 \nL 132.676599 279 \nL 132.676599 279 \nL 121.558293 279 \nz\n\" clip-path=\"url(#p4b4116b981)\" style=\"fill: #9467bd; opacity: 0.5\"/>\n   </g>\n   <g id=\"patch_49\">\n    <path d=\"M 132.676599 279 \nL 143.794906 279 \nL 143.794906 255.467532 \nL 132.676599 255.467532 \nz\n\" clip-path=\"url(#p4b4116b981)\" style=\"fill: #9467bd; opacity: 0.5\"/>\n   </g>\n   <g id=\"patch_50\">\n    <path d=\"M 143.794906 279 \nL 154.913212 279 \nL 154.913212 279 \nL 143.794906 279 \nz\n\" clip-path=\"url(#p4b4116b981)\" style=\"fill: #9467bd; opacity: 0.5\"/>\n   </g>\n   <g id=\"patch_51\">\n    <path d=\"M 154.913212 279 \nL 166.031519 279 \nL 166.031519 255.467532 \nL 154.913212 255.467532 \nz\n\" clip-path=\"url(#p4b4116b981)\" style=\"fill: #9467bd; opacity: 0.5\"/>\n   </g>\n   <g id=\"patch_52\">\n    <path d=\"M 166.031519 279 \nL 177.149825 279 \nL 177.149825 255.467532 \nL 166.031519 255.467532 \nz\n\" clip-path=\"url(#p4b4116b981)\" style=\"fill: #9467bd; opacity: 0.5\"/>\n   </g>\n   <g id=\"patch_53\">\n    <path d=\"M 474.56452 279 \nL 483.598144 279 \nL 483.598144 231.935065 \nL 474.56452 231.935065 \nz\n\" clip-path=\"url(#p4b4116b981)\" style=\"fill: #8c564b; opacity: 0.5\"/>\n   </g>\n   <g id=\"patch_54\">\n    <path d=\"M 483.598144 279 \nL 492.631768 279 \nL 492.631768 208.402597 \nL 483.598144 208.402597 \nz\n\" clip-path=\"url(#p4b4116b981)\" style=\"fill: #8c564b; opacity: 0.5\"/>\n   </g>\n   <g id=\"patch_55\">\n    <path d=\"M 492.631768 279 \nL 501.665392 279 \nL 501.665392 231.935065 \nL 492.631768 231.935065 \nz\n\" clip-path=\"url(#p4b4116b981)\" style=\"fill: #8c564b; opacity: 0.5\"/>\n   </g>\n   <g id=\"patch_56\">\n    <path d=\"M 501.665392 279 \nL 510.699015 279 \nL 510.699015 184.87013 \nL 501.665392 184.87013 \nz\n\" clip-path=\"url(#p4b4116b981)\" style=\"fill: #8c564b; opacity: 0.5\"/>\n   </g>\n   <g id=\"patch_57\">\n    <path d=\"M 510.699015 279 \nL 519.732639 279 \nL 519.732639 137.805195 \nL 510.699015 137.805195 \nz\n\" clip-path=\"url(#p4b4116b981)\" style=\"fill: #8c564b; opacity: 0.5\"/>\n   </g>\n   <g id=\"patch_58\">\n    <path d=\"M 519.732639 279 \nL 528.766263 279 \nL 528.766263 90.74026 \nL 519.732639 90.74026 \nz\n\" clip-path=\"url(#p4b4116b981)\" style=\"fill: #8c564b; opacity: 0.5\"/>\n   </g>\n   <g id=\"patch_59\">\n    <path d=\"M 528.766263 279 \nL 537.799887 279 \nL 537.799887 161.337662 \nL 528.766263 161.337662 \nz\n\" clip-path=\"url(#p4b4116b981)\" style=\"fill: #8c564b; opacity: 0.5\"/>\n   </g>\n   <g id=\"patch_60\">\n    <path d=\"M 537.799887 279 \nL 546.833511 279 \nL 546.833511 114.272727 \nL 537.799887 114.272727 \nz\n\" clip-path=\"url(#p4b4116b981)\" style=\"fill: #8c564b; opacity: 0.5\"/>\n   </g>\n   <g id=\"patch_61\">\n    <path d=\"M 546.833511 279 \nL 555.867135 279 \nL 555.867135 20.142857 \nL 546.833511 20.142857 \nz\n\" clip-path=\"url(#p4b4116b981)\" style=\"fill: #8c564b; opacity: 0.5\"/>\n   </g>\n   <g id=\"patch_62\">\n    <path d=\"M 555.867135 279 \nL 564.900759 279 \nL 564.900759 184.87013 \nL 555.867135 184.87013 \nz\n\" clip-path=\"url(#p4b4116b981)\" style=\"fill: #8c564b; opacity: 0.5\"/>\n   </g>\n   <g id=\"patch_63\">\n    <path d=\"M 545.443723 279 \nL 548.223299 279 \nL 548.223299 255.467532 \nL 545.443723 255.467532 \nz\n\" clip-path=\"url(#p4b4116b981)\" style=\"fill: #e377c2; opacity: 0.5\"/>\n   </g>\n   <g id=\"patch_64\">\n    <path d=\"M 548.223299 279 \nL 551.002876 279 \nL 551.002876 279 \nL 548.223299 279 \nz\n\" clip-path=\"url(#p4b4116b981)\" style=\"fill: #e377c2; opacity: 0.5\"/>\n   </g>\n   <g id=\"patch_65\">\n    <path d=\"M 551.002876 279 \nL 553.782453 279 \nL 553.782453 279 \nL 551.002876 279 \nz\n\" clip-path=\"url(#p4b4116b981)\" style=\"fill: #e377c2; opacity: 0.5\"/>\n   </g>\n   <g id=\"patch_66\">\n    <path d=\"M 553.782453 279 \nL 556.562029 279 \nL 556.562029 208.402597 \nL 553.782453 208.402597 \nz\n\" clip-path=\"url(#p4b4116b981)\" style=\"fill: #e377c2; opacity: 0.5\"/>\n   </g>\n   <g id=\"patch_67\">\n    <path d=\"M 556.562029 279 \nL 559.341606 279 \nL 559.341606 255.467532 \nL 556.562029 255.467532 \nz\n\" clip-path=\"url(#p4b4116b981)\" style=\"fill: #e377c2; opacity: 0.5\"/>\n   </g>\n   <g id=\"patch_68\">\n    <path d=\"M 559.341606 279 \nL 562.121182 279 \nL 562.121182 279 \nL 559.341606 279 \nz\n\" clip-path=\"url(#p4b4116b981)\" style=\"fill: #e377c2; opacity: 0.5\"/>\n   </g>\n   <g id=\"patch_69\">\n    <path d=\"M 562.121182 279 \nL 564.900759 279 \nL 564.900759 279 \nL 562.121182 279 \nz\n\" clip-path=\"url(#p4b4116b981)\" style=\"fill: #e377c2; opacity: 0.5\"/>\n   </g>\n   <g id=\"patch_70\">\n    <path d=\"M 564.900759 279 \nL 567.680335 279 \nL 567.680335 279 \nL 564.900759 279 \nz\n\" clip-path=\"url(#p4b4116b981)\" style=\"fill: #e377c2; opacity: 0.5\"/>\n   </g>\n   <g id=\"patch_71\">\n    <path d=\"M 567.680335 279 \nL 570.459912 279 \nL 570.459912 231.935065 \nL 567.680335 231.935065 \nz\n\" clip-path=\"url(#p4b4116b981)\" style=\"fill: #e377c2; opacity: 0.5\"/>\n   </g>\n   <g id=\"patch_72\">\n    <path d=\"M 570.459912 279 \nL 573.239489 279 \nL 573.239489 255.467532 \nL 570.459912 255.467532 \nz\n\" clip-path=\"url(#p4b4116b981)\" style=\"fill: #e377c2; opacity: 0.5\"/>\n   </g>\n   <g id=\"matplotlib.axis_1\">\n    <g id=\"xtick_1\">\n     <g id=\"line2d_1\">\n      <defs>\n       <path id=\"mf26433dab7\" d=\"M 0 0 \nL 0 3.5 \n\" style=\"stroke: #000000; stroke-width: 0.8\"/>\n      </defs>\n      <g>\n       <use xlink:href=\"#mf26433dab7\" x=\"88.203374\" y=\"279\" style=\"stroke: #000000; stroke-width: 0.8\"/>\n      </g>\n     </g>\n     <g id=\"text_1\">\n      <!-- 1450 -->\n      <g transform=\"translate(75.478374 293.598437)scale(0.1 -0.1)\">\n       <defs>\n        <path id=\"DejaVuSans-31\" d=\"M 794 531 \nL 1825 531 \nL 1825 4091 \nL 703 3866 \nL 703 4441 \nL 1819 4666 \nL 2450 4666 \nL 2450 531 \nL 3481 531 \nL 3481 0 \nL 794 0 \nL 794 531 \nz\n\" transform=\"scale(0.015625)\"/>\n        <path id=\"DejaVuSans-34\" d=\"M 2419 4116 \nL 825 1625 \nL 2419 1625 \nL 2419 4116 \nz\nM 2253 4666 \nL 3047 4666 \nL 3047 1625 \nL 3713 1625 \nL 3713 1100 \nL 3047 1100 \nL 3047 0 \nL 2419 0 \nL 2419 1100 \nL 313 1100 \nL 313 1709 \nL 2253 4666 \nz\n\" transform=\"scale(0.015625)\"/>\n        <path id=\"DejaVuSans-35\" d=\"M 691 4666 \nL 3169 4666 \nL 3169 4134 \nL 1269 4134 \nL 1269 2991 \nQ 1406 3038 1543 3061 \nQ 1681 3084 1819 3084 \nQ 2600 3084 3056 2656 \nQ 3513 2228 3513 1497 \nQ 3513 744 3044 326 \nQ 2575 -91 1722 -91 \nQ 1428 -91 1123 -41 \nQ 819 9 494 109 \nL 494 744 \nQ 775 591 1075 516 \nQ 1375 441 1709 441 \nQ 2250 441 2565 725 \nQ 2881 1009 2881 1497 \nQ 2881 1984 2565 2268 \nQ 2250 2553 1709 2553 \nQ 1456 2553 1204 2497 \nQ 953 2441 691 2322 \nL 691 4666 \nz\n\" transform=\"scale(0.015625)\"/>\n        <path id=\"DejaVuSans-30\" d=\"M 2034 4250 \nQ 1547 4250 1301 3770 \nQ 1056 3291 1056 2328 \nQ 1056 1369 1301 889 \nQ 1547 409 2034 409 \nQ 2525 409 2770 889 \nQ 3016 1369 3016 2328 \nQ 3016 3291 2770 3770 \nQ 2525 4250 2034 4250 \nz\nM 2034 4750 \nQ 2819 4750 3233 4129 \nQ 3647 3509 3647 2328 \nQ 3647 1150 3233 529 \nQ 2819 -91 2034 -91 \nQ 1250 -91 836 529 \nQ 422 1150 422 2328 \nQ 422 3509 836 4129 \nQ 1250 4750 2034 4750 \nz\n\" transform=\"scale(0.015625)\"/>\n       </defs>\n       <use xlink:href=\"#DejaVuSans-31\"/>\n       <use xlink:href=\"#DejaVuSans-34\" x=\"63.623047\"/>\n       <use xlink:href=\"#DejaVuSans-35\" x=\"127.246094\"/>\n       <use xlink:href=\"#DejaVuSans-30\" x=\"190.869141\"/>\n      </g>\n     </g>\n    </g>\n    <g id=\"xtick_2\">\n     <g id=\"line2d_2\">\n      <g>\n       <use xlink:href=\"#mf26433dab7\" x=\"157.692789\" y=\"279\" style=\"stroke: #000000; stroke-width: 0.8\"/>\n      </g>\n     </g>\n     <g id=\"text_2\">\n      <!-- 1500 -->\n      <g transform=\"translate(144.967789 293.598437)scale(0.1 -0.1)\">\n       <use xlink:href=\"#DejaVuSans-31\"/>\n       <use xlink:href=\"#DejaVuSans-35\" x=\"63.623047\"/>\n       <use xlink:href=\"#DejaVuSans-30\" x=\"127.246094\"/>\n       <use xlink:href=\"#DejaVuSans-30\" x=\"190.869141\"/>\n      </g>\n     </g>\n    </g>\n    <g id=\"xtick_3\">\n     <g id=\"line2d_3\">\n      <g>\n       <use xlink:href=\"#mf26433dab7\" x=\"227.182203\" y=\"279\" style=\"stroke: #000000; stroke-width: 0.8\"/>\n      </g>\n     </g>\n     <g id=\"text_3\">\n      <!-- 1550 -->\n      <g transform=\"translate(214.457203 293.598437)scale(0.1 -0.1)\">\n       <use xlink:href=\"#DejaVuSans-31\"/>\n       <use xlink:href=\"#DejaVuSans-35\" x=\"63.623047\"/>\n       <use xlink:href=\"#DejaVuSans-35\" x=\"127.246094\"/>\n       <use xlink:href=\"#DejaVuSans-30\" x=\"190.869141\"/>\n      </g>\n     </g>\n    </g>\n    <g id=\"xtick_4\">\n     <g id=\"line2d_4\">\n      <g>\n       <use xlink:href=\"#mf26433dab7\" x=\"296.671618\" y=\"279\" style=\"stroke: #000000; stroke-width: 0.8\"/>\n      </g>\n     </g>\n     <g id=\"text_4\">\n      <!-- 1600 -->\n      <g transform=\"translate(283.946618 293.598437)scale(0.1 -0.1)\">\n       <defs>\n        <path id=\"DejaVuSans-36\" d=\"M 2113 2584 \nQ 1688 2584 1439 2293 \nQ 1191 2003 1191 1497 \nQ 1191 994 1439 701 \nQ 1688 409 2113 409 \nQ 2538 409 2786 701 \nQ 3034 994 3034 1497 \nQ 3034 2003 2786 2293 \nQ 2538 2584 2113 2584 \nz\nM 3366 4563 \nL 3366 3988 \nQ 3128 4100 2886 4159 \nQ 2644 4219 2406 4219 \nQ 1781 4219 1451 3797 \nQ 1122 3375 1075 2522 \nQ 1259 2794 1537 2939 \nQ 1816 3084 2150 3084 \nQ 2853 3084 3261 2657 \nQ 3669 2231 3669 1497 \nQ 3669 778 3244 343 \nQ 2819 -91 2113 -91 \nQ 1303 -91 875 529 \nQ 447 1150 447 2328 \nQ 447 3434 972 4092 \nQ 1497 4750 2381 4750 \nQ 2619 4750 2861 4703 \nQ 3103 4656 3366 4563 \nz\n\" transform=\"scale(0.015625)\"/>\n       </defs>\n       <use xlink:href=\"#DejaVuSans-31\"/>\n       <use xlink:href=\"#DejaVuSans-36\" x=\"63.623047\"/>\n       <use xlink:href=\"#DejaVuSans-30\" x=\"127.246094\"/>\n       <use xlink:href=\"#DejaVuSans-30\" x=\"190.869141\"/>\n      </g>\n     </g>\n    </g>\n    <g id=\"xtick_5\">\n     <g id=\"line2d_5\">\n      <g>\n       <use xlink:href=\"#mf26433dab7\" x=\"366.161033\" y=\"279\" style=\"stroke: #000000; stroke-width: 0.8\"/>\n      </g>\n     </g>\n     <g id=\"text_5\">\n      <!-- 1650 -->\n      <g transform=\"translate(353.436033 293.598437)scale(0.1 -0.1)\">\n       <use xlink:href=\"#DejaVuSans-31\"/>\n       <use xlink:href=\"#DejaVuSans-36\" x=\"63.623047\"/>\n       <use xlink:href=\"#DejaVuSans-35\" x=\"127.246094\"/>\n       <use xlink:href=\"#DejaVuSans-30\" x=\"190.869141\"/>\n      </g>\n     </g>\n    </g>\n    <g id=\"xtick_6\">\n     <g id=\"line2d_6\">\n      <g>\n       <use xlink:href=\"#mf26433dab7\" x=\"435.650448\" y=\"279\" style=\"stroke: #000000; stroke-width: 0.8\"/>\n      </g>\n     </g>\n     <g id=\"text_6\">\n      <!-- 1700 -->\n      <g transform=\"translate(422.925448 293.598437)scale(0.1 -0.1)\">\n       <defs>\n        <path id=\"DejaVuSans-37\" d=\"M 525 4666 \nL 3525 4666 \nL 3525 4397 \nL 1831 0 \nL 1172 0 \nL 2766 4134 \nL 525 4134 \nL 525 4666 \nz\n\" transform=\"scale(0.015625)\"/>\n       </defs>\n       <use xlink:href=\"#DejaVuSans-31\"/>\n       <use xlink:href=\"#DejaVuSans-37\" x=\"63.623047\"/>\n       <use xlink:href=\"#DejaVuSans-30\" x=\"127.246094\"/>\n       <use xlink:href=\"#DejaVuSans-30\" x=\"190.869141\"/>\n      </g>\n     </g>\n    </g>\n    <g id=\"xtick_7\">\n     <g id=\"line2d_7\">\n      <g>\n       <use xlink:href=\"#mf26433dab7\" x=\"505.139862\" y=\"279\" style=\"stroke: #000000; stroke-width: 0.8\"/>\n      </g>\n     </g>\n     <g id=\"text_7\">\n      <!-- 1750 -->\n      <g transform=\"translate(492.414862 293.598437)scale(0.1 -0.1)\">\n       <use xlink:href=\"#DejaVuSans-31\"/>\n       <use xlink:href=\"#DejaVuSans-37\" x=\"63.623047\"/>\n       <use xlink:href=\"#DejaVuSans-35\" x=\"127.246094\"/>\n       <use xlink:href=\"#DejaVuSans-30\" x=\"190.869141\"/>\n      </g>\n     </g>\n    </g>\n    <g id=\"xtick_8\">\n     <g id=\"line2d_8\">\n      <g>\n       <use xlink:href=\"#mf26433dab7\" x=\"574.629277\" y=\"279\" style=\"stroke: #000000; stroke-width: 0.8\"/>\n      </g>\n     </g>\n     <g id=\"text_8\">\n      <!-- 1800 -->\n      <g transform=\"translate(561.904277 293.598437)scale(0.1 -0.1)\">\n       <defs>\n        <path id=\"DejaVuSans-38\" d=\"M 2034 2216 \nQ 1584 2216 1326 1975 \nQ 1069 1734 1069 1313 \nQ 1069 891 1326 650 \nQ 1584 409 2034 409 \nQ 2484 409 2743 651 \nQ 3003 894 3003 1313 \nQ 3003 1734 2745 1975 \nQ 2488 2216 2034 2216 \nz\nM 1403 2484 \nQ 997 2584 770 2862 \nQ 544 3141 544 3541 \nQ 544 4100 942 4425 \nQ 1341 4750 2034 4750 \nQ 2731 4750 3128 4425 \nQ 3525 4100 3525 3541 \nQ 3525 3141 3298 2862 \nQ 3072 2584 2669 2484 \nQ 3125 2378 3379 2068 \nQ 3634 1759 3634 1313 \nQ 3634 634 3220 271 \nQ 2806 -91 2034 -91 \nQ 1263 -91 848 271 \nQ 434 634 434 1313 \nQ 434 1759 690 2068 \nQ 947 2378 1403 2484 \nz\nM 1172 3481 \nQ 1172 3119 1398 2916 \nQ 1625 2713 2034 2713 \nQ 2441 2713 2670 2916 \nQ 2900 3119 2900 3481 \nQ 2900 3844 2670 4047 \nQ 2441 4250 2034 4250 \nQ 1625 4250 1398 4047 \nQ 1172 3844 1172 3481 \nz\n\" transform=\"scale(0.015625)\"/>\n       </defs>\n       <use xlink:href=\"#DejaVuSans-31\"/>\n       <use xlink:href=\"#DejaVuSans-38\" x=\"63.623047\"/>\n       <use xlink:href=\"#DejaVuSans-30\" x=\"127.246094\"/>\n       <use xlink:href=\"#DejaVuSans-30\" x=\"190.869141\"/>\n      </g>\n     </g>\n    </g>\n    <g id=\"text_9\">\n     <!-- Year -->\n     <g transform=\"translate(309.015625 307.276562)scale(0.1 -0.1)\">\n      <defs>\n       <path id=\"DejaVuSans-59\" d=\"M -13 4666 \nL 666 4666 \nL 1959 2747 \nL 3244 4666 \nL 3922 4666 \nL 2272 2222 \nL 2272 0 \nL 1638 0 \nL 1638 2222 \nL -13 4666 \nz\n\" transform=\"scale(0.015625)\"/>\n       <path id=\"DejaVuSans-65\" d=\"M 3597 1894 \nL 3597 1613 \nL 953 1613 \nQ 991 1019 1311 708 \nQ 1631 397 2203 397 \nQ 2534 397 2845 478 \nQ 3156 559 3463 722 \nL 3463 178 \nQ 3153 47 2828 -22 \nQ 2503 -91 2169 -91 \nQ 1331 -91 842 396 \nQ 353 884 353 1716 \nQ 353 2575 817 3079 \nQ 1281 3584 2069 3584 \nQ 2775 3584 3186 3129 \nQ 3597 2675 3597 1894 \nz\nM 3022 2063 \nQ 3016 2534 2758 2815 \nQ 2500 3097 2075 3097 \nQ 1594 3097 1305 2825 \nQ 1016 2553 972 2059 \nL 3022 2063 \nz\n\" transform=\"scale(0.015625)\"/>\n       <path id=\"DejaVuSans-61\" d=\"M 2194 1759 \nQ 1497 1759 1228 1600 \nQ 959 1441 959 1056 \nQ 959 750 1161 570 \nQ 1363 391 1709 391 \nQ 2188 391 2477 730 \nQ 2766 1069 2766 1631 \nL 2766 1759 \nL 2194 1759 \nz\nM 3341 1997 \nL 3341 0 \nL 2766 0 \nL 2766 531 \nQ 2569 213 2275 61 \nQ 1981 -91 1556 -91 \nQ 1019 -91 701 211 \nQ 384 513 384 1019 \nQ 384 1609 779 1909 \nQ 1175 2209 1959 2209 \nL 2766 2209 \nL 2766 2266 \nQ 2766 2663 2505 2880 \nQ 2244 3097 1772 3097 \nQ 1472 3097 1187 3025 \nQ 903 2953 641 2809 \nL 641 3341 \nQ 956 3463 1253 3523 \nQ 1550 3584 1831 3584 \nQ 2591 3584 2966 3190 \nQ 3341 2797 3341 1997 \nz\n\" transform=\"scale(0.015625)\"/>\n       <path id=\"DejaVuSans-72\" d=\"M 2631 2963 \nQ 2534 3019 2420 3045 \nQ 2306 3072 2169 3072 \nQ 1681 3072 1420 2755 \nQ 1159 2438 1159 1844 \nL 1159 0 \nL 581 0 \nL 581 3500 \nL 1159 3500 \nL 1159 2956 \nQ 1341 3275 1631 3429 \nQ 1922 3584 2338 3584 \nQ 2397 3584 2469 3576 \nQ 2541 3569 2628 3553 \nL 2631 2963 \nz\n\" transform=\"scale(0.015625)\"/>\n      </defs>\n      <use xlink:href=\"#DejaVuSans-59\"/>\n      <use xlink:href=\"#DejaVuSans-65\" x=\"47.833984\"/>\n      <use xlink:href=\"#DejaVuSans-61\" x=\"109.357422\"/>\n      <use xlink:href=\"#DejaVuSans-72\" x=\"170.636719\"/>\n     </g>\n    </g>\n   </g>\n   <g id=\"matplotlib.axis_2\">\n    <g id=\"ytick_1\">\n     <g id=\"line2d_9\">\n      <defs>\n       <path id=\"mfa8adc18bc\" d=\"M 0 0 \nL -3.5 0 \n\" style=\"stroke: #000000; stroke-width: 0.8\"/>\n      </defs>\n      <g>\n       <use xlink:href=\"#mfa8adc18bc\" x=\"40.603125\" y=\"279\" style=\"stroke: #000000; stroke-width: 0.8\"/>\n      </g>\n     </g>\n     <g id=\"text_10\">\n      <!-- 0 -->\n      <g transform=\"translate(27.240625 282.799219)scale(0.1 -0.1)\">\n       <use xlink:href=\"#DejaVuSans-30\"/>\n      </g>\n     </g>\n    </g>\n    <g id=\"ytick_2\">\n     <g id=\"line2d_10\">\n      <g>\n       <use xlink:href=\"#mfa8adc18bc\" x=\"40.603125\" y=\"231.935065\" style=\"stroke: #000000; stroke-width: 0.8\"/>\n      </g>\n     </g>\n     <g id=\"text_11\">\n      <!-- 2 -->\n      <g transform=\"translate(27.240625 235.734284)scale(0.1 -0.1)\">\n       <defs>\n        <path id=\"DejaVuSans-32\" d=\"M 1228 531 \nL 3431 531 \nL 3431 0 \nL 469 0 \nL 469 531 \nQ 828 903 1448 1529 \nQ 2069 2156 2228 2338 \nQ 2531 2678 2651 2914 \nQ 2772 3150 2772 3378 \nQ 2772 3750 2511 3984 \nQ 2250 4219 1831 4219 \nQ 1534 4219 1204 4116 \nQ 875 4013 500 3803 \nL 500 4441 \nQ 881 4594 1212 4672 \nQ 1544 4750 1819 4750 \nQ 2544 4750 2975 4387 \nQ 3406 4025 3406 3419 \nQ 3406 3131 3298 2873 \nQ 3191 2616 2906 2266 \nQ 2828 2175 2409 1742 \nQ 1991 1309 1228 531 \nz\n\" transform=\"scale(0.015625)\"/>\n       </defs>\n       <use xlink:href=\"#DejaVuSans-32\"/>\n      </g>\n     </g>\n    </g>\n    <g id=\"ytick_3\">\n     <g id=\"line2d_11\">\n      <g>\n       <use xlink:href=\"#mfa8adc18bc\" x=\"40.603125\" y=\"184.87013\" style=\"stroke: #000000; stroke-width: 0.8\"/>\n      </g>\n     </g>\n     <g id=\"text_12\">\n      <!-- 4 -->\n      <g transform=\"translate(27.240625 188.669349)scale(0.1 -0.1)\">\n       <use xlink:href=\"#DejaVuSans-34\"/>\n      </g>\n     </g>\n    </g>\n    <g id=\"ytick_4\">\n     <g id=\"line2d_12\">\n      <g>\n       <use xlink:href=\"#mfa8adc18bc\" x=\"40.603125\" y=\"137.805195\" style=\"stroke: #000000; stroke-width: 0.8\"/>\n      </g>\n     </g>\n     <g id=\"text_13\">\n      <!-- 6 -->\n      <g transform=\"translate(27.240625 141.604414)scale(0.1 -0.1)\">\n       <use xlink:href=\"#DejaVuSans-36\"/>\n      </g>\n     </g>\n    </g>\n    <g id=\"ytick_5\">\n     <g id=\"line2d_13\">\n      <g>\n       <use xlink:href=\"#mfa8adc18bc\" x=\"40.603125\" y=\"90.74026\" style=\"stroke: #000000; stroke-width: 0.8\"/>\n      </g>\n     </g>\n     <g id=\"text_14\">\n      <!-- 8 -->\n      <g transform=\"translate(27.240625 94.539478)scale(0.1 -0.1)\">\n       <use xlink:href=\"#DejaVuSans-38\"/>\n      </g>\n     </g>\n    </g>\n    <g id=\"ytick_6\">\n     <g id=\"line2d_14\">\n      <g>\n       <use xlink:href=\"#mfa8adc18bc\" x=\"40.603125\" y=\"43.675325\" style=\"stroke: #000000; stroke-width: 0.8\"/>\n      </g>\n     </g>\n     <g id=\"text_15\">\n      <!-- 10 -->\n      <g transform=\"translate(20.878125 47.474543)scale(0.1 -0.1)\">\n       <use xlink:href=\"#DejaVuSans-31\"/>\n       <use xlink:href=\"#DejaVuSans-30\" x=\"63.623047\"/>\n      </g>\n     </g>\n    </g>\n    <g id=\"text_16\">\n     <!-- Count -->\n     <g transform=\"translate(14.798437 157.948437)rotate(-90)scale(0.1 -0.1)\">\n      <defs>\n       <path id=\"DejaVuSans-43\" d=\"M 4122 4306 \nL 4122 3641 \nQ 3803 3938 3442 4084 \nQ 3081 4231 2675 4231 \nQ 1875 4231 1450 3742 \nQ 1025 3253 1025 2328 \nQ 1025 1406 1450 917 \nQ 1875 428 2675 428 \nQ 3081 428 3442 575 \nQ 3803 722 4122 1019 \nL 4122 359 \nQ 3791 134 3420 21 \nQ 3050 -91 2638 -91 \nQ 1578 -91 968 557 \nQ 359 1206 359 2328 \nQ 359 3453 968 4101 \nQ 1578 4750 2638 4750 \nQ 3056 4750 3426 4639 \nQ 3797 4528 4122 4306 \nz\n\" transform=\"scale(0.015625)\"/>\n       <path id=\"DejaVuSans-6f\" d=\"M 1959 3097 \nQ 1497 3097 1228 2736 \nQ 959 2375 959 1747 \nQ 959 1119 1226 758 \nQ 1494 397 1959 397 \nQ 2419 397 2687 759 \nQ 2956 1122 2956 1747 \nQ 2956 2369 2687 2733 \nQ 2419 3097 1959 3097 \nz\nM 1959 3584 \nQ 2709 3584 3137 3096 \nQ 3566 2609 3566 1747 \nQ 3566 888 3137 398 \nQ 2709 -91 1959 -91 \nQ 1206 -91 779 398 \nQ 353 888 353 1747 \nQ 353 2609 779 3096 \nQ 1206 3584 1959 3584 \nz\n\" transform=\"scale(0.015625)\"/>\n       <path id=\"DejaVuSans-75\" d=\"M 544 1381 \nL 544 3500 \nL 1119 3500 \nL 1119 1403 \nQ 1119 906 1312 657 \nQ 1506 409 1894 409 \nQ 2359 409 2629 706 \nQ 2900 1003 2900 1516 \nL 2900 3500 \nL 3475 3500 \nL 3475 0 \nL 2900 0 \nL 2900 538 \nQ 2691 219 2414 64 \nQ 2138 -91 1772 -91 \nQ 1169 -91 856 284 \nQ 544 659 544 1381 \nz\nM 1991 3584 \nL 1991 3584 \nz\n\" transform=\"scale(0.015625)\"/>\n       <path id=\"DejaVuSans-6e\" d=\"M 3513 2113 \nL 3513 0 \nL 2938 0 \nL 2938 2094 \nQ 2938 2591 2744 2837 \nQ 2550 3084 2163 3084 \nQ 1697 3084 1428 2787 \nQ 1159 2491 1159 1978 \nL 1159 0 \nL 581 0 \nL 581 3500 \nL 1159 3500 \nL 1159 2956 \nQ 1366 3272 1645 3428 \nQ 1925 3584 2291 3584 \nQ 2894 3584 3203 3211 \nQ 3513 2838 3513 2113 \nz\n\" transform=\"scale(0.015625)\"/>\n       <path id=\"DejaVuSans-74\" d=\"M 1172 4494 \nL 1172 3500 \nL 2356 3500 \nL 2356 3053 \nL 1172 3053 \nL 1172 1153 \nQ 1172 725 1289 603 \nQ 1406 481 1766 481 \nL 2356 481 \nL 2356 0 \nL 1766 0 \nQ 1100 0 847 248 \nQ 594 497 594 1153 \nL 594 3053 \nL 172 3053 \nL 172 3500 \nL 594 3500 \nL 594 4494 \nL 1172 4494 \nz\n\" transform=\"scale(0.015625)\"/>\n      </defs>\n      <use xlink:href=\"#DejaVuSans-43\"/>\n      <use xlink:href=\"#DejaVuSans-6f\" x=\"69.824219\"/>\n      <use xlink:href=\"#DejaVuSans-75\" x=\"131.005859\"/>\n      <use xlink:href=\"#DejaVuSans-6e\" x=\"194.384766\"/>\n      <use xlink:href=\"#DejaVuSans-74\" x=\"257.763672\"/>\n     </g>\n    </g>\n   </g>\n   <g id=\"patch_73\">\n    <path d=\"M 40.603125 279 \nL 40.603125 7.2 \n\" style=\"fill: none; stroke: #000000; stroke-width: 0.8; stroke-linejoin: miter; stroke-linecap: square\"/>\n   </g>\n   <g id=\"patch_74\">\n    <path d=\"M 598.603125 279 \nL 598.603125 7.2 \n\" style=\"fill: none; stroke: #000000; stroke-width: 0.8; stroke-linejoin: miter; stroke-linecap: square\"/>\n   </g>\n   <g id=\"patch_75\">\n    <path d=\"M 40.603125 279 \nL 598.603125 279 \n\" style=\"fill: none; stroke: #000000; stroke-width: 0.8; stroke-linejoin: miter; stroke-linecap: square\"/>\n   </g>\n   <g id=\"patch_76\">\n    <path d=\"M 40.603125 7.2 \nL 598.603125 7.2 \n\" style=\"fill: none; stroke: #000000; stroke-width: 0.8; stroke-linejoin: miter; stroke-linecap: square\"/>\n   </g>\n   <g id=\"legend_1\">\n    <g id=\"patch_77\">\n     <path d=\"M 47.603125 117.946875 \nL 233.390625 117.946875 \nQ 235.390625 117.946875 235.390625 115.946875 \nL 235.390625 14.2 \nQ 235.390625 12.2 233.390625 12.2 \nL 47.603125 12.2 \nQ 45.603125 12.2 45.603125 14.2 \nL 45.603125 115.946875 \nQ 45.603125 117.946875 47.603125 117.946875 \nz\n\" style=\"fill: #ffffff; opacity: 0.8; stroke: #cccccc; stroke-linejoin: miter\"/>\n    </g>\n    <g id=\"patch_78\">\n     <path d=\"M 49.603125 23.798438 \nL 69.603125 23.798438 \nL 69.603125 16.798438 \nL 49.603125 16.798438 \nz\n\" style=\"fill: #1f77b4; opacity: 0.5\"/>\n    </g>\n    <g id=\"text_17\">\n     <!-- Baroque -->\n     <g transform=\"translate(77.603125 23.798438)scale(0.1 -0.1)\">\n      <defs>\n       <path id=\"DejaVuSans-42\" d=\"M 1259 2228 \nL 1259 519 \nL 2272 519 \nQ 2781 519 3026 730 \nQ 3272 941 3272 1375 \nQ 3272 1813 3026 2020 \nQ 2781 2228 2272 2228 \nL 1259 2228 \nz\nM 1259 4147 \nL 1259 2741 \nL 2194 2741 \nQ 2656 2741 2882 2914 \nQ 3109 3088 3109 3444 \nQ 3109 3797 2882 3972 \nQ 2656 4147 2194 4147 \nL 1259 4147 \nz\nM 628 4666 \nL 2241 4666 \nQ 2963 4666 3353 4366 \nQ 3744 4066 3744 3513 \nQ 3744 3084 3544 2831 \nQ 3344 2578 2956 2516 \nQ 3422 2416 3680 2098 \nQ 3938 1781 3938 1306 \nQ 3938 681 3513 340 \nQ 3088 0 2303 0 \nL 628 0 \nL 628 4666 \nz\n\" transform=\"scale(0.015625)\"/>\n       <path id=\"DejaVuSans-71\" d=\"M 947 1747 \nQ 947 1113 1208 752 \nQ 1469 391 1925 391 \nQ 2381 391 2643 752 \nQ 2906 1113 2906 1747 \nQ 2906 2381 2643 2742 \nQ 2381 3103 1925 3103 \nQ 1469 3103 1208 2742 \nQ 947 2381 947 1747 \nz\nM 2906 525 \nQ 2725 213 2448 61 \nQ 2172 -91 1784 -91 \nQ 1150 -91 751 415 \nQ 353 922 353 1747 \nQ 353 2572 751 3078 \nQ 1150 3584 1784 3584 \nQ 2172 3584 2448 3432 \nQ 2725 3281 2906 2969 \nL 2906 3500 \nL 3481 3500 \nL 3481 -1331 \nL 2906 -1331 \nL 2906 525 \nz\n\" transform=\"scale(0.015625)\"/>\n      </defs>\n      <use xlink:href=\"#DejaVuSans-42\"/>\n      <use xlink:href=\"#DejaVuSans-61\" x=\"68.603516\"/>\n      <use xlink:href=\"#DejaVuSans-72\" x=\"129.882812\"/>\n      <use xlink:href=\"#DejaVuSans-6f\" x=\"168.746094\"/>\n      <use xlink:href=\"#DejaVuSans-71\" x=\"229.927734\"/>\n      <use xlink:href=\"#DejaVuSans-75\" x=\"293.404297\"/>\n      <use xlink:href=\"#DejaVuSans-65\" x=\"356.783203\"/>\n     </g>\n    </g>\n    <g id=\"patch_79\">\n     <path d=\"M 49.603125 38.476563 \nL 69.603125 38.476563 \nL 69.603125 31.476563 \nL 49.603125 31.476563 \nz\n\" style=\"fill: #ff7f0e; opacity: 0.5\"/>\n    </g>\n    <g id=\"text_18\">\n     <!-- High Renaissance -->\n     <g transform=\"translate(77.603125 38.476563)scale(0.1 -0.1)\">\n      <defs>\n       <path id=\"DejaVuSans-48\" d=\"M 628 4666 \nL 1259 4666 \nL 1259 2753 \nL 3553 2753 \nL 3553 4666 \nL 4184 4666 \nL 4184 0 \nL 3553 0 \nL 3553 2222 \nL 1259 2222 \nL 1259 0 \nL 628 0 \nL 628 4666 \nz\n\" transform=\"scale(0.015625)\"/>\n       <path id=\"DejaVuSans-69\" d=\"M 603 3500 \nL 1178 3500 \nL 1178 0 \nL 603 0 \nL 603 3500 \nz\nM 603 4863 \nL 1178 4863 \nL 1178 4134 \nL 603 4134 \nL 603 4863 \nz\n\" transform=\"scale(0.015625)\"/>\n       <path id=\"DejaVuSans-67\" d=\"M 2906 1791 \nQ 2906 2416 2648 2759 \nQ 2391 3103 1925 3103 \nQ 1463 3103 1205 2759 \nQ 947 2416 947 1791 \nQ 947 1169 1205 825 \nQ 1463 481 1925 481 \nQ 2391 481 2648 825 \nQ 2906 1169 2906 1791 \nz\nM 3481 434 \nQ 3481 -459 3084 -895 \nQ 2688 -1331 1869 -1331 \nQ 1566 -1331 1297 -1286 \nQ 1028 -1241 775 -1147 \nL 775 -588 \nQ 1028 -725 1275 -790 \nQ 1522 -856 1778 -856 \nQ 2344 -856 2625 -561 \nQ 2906 -266 2906 331 \nL 2906 616 \nQ 2728 306 2450 153 \nQ 2172 0 1784 0 \nQ 1141 0 747 490 \nQ 353 981 353 1791 \nQ 353 2603 747 3093 \nQ 1141 3584 1784 3584 \nQ 2172 3584 2450 3431 \nQ 2728 3278 2906 2969 \nL 2906 3500 \nL 3481 3500 \nL 3481 434 \nz\n\" transform=\"scale(0.015625)\"/>\n       <path id=\"DejaVuSans-68\" d=\"M 3513 2113 \nL 3513 0 \nL 2938 0 \nL 2938 2094 \nQ 2938 2591 2744 2837 \nQ 2550 3084 2163 3084 \nQ 1697 3084 1428 2787 \nQ 1159 2491 1159 1978 \nL 1159 0 \nL 581 0 \nL 581 4863 \nL 1159 4863 \nL 1159 2956 \nQ 1366 3272 1645 3428 \nQ 1925 3584 2291 3584 \nQ 2894 3584 3203 3211 \nQ 3513 2838 3513 2113 \nz\n\" transform=\"scale(0.015625)\"/>\n       <path id=\"DejaVuSans-20\" transform=\"scale(0.015625)\"/>\n       <path id=\"DejaVuSans-52\" d=\"M 2841 2188 \nQ 3044 2119 3236 1894 \nQ 3428 1669 3622 1275 \nL 4263 0 \nL 3584 0 \nL 2988 1197 \nQ 2756 1666 2539 1819 \nQ 2322 1972 1947 1972 \nL 1259 1972 \nL 1259 0 \nL 628 0 \nL 628 4666 \nL 2053 4666 \nQ 2853 4666 3247 4331 \nQ 3641 3997 3641 3322 \nQ 3641 2881 3436 2590 \nQ 3231 2300 2841 2188 \nz\nM 1259 4147 \nL 1259 2491 \nL 2053 2491 \nQ 2509 2491 2742 2702 \nQ 2975 2913 2975 3322 \nQ 2975 3731 2742 3939 \nQ 2509 4147 2053 4147 \nL 1259 4147 \nz\n\" transform=\"scale(0.015625)\"/>\n       <path id=\"DejaVuSans-73\" d=\"M 2834 3397 \nL 2834 2853 \nQ 2591 2978 2328 3040 \nQ 2066 3103 1784 3103 \nQ 1356 3103 1142 2972 \nQ 928 2841 928 2578 \nQ 928 2378 1081 2264 \nQ 1234 2150 1697 2047 \nL 1894 2003 \nQ 2506 1872 2764 1633 \nQ 3022 1394 3022 966 \nQ 3022 478 2636 193 \nQ 2250 -91 1575 -91 \nQ 1294 -91 989 -36 \nQ 684 19 347 128 \nL 347 722 \nQ 666 556 975 473 \nQ 1284 391 1588 391 \nQ 1994 391 2212 530 \nQ 2431 669 2431 922 \nQ 2431 1156 2273 1281 \nQ 2116 1406 1581 1522 \nL 1381 1569 \nQ 847 1681 609 1914 \nQ 372 2147 372 2553 \nQ 372 3047 722 3315 \nQ 1072 3584 1716 3584 \nQ 2034 3584 2315 3537 \nQ 2597 3491 2834 3397 \nz\n\" transform=\"scale(0.015625)\"/>\n       <path id=\"DejaVuSans-63\" d=\"M 3122 3366 \nL 3122 2828 \nQ 2878 2963 2633 3030 \nQ 2388 3097 2138 3097 \nQ 1578 3097 1268 2742 \nQ 959 2388 959 1747 \nQ 959 1106 1268 751 \nQ 1578 397 2138 397 \nQ 2388 397 2633 464 \nQ 2878 531 3122 666 \nL 3122 134 \nQ 2881 22 2623 -34 \nQ 2366 -91 2075 -91 \nQ 1284 -91 818 406 \nQ 353 903 353 1747 \nQ 353 2603 823 3093 \nQ 1294 3584 2113 3584 \nQ 2378 3584 2631 3529 \nQ 2884 3475 3122 3366 \nz\n\" transform=\"scale(0.015625)\"/>\n      </defs>\n      <use xlink:href=\"#DejaVuSans-48\"/>\n      <use xlink:href=\"#DejaVuSans-69\" x=\"75.195312\"/>\n      <use xlink:href=\"#DejaVuSans-67\" x=\"102.978516\"/>\n      <use xlink:href=\"#DejaVuSans-68\" x=\"166.455078\"/>\n      <use xlink:href=\"#DejaVuSans-20\" x=\"229.833984\"/>\n      <use xlink:href=\"#DejaVuSans-52\" x=\"261.621094\"/>\n      <use xlink:href=\"#DejaVuSans-65\" x=\"326.603516\"/>\n      <use xlink:href=\"#DejaVuSans-6e\" x=\"388.126953\"/>\n      <use xlink:href=\"#DejaVuSans-61\" x=\"451.505859\"/>\n      <use xlink:href=\"#DejaVuSans-69\" x=\"512.785156\"/>\n      <use xlink:href=\"#DejaVuSans-73\" x=\"540.568359\"/>\n      <use xlink:href=\"#DejaVuSans-73\" x=\"592.667969\"/>\n      <use xlink:href=\"#DejaVuSans-61\" x=\"644.767578\"/>\n      <use xlink:href=\"#DejaVuSans-6e\" x=\"706.046875\"/>\n      <use xlink:href=\"#DejaVuSans-63\" x=\"769.425781\"/>\n      <use xlink:href=\"#DejaVuSans-65\" x=\"824.40625\"/>\n     </g>\n    </g>\n    <g id=\"patch_80\">\n     <path d=\"M 49.603125 53.154688 \nL 69.603125 53.154688 \nL 69.603125 46.154688 \nL 49.603125 46.154688 \nz\n\" style=\"fill: #2ca02c; opacity: 0.5\"/>\n    </g>\n    <g id=\"text_19\">\n     <!-- Mannerism (Late Renaissance) -->\n     <g transform=\"translate(77.603125 53.154688)scale(0.1 -0.1)\">\n      <defs>\n       <path id=\"DejaVuSans-4d\" d=\"M 628 4666 \nL 1569 4666 \nL 2759 1491 \nL 3956 4666 \nL 4897 4666 \nL 4897 0 \nL 4281 0 \nL 4281 4097 \nL 3078 897 \nL 2444 897 \nL 1241 4097 \nL 1241 0 \nL 628 0 \nL 628 4666 \nz\n\" transform=\"scale(0.015625)\"/>\n       <path id=\"DejaVuSans-6d\" d=\"M 3328 2828 \nQ 3544 3216 3844 3400 \nQ 4144 3584 4550 3584 \nQ 5097 3584 5394 3201 \nQ 5691 2819 5691 2113 \nL 5691 0 \nL 5113 0 \nL 5113 2094 \nQ 5113 2597 4934 2840 \nQ 4756 3084 4391 3084 \nQ 3944 3084 3684 2787 \nQ 3425 2491 3425 1978 \nL 3425 0 \nL 2847 0 \nL 2847 2094 \nQ 2847 2600 2669 2842 \nQ 2491 3084 2119 3084 \nQ 1678 3084 1418 2786 \nQ 1159 2488 1159 1978 \nL 1159 0 \nL 581 0 \nL 581 3500 \nL 1159 3500 \nL 1159 2956 \nQ 1356 3278 1631 3431 \nQ 1906 3584 2284 3584 \nQ 2666 3584 2933 3390 \nQ 3200 3197 3328 2828 \nz\n\" transform=\"scale(0.015625)\"/>\n       <path id=\"DejaVuSans-28\" d=\"M 1984 4856 \nQ 1566 4138 1362 3434 \nQ 1159 2731 1159 2009 \nQ 1159 1288 1364 580 \nQ 1569 -128 1984 -844 \nL 1484 -844 \nQ 1016 -109 783 600 \nQ 550 1309 550 2009 \nQ 550 2706 781 3412 \nQ 1013 4119 1484 4856 \nL 1984 4856 \nz\n\" transform=\"scale(0.015625)\"/>\n       <path id=\"DejaVuSans-4c\" d=\"M 628 4666 \nL 1259 4666 \nL 1259 531 \nL 3531 531 \nL 3531 0 \nL 628 0 \nL 628 4666 \nz\n\" transform=\"scale(0.015625)\"/>\n       <path id=\"DejaVuSans-29\" d=\"M 513 4856 \nL 1013 4856 \nQ 1481 4119 1714 3412 \nQ 1947 2706 1947 2009 \nQ 1947 1309 1714 600 \nQ 1481 -109 1013 -844 \nL 513 -844 \nQ 928 -128 1133 580 \nQ 1338 1288 1338 2009 \nQ 1338 2731 1133 3434 \nQ 928 4138 513 4856 \nz\n\" transform=\"scale(0.015625)\"/>\n      </defs>\n      <use xlink:href=\"#DejaVuSans-4d\"/>\n      <use xlink:href=\"#DejaVuSans-61\" x=\"86.279297\"/>\n      <use xlink:href=\"#DejaVuSans-6e\" x=\"147.558594\"/>\n      <use xlink:href=\"#DejaVuSans-6e\" x=\"210.9375\"/>\n      <use xlink:href=\"#DejaVuSans-65\" x=\"274.316406\"/>\n      <use xlink:href=\"#DejaVuSans-72\" x=\"335.839844\"/>\n      <use xlink:href=\"#DejaVuSans-69\" x=\"376.953125\"/>\n      <use xlink:href=\"#DejaVuSans-73\" x=\"404.736328\"/>\n      <use xlink:href=\"#DejaVuSans-6d\" x=\"456.835938\"/>\n      <use xlink:href=\"#DejaVuSans-20\" x=\"554.248047\"/>\n      <use xlink:href=\"#DejaVuSans-28\" x=\"586.035156\"/>\n      <use xlink:href=\"#DejaVuSans-4c\" x=\"625.048828\"/>\n      <use xlink:href=\"#DejaVuSans-61\" x=\"680.761719\"/>\n      <use xlink:href=\"#DejaVuSans-74\" x=\"742.041016\"/>\n      <use xlink:href=\"#DejaVuSans-65\" x=\"781.25\"/>\n      <use xlink:href=\"#DejaVuSans-20\" x=\"842.773438\"/>\n      <use xlink:href=\"#DejaVuSans-52\" x=\"874.560547\"/>\n      <use xlink:href=\"#DejaVuSans-65\" x=\"939.542969\"/>\n      <use xlink:href=\"#DejaVuSans-6e\" x=\"1001.066406\"/>\n      <use xlink:href=\"#DejaVuSans-61\" x=\"1064.445312\"/>\n      <use xlink:href=\"#DejaVuSans-69\" x=\"1125.724609\"/>\n      <use xlink:href=\"#DejaVuSans-73\" x=\"1153.507812\"/>\n      <use xlink:href=\"#DejaVuSans-73\" x=\"1205.607422\"/>\n      <use xlink:href=\"#DejaVuSans-61\" x=\"1257.707031\"/>\n      <use xlink:href=\"#DejaVuSans-6e\" x=\"1318.986328\"/>\n      <use xlink:href=\"#DejaVuSans-63\" x=\"1382.365234\"/>\n      <use xlink:href=\"#DejaVuSans-65\" x=\"1437.345703\"/>\n      <use xlink:href=\"#DejaVuSans-29\" x=\"1498.869141\"/>\n     </g>\n    </g>\n    <g id=\"patch_81\">\n     <path d=\"M 49.603125 67.832813 \nL 69.603125 67.832813 \nL 69.603125 60.832813 \nL 49.603125 60.832813 \nz\n\" style=\"fill: #d62728; opacity: 0.5\"/>\n    </g>\n    <g id=\"text_20\">\n     <!-- Neoclassicism -->\n     <g transform=\"translate(77.603125 67.832813)scale(0.1 -0.1)\">\n      <defs>\n       <path id=\"DejaVuSans-4e\" d=\"M 628 4666 \nL 1478 4666 \nL 3547 763 \nL 3547 4666 \nL 4159 4666 \nL 4159 0 \nL 3309 0 \nL 1241 3903 \nL 1241 0 \nL 628 0 \nL 628 4666 \nz\n\" transform=\"scale(0.015625)\"/>\n       <path id=\"DejaVuSans-6c\" d=\"M 603 4863 \nL 1178 4863 \nL 1178 0 \nL 603 0 \nL 603 4863 \nz\n\" transform=\"scale(0.015625)\"/>\n      </defs>\n      <use xlink:href=\"#DejaVuSans-4e\"/>\n      <use xlink:href=\"#DejaVuSans-65\" x=\"74.804688\"/>\n      <use xlink:href=\"#DejaVuSans-6f\" x=\"136.328125\"/>\n      <use xlink:href=\"#DejaVuSans-63\" x=\"197.509766\"/>\n      <use xlink:href=\"#DejaVuSans-6c\" x=\"252.490234\"/>\n      <use xlink:href=\"#DejaVuSans-61\" x=\"280.273438\"/>\n      <use xlink:href=\"#DejaVuSans-73\" x=\"341.552734\"/>\n      <use xlink:href=\"#DejaVuSans-73\" x=\"393.652344\"/>\n      <use xlink:href=\"#DejaVuSans-69\" x=\"445.751953\"/>\n      <use xlink:href=\"#DejaVuSans-63\" x=\"473.535156\"/>\n      <use xlink:href=\"#DejaVuSans-69\" x=\"528.515625\"/>\n      <use xlink:href=\"#DejaVuSans-73\" x=\"556.298828\"/>\n      <use xlink:href=\"#DejaVuSans-6d\" x=\"608.398438\"/>\n     </g>\n    </g>\n    <g id=\"patch_82\">\n     <path d=\"M 49.603125 82.510938 \nL 69.603125 82.510938 \nL 69.603125 75.510938 \nL 49.603125 75.510938 \nz\n\" style=\"fill: #9467bd; opacity: 0.5\"/>\n    </g>\n    <g id=\"text_21\">\n     <!-- Northern Renaissance -->\n     <g transform=\"translate(77.603125 82.510938)scale(0.1 -0.1)\">\n      <use xlink:href=\"#DejaVuSans-4e\"/>\n      <use xlink:href=\"#DejaVuSans-6f\" x=\"74.804688\"/>\n      <use xlink:href=\"#DejaVuSans-72\" x=\"135.986328\"/>\n      <use xlink:href=\"#DejaVuSans-74\" x=\"177.099609\"/>\n      <use xlink:href=\"#DejaVuSans-68\" x=\"216.308594\"/>\n      <use xlink:href=\"#DejaVuSans-65\" x=\"279.6875\"/>\n      <use xlink:href=\"#DejaVuSans-72\" x=\"341.210938\"/>\n      <use xlink:href=\"#DejaVuSans-6e\" x=\"380.574219\"/>\n      <use xlink:href=\"#DejaVuSans-20\" x=\"443.953125\"/>\n      <use xlink:href=\"#DejaVuSans-52\" x=\"475.740234\"/>\n      <use xlink:href=\"#DejaVuSans-65\" x=\"540.722656\"/>\n      <use xlink:href=\"#DejaVuSans-6e\" x=\"602.246094\"/>\n      <use xlink:href=\"#DejaVuSans-61\" x=\"665.625\"/>\n      <use xlink:href=\"#DejaVuSans-69\" x=\"726.904297\"/>\n      <use xlink:href=\"#DejaVuSans-73\" x=\"754.6875\"/>\n      <use xlink:href=\"#DejaVuSans-73\" x=\"806.787109\"/>\n      <use xlink:href=\"#DejaVuSans-61\" x=\"858.886719\"/>\n      <use xlink:href=\"#DejaVuSans-6e\" x=\"920.166016\"/>\n      <use xlink:href=\"#DejaVuSans-63\" x=\"983.544922\"/>\n      <use xlink:href=\"#DejaVuSans-65\" x=\"1038.525391\"/>\n     </g>\n    </g>\n    <g id=\"patch_83\">\n     <path d=\"M 49.603125 97.189063 \nL 69.603125 97.189063 \nL 69.603125 90.189063 \nL 49.603125 90.189063 \nz\n\" style=\"fill: #8c564b; opacity: 0.5\"/>\n    </g>\n    <g id=\"text_22\">\n     <!-- Rococo -->\n     <g transform=\"translate(77.603125 97.189063)scale(0.1 -0.1)\">\n      <use xlink:href=\"#DejaVuSans-52\"/>\n      <use xlink:href=\"#DejaVuSans-6f\" x=\"64.982422\"/>\n      <use xlink:href=\"#DejaVuSans-63\" x=\"126.164062\"/>\n      <use xlink:href=\"#DejaVuSans-6f\" x=\"181.144531\"/>\n      <use xlink:href=\"#DejaVuSans-63\" x=\"242.326172\"/>\n      <use xlink:href=\"#DejaVuSans-6f\" x=\"297.306641\"/>\n     </g>\n    </g>\n    <g id=\"patch_84\">\n     <path d=\"M 49.603125 111.867188 \nL 69.603125 111.867188 \nL 69.603125 104.867188 \nL 49.603125 104.867188 \nz\n\" style=\"fill: #e377c2; opacity: 0.5\"/>\n    </g>\n    <g id=\"text_23\">\n     <!-- Romanticism -->\n     <g transform=\"translate(77.603125 111.867188)scale(0.1 -0.1)\">\n      <use xlink:href=\"#DejaVuSans-52\"/>\n      <use xlink:href=\"#DejaVuSans-6f\" x=\"64.982422\"/>\n      <use xlink:href=\"#DejaVuSans-6d\" x=\"126.164062\"/>\n      <use xlink:href=\"#DejaVuSans-61\" x=\"223.576172\"/>\n      <use xlink:href=\"#DejaVuSans-6e\" x=\"284.855469\"/>\n      <use xlink:href=\"#DejaVuSans-74\" x=\"348.234375\"/>\n      <use xlink:href=\"#DejaVuSans-69\" x=\"387.443359\"/>\n      <use xlink:href=\"#DejaVuSans-63\" x=\"415.226562\"/>\n      <use xlink:href=\"#DejaVuSans-69\" x=\"470.207031\"/>\n      <use xlink:href=\"#DejaVuSans-73\" x=\"497.990234\"/>\n      <use xlink:href=\"#DejaVuSans-6d\" x=\"550.089844\"/>\n     </g>\n    </g>\n   </g>\n  </g>\n </g>\n <defs>\n  <clipPath id=\"p4b4116b981\">\n   <rect x=\"40.603125\" y=\"7.2\" width=\"558\" height=\"271.8\"/>\n  </clipPath>\n </defs>\n</svg>\n",
      "text/plain": [
       "<Figure size 720x360 with 1 Axes>"
      ]
     },
     "metadata": {
      "needs_background": "light"
     },
     "output_type": "display_data"
    }
   ],
   "source": [
    "plt.figure(figsize=(10,5))\n",
    "plt.hist(dog_info[dog_info[\"style\"]==\"Baroque\"].date, alpha=0.5)\n",
    "plt.hist(dog_info[dog_info[\"style\"]==\"High Renaissance\"].date,alpha=0.5)\n",
    "plt.hist(dog_info[dog_info[\"style\"]==\"Mannerism (Late Renaissance)\"].date, alpha=0.5)\n",
    "plt.hist(dog_info[dog_info[\"style\"]==\"Neoclassicism\"].date, alpha=0.5)\n",
    "plt.hist(dog_info[dog_info[\"style\"]==\"Northern Renaissance\"].date, alpha=0.5)\n",
    "plt.hist(dog_info[dog_info[\"style\"]==\"Rococo\"].date, alpha=0.5)\n",
    "plt.hist(dog_info[dog_info[\"style\"]==\"Romanticism\"].date, alpha=0.5)\n",
    "plt.xlabel('Year')\n",
    "plt.ylabel('Count')\n",
    "plt.legend(['Baroque', 'High Renaissance', 'Mannerism (Late Renaissance)','Neoclassicism', 'Northern Renaissance', 'Rococo', 'Romanticism'])\n",
    "plt.savefig('styledate2.png')\n",
    "plt.show()"
   ]
  },
  {
   "cell_type": "markdown",
   "metadata": {},
   "source": [
    "### Countries of Origins of Painters"
   ]
  },
  {
   "cell_type": "code",
   "execution_count": 117,
   "metadata": {},
   "outputs": [
    {
     "name": "stdout",
     "output_type": "stream",
     "text": [
      "norway.json\n",
      "finland.json\n",
      "japan.json\n",
      "brazil.json\n",
      "turkey.json\n",
      ".DS_Store\n",
      "switzerland.json\n",
      "netherlands.json\n",
      "italy.json\n",
      "poland.json\n",
      "romania.json\n",
      "china.json\n",
      "austria.json\n",
      "ukraine.json\n",
      "portugal.json\n",
      "ireland.json\n",
      "greece.json\n",
      "spain.json\n",
      "denmark.json\n",
      "hungary.json\n",
      "germany.json\n",
      "britain.json\n",
      "belgium.json\n",
      "france.json\n",
      "usa.json\n",
      "russia.json\n",
      "sweden.json\n"
     ]
    }
   ],
   "source": [
    "import os\n",
    "path = \"../json\"\n",
    "nationality = pd.DataFrame()\n",
    "for filename in os.listdir(path):\n",
    "    f = os.path.join(path, filename)\n",
    "    # checking if it is a file\n",
    "    if os.path.isfile(f):\n",
    "        print(filename)\n",
    "    if f.endswith(\".json\"):\n",
    "        df = pd.read_json(f)\n",
    "        nationality = pd.concat([nationality, df])"
   ]
  },
  {
   "cell_type": "code",
   "execution_count": 118,
   "metadata": {},
   "outputs": [],
   "source": [
    "import unicodedata\n",
    "\n",
    "def strip_accents(text):\n",
    "    try:\n",
    "        text = unicode(text, 'utf-8')\n",
    "    except NameError: # unicode is a default on python 3 \n",
    "        pass\n",
    "\n",
    "    text = unicodedata.normalize('NFD', text)\\\n",
    "           .encode('ascii', 'ignore')\\\n",
    "           .decode(\"utf-8\")\n",
    "\n",
    "    return str(text)"
   ]
  },
  {
   "cell_type": "code",
   "execution_count": 119,
   "metadata": {},
   "outputs": [
    {
     "data": {
      "text/html": [
       "<div>\n",
       "<style scoped>\n",
       "    .dataframe tbody tr th:only-of-type {\n",
       "        vertical-align: middle;\n",
       "    }\n",
       "\n",
       "    .dataframe tbody tr th {\n",
       "        vertical-align: top;\n",
       "    }\n",
       "\n",
       "    .dataframe thead th {\n",
       "        text-align: right;\n",
       "    }\n",
       "</style>\n",
       "<table border=\"1\" class=\"dataframe\">\n",
       "  <thead>\n",
       "    <tr style=\"text-align: right;\">\n",
       "      <th></th>\n",
       "      <th>artist</th>\n",
       "      <th>nationality</th>\n",
       "    </tr>\n",
       "  </thead>\n",
       "  <tbody>\n",
       "    <tr>\n",
       "      <th>0</th>\n",
       "      <td>Alfredo Andersen</td>\n",
       "      <td>Brazil</td>\n",
       "    </tr>\n",
       "    <tr>\n",
       "      <th>1</th>\n",
       "      <td>Peter Andreas Brandt</td>\n",
       "      <td>Brazil</td>\n",
       "    </tr>\n",
       "    <tr>\n",
       "      <th>2</th>\n",
       "      <td>Zdenka Rusova</td>\n",
       "      <td>Czechoslovakia</td>\n",
       "    </tr>\n",
       "    <tr>\n",
       "      <th>3</th>\n",
       "      <td>Lambert van Haven</td>\n",
       "      <td>Denmark</td>\n",
       "    </tr>\n",
       "    <tr>\n",
       "      <th>4</th>\n",
       "      <td>Peder Severin Kryer</td>\n",
       "      <td>Denmark</td>\n",
       "    </tr>\n",
       "    <tr>\n",
       "      <th>...</th>\n",
       "      <td>...</td>\n",
       "      <td>...</td>\n",
       "    </tr>\n",
       "    <tr>\n",
       "      <th>3832</th>\n",
       "      <td>Arthur Lingquist</td>\n",
       "      <td>United States of America</td>\n",
       "    </tr>\n",
       "    <tr>\n",
       "      <th>3833</th>\n",
       "      <td>Oscar Anderson</td>\n",
       "      <td>United States of America</td>\n",
       "    </tr>\n",
       "    <tr>\n",
       "      <th>3834</th>\n",
       "      <td>Oscar Jacobson</td>\n",
       "      <td>United States of America</td>\n",
       "    </tr>\n",
       "    <tr>\n",
       "      <th>3835</th>\n",
       "      <td>Britt Haglid</td>\n",
       "      <td>United States of America</td>\n",
       "    </tr>\n",
       "    <tr>\n",
       "      <th>3836</th>\n",
       "      <td>Ivan Lindhe</td>\n",
       "      <td>United States of America</td>\n",
       "    </tr>\n",
       "  </tbody>\n",
       "</table>\n",
       "<p>84641 rows × 2 columns</p>\n",
       "</div>"
      ],
      "text/plain": [
       "                    artist               nationality\n",
       "0         Alfredo Andersen                    Brazil\n",
       "1     Peter Andreas Brandt                    Brazil\n",
       "2            Zdenka Rusova            Czechoslovakia\n",
       "3        Lambert van Haven                   Denmark\n",
       "4      Peder Severin Kryer                   Denmark\n",
       "...                    ...                       ...\n",
       "3832      Arthur Lingquist  United States of America\n",
       "3833        Oscar Anderson  United States of America\n",
       "3834        Oscar Jacobson  United States of America\n",
       "3835          Britt Haglid  United States of America\n",
       "3836           Ivan Lindhe  United States of America\n",
       "\n",
       "[84641 rows x 2 columns]"
      ]
     },
     "execution_count": 119,
     "metadata": {},
     "output_type": "execute_result"
    }
   ],
   "source": [
    "nationality = nationality.rename(columns={\"painterLabel\": \"artist\", \"countryLabel\": \"nationality\"})\n",
    "nationality[\"artist\"] = nationality[\"artist\"].apply(strip_accents)\n",
    "nationality"
   ]
  },
  {
   "cell_type": "code",
   "execution_count": 120,
   "metadata": {},
   "outputs": [],
   "source": [
    "all_data_info = all_data_info.merge(nationality, on='artist', how='left')"
   ]
  },
  {
   "cell_type": "markdown",
   "metadata": {},
   "source": [
    "#### Countries Distribution of all paintings"
   ]
  },
  {
   "cell_type": "code",
   "execution_count": 137,
   "metadata": {},
   "outputs": [
    {
     "data": {
      "application/vnd.plotly.v1+json": {
       "config": {
        "plotlyServerURL": "https://plot.ly"
       },
       "data": [
        {
         "branchvalues": "total",
         "domain": {
          "x": [
           0,
           1
          ],
          "y": [
           0,
           1
          ]
         },
         "hovertemplate": "labels=%{label}<br>artist=%{value}<br>parent=%{parent}<br>id=%{id}<extra></extra>",
         "ids": [
          "Argentina",
          "Australia",
          "Austria",
          "Austria-Hungary",
          "Austrian Empire",
          "Belgium",
          "Brazil",
          "Bulgaria",
          "Canada",
          "China",
          "Cisleithania",
          "Cuba",
          "Czechoslovakia",
          "Denmark",
          "Duchy of Burgundy",
          "Dutch Republic",
          "Estonia",
          "Finland",
          "First Republic of Armenia",
          "France",
          "German Empire",
          "German Reich",
          "Germany",
          "Great Britain",
          "Greece",
          "Habsburg Netherlands",
          "Holy Roman Empire",
          "Hungary",
          "Iceland",
          "Irish Free State",
          "Israel",
          "Italy",
          "Japan",
          "Jordan",
          "Kingdom of France",
          "Kingdom of Italy",
          "Kingdom of the Netherlands",
          "Lithuania",
          "Mexico",
          "Nazi Germany",
          "Netherlands",
          "Norway",
          "Ottoman Empire",
          "People's Republic of China",
          "Poland",
          "Portugal",
          "Qing dynasty",
          "Republic of China",
          "Republic of Ireland",
          "Republic of Venice",
          "Romania",
          "Russia",
          "Russian Empire",
          "Russian Soviet Federative Socialist Republic",
          "Southern Netherlands",
          "Soviet Union",
          "Spain",
          "Sweden",
          "Switzerland",
          "Taiwan",
          "Turkey",
          "Ukraine",
          "United Kingdom",
          "United Kingdom of Great Britain and Ireland",
          "United States of America",
          "Vietnam",
          "Wales",
          "Weimar Republic"
         ],
         "labels": [
          "Argentina",
          "Australia",
          "Austria",
          "Austria-Hungary",
          "Austrian Empire",
          "Belgium",
          "Brazil",
          "Bulgaria",
          "Canada",
          "China",
          "Cisleithania",
          "Cuba",
          "Czechoslovakia",
          "Denmark",
          "Duchy of Burgundy",
          "Dutch Republic",
          "Estonia",
          "Finland",
          "First Republic of Armenia",
          "France",
          "German Empire",
          "German Reich",
          "Germany",
          "Great Britain",
          "Greece",
          "Habsburg Netherlands",
          "Holy Roman Empire",
          "Hungary",
          "Iceland",
          "Irish Free State",
          "Israel",
          "Italy",
          "Japan",
          "Jordan",
          "Kingdom of France",
          "Kingdom of Italy",
          "Kingdom of the Netherlands",
          "Lithuania",
          "Mexico",
          "Nazi Germany",
          "Netherlands",
          "Norway",
          "Ottoman Empire",
          "People's Republic of China",
          "Poland",
          "Portugal",
          "Qing dynasty",
          "Republic of China",
          "Republic of Ireland",
          "Republic of Venice",
          "Romania",
          "Russia",
          "Russian Empire",
          "Russian Soviet Federative Socialist Republic",
          "Southern Netherlands",
          "Soviet Union",
          "Spain",
          "Sweden",
          "Switzerland",
          "Taiwan",
          "Turkey",
          "Ukraine",
          "United Kingdom",
          "United Kingdom of Great Britain and Ireland",
          "United States of America",
          "Vietnam",
          "Wales",
          "Weimar Republic"
         ],
         "name": "",
         "parents": [
          "",
          "",
          "",
          "",
          "",
          "",
          "",
          "",
          "",
          "",
          "",
          "",
          "",
          "",
          "",
          "",
          "",
          "",
          "",
          "",
          "",
          "",
          "",
          "",
          "",
          "",
          "",
          "",
          "",
          "",
          "",
          "",
          "",
          "",
          "",
          "",
          "",
          "",
          "",
          "",
          "",
          "",
          "",
          "",
          "",
          "",
          "",
          "",
          "",
          "",
          "",
          "",
          "",
          "",
          "",
          "",
          "",
          "",
          "",
          "",
          "",
          "",
          "",
          "",
          "",
          "",
          "",
          ""
         ],
         "type": "treemap",
         "values": [
          35,
          39,
          1283,
          498,
          151,
          1160,
          340,
          15,
          55,
          13,
          172,
          668,
          195,
          1079,
          19,
          16,
          9,
          107,
          60,
          17012,
          106,
          192,
          3035,
          791,
          667,
          16,
          18,
          691,
          25,
          68,
          225,
          1342,
          961,
          6,
          48,
          1174,
          65,
          18,
          29,
          1,
          199,
          221,
          112,
          363,
          726,
          356,
          130,
          168,
          32,
          164,
          1501,
          48,
          1846,
          1,
          144,
          815,
          2474,
          454,
          2362,
          13,
          146,
          78,
          2322,
          4373,
          13478,
          10,
          24,
          95
         ]
        }
       ],
       "layout": {
        "font": {
         "color": "RebeccaPurple",
         "family": "Courier New, monospace",
         "size": 200
        },
        "height": 1800,
        "legend": {
         "tracegroupgap": 0
        },
        "margin": {
         "t": 60
        },
        "template": {
         "data": {
          "bar": [
           {
            "error_x": {
             "color": "#2a3f5f"
            },
            "error_y": {
             "color": "#2a3f5f"
            },
            "marker": {
             "line": {
              "color": "#E5ECF6",
              "width": 0.5
             },
             "pattern": {
              "fillmode": "overlay",
              "size": 10,
              "solidity": 0.2
             }
            },
            "type": "bar"
           }
          ],
          "barpolar": [
           {
            "marker": {
             "line": {
              "color": "#E5ECF6",
              "width": 0.5
             },
             "pattern": {
              "fillmode": "overlay",
              "size": 10,
              "solidity": 0.2
             }
            },
            "type": "barpolar"
           }
          ],
          "carpet": [
           {
            "aaxis": {
             "endlinecolor": "#2a3f5f",
             "gridcolor": "white",
             "linecolor": "white",
             "minorgridcolor": "white",
             "startlinecolor": "#2a3f5f"
            },
            "baxis": {
             "endlinecolor": "#2a3f5f",
             "gridcolor": "white",
             "linecolor": "white",
             "minorgridcolor": "white",
             "startlinecolor": "#2a3f5f"
            },
            "type": "carpet"
           }
          ],
          "choropleth": [
           {
            "colorbar": {
             "outlinewidth": 0,
             "ticks": ""
            },
            "type": "choropleth"
           }
          ],
          "contour": [
           {
            "colorbar": {
             "outlinewidth": 0,
             "ticks": ""
            },
            "colorscale": [
             [
              0,
              "#0d0887"
             ],
             [
              0.1111111111111111,
              "#46039f"
             ],
             [
              0.2222222222222222,
              "#7201a8"
             ],
             [
              0.3333333333333333,
              "#9c179e"
             ],
             [
              0.4444444444444444,
              "#bd3786"
             ],
             [
              0.5555555555555556,
              "#d8576b"
             ],
             [
              0.6666666666666666,
              "#ed7953"
             ],
             [
              0.7777777777777778,
              "#fb9f3a"
             ],
             [
              0.8888888888888888,
              "#fdca26"
             ],
             [
              1,
              "#f0f921"
             ]
            ],
            "type": "contour"
           }
          ],
          "contourcarpet": [
           {
            "colorbar": {
             "outlinewidth": 0,
             "ticks": ""
            },
            "type": "contourcarpet"
           }
          ],
          "heatmap": [
           {
            "colorbar": {
             "outlinewidth": 0,
             "ticks": ""
            },
            "colorscale": [
             [
              0,
              "#0d0887"
             ],
             [
              0.1111111111111111,
              "#46039f"
             ],
             [
              0.2222222222222222,
              "#7201a8"
             ],
             [
              0.3333333333333333,
              "#9c179e"
             ],
             [
              0.4444444444444444,
              "#bd3786"
             ],
             [
              0.5555555555555556,
              "#d8576b"
             ],
             [
              0.6666666666666666,
              "#ed7953"
             ],
             [
              0.7777777777777778,
              "#fb9f3a"
             ],
             [
              0.8888888888888888,
              "#fdca26"
             ],
             [
              1,
              "#f0f921"
             ]
            ],
            "type": "heatmap"
           }
          ],
          "heatmapgl": [
           {
            "colorbar": {
             "outlinewidth": 0,
             "ticks": ""
            },
            "colorscale": [
             [
              0,
              "#0d0887"
             ],
             [
              0.1111111111111111,
              "#46039f"
             ],
             [
              0.2222222222222222,
              "#7201a8"
             ],
             [
              0.3333333333333333,
              "#9c179e"
             ],
             [
              0.4444444444444444,
              "#bd3786"
             ],
             [
              0.5555555555555556,
              "#d8576b"
             ],
             [
              0.6666666666666666,
              "#ed7953"
             ],
             [
              0.7777777777777778,
              "#fb9f3a"
             ],
             [
              0.8888888888888888,
              "#fdca26"
             ],
             [
              1,
              "#f0f921"
             ]
            ],
            "type": "heatmapgl"
           }
          ],
          "histogram": [
           {
            "marker": {
             "pattern": {
              "fillmode": "overlay",
              "size": 10,
              "solidity": 0.2
             }
            },
            "type": "histogram"
           }
          ],
          "histogram2d": [
           {
            "colorbar": {
             "outlinewidth": 0,
             "ticks": ""
            },
            "colorscale": [
             [
              0,
              "#0d0887"
             ],
             [
              0.1111111111111111,
              "#46039f"
             ],
             [
              0.2222222222222222,
              "#7201a8"
             ],
             [
              0.3333333333333333,
              "#9c179e"
             ],
             [
              0.4444444444444444,
              "#bd3786"
             ],
             [
              0.5555555555555556,
              "#d8576b"
             ],
             [
              0.6666666666666666,
              "#ed7953"
             ],
             [
              0.7777777777777778,
              "#fb9f3a"
             ],
             [
              0.8888888888888888,
              "#fdca26"
             ],
             [
              1,
              "#f0f921"
             ]
            ],
            "type": "histogram2d"
           }
          ],
          "histogram2dcontour": [
           {
            "colorbar": {
             "outlinewidth": 0,
             "ticks": ""
            },
            "colorscale": [
             [
              0,
              "#0d0887"
             ],
             [
              0.1111111111111111,
              "#46039f"
             ],
             [
              0.2222222222222222,
              "#7201a8"
             ],
             [
              0.3333333333333333,
              "#9c179e"
             ],
             [
              0.4444444444444444,
              "#bd3786"
             ],
             [
              0.5555555555555556,
              "#d8576b"
             ],
             [
              0.6666666666666666,
              "#ed7953"
             ],
             [
              0.7777777777777778,
              "#fb9f3a"
             ],
             [
              0.8888888888888888,
              "#fdca26"
             ],
             [
              1,
              "#f0f921"
             ]
            ],
            "type": "histogram2dcontour"
           }
          ],
          "mesh3d": [
           {
            "colorbar": {
             "outlinewidth": 0,
             "ticks": ""
            },
            "type": "mesh3d"
           }
          ],
          "parcoords": [
           {
            "line": {
             "colorbar": {
              "outlinewidth": 0,
              "ticks": ""
             }
            },
            "type": "parcoords"
           }
          ],
          "pie": [
           {
            "automargin": true,
            "type": "pie"
           }
          ],
          "scatter": [
           {
            "fillpattern": {
             "fillmode": "overlay",
             "size": 10,
             "solidity": 0.2
            },
            "type": "scatter"
           }
          ],
          "scatter3d": [
           {
            "line": {
             "colorbar": {
              "outlinewidth": 0,
              "ticks": ""
             }
            },
            "marker": {
             "colorbar": {
              "outlinewidth": 0,
              "ticks": ""
             }
            },
            "type": "scatter3d"
           }
          ],
          "scattercarpet": [
           {
            "marker": {
             "colorbar": {
              "outlinewidth": 0,
              "ticks": ""
             }
            },
            "type": "scattercarpet"
           }
          ],
          "scattergeo": [
           {
            "marker": {
             "colorbar": {
              "outlinewidth": 0,
              "ticks": ""
             }
            },
            "type": "scattergeo"
           }
          ],
          "scattergl": [
           {
            "marker": {
             "colorbar": {
              "outlinewidth": 0,
              "ticks": ""
             }
            },
            "type": "scattergl"
           }
          ],
          "scattermapbox": [
           {
            "marker": {
             "colorbar": {
              "outlinewidth": 0,
              "ticks": ""
             }
            },
            "type": "scattermapbox"
           }
          ],
          "scatterpolar": [
           {
            "marker": {
             "colorbar": {
              "outlinewidth": 0,
              "ticks": ""
             }
            },
            "type": "scatterpolar"
           }
          ],
          "scatterpolargl": [
           {
            "marker": {
             "colorbar": {
              "outlinewidth": 0,
              "ticks": ""
             }
            },
            "type": "scatterpolargl"
           }
          ],
          "scatterternary": [
           {
            "marker": {
             "colorbar": {
              "outlinewidth": 0,
              "ticks": ""
             }
            },
            "type": "scatterternary"
           }
          ],
          "surface": [
           {
            "colorbar": {
             "outlinewidth": 0,
             "ticks": ""
            },
            "colorscale": [
             [
              0,
              "#0d0887"
             ],
             [
              0.1111111111111111,
              "#46039f"
             ],
             [
              0.2222222222222222,
              "#7201a8"
             ],
             [
              0.3333333333333333,
              "#9c179e"
             ],
             [
              0.4444444444444444,
              "#bd3786"
             ],
             [
              0.5555555555555556,
              "#d8576b"
             ],
             [
              0.6666666666666666,
              "#ed7953"
             ],
             [
              0.7777777777777778,
              "#fb9f3a"
             ],
             [
              0.8888888888888888,
              "#fdca26"
             ],
             [
              1,
              "#f0f921"
             ]
            ],
            "type": "surface"
           }
          ],
          "table": [
           {
            "cells": {
             "fill": {
              "color": "#EBF0F8"
             },
             "line": {
              "color": "white"
             }
            },
            "header": {
             "fill": {
              "color": "#C8D4E3"
             },
             "line": {
              "color": "white"
             }
            },
            "type": "table"
           }
          ]
         },
         "layout": {
          "annotationdefaults": {
           "arrowcolor": "#2a3f5f",
           "arrowhead": 0,
           "arrowwidth": 1
          },
          "autotypenumbers": "strict",
          "coloraxis": {
           "colorbar": {
            "outlinewidth": 0,
            "ticks": ""
           }
          },
          "colorscale": {
           "diverging": [
            [
             0,
             "#8e0152"
            ],
            [
             0.1,
             "#c51b7d"
            ],
            [
             0.2,
             "#de77ae"
            ],
            [
             0.3,
             "#f1b6da"
            ],
            [
             0.4,
             "#fde0ef"
            ],
            [
             0.5,
             "#f7f7f7"
            ],
            [
             0.6,
             "#e6f5d0"
            ],
            [
             0.7,
             "#b8e186"
            ],
            [
             0.8,
             "#7fbc41"
            ],
            [
             0.9,
             "#4d9221"
            ],
            [
             1,
             "#276419"
            ]
           ],
           "sequential": [
            [
             0,
             "#0d0887"
            ],
            [
             0.1111111111111111,
             "#46039f"
            ],
            [
             0.2222222222222222,
             "#7201a8"
            ],
            [
             0.3333333333333333,
             "#9c179e"
            ],
            [
             0.4444444444444444,
             "#bd3786"
            ],
            [
             0.5555555555555556,
             "#d8576b"
            ],
            [
             0.6666666666666666,
             "#ed7953"
            ],
            [
             0.7777777777777778,
             "#fb9f3a"
            ],
            [
             0.8888888888888888,
             "#fdca26"
            ],
            [
             1,
             "#f0f921"
            ]
           ],
           "sequentialminus": [
            [
             0,
             "#0d0887"
            ],
            [
             0.1111111111111111,
             "#46039f"
            ],
            [
             0.2222222222222222,
             "#7201a8"
            ],
            [
             0.3333333333333333,
             "#9c179e"
            ],
            [
             0.4444444444444444,
             "#bd3786"
            ],
            [
             0.5555555555555556,
             "#d8576b"
            ],
            [
             0.6666666666666666,
             "#ed7953"
            ],
            [
             0.7777777777777778,
             "#fb9f3a"
            ],
            [
             0.8888888888888888,
             "#fdca26"
            ],
            [
             1,
             "#f0f921"
            ]
           ]
          },
          "colorway": [
           "#636efa",
           "#EF553B",
           "#00cc96",
           "#ab63fa",
           "#FFA15A",
           "#19d3f3",
           "#FF6692",
           "#B6E880",
           "#FF97FF",
           "#FECB52"
          ],
          "font": {
           "color": "#2a3f5f"
          },
          "geo": {
           "bgcolor": "white",
           "lakecolor": "white",
           "landcolor": "#E5ECF6",
           "showlakes": true,
           "showland": true,
           "subunitcolor": "white"
          },
          "hoverlabel": {
           "align": "left"
          },
          "hovermode": "closest",
          "mapbox": {
           "style": "light"
          },
          "paper_bgcolor": "white",
          "plot_bgcolor": "#E5ECF6",
          "polar": {
           "angularaxis": {
            "gridcolor": "white",
            "linecolor": "white",
            "ticks": ""
           },
           "bgcolor": "#E5ECF6",
           "radialaxis": {
            "gridcolor": "white",
            "linecolor": "white",
            "ticks": ""
           }
          },
          "scene": {
           "xaxis": {
            "backgroundcolor": "#E5ECF6",
            "gridcolor": "white",
            "gridwidth": 2,
            "linecolor": "white",
            "showbackground": true,
            "ticks": "",
            "zerolinecolor": "white"
           },
           "yaxis": {
            "backgroundcolor": "#E5ECF6",
            "gridcolor": "white",
            "gridwidth": 2,
            "linecolor": "white",
            "showbackground": true,
            "ticks": "",
            "zerolinecolor": "white"
           },
           "zaxis": {
            "backgroundcolor": "#E5ECF6",
            "gridcolor": "white",
            "gridwidth": 2,
            "linecolor": "white",
            "showbackground": true,
            "ticks": "",
            "zerolinecolor": "white"
           }
          },
          "shapedefaults": {
           "line": {
            "color": "#2a3f5f"
           }
          },
          "ternary": {
           "aaxis": {
            "gridcolor": "white",
            "linecolor": "white",
            "ticks": ""
           },
           "baxis": {
            "gridcolor": "white",
            "linecolor": "white",
            "ticks": ""
           },
           "bgcolor": "#E5ECF6",
           "caxis": {
            "gridcolor": "white",
            "linecolor": "white",
            "ticks": ""
           }
          },
          "title": {
           "x": 0.05
          },
          "xaxis": {
           "automargin": true,
           "gridcolor": "white",
           "linecolor": "white",
           "ticks": "",
           "title": {
            "standoff": 15
           },
           "zerolinecolor": "white",
           "zerolinewidth": 2
          },
          "yaxis": {
           "automargin": true,
           "gridcolor": "white",
           "linecolor": "white",
           "ticks": "",
           "title": {
            "standoff": 15
           },
           "zerolinecolor": "white",
           "zerolinewidth": 2
          }
         }
        },
        "width": 1800
       }
      }
     },
     "metadata": {},
     "output_type": "display_data"
    }
   ],
   "source": [
    "nationality_dist = all_data_info.groupby('nationality').count()[['artist']]\n",
    "nationality_dist.reset_index(inplace=True)\n",
    "fig4 = px.treemap(nationality_dist, path=['nationality'], values = 'artist', width=1800, height=1800)\n",
    "\n",
    "fig4.update_layout(\n",
    "    font=dict(\n",
    "        family=\"Courier New, monospace\",\n",
    "        size=200,\n",
    "        color=\"RebeccaPurple\"\n",
    "    )\n",
    ")\n",
    "fig4.show()"
   ]
  },
  {
   "cell_type": "markdown",
   "metadata": {},
   "source": [
    "#### Countries Distribution of portraits with dog"
   ]
  },
  {
   "cell_type": "code",
   "execution_count": 138,
   "metadata": {},
   "outputs": [],
   "source": [
    "dog_painting = pd.read_csv(\"../data/dog_paintings.csv\")"
   ]
  },
  {
   "cell_type": "code",
   "execution_count": 139,
   "metadata": {},
   "outputs": [
    {
     "data": {
      "application/vnd.plotly.v1+json": {
       "config": {
        "plotlyServerURL": "https://plot.ly"
       },
       "data": [
        {
         "branchvalues": "total",
         "domain": {
          "x": [
           0,
           1
          ],
          "y": [
           0,
           1
          ]
         },
         "hovertemplate": "labels=%{label}<br>artist=%{value}<br>parent=%{parent}<br>id=%{id}<extra></extra>",
         "ids": [
          " Crown of Castile",
          "Burgundian Netherlands ",
          "Duchy of Milan",
          "England",
          "France",
          "Grand Duchy of Tuscany.",
          "Holy Roman Empire",
          "Italy",
          "Netherlands",
          "Papal States",
          "Province of Pennsylvania",
          "Spain",
          "Spanish Netherlands",
          "Switzerland",
          "Ukraine",
          "United Kingdom",
          "United States of America",
          "Venice"
         ],
         "labels": [
          " Crown of Castile",
          "Burgundian Netherlands ",
          "Duchy of Milan",
          "England",
          "France",
          "Grand Duchy of Tuscany.",
          "Holy Roman Empire",
          "Italy",
          "Netherlands",
          "Papal States",
          "Province of Pennsylvania",
          "Spain",
          "Spanish Netherlands",
          "Switzerland",
          "Ukraine",
          "United Kingdom",
          "United States of America",
          "Venice"
         ],
         "name": "",
         "parents": [
          "",
          "",
          "",
          "",
          "",
          "",
          "",
          "",
          "",
          "",
          "",
          "",
          "",
          "",
          "",
          "",
          "",
          ""
         ],
         "type": "treemap",
         "values": [
          1,
          1,
          1,
          4,
          11,
          4,
          3,
          6,
          4,
          1,
          1,
          10,
          7,
          1,
          1,
          37,
          9,
          1
         ]
        }
       ],
       "layout": {
        "font": {
         "color": "RebeccaPurple",
         "family": "Courier New, monospace",
         "size": 200
        },
        "height": 1800,
        "legend": {
         "tracegroupgap": 0
        },
        "margin": {
         "t": 60
        },
        "template": {
         "data": {
          "bar": [
           {
            "error_x": {
             "color": "#2a3f5f"
            },
            "error_y": {
             "color": "#2a3f5f"
            },
            "marker": {
             "line": {
              "color": "#E5ECF6",
              "width": 0.5
             },
             "pattern": {
              "fillmode": "overlay",
              "size": 10,
              "solidity": 0.2
             }
            },
            "type": "bar"
           }
          ],
          "barpolar": [
           {
            "marker": {
             "line": {
              "color": "#E5ECF6",
              "width": 0.5
             },
             "pattern": {
              "fillmode": "overlay",
              "size": 10,
              "solidity": 0.2
             }
            },
            "type": "barpolar"
           }
          ],
          "carpet": [
           {
            "aaxis": {
             "endlinecolor": "#2a3f5f",
             "gridcolor": "white",
             "linecolor": "white",
             "minorgridcolor": "white",
             "startlinecolor": "#2a3f5f"
            },
            "baxis": {
             "endlinecolor": "#2a3f5f",
             "gridcolor": "white",
             "linecolor": "white",
             "minorgridcolor": "white",
             "startlinecolor": "#2a3f5f"
            },
            "type": "carpet"
           }
          ],
          "choropleth": [
           {
            "colorbar": {
             "outlinewidth": 0,
             "ticks": ""
            },
            "type": "choropleth"
           }
          ],
          "contour": [
           {
            "colorbar": {
             "outlinewidth": 0,
             "ticks": ""
            },
            "colorscale": [
             [
              0,
              "#0d0887"
             ],
             [
              0.1111111111111111,
              "#46039f"
             ],
             [
              0.2222222222222222,
              "#7201a8"
             ],
             [
              0.3333333333333333,
              "#9c179e"
             ],
             [
              0.4444444444444444,
              "#bd3786"
             ],
             [
              0.5555555555555556,
              "#d8576b"
             ],
             [
              0.6666666666666666,
              "#ed7953"
             ],
             [
              0.7777777777777778,
              "#fb9f3a"
             ],
             [
              0.8888888888888888,
              "#fdca26"
             ],
             [
              1,
              "#f0f921"
             ]
            ],
            "type": "contour"
           }
          ],
          "contourcarpet": [
           {
            "colorbar": {
             "outlinewidth": 0,
             "ticks": ""
            },
            "type": "contourcarpet"
           }
          ],
          "heatmap": [
           {
            "colorbar": {
             "outlinewidth": 0,
             "ticks": ""
            },
            "colorscale": [
             [
              0,
              "#0d0887"
             ],
             [
              0.1111111111111111,
              "#46039f"
             ],
             [
              0.2222222222222222,
              "#7201a8"
             ],
             [
              0.3333333333333333,
              "#9c179e"
             ],
             [
              0.4444444444444444,
              "#bd3786"
             ],
             [
              0.5555555555555556,
              "#d8576b"
             ],
             [
              0.6666666666666666,
              "#ed7953"
             ],
             [
              0.7777777777777778,
              "#fb9f3a"
             ],
             [
              0.8888888888888888,
              "#fdca26"
             ],
             [
              1,
              "#f0f921"
             ]
            ],
            "type": "heatmap"
           }
          ],
          "heatmapgl": [
           {
            "colorbar": {
             "outlinewidth": 0,
             "ticks": ""
            },
            "colorscale": [
             [
              0,
              "#0d0887"
             ],
             [
              0.1111111111111111,
              "#46039f"
             ],
             [
              0.2222222222222222,
              "#7201a8"
             ],
             [
              0.3333333333333333,
              "#9c179e"
             ],
             [
              0.4444444444444444,
              "#bd3786"
             ],
             [
              0.5555555555555556,
              "#d8576b"
             ],
             [
              0.6666666666666666,
              "#ed7953"
             ],
             [
              0.7777777777777778,
              "#fb9f3a"
             ],
             [
              0.8888888888888888,
              "#fdca26"
             ],
             [
              1,
              "#f0f921"
             ]
            ],
            "type": "heatmapgl"
           }
          ],
          "histogram": [
           {
            "marker": {
             "pattern": {
              "fillmode": "overlay",
              "size": 10,
              "solidity": 0.2
             }
            },
            "type": "histogram"
           }
          ],
          "histogram2d": [
           {
            "colorbar": {
             "outlinewidth": 0,
             "ticks": ""
            },
            "colorscale": [
             [
              0,
              "#0d0887"
             ],
             [
              0.1111111111111111,
              "#46039f"
             ],
             [
              0.2222222222222222,
              "#7201a8"
             ],
             [
              0.3333333333333333,
              "#9c179e"
             ],
             [
              0.4444444444444444,
              "#bd3786"
             ],
             [
              0.5555555555555556,
              "#d8576b"
             ],
             [
              0.6666666666666666,
              "#ed7953"
             ],
             [
              0.7777777777777778,
              "#fb9f3a"
             ],
             [
              0.8888888888888888,
              "#fdca26"
             ],
             [
              1,
              "#f0f921"
             ]
            ],
            "type": "histogram2d"
           }
          ],
          "histogram2dcontour": [
           {
            "colorbar": {
             "outlinewidth": 0,
             "ticks": ""
            },
            "colorscale": [
             [
              0,
              "#0d0887"
             ],
             [
              0.1111111111111111,
              "#46039f"
             ],
             [
              0.2222222222222222,
              "#7201a8"
             ],
             [
              0.3333333333333333,
              "#9c179e"
             ],
             [
              0.4444444444444444,
              "#bd3786"
             ],
             [
              0.5555555555555556,
              "#d8576b"
             ],
             [
              0.6666666666666666,
              "#ed7953"
             ],
             [
              0.7777777777777778,
              "#fb9f3a"
             ],
             [
              0.8888888888888888,
              "#fdca26"
             ],
             [
              1,
              "#f0f921"
             ]
            ],
            "type": "histogram2dcontour"
           }
          ],
          "mesh3d": [
           {
            "colorbar": {
             "outlinewidth": 0,
             "ticks": ""
            },
            "type": "mesh3d"
           }
          ],
          "parcoords": [
           {
            "line": {
             "colorbar": {
              "outlinewidth": 0,
              "ticks": ""
             }
            },
            "type": "parcoords"
           }
          ],
          "pie": [
           {
            "automargin": true,
            "type": "pie"
           }
          ],
          "scatter": [
           {
            "fillpattern": {
             "fillmode": "overlay",
             "size": 10,
             "solidity": 0.2
            },
            "type": "scatter"
           }
          ],
          "scatter3d": [
           {
            "line": {
             "colorbar": {
              "outlinewidth": 0,
              "ticks": ""
             }
            },
            "marker": {
             "colorbar": {
              "outlinewidth": 0,
              "ticks": ""
             }
            },
            "type": "scatter3d"
           }
          ],
          "scattercarpet": [
           {
            "marker": {
             "colorbar": {
              "outlinewidth": 0,
              "ticks": ""
             }
            },
            "type": "scattercarpet"
           }
          ],
          "scattergeo": [
           {
            "marker": {
             "colorbar": {
              "outlinewidth": 0,
              "ticks": ""
             }
            },
            "type": "scattergeo"
           }
          ],
          "scattergl": [
           {
            "marker": {
             "colorbar": {
              "outlinewidth": 0,
              "ticks": ""
             }
            },
            "type": "scattergl"
           }
          ],
          "scattermapbox": [
           {
            "marker": {
             "colorbar": {
              "outlinewidth": 0,
              "ticks": ""
             }
            },
            "type": "scattermapbox"
           }
          ],
          "scatterpolar": [
           {
            "marker": {
             "colorbar": {
              "outlinewidth": 0,
              "ticks": ""
             }
            },
            "type": "scatterpolar"
           }
          ],
          "scatterpolargl": [
           {
            "marker": {
             "colorbar": {
              "outlinewidth": 0,
              "ticks": ""
             }
            },
            "type": "scatterpolargl"
           }
          ],
          "scatterternary": [
           {
            "marker": {
             "colorbar": {
              "outlinewidth": 0,
              "ticks": ""
             }
            },
            "type": "scatterternary"
           }
          ],
          "surface": [
           {
            "colorbar": {
             "outlinewidth": 0,
             "ticks": ""
            },
            "colorscale": [
             [
              0,
              "#0d0887"
             ],
             [
              0.1111111111111111,
              "#46039f"
             ],
             [
              0.2222222222222222,
              "#7201a8"
             ],
             [
              0.3333333333333333,
              "#9c179e"
             ],
             [
              0.4444444444444444,
              "#bd3786"
             ],
             [
              0.5555555555555556,
              "#d8576b"
             ],
             [
              0.6666666666666666,
              "#ed7953"
             ],
             [
              0.7777777777777778,
              "#fb9f3a"
             ],
             [
              0.8888888888888888,
              "#fdca26"
             ],
             [
              1,
              "#f0f921"
             ]
            ],
            "type": "surface"
           }
          ],
          "table": [
           {
            "cells": {
             "fill": {
              "color": "#EBF0F8"
             },
             "line": {
              "color": "white"
             }
            },
            "header": {
             "fill": {
              "color": "#C8D4E3"
             },
             "line": {
              "color": "white"
             }
            },
            "type": "table"
           }
          ]
         },
         "layout": {
          "annotationdefaults": {
           "arrowcolor": "#2a3f5f",
           "arrowhead": 0,
           "arrowwidth": 1
          },
          "autotypenumbers": "strict",
          "coloraxis": {
           "colorbar": {
            "outlinewidth": 0,
            "ticks": ""
           }
          },
          "colorscale": {
           "diverging": [
            [
             0,
             "#8e0152"
            ],
            [
             0.1,
             "#c51b7d"
            ],
            [
             0.2,
             "#de77ae"
            ],
            [
             0.3,
             "#f1b6da"
            ],
            [
             0.4,
             "#fde0ef"
            ],
            [
             0.5,
             "#f7f7f7"
            ],
            [
             0.6,
             "#e6f5d0"
            ],
            [
             0.7,
             "#b8e186"
            ],
            [
             0.8,
             "#7fbc41"
            ],
            [
             0.9,
             "#4d9221"
            ],
            [
             1,
             "#276419"
            ]
           ],
           "sequential": [
            [
             0,
             "#0d0887"
            ],
            [
             0.1111111111111111,
             "#46039f"
            ],
            [
             0.2222222222222222,
             "#7201a8"
            ],
            [
             0.3333333333333333,
             "#9c179e"
            ],
            [
             0.4444444444444444,
             "#bd3786"
            ],
            [
             0.5555555555555556,
             "#d8576b"
            ],
            [
             0.6666666666666666,
             "#ed7953"
            ],
            [
             0.7777777777777778,
             "#fb9f3a"
            ],
            [
             0.8888888888888888,
             "#fdca26"
            ],
            [
             1,
             "#f0f921"
            ]
           ],
           "sequentialminus": [
            [
             0,
             "#0d0887"
            ],
            [
             0.1111111111111111,
             "#46039f"
            ],
            [
             0.2222222222222222,
             "#7201a8"
            ],
            [
             0.3333333333333333,
             "#9c179e"
            ],
            [
             0.4444444444444444,
             "#bd3786"
            ],
            [
             0.5555555555555556,
             "#d8576b"
            ],
            [
             0.6666666666666666,
             "#ed7953"
            ],
            [
             0.7777777777777778,
             "#fb9f3a"
            ],
            [
             0.8888888888888888,
             "#fdca26"
            ],
            [
             1,
             "#f0f921"
            ]
           ]
          },
          "colorway": [
           "#636efa",
           "#EF553B",
           "#00cc96",
           "#ab63fa",
           "#FFA15A",
           "#19d3f3",
           "#FF6692",
           "#B6E880",
           "#FF97FF",
           "#FECB52"
          ],
          "font": {
           "color": "#2a3f5f"
          },
          "geo": {
           "bgcolor": "white",
           "lakecolor": "white",
           "landcolor": "#E5ECF6",
           "showlakes": true,
           "showland": true,
           "subunitcolor": "white"
          },
          "hoverlabel": {
           "align": "left"
          },
          "hovermode": "closest",
          "mapbox": {
           "style": "light"
          },
          "paper_bgcolor": "white",
          "plot_bgcolor": "#E5ECF6",
          "polar": {
           "angularaxis": {
            "gridcolor": "white",
            "linecolor": "white",
            "ticks": ""
           },
           "bgcolor": "#E5ECF6",
           "radialaxis": {
            "gridcolor": "white",
            "linecolor": "white",
            "ticks": ""
           }
          },
          "scene": {
           "xaxis": {
            "backgroundcolor": "#E5ECF6",
            "gridcolor": "white",
            "gridwidth": 2,
            "linecolor": "white",
            "showbackground": true,
            "ticks": "",
            "zerolinecolor": "white"
           },
           "yaxis": {
            "backgroundcolor": "#E5ECF6",
            "gridcolor": "white",
            "gridwidth": 2,
            "linecolor": "white",
            "showbackground": true,
            "ticks": "",
            "zerolinecolor": "white"
           },
           "zaxis": {
            "backgroundcolor": "#E5ECF6",
            "gridcolor": "white",
            "gridwidth": 2,
            "linecolor": "white",
            "showbackground": true,
            "ticks": "",
            "zerolinecolor": "white"
           }
          },
          "shapedefaults": {
           "line": {
            "color": "#2a3f5f"
           }
          },
          "ternary": {
           "aaxis": {
            "gridcolor": "white",
            "linecolor": "white",
            "ticks": ""
           },
           "baxis": {
            "gridcolor": "white",
            "linecolor": "white",
            "ticks": ""
           },
           "bgcolor": "#E5ECF6",
           "caxis": {
            "gridcolor": "white",
            "linecolor": "white",
            "ticks": ""
           }
          },
          "title": {
           "x": 0.05
          },
          "xaxis": {
           "automargin": true,
           "gridcolor": "white",
           "linecolor": "white",
           "ticks": "",
           "title": {
            "standoff": 15
           },
           "zerolinecolor": "white",
           "zerolinewidth": 2
          },
          "yaxis": {
           "automargin": true,
           "gridcolor": "white",
           "linecolor": "white",
           "ticks": "",
           "title": {
            "standoff": 15
           },
           "zerolinecolor": "white",
           "zerolinewidth": 2
          }
         }
        },
        "width": 1800
       }
      }
     },
     "metadata": {},
     "output_type": "display_data"
    }
   ],
   "source": [
    "nationality_dist = dog_painting.groupby('nationality').count()[['artist']]\n",
    "nationality_dist.reset_index(inplace=True)\n",
    "fig5 = px.treemap(nationality_dist, path=['nationality'], values = 'artist', width=1800, height=1800)\n",
    "\n",
    "fig5.update_layout(\n",
    "    font=dict(\n",
    "        family=\"Courier New, monospace\",\n",
    "        size=200,\n",
    "        color=\"RebeccaPurple\"\n",
    "    )\n",
    ")\n",
    "fig5.show()"
   ]
  },
  {
   "cell_type": "code",
   "execution_count": null,
   "metadata": {},
   "outputs": [],
   "source": [
    "fig5.write_image(\"nationality5.png\")"
   ]
  }
 ],
 "metadata": {
  "interpreter": {
   "hash": "6d036c3de50451f7edaf40a7a59b7ed59bcee18dcdc22ee564f8df76b1abd4f9"
  },
  "kernelspec": {
   "display_name": "Python 3.8.12 ('epfl')",
   "language": "python",
   "name": "python3"
  },
  "language_info": {
   "codemirror_mode": {
    "name": "ipython",
    "version": 3
   },
   "file_extension": ".py",
   "mimetype": "text/x-python",
   "name": "python",
   "nbconvert_exporter": "python",
   "pygments_lexer": "ipython3",
   "version": "3.8.13"
  },
  "orig_nbformat": 4
 },
 "nbformat": 4,
 "nbformat_minor": 2
}
